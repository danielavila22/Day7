{
 "cells": [
  {
   "cell_type": "markdown",
   "id": "a9215f5c-525b-4508-8b0d-700f55cbd252",
   "metadata": {},
   "source": [
    "## Introduction to Data Science\n",
    "\n",
    "#### University of Redlands - DATA 101\n",
    "#### Prof: Joanna Bieri [joanna_bieri@redlands.edu](mailto:joanna_bieri@redlands.edu)\n",
    "#### [Class Website: data101.joannabieri.com](https://joannabieri.com/data101.html)\n",
    "\n",
    "---------------------------------------\n",
    "# Homework Day 7\n",
    "---------------------------------------\n",
    "\n",
    "GOALS:\n",
    "\n",
    "1. Answer all the questions from the lecture - we will use the scientists data and the grocery data.\n",
    "2. Analyze data about College majors - your first EDA! (Think of this as a practice exam.)\n",
    "\n",
    "----------------------------------------------------------\n",
    "\n",
    "This homework has **9 Questions** and **A Practice Exam**\n",
    "\n",
    "NOTE:\n",
    "The practice exam is intended to give you an idea of what an exam in this class might feel like. Remember you will be expected to work on the exam **independently** and submit your work before we get together to work on the exam in class. **15\\% of your Exam grade will come from what you can do independently** so start practicing now and get help if you need it!."
   ]
  },
  {
   "cell_type": "code",
   "execution_count": 2,
   "id": "049c24b6-a6c1-4ccc-b2de-5ea0366d09f8",
   "metadata": {},
   "outputs": [],
   "source": [
    "import numpy as np\n",
    "import pandas as pd\n",
    "\n",
    "import matplotlib.pyplot as plt\n",
    "import plotly.express as px\n",
    "from plotly.subplots import make_subplots\n",
    "import plotly.io as pio\n",
    "pio.renderers.defaule = 'colab'\n",
    "\n",
    "from itables import show"
   ]
  },
  {
   "cell_type": "markdown",
   "id": "23773272-c059-4148-a5a8-91e9da594c46",
   "metadata": {},
   "source": [
    "## Lecture Questions\n",
    "\n",
    "First we will import the data about female scientists."
   ]
  },
  {
   "cell_type": "code",
   "execution_count": 4,
   "id": "e90fdd5f-bd17-4c94-b3f4-7ddc998bd001",
   "metadata": {},
   "outputs": [
    {
     "data": {
      "text/html": [
       "<table id=\"itables_cd3b0d1b_58cc_4199_9089_36376fd42df7\" class=\"display nowrap\" data-quarto-disable-processing=\"true\" style=\"table-layout:auto;width:auto;margin:auto;caption-side:bottom\">\n",
       "<thead>\n",
       "    <tr style=\"text-align: right;\">\n",
       "      \n",
       "      <th>name</th>\n",
       "      <th>birth_year</th>\n",
       "      <th>death_year</th>\n",
       "    </tr>\n",
       "  </thead><tbody><tr>\n",
       "<td style=\"vertical-align:middle; text-align:left\">\n",
       "<div style=\"float:left; margin-right: 10px;\">\n",
       "<a href=https://mwouts.github.io/itables/><svg class=\"main-svg\" xmlns=\"http://www.w3.org/2000/svg\" xmlns:xlink=\"http://www.w3.org/1999/xlink\"\n",
       "width=\"64\" viewBox=\"0 0 500 400\" style=\"font-family: 'Droid Sans', sans-serif;\">\n",
       "    <g style=\"fill:#d9d7fc\">\n",
       "        <path d=\"M100,400H500V357H100Z\" />\n",
       "        <path d=\"M100,300H400V257H100Z\" />\n",
       "        <path d=\"M0,200H400V157H0Z\" />\n",
       "        <path d=\"M100,100H500V57H100Z\" />\n",
       "        <path d=\"M100,350H500V307H100Z\" />\n",
       "        <path d=\"M100,250H400V207H100Z\" />\n",
       "        <path d=\"M0,150H400V107H0Z\" />\n",
       "        <path d=\"M100,50H500V7H100Z\" />\n",
       "    </g>\n",
       "    <g style=\"fill:#1a1366;stroke:#1a1366;\">\n",
       "   <rect x=\"100\" y=\"7\" width=\"400\" height=\"43\">\n",
       "    <animate\n",
       "      attributeName=\"width\"\n",
       "      values=\"0;400;0\"\n",
       "      dur=\"5s\"\n",
       "      repeatCount=\"indefinite\" />\n",
       "      <animate\n",
       "      attributeName=\"x\"\n",
       "      values=\"100;100;500\"\n",
       "      dur=\"5s\"\n",
       "      repeatCount=\"indefinite\" />\n",
       "  </rect>\n",
       "        <rect x=\"0\" y=\"107\" width=\"400\" height=\"43\">\n",
       "    <animate\n",
       "      attributeName=\"width\"\n",
       "      values=\"0;400;0\"\n",
       "      dur=\"3.5s\"\n",
       "      repeatCount=\"indefinite\" />\n",
       "    <animate\n",
       "      attributeName=\"x\"\n",
       "      values=\"0;0;400\"\n",
       "      dur=\"3.5s\"\n",
       "      repeatCount=\"indefinite\" />\n",
       "  </rect>\n",
       "        <rect x=\"100\" y=\"207\" width=\"300\" height=\"43\">\n",
       "    <animate\n",
       "      attributeName=\"width\"\n",
       "      values=\"0;300;0\"\n",
       "      dur=\"3s\"\n",
       "      repeatCount=\"indefinite\" />\n",
       "    <animate\n",
       "      attributeName=\"x\"\n",
       "      values=\"100;100;400\"\n",
       "      dur=\"3s\"\n",
       "      repeatCount=\"indefinite\" />\n",
       "  </rect>\n",
       "        <rect x=\"100\" y=\"307\" width=\"400\" height=\"43\">\n",
       "    <animate\n",
       "      attributeName=\"width\"\n",
       "      values=\"0;400;0\"\n",
       "      dur=\"4s\"\n",
       "      repeatCount=\"indefinite\" />\n",
       "      <animate\n",
       "      attributeName=\"x\"\n",
       "      values=\"100;100;500\"\n",
       "      dur=\"4s\"\n",
       "      repeatCount=\"indefinite\" />\n",
       "  </rect>\n",
       "        <g style=\"fill:transparent;stroke-width:8; stroke-linejoin:round\" rx=\"5\">\n",
       "            <g transform=\"translate(45 50) rotate(-45)\">\n",
       "                <circle r=\"33\" cx=\"0\" cy=\"0\" />\n",
       "                <rect x=\"-8\" y=\"32\" width=\"16\" height=\"30\" />\n",
       "            </g>\n",
       "\n",
       "            <g transform=\"translate(450 152)\">\n",
       "                <polyline points=\"-15,-20 -35,-20 -35,40 25,40 25,20\" />\n",
       "                <rect x=\"-15\" y=\"-40\" width=\"60\" height=\"60\" />\n",
       "            </g>\n",
       "\n",
       "            <g transform=\"translate(50 352)\">\n",
       "                <polygon points=\"-35,-5 0,-40 35,-5\" />\n",
       "                <polygon points=\"-35,10 0,45 35,10\" />\n",
       "            </g>\n",
       "\n",
       "            <g transform=\"translate(75 250)\">\n",
       "                <polyline points=\"-30,30 -60,0 -30,-30\" />\n",
       "                <polyline points=\"0,30 -30,0 0,-30\" />\n",
       "            </g>\n",
       "\n",
       "            <g transform=\"translate(425 250) rotate(180)\">\n",
       "                <polyline points=\"-30,30 -60,0 -30,-30\" />\n",
       "                <polyline points=\"0,30 -30,0 0,-30\" />\n",
       "            </g>\n",
       "        </g>\n",
       "    </g>\n",
       "</svg>\n",
       "</a>\n",
       "</div>\n",
       "<div>\n",
       "Loading ITables v2.1.4 from the internet...\n",
       "(need <a href=https://mwouts.github.io/itables/troubleshooting.html>help</a>?)</td>\n",
       "</div>\n",
       "</tr></tbody>\n",
       "\n",
       "</table>\n",
       "<link href=\"https://www.unpkg.com/dt_for_itables@2.0.11/dt_bundle.css\" rel=\"stylesheet\">\n",
       "<script type=\"module\">\n",
       "    import {DataTable, jQuery as $} from 'https://www.unpkg.com/dt_for_itables@2.0.11/dt_bundle.js';\n",
       "\n",
       "    document.querySelectorAll(\"#itables_cd3b0d1b_58cc_4199_9089_36376fd42df7:not(.dataTable)\").forEach(table => {\n",
       "        // Define the table data\n",
       "        const data = [[\"Janaki Ammal\", 1897, 1984.0], [\"Chien-Shiung Wu\", 1912, 1997.0], [\"Katherine Johnson\", 1918, 2020.0], [\"Rosalind Franklin\", 1920, 1958.0], [\"Vera Rubin\", 1928, 2016.0], [\"Gladys West\", 1930, NaN], [\"Flossie Wong-Staal\", 1947, NaN], [\"Jennifer Doudna\", 1964, NaN]];\n",
       "\n",
       "        // Define the dt_args\n",
       "        let dt_args = {\"layout\": {\"topStart\": null, \"topEnd\": null, \"bottomStart\": null, \"bottomEnd\": null}, \"order\": []};\n",
       "        dt_args[\"data\"] = data;\n",
       "\n",
       "        \n",
       "        new DataTable(table, dt_args);\n",
       "    });\n",
       "</script>\n"
      ],
      "text/plain": [
       "<IPython.core.display.HTML object>"
      ]
     },
     "metadata": {},
     "output_type": "display_data"
    },
    {
     "data": {
      "text/html": [
       "<table id=\"itables_6721a8e6_51fd_42ee_b2cf_9ef1d8e23e67\" class=\"display nowrap\" data-quarto-disable-processing=\"true\" style=\"table-layout:auto;width:auto;margin:auto;caption-side:bottom\">\n",
       "<thead>\n",
       "    <tr style=\"text-align: right;\">\n",
       "      \n",
       "      <th>name</th>\n",
       "      <th>profession</th>\n",
       "    </tr>\n",
       "  </thead><tbody><tr>\n",
       "<td style=\"vertical-align:middle; text-align:left\">\n",
       "<div style=\"float:left; margin-right: 10px;\">\n",
       "<a href=https://mwouts.github.io/itables/><svg class=\"main-svg\" xmlns=\"http://www.w3.org/2000/svg\" xmlns:xlink=\"http://www.w3.org/1999/xlink\"\n",
       "width=\"64\" viewBox=\"0 0 500 400\" style=\"font-family: 'Droid Sans', sans-serif;\">\n",
       "    <g style=\"fill:#d9d7fc\">\n",
       "        <path d=\"M100,400H500V357H100Z\" />\n",
       "        <path d=\"M100,300H400V257H100Z\" />\n",
       "        <path d=\"M0,200H400V157H0Z\" />\n",
       "        <path d=\"M100,100H500V57H100Z\" />\n",
       "        <path d=\"M100,350H500V307H100Z\" />\n",
       "        <path d=\"M100,250H400V207H100Z\" />\n",
       "        <path d=\"M0,150H400V107H0Z\" />\n",
       "        <path d=\"M100,50H500V7H100Z\" />\n",
       "    </g>\n",
       "    <g style=\"fill:#1a1366;stroke:#1a1366;\">\n",
       "   <rect x=\"100\" y=\"7\" width=\"400\" height=\"43\">\n",
       "    <animate\n",
       "      attributeName=\"width\"\n",
       "      values=\"0;400;0\"\n",
       "      dur=\"5s\"\n",
       "      repeatCount=\"indefinite\" />\n",
       "      <animate\n",
       "      attributeName=\"x\"\n",
       "      values=\"100;100;500\"\n",
       "      dur=\"5s\"\n",
       "      repeatCount=\"indefinite\" />\n",
       "  </rect>\n",
       "        <rect x=\"0\" y=\"107\" width=\"400\" height=\"43\">\n",
       "    <animate\n",
       "      attributeName=\"width\"\n",
       "      values=\"0;400;0\"\n",
       "      dur=\"3.5s\"\n",
       "      repeatCount=\"indefinite\" />\n",
       "    <animate\n",
       "      attributeName=\"x\"\n",
       "      values=\"0;0;400\"\n",
       "      dur=\"3.5s\"\n",
       "      repeatCount=\"indefinite\" />\n",
       "  </rect>\n",
       "        <rect x=\"100\" y=\"207\" width=\"300\" height=\"43\">\n",
       "    <animate\n",
       "      attributeName=\"width\"\n",
       "      values=\"0;300;0\"\n",
       "      dur=\"3s\"\n",
       "      repeatCount=\"indefinite\" />\n",
       "    <animate\n",
       "      attributeName=\"x\"\n",
       "      values=\"100;100;400\"\n",
       "      dur=\"3s\"\n",
       "      repeatCount=\"indefinite\" />\n",
       "  </rect>\n",
       "        <rect x=\"100\" y=\"307\" width=\"400\" height=\"43\">\n",
       "    <animate\n",
       "      attributeName=\"width\"\n",
       "      values=\"0;400;0\"\n",
       "      dur=\"4s\"\n",
       "      repeatCount=\"indefinite\" />\n",
       "      <animate\n",
       "      attributeName=\"x\"\n",
       "      values=\"100;100;500\"\n",
       "      dur=\"4s\"\n",
       "      repeatCount=\"indefinite\" />\n",
       "  </rect>\n",
       "        <g style=\"fill:transparent;stroke-width:8; stroke-linejoin:round\" rx=\"5\">\n",
       "            <g transform=\"translate(45 50) rotate(-45)\">\n",
       "                <circle r=\"33\" cx=\"0\" cy=\"0\" />\n",
       "                <rect x=\"-8\" y=\"32\" width=\"16\" height=\"30\" />\n",
       "            </g>\n",
       "\n",
       "            <g transform=\"translate(450 152)\">\n",
       "                <polyline points=\"-15,-20 -35,-20 -35,40 25,40 25,20\" />\n",
       "                <rect x=\"-15\" y=\"-40\" width=\"60\" height=\"60\" />\n",
       "            </g>\n",
       "\n",
       "            <g transform=\"translate(50 352)\">\n",
       "                <polygon points=\"-35,-5 0,-40 35,-5\" />\n",
       "                <polygon points=\"-35,10 0,45 35,10\" />\n",
       "            </g>\n",
       "\n",
       "            <g transform=\"translate(75 250)\">\n",
       "                <polyline points=\"-30,30 -60,0 -30,-30\" />\n",
       "                <polyline points=\"0,30 -30,0 0,-30\" />\n",
       "            </g>\n",
       "\n",
       "            <g transform=\"translate(425 250) rotate(180)\">\n",
       "                <polyline points=\"-30,30 -60,0 -30,-30\" />\n",
       "                <polyline points=\"0,30 -30,0 0,-30\" />\n",
       "            </g>\n",
       "        </g>\n",
       "    </g>\n",
       "</svg>\n",
       "</a>\n",
       "</div>\n",
       "<div>\n",
       "Loading ITables v2.1.4 from the internet...\n",
       "(need <a href=https://mwouts.github.io/itables/troubleshooting.html>help</a>?)</td>\n",
       "</div>\n",
       "</tr></tbody>\n",
       "\n",
       "</table>\n",
       "<link href=\"https://www.unpkg.com/dt_for_itables@2.0.11/dt_bundle.css\" rel=\"stylesheet\">\n",
       "<script type=\"module\">\n",
       "    import {DataTable, jQuery as $} from 'https://www.unpkg.com/dt_for_itables@2.0.11/dt_bundle.js';\n",
       "\n",
       "    document.querySelectorAll(\"#itables_6721a8e6_51fd_42ee_b2cf_9ef1d8e23e67:not(.dataTable)\").forEach(table => {\n",
       "        // Define the table data\n",
       "        const data = [[\"Ada Lovelace\", \"Mathematician\"], [\"Marie Curie\", \"Physicist and Chemist\"], [\"Janaki Ammal\", \"Botanist\"], [\"Chien-Shiung Wu\", \"Physicist\"], [\"Katherine Johnson\", \"Mathematician\"], [\"Rosalind Franklin\", \"Chemist\"], [\"Vera Rubin\", \"Astronomer\"], [\"Gladys West\", \"Mathematician\"], [\"Flossie Wong-Staal\", \"Virologist and Molecular Biologist\"], [\"Jennifer Doudna\", \"Biochemist\"]];\n",
       "\n",
       "        // Define the dt_args\n",
       "        let dt_args = {\"layout\": {\"topStart\": null, \"topEnd\": null, \"bottomStart\": null, \"bottomEnd\": null}, \"order\": []};\n",
       "        dt_args[\"data\"] = data;\n",
       "\n",
       "        \n",
       "        new DataTable(table, dt_args);\n",
       "    });\n",
       "</script>\n"
      ],
      "text/plain": [
       "<IPython.core.display.HTML object>"
      ]
     },
     "metadata": {},
     "output_type": "display_data"
    },
    {
     "data": {
      "text/html": [
       "<table id=\"itables_d65a81e0_d265_4510_af61_decf344cd35f\" class=\"display nowrap\" data-quarto-disable-processing=\"true\" style=\"table-layout:auto;width:auto;margin:auto;caption-side:bottom\">\n",
       "<thead>\n",
       "    <tr style=\"text-align: right;\">\n",
       "      \n",
       "      <th>name</th>\n",
       "      <th>known_for</th>\n",
       "    </tr>\n",
       "  </thead><tbody><tr>\n",
       "<td style=\"vertical-align:middle; text-align:left\">\n",
       "<div style=\"float:left; margin-right: 10px;\">\n",
       "<a href=https://mwouts.github.io/itables/><svg class=\"main-svg\" xmlns=\"http://www.w3.org/2000/svg\" xmlns:xlink=\"http://www.w3.org/1999/xlink\"\n",
       "width=\"64\" viewBox=\"0 0 500 400\" style=\"font-family: 'Droid Sans', sans-serif;\">\n",
       "    <g style=\"fill:#d9d7fc\">\n",
       "        <path d=\"M100,400H500V357H100Z\" />\n",
       "        <path d=\"M100,300H400V257H100Z\" />\n",
       "        <path d=\"M0,200H400V157H0Z\" />\n",
       "        <path d=\"M100,100H500V57H100Z\" />\n",
       "        <path d=\"M100,350H500V307H100Z\" />\n",
       "        <path d=\"M100,250H400V207H100Z\" />\n",
       "        <path d=\"M0,150H400V107H0Z\" />\n",
       "        <path d=\"M100,50H500V7H100Z\" />\n",
       "    </g>\n",
       "    <g style=\"fill:#1a1366;stroke:#1a1366;\">\n",
       "   <rect x=\"100\" y=\"7\" width=\"400\" height=\"43\">\n",
       "    <animate\n",
       "      attributeName=\"width\"\n",
       "      values=\"0;400;0\"\n",
       "      dur=\"5s\"\n",
       "      repeatCount=\"indefinite\" />\n",
       "      <animate\n",
       "      attributeName=\"x\"\n",
       "      values=\"100;100;500\"\n",
       "      dur=\"5s\"\n",
       "      repeatCount=\"indefinite\" />\n",
       "  </rect>\n",
       "        <rect x=\"0\" y=\"107\" width=\"400\" height=\"43\">\n",
       "    <animate\n",
       "      attributeName=\"width\"\n",
       "      values=\"0;400;0\"\n",
       "      dur=\"3.5s\"\n",
       "      repeatCount=\"indefinite\" />\n",
       "    <animate\n",
       "      attributeName=\"x\"\n",
       "      values=\"0;0;400\"\n",
       "      dur=\"3.5s\"\n",
       "      repeatCount=\"indefinite\" />\n",
       "  </rect>\n",
       "        <rect x=\"100\" y=\"207\" width=\"300\" height=\"43\">\n",
       "    <animate\n",
       "      attributeName=\"width\"\n",
       "      values=\"0;300;0\"\n",
       "      dur=\"3s\"\n",
       "      repeatCount=\"indefinite\" />\n",
       "    <animate\n",
       "      attributeName=\"x\"\n",
       "      values=\"100;100;400\"\n",
       "      dur=\"3s\"\n",
       "      repeatCount=\"indefinite\" />\n",
       "  </rect>\n",
       "        <rect x=\"100\" y=\"307\" width=\"400\" height=\"43\">\n",
       "    <animate\n",
       "      attributeName=\"width\"\n",
       "      values=\"0;400;0\"\n",
       "      dur=\"4s\"\n",
       "      repeatCount=\"indefinite\" />\n",
       "      <animate\n",
       "      attributeName=\"x\"\n",
       "      values=\"100;100;500\"\n",
       "      dur=\"4s\"\n",
       "      repeatCount=\"indefinite\" />\n",
       "  </rect>\n",
       "        <g style=\"fill:transparent;stroke-width:8; stroke-linejoin:round\" rx=\"5\">\n",
       "            <g transform=\"translate(45 50) rotate(-45)\">\n",
       "                <circle r=\"33\" cx=\"0\" cy=\"0\" />\n",
       "                <rect x=\"-8\" y=\"32\" width=\"16\" height=\"30\" />\n",
       "            </g>\n",
       "\n",
       "            <g transform=\"translate(450 152)\">\n",
       "                <polyline points=\"-15,-20 -35,-20 -35,40 25,40 25,20\" />\n",
       "                <rect x=\"-15\" y=\"-40\" width=\"60\" height=\"60\" />\n",
       "            </g>\n",
       "\n",
       "            <g transform=\"translate(50 352)\">\n",
       "                <polygon points=\"-35,-5 0,-40 35,-5\" />\n",
       "                <polygon points=\"-35,10 0,45 35,10\" />\n",
       "            </g>\n",
       "\n",
       "            <g transform=\"translate(75 250)\">\n",
       "                <polyline points=\"-30,30 -60,0 -30,-30\" />\n",
       "                <polyline points=\"0,30 -30,0 0,-30\" />\n",
       "            </g>\n",
       "\n",
       "            <g transform=\"translate(425 250) rotate(180)\">\n",
       "                <polyline points=\"-30,30 -60,0 -30,-30\" />\n",
       "                <polyline points=\"0,30 -30,0 0,-30\" />\n",
       "            </g>\n",
       "        </g>\n",
       "    </g>\n",
       "</svg>\n",
       "</a>\n",
       "</div>\n",
       "<div>\n",
       "Loading ITables v2.1.4 from the internet...\n",
       "(need <a href=https://mwouts.github.io/itables/troubleshooting.html>help</a>?)</td>\n",
       "</div>\n",
       "</tr></tbody>\n",
       "\n",
       "</table>\n",
       "<link href=\"https://www.unpkg.com/dt_for_itables@2.0.11/dt_bundle.css\" rel=\"stylesheet\">\n",
       "<script type=\"module\">\n",
       "    import {DataTable, jQuery as $} from 'https://www.unpkg.com/dt_for_itables@2.0.11/dt_bundle.js';\n",
       "\n",
       "    document.querySelectorAll(\"#itables_d65a81e0_d265_4510_af61_decf344cd35f:not(.dataTable)\").forEach(table => {\n",
       "        // Define the table data\n",
       "        const data = [[\"Ada Lovelace\", \"first computer algorithm\"], [\"Marie Curie\", \"theory of radioactivity,  discovery of elements polonium and radium, first woman to win a Nobel Prize\"], [\"Janaki Ammal\", \"hybrid species, biodiversity protection\"], [\"Chien-Shiung Wu\", \"confim and refine theory of radioactive beta decy, Wu experiment overturning theory of parity\"], [\"Katherine Johnson\", \"calculations of orbital mechanics critical to sending the first Americans into space\"], [\"Vera Rubin\", \"existence of dark matter\"], [\"Gladys West\", \"mathematical modeling of the shape of the Earth which served as the foundation of GPS technology\"], [\"Flossie Wong-Staal\", \"first scientist to clone HIV and create a map of its genes which led to a test for the virus\"], [\"Jennifer Doudna\", \"one of the primary developers of CRISPR, a ground-breaking technology for editing genomes\"]];\n",
       "\n",
       "        // Define the dt_args\n",
       "        let dt_args = {\"layout\": {\"topStart\": null, \"topEnd\": null, \"bottomStart\": null, \"bottomEnd\": null}, \"order\": []};\n",
       "        dt_args[\"data\"] = data;\n",
       "\n",
       "        \n",
       "        new DataTable(table, dt_args);\n",
       "    });\n",
       "</script>\n"
      ],
      "text/plain": [
       "<IPython.core.display.HTML object>"
      ]
     },
     "metadata": {},
     "output_type": "display_data"
    }
   ],
   "source": [
    "file1 = 'https://joannabieri.com/introdatascience/data/dates.csv'\n",
    "DF_dates = pd.read_csv(file1)\n",
    "file2 = 'https://joannabieri.com/introdatascience/data/professions.csv'\n",
    "DF_professions = pd.read_csv(file2)\n",
    "file3 = 'https://joannabieri.com/introdatascience/data/works.csv'\n",
    "DF_works = pd.read_csv(file3)\n",
    "show(DF_dates)\n",
    "show(DF_professions)\n",
    "show(DF_works)"
   ]
  },
  {
   "cell_type": "markdown",
   "id": "941e4499-edd1-4210-b3ff-292dd2eb4df7",
   "metadata": {},
   "source": [
    "**Q1** Are each of these data sets Tidy?\n",
    "\n",
    "**Q2** Do they all contain the same number of observations?\n",
    "\n",
    "**Q3** What are the five variables?\n",
    "\n",
    "**Q4** What variable do they have in common - what can we join **on**"
   ]
  },
  {
   "cell_type": "markdown",
   "id": "0e1f769b-d87d-429a-9de8-c35af020525d",
   "metadata": {},
   "source": [
    "**(Click Here)**\n",
    "I would say the data is pretty tidy since we now have 2 or 3 columns to work with. It doesn't seem to be a big data set with lots of data.\n",
    "They all have different observations from 8 to 10 to 9 observations per data set.\n",
    "Name, birth year, death year, profession, and known for.\n",
    "We can merge them through their names"
   ]
  },
  {
   "cell_type": "markdown",
   "id": "fa09683e-ac6a-4cb5-a47d-6cbf580524d2",
   "metadata": {},
   "source": [
    "## Combining Three Data Sets\n",
    "\n",
    "You need to think about the order and whether or not you want to keep the maximum number of names or only keep names that are in all the data frames.\n",
    "\n",
    "In this case we will try to keep the maximal amount of data - the maximum number of names.\n",
    "\n",
    "1. Combine the professions and works data\n",
    "2. Then add the dates data"
   ]
  },
  {
   "cell_type": "code",
   "execution_count": 79,
   "id": "1e06d293-4d62-49f6-86c5-568b22cee865",
   "metadata": {},
   "outputs": [
    {
     "data": {
      "text/html": [
       "<div>\n",
       "<style scoped>\n",
       "    .dataframe tbody tr th:only-of-type {\n",
       "        vertical-align: middle;\n",
       "    }\n",
       "\n",
       "    .dataframe tbody tr th {\n",
       "        vertical-align: top;\n",
       "    }\n",
       "\n",
       "    .dataframe thead th {\n",
       "        text-align: right;\n",
       "    }\n",
       "</style>\n",
       "<table border=\"1\" class=\"dataframe\">\n",
       "  <thead>\n",
       "    <tr style=\"text-align: right;\">\n",
       "      <th></th>\n",
       "      <th>name</th>\n",
       "      <th>profession</th>\n",
       "      <th>known_for</th>\n",
       "      <th>birth_year</th>\n",
       "      <th>death_year</th>\n",
       "    </tr>\n",
       "  </thead>\n",
       "  <tbody>\n",
       "    <tr>\n",
       "      <th>0</th>\n",
       "      <td>Janaki Ammal</td>\n",
       "      <td>Botanist</td>\n",
       "      <td>hybrid species, biodiversity protection</td>\n",
       "      <td>1897</td>\n",
       "      <td>1984.0</td>\n",
       "    </tr>\n",
       "    <tr>\n",
       "      <th>1</th>\n",
       "      <td>Chien-Shiung Wu</td>\n",
       "      <td>Physicist</td>\n",
       "      <td>confim and refine theory of radioactive beta d...</td>\n",
       "      <td>1912</td>\n",
       "      <td>1997.0</td>\n",
       "    </tr>\n",
       "    <tr>\n",
       "      <th>2</th>\n",
       "      <td>Katherine Johnson</td>\n",
       "      <td>Mathematician</td>\n",
       "      <td>calculations of orbital mechanics critical to ...</td>\n",
       "      <td>1918</td>\n",
       "      <td>2020.0</td>\n",
       "    </tr>\n",
       "    <tr>\n",
       "      <th>3</th>\n",
       "      <td>Rosalind Franklin</td>\n",
       "      <td>NaN</td>\n",
       "      <td>NaN</td>\n",
       "      <td>1920</td>\n",
       "      <td>1958.0</td>\n",
       "    </tr>\n",
       "    <tr>\n",
       "      <th>4</th>\n",
       "      <td>Vera Rubin</td>\n",
       "      <td>Astronomer</td>\n",
       "      <td>existence of dark matter</td>\n",
       "      <td>1928</td>\n",
       "      <td>2016.0</td>\n",
       "    </tr>\n",
       "    <tr>\n",
       "      <th>5</th>\n",
       "      <td>Gladys West</td>\n",
       "      <td>Mathematician</td>\n",
       "      <td>mathematical modeling of the shape of the Eart...</td>\n",
       "      <td>1930</td>\n",
       "      <td>NaN</td>\n",
       "    </tr>\n",
       "    <tr>\n",
       "      <th>6</th>\n",
       "      <td>Flossie Wong-Staal</td>\n",
       "      <td>Virologist and Molecular Biologist</td>\n",
       "      <td>first scientist to clone HIV and create a map ...</td>\n",
       "      <td>1947</td>\n",
       "      <td>NaN</td>\n",
       "    </tr>\n",
       "    <tr>\n",
       "      <th>7</th>\n",
       "      <td>Jennifer Doudna</td>\n",
       "      <td>Biochemist</td>\n",
       "      <td>one of the primary developers of CRISPR, a gro...</td>\n",
       "      <td>1964</td>\n",
       "      <td>NaN</td>\n",
       "    </tr>\n",
       "  </tbody>\n",
       "</table>\n",
       "</div>"
      ],
      "text/plain": [
       "                 name                          profession  \\\n",
       "0        Janaki Ammal                            Botanist   \n",
       "1     Chien-Shiung Wu                           Physicist   \n",
       "2   Katherine Johnson                       Mathematician   \n",
       "3   Rosalind Franklin                                 NaN   \n",
       "4          Vera Rubin                          Astronomer   \n",
       "5         Gladys West                       Mathematician   \n",
       "6  Flossie Wong-Staal  Virologist and Molecular Biologist   \n",
       "7     Jennifer Doudna                          Biochemist   \n",
       "\n",
       "                                           known_for  birth_year  death_year  \n",
       "0            hybrid species, biodiversity protection        1897      1984.0  \n",
       "1  confim and refine theory of radioactive beta d...        1912      1997.0  \n",
       "2  calculations of orbital mechanics critical to ...        1918      2020.0  \n",
       "3                                                NaN        1920      1958.0  \n",
       "4                           existence of dark matter        1928      2016.0  \n",
       "5  mathematical modeling of the shape of the Eart...        1930         NaN  \n",
       "6  first scientist to clone HIV and create a map ...        1947         NaN  \n",
       "7  one of the primary developers of CRISPR, a gro...        1964         NaN  "
      ]
     },
     "execution_count": 79,
     "metadata": {},
     "output_type": "execute_result"
    }
   ],
   "source": [
    "\n",
    "\n",
    "# 1. Combine the professions and works data\n",
    "DF_scientists = pd.merge(DF_professions,DF_works,on='name',how='right')\n",
    "DF_scientists\n",
    "# 2. Then add the dates data\n",
    "DF_scientists = pd.merge(DF_scientists,DF_dates,on='name',how='right')\n",
    "DF_scientists"
   ]
  },
  {
   "cell_type": "markdown",
   "id": "e2bbc33c-6c0e-4ca8-ad72-de5018bddce8",
   "metadata": {},
   "source": [
    "**Q5** What, if anything, would change if you switched to how='right'?"
   ]
  },
  {
   "cell_type": "markdown",
   "id": "def3bc37-ca8a-4782-a154-6b51e084b944",
   "metadata": {},
   "source": [
    "There would be less names going from 9 to 7. Keeping the ones it found it had in common and the ones it didn't from the right hand side of the data."
   ]
  },
  {
   "cell_type": "markdown",
   "id": "26a9dee0-e533-4439-8972-f2e69b544ec9",
   "metadata": {},
   "source": [
    "## Combining Two Data Sets - You Try\n",
    "\n",
    "**Q6** Write code that would combine the professions data and the dates data, but drop any names that don't appear in both."
   ]
  },
  {
   "cell_type": "code",
   "execution_count": 85,
   "id": "18d09352-c2dc-4c21-887d-7e54387c55a9",
   "metadata": {},
   "outputs": [
    {
     "data": {
      "text/html": [
       "<div>\n",
       "<style scoped>\n",
       "    .dataframe tbody tr th:only-of-type {\n",
       "        vertical-align: middle;\n",
       "    }\n",
       "\n",
       "    .dataframe tbody tr th {\n",
       "        vertical-align: top;\n",
       "    }\n",
       "\n",
       "    .dataframe thead th {\n",
       "        text-align: right;\n",
       "    }\n",
       "</style>\n",
       "<table border=\"1\" class=\"dataframe\">\n",
       "  <thead>\n",
       "    <tr style=\"text-align: right;\">\n",
       "      <th></th>\n",
       "      <th>name</th>\n",
       "      <th>profession</th>\n",
       "      <th>birth_year</th>\n",
       "      <th>death_year</th>\n",
       "    </tr>\n",
       "  </thead>\n",
       "  <tbody>\n",
       "    <tr>\n",
       "      <th>0</th>\n",
       "      <td>Janaki Ammal</td>\n",
       "      <td>Botanist</td>\n",
       "      <td>1897</td>\n",
       "      <td>1984.0</td>\n",
       "    </tr>\n",
       "    <tr>\n",
       "      <th>1</th>\n",
       "      <td>Chien-Shiung Wu</td>\n",
       "      <td>Physicist</td>\n",
       "      <td>1912</td>\n",
       "      <td>1997.0</td>\n",
       "    </tr>\n",
       "    <tr>\n",
       "      <th>2</th>\n",
       "      <td>Katherine Johnson</td>\n",
       "      <td>Mathematician</td>\n",
       "      <td>1918</td>\n",
       "      <td>2020.0</td>\n",
       "    </tr>\n",
       "    <tr>\n",
       "      <th>3</th>\n",
       "      <td>Rosalind Franklin</td>\n",
       "      <td>Chemist</td>\n",
       "      <td>1920</td>\n",
       "      <td>1958.0</td>\n",
       "    </tr>\n",
       "    <tr>\n",
       "      <th>4</th>\n",
       "      <td>Vera Rubin</td>\n",
       "      <td>Astronomer</td>\n",
       "      <td>1928</td>\n",
       "      <td>2016.0</td>\n",
       "    </tr>\n",
       "    <tr>\n",
       "      <th>5</th>\n",
       "      <td>Gladys West</td>\n",
       "      <td>Mathematician</td>\n",
       "      <td>1930</td>\n",
       "      <td>NaN</td>\n",
       "    </tr>\n",
       "    <tr>\n",
       "      <th>6</th>\n",
       "      <td>Flossie Wong-Staal</td>\n",
       "      <td>Virologist and Molecular Biologist</td>\n",
       "      <td>1947</td>\n",
       "      <td>NaN</td>\n",
       "    </tr>\n",
       "    <tr>\n",
       "      <th>7</th>\n",
       "      <td>Jennifer Doudna</td>\n",
       "      <td>Biochemist</td>\n",
       "      <td>1964</td>\n",
       "      <td>NaN</td>\n",
       "    </tr>\n",
       "  </tbody>\n",
       "</table>\n",
       "</div>"
      ],
      "text/plain": [
       "                 name                          profession  birth_year  \\\n",
       "0        Janaki Ammal                            Botanist        1897   \n",
       "1     Chien-Shiung Wu                           Physicist        1912   \n",
       "2   Katherine Johnson                       Mathematician        1918   \n",
       "3   Rosalind Franklin                             Chemist        1920   \n",
       "4          Vera Rubin                          Astronomer        1928   \n",
       "5         Gladys West                       Mathematician        1930   \n",
       "6  Flossie Wong-Staal  Virologist and Molecular Biologist        1947   \n",
       "7     Jennifer Doudna                          Biochemist        1964   \n",
       "\n",
       "   death_year  \n",
       "0      1984.0  \n",
       "1      1997.0  \n",
       "2      2020.0  \n",
       "3      1958.0  \n",
       "4      2016.0  \n",
       "5         NaN  \n",
       "6         NaN  \n",
       "7         NaN  "
      ]
     },
     "execution_count": 85,
     "metadata": {},
     "output_type": "execute_result"
    }
   ],
   "source": [
    "# Your code here\n",
    "\n",
    "pd.merge(DF_professions,DF_dates, on='name',how='inner')\n"
   ]
  },
  {
   "cell_type": "markdown",
   "id": "81aaba84-81ab-4fc7-95cb-e6df13157e2c",
   "metadata": {},
   "source": [
    "## Combining Three Data Sets - You Try\n",
    "\n",
    "**Q7** Try to combine the three data sets together (professions, works, and dates) but instead of doing what we did above, see if you can keep only the names that appeared in all three data sets."
   ]
  },
  {
   "cell_type": "code",
   "execution_count": 117,
   "id": "c2766e8b-f125-4bd6-9937-13cd92c8ba62",
   "metadata": {},
   "outputs": [
    {
     "data": {
      "text/html": [
       "<div>\n",
       "<style scoped>\n",
       "    .dataframe tbody tr th:only-of-type {\n",
       "        vertical-align: middle;\n",
       "    }\n",
       "\n",
       "    .dataframe tbody tr th {\n",
       "        vertical-align: top;\n",
       "    }\n",
       "\n",
       "    .dataframe thead th {\n",
       "        text-align: right;\n",
       "    }\n",
       "</style>\n",
       "<table border=\"1\" class=\"dataframe\">\n",
       "  <thead>\n",
       "    <tr style=\"text-align: right;\">\n",
       "      <th></th>\n",
       "      <th>name</th>\n",
       "      <th>profession</th>\n",
       "      <th>known_for</th>\n",
       "      <th>birth_year</th>\n",
       "      <th>death_year</th>\n",
       "      <th>_merge</th>\n",
       "    </tr>\n",
       "  </thead>\n",
       "  <tbody>\n",
       "    <tr>\n",
       "      <th>0</th>\n",
       "      <td>Janaki Ammal</td>\n",
       "      <td>Botanist</td>\n",
       "      <td>hybrid species, biodiversity protection</td>\n",
       "      <td>1897</td>\n",
       "      <td>1984.0</td>\n",
       "      <td>both</td>\n",
       "    </tr>\n",
       "    <tr>\n",
       "      <th>1</th>\n",
       "      <td>Chien-Shiung Wu</td>\n",
       "      <td>Physicist</td>\n",
       "      <td>confim and refine theory of radioactive beta d...</td>\n",
       "      <td>1912</td>\n",
       "      <td>1997.0</td>\n",
       "      <td>both</td>\n",
       "    </tr>\n",
       "    <tr>\n",
       "      <th>2</th>\n",
       "      <td>Katherine Johnson</td>\n",
       "      <td>Mathematician</td>\n",
       "      <td>calculations of orbital mechanics critical to ...</td>\n",
       "      <td>1918</td>\n",
       "      <td>2020.0</td>\n",
       "      <td>both</td>\n",
       "    </tr>\n",
       "    <tr>\n",
       "      <th>4</th>\n",
       "      <td>Vera Rubin</td>\n",
       "      <td>Astronomer</td>\n",
       "      <td>existence of dark matter</td>\n",
       "      <td>1928</td>\n",
       "      <td>2016.0</td>\n",
       "      <td>both</td>\n",
       "    </tr>\n",
       "    <tr>\n",
       "      <th>5</th>\n",
       "      <td>Gladys West</td>\n",
       "      <td>Mathematician</td>\n",
       "      <td>mathematical modeling of the shape of the Eart...</td>\n",
       "      <td>1930</td>\n",
       "      <td>NaN</td>\n",
       "      <td>both</td>\n",
       "    </tr>\n",
       "    <tr>\n",
       "      <th>6</th>\n",
       "      <td>Flossie Wong-Staal</td>\n",
       "      <td>Virologist and Molecular Biologist</td>\n",
       "      <td>first scientist to clone HIV and create a map ...</td>\n",
       "      <td>1947</td>\n",
       "      <td>NaN</td>\n",
       "      <td>both</td>\n",
       "    </tr>\n",
       "    <tr>\n",
       "      <th>7</th>\n",
       "      <td>Jennifer Doudna</td>\n",
       "      <td>Biochemist</td>\n",
       "      <td>one of the primary developers of CRISPR, a gro...</td>\n",
       "      <td>1964</td>\n",
       "      <td>NaN</td>\n",
       "      <td>both</td>\n",
       "    </tr>\n",
       "  </tbody>\n",
       "</table>\n",
       "</div>"
      ],
      "text/plain": [
       "                 name                          profession  \\\n",
       "0        Janaki Ammal                            Botanist   \n",
       "1     Chien-Shiung Wu                           Physicist   \n",
       "2   Katherine Johnson                       Mathematician   \n",
       "4          Vera Rubin                          Astronomer   \n",
       "5         Gladys West                       Mathematician   \n",
       "6  Flossie Wong-Staal  Virologist and Molecular Biologist   \n",
       "7     Jennifer Doudna                          Biochemist   \n",
       "\n",
       "                                           known_for  birth_year  death_year  \\\n",
       "0            hybrid species, biodiversity protection        1897      1984.0   \n",
       "1  confim and refine theory of radioactive beta d...        1912      1997.0   \n",
       "2  calculations of orbital mechanics critical to ...        1918      2020.0   \n",
       "4                           existence of dark matter        1928      2016.0   \n",
       "5  mathematical modeling of the shape of the Eart...        1930         NaN   \n",
       "6  first scientist to clone HIV and create a map ...        1947         NaN   \n",
       "7  one of the primary developers of CRISPR, a gro...        1964         NaN   \n",
       "\n",
       "  _merge  \n",
       "0   both  \n",
       "1   both  \n",
       "2   both  \n",
       "4   both  \n",
       "5   both  \n",
       "6   both  \n",
       "7   both  "
      ]
     },
     "execution_count": 117,
     "metadata": {},
     "output_type": "execute_result"
    }
   ],
   "source": [
    "# Your code here\n",
    "DF_scientists = pd.merge(DF_professions,DF_works,on='name',how='right')#This will merege it all to names with keeping DF_works as priority\n",
    "DF_scientists = pd.merge(DF_scientists,DF_dates,on='name',how='right',indicator=True) #This will make sure names that didn't appear on the first shift make them appear now\n",
    "mask = DF_scientists['_merge']=='both'#this will make a columns where it will say if the person appears on both side of the data set\n",
    "DF_scientists=DF_scientists[mask]\n",
    "DF_scientists"
   ]
  },
  {
   "cell_type": "markdown",
   "id": "e2a3bd38-8875-4133-9fb5-2080542349b6",
   "metadata": {},
   "source": [
    "## Case study - Grocery Sales\n",
    "\n",
    "Below you will load some data about grocery sales and see how joining or merging data can help us answer questions."
   ]
  },
  {
   "cell_type": "code",
   "execution_count": 16,
   "id": "e73afe67-db9b-49da-b8db-fe0e8d7b4bde",
   "metadata": {},
   "outputs": [
    {
     "data": {
      "text/html": [
       "<table id=\"itables_450a21ed_5cce_40e0_a37c_d691527420d5\" class=\"display nowrap\" data-quarto-disable-processing=\"true\" style=\"table-layout:auto;width:auto;margin:auto;caption-side:bottom\">\n",
       "<thead>\n",
       "    <tr style=\"text-align: right;\">\n",
       "      \n",
       "      <th>customer_id</th>\n",
       "      <th>item</th>\n",
       "    </tr>\n",
       "  </thead><tbody><tr>\n",
       "<td style=\"vertical-align:middle; text-align:left\">\n",
       "<div style=\"float:left; margin-right: 10px;\">\n",
       "<a href=https://mwouts.github.io/itables/><svg class=\"main-svg\" xmlns=\"http://www.w3.org/2000/svg\" xmlns:xlink=\"http://www.w3.org/1999/xlink\"\n",
       "width=\"64\" viewBox=\"0 0 500 400\" style=\"font-family: 'Droid Sans', sans-serif;\">\n",
       "    <g style=\"fill:#d9d7fc\">\n",
       "        <path d=\"M100,400H500V357H100Z\" />\n",
       "        <path d=\"M100,300H400V257H100Z\" />\n",
       "        <path d=\"M0,200H400V157H0Z\" />\n",
       "        <path d=\"M100,100H500V57H100Z\" />\n",
       "        <path d=\"M100,350H500V307H100Z\" />\n",
       "        <path d=\"M100,250H400V207H100Z\" />\n",
       "        <path d=\"M0,150H400V107H0Z\" />\n",
       "        <path d=\"M100,50H500V7H100Z\" />\n",
       "    </g>\n",
       "    <g style=\"fill:#1a1366;stroke:#1a1366;\">\n",
       "   <rect x=\"100\" y=\"7\" width=\"400\" height=\"43\">\n",
       "    <animate\n",
       "      attributeName=\"width\"\n",
       "      values=\"0;400;0\"\n",
       "      dur=\"5s\"\n",
       "      repeatCount=\"indefinite\" />\n",
       "      <animate\n",
       "      attributeName=\"x\"\n",
       "      values=\"100;100;500\"\n",
       "      dur=\"5s\"\n",
       "      repeatCount=\"indefinite\" />\n",
       "  </rect>\n",
       "        <rect x=\"0\" y=\"107\" width=\"400\" height=\"43\">\n",
       "    <animate\n",
       "      attributeName=\"width\"\n",
       "      values=\"0;400;0\"\n",
       "      dur=\"3.5s\"\n",
       "      repeatCount=\"indefinite\" />\n",
       "    <animate\n",
       "      attributeName=\"x\"\n",
       "      values=\"0;0;400\"\n",
       "      dur=\"3.5s\"\n",
       "      repeatCount=\"indefinite\" />\n",
       "  </rect>\n",
       "        <rect x=\"100\" y=\"207\" width=\"300\" height=\"43\">\n",
       "    <animate\n",
       "      attributeName=\"width\"\n",
       "      values=\"0;300;0\"\n",
       "      dur=\"3s\"\n",
       "      repeatCount=\"indefinite\" />\n",
       "    <animate\n",
       "      attributeName=\"x\"\n",
       "      values=\"100;100;400\"\n",
       "      dur=\"3s\"\n",
       "      repeatCount=\"indefinite\" />\n",
       "  </rect>\n",
       "        <rect x=\"100\" y=\"307\" width=\"400\" height=\"43\">\n",
       "    <animate\n",
       "      attributeName=\"width\"\n",
       "      values=\"0;400;0\"\n",
       "      dur=\"4s\"\n",
       "      repeatCount=\"indefinite\" />\n",
       "      <animate\n",
       "      attributeName=\"x\"\n",
       "      values=\"100;100;500\"\n",
       "      dur=\"4s\"\n",
       "      repeatCount=\"indefinite\" />\n",
       "  </rect>\n",
       "        <g style=\"fill:transparent;stroke-width:8; stroke-linejoin:round\" rx=\"5\">\n",
       "            <g transform=\"translate(45 50) rotate(-45)\">\n",
       "                <circle r=\"33\" cx=\"0\" cy=\"0\" />\n",
       "                <rect x=\"-8\" y=\"32\" width=\"16\" height=\"30\" />\n",
       "            </g>\n",
       "\n",
       "            <g transform=\"translate(450 152)\">\n",
       "                <polyline points=\"-15,-20 -35,-20 -35,40 25,40 25,20\" />\n",
       "                <rect x=\"-15\" y=\"-40\" width=\"60\" height=\"60\" />\n",
       "            </g>\n",
       "\n",
       "            <g transform=\"translate(50 352)\">\n",
       "                <polygon points=\"-35,-5 0,-40 35,-5\" />\n",
       "                <polygon points=\"-35,10 0,45 35,10\" />\n",
       "            </g>\n",
       "\n",
       "            <g transform=\"translate(75 250)\">\n",
       "                <polyline points=\"-30,30 -60,0 -30,-30\" />\n",
       "                <polyline points=\"0,30 -30,0 0,-30\" />\n",
       "            </g>\n",
       "\n",
       "            <g transform=\"translate(425 250) rotate(180)\">\n",
       "                <polyline points=\"-30,30 -60,0 -30,-30\" />\n",
       "                <polyline points=\"0,30 -30,0 0,-30\" />\n",
       "            </g>\n",
       "        </g>\n",
       "    </g>\n",
       "</svg>\n",
       "</a>\n",
       "</div>\n",
       "<div>\n",
       "Loading ITables v2.1.4 from the internet...\n",
       "(need <a href=https://mwouts.github.io/itables/troubleshooting.html>help</a>?)</td>\n",
       "</div>\n",
       "</tr></tbody>\n",
       "\n",
       "</table>\n",
       "<link href=\"https://www.unpkg.com/dt_for_itables@2.0.11/dt_bundle.css\" rel=\"stylesheet\">\n",
       "<script type=\"module\">\n",
       "    import {DataTable, jQuery as $} from 'https://www.unpkg.com/dt_for_itables@2.0.11/dt_bundle.js';\n",
       "\n",
       "    document.querySelectorAll(\"#itables_450a21ed_5cce_40e0_a37c_d691527420d5:not(.dataTable)\").forEach(table => {\n",
       "        // Define the table data\n",
       "        const data = [[1, \"bread\"], [1, \"milk\"], [1, \"banana\"], [2, \"milk\"], [2, \"toilet paper\"]];\n",
       "\n",
       "        // Define the dt_args\n",
       "        let dt_args = {\"layout\": {\"topStart\": null, \"topEnd\": null, \"bottomStart\": null, \"bottomEnd\": null}, \"order\": []};\n",
       "        dt_args[\"data\"] = data;\n",
       "\n",
       "        \n",
       "        new DataTable(table, dt_args);\n",
       "    });\n",
       "</script>\n"
      ],
      "text/plain": [
       "<IPython.core.display.HTML object>"
      ]
     },
     "metadata": {},
     "output_type": "display_data"
    },
    {
     "data": {
      "text/html": [
       "<table id=\"itables_64fdc20f_8963_4871_ac3e_fc0d6e2e4b88\" class=\"display nowrap\" data-quarto-disable-processing=\"true\" style=\"table-layout:auto;width:auto;margin:auto;caption-side:bottom\">\n",
       "<thead>\n",
       "    <tr style=\"text-align: right;\">\n",
       "      \n",
       "      <th>item</th>\n",
       "      <th>price</th>\n",
       "    </tr>\n",
       "  </thead><tbody><tr>\n",
       "<td style=\"vertical-align:middle; text-align:left\">\n",
       "<div style=\"float:left; margin-right: 10px;\">\n",
       "<a href=https://mwouts.github.io/itables/><svg class=\"main-svg\" xmlns=\"http://www.w3.org/2000/svg\" xmlns:xlink=\"http://www.w3.org/1999/xlink\"\n",
       "width=\"64\" viewBox=\"0 0 500 400\" style=\"font-family: 'Droid Sans', sans-serif;\">\n",
       "    <g style=\"fill:#d9d7fc\">\n",
       "        <path d=\"M100,400H500V357H100Z\" />\n",
       "        <path d=\"M100,300H400V257H100Z\" />\n",
       "        <path d=\"M0,200H400V157H0Z\" />\n",
       "        <path d=\"M100,100H500V57H100Z\" />\n",
       "        <path d=\"M100,350H500V307H100Z\" />\n",
       "        <path d=\"M100,250H400V207H100Z\" />\n",
       "        <path d=\"M0,150H400V107H0Z\" />\n",
       "        <path d=\"M100,50H500V7H100Z\" />\n",
       "    </g>\n",
       "    <g style=\"fill:#1a1366;stroke:#1a1366;\">\n",
       "   <rect x=\"100\" y=\"7\" width=\"400\" height=\"43\">\n",
       "    <animate\n",
       "      attributeName=\"width\"\n",
       "      values=\"0;400;0\"\n",
       "      dur=\"5s\"\n",
       "      repeatCount=\"indefinite\" />\n",
       "      <animate\n",
       "      attributeName=\"x\"\n",
       "      values=\"100;100;500\"\n",
       "      dur=\"5s\"\n",
       "      repeatCount=\"indefinite\" />\n",
       "  </rect>\n",
       "        <rect x=\"0\" y=\"107\" width=\"400\" height=\"43\">\n",
       "    <animate\n",
       "      attributeName=\"width\"\n",
       "      values=\"0;400;0\"\n",
       "      dur=\"3.5s\"\n",
       "      repeatCount=\"indefinite\" />\n",
       "    <animate\n",
       "      attributeName=\"x\"\n",
       "      values=\"0;0;400\"\n",
       "      dur=\"3.5s\"\n",
       "      repeatCount=\"indefinite\" />\n",
       "  </rect>\n",
       "        <rect x=\"100\" y=\"207\" width=\"300\" height=\"43\">\n",
       "    <animate\n",
       "      attributeName=\"width\"\n",
       "      values=\"0;300;0\"\n",
       "      dur=\"3s\"\n",
       "      repeatCount=\"indefinite\" />\n",
       "    <animate\n",
       "      attributeName=\"x\"\n",
       "      values=\"100;100;400\"\n",
       "      dur=\"3s\"\n",
       "      repeatCount=\"indefinite\" />\n",
       "  </rect>\n",
       "        <rect x=\"100\" y=\"307\" width=\"400\" height=\"43\">\n",
       "    <animate\n",
       "      attributeName=\"width\"\n",
       "      values=\"0;400;0\"\n",
       "      dur=\"4s\"\n",
       "      repeatCount=\"indefinite\" />\n",
       "      <animate\n",
       "      attributeName=\"x\"\n",
       "      values=\"100;100;500\"\n",
       "      dur=\"4s\"\n",
       "      repeatCount=\"indefinite\" />\n",
       "  </rect>\n",
       "        <g style=\"fill:transparent;stroke-width:8; stroke-linejoin:round\" rx=\"5\">\n",
       "            <g transform=\"translate(45 50) rotate(-45)\">\n",
       "                <circle r=\"33\" cx=\"0\" cy=\"0\" />\n",
       "                <rect x=\"-8\" y=\"32\" width=\"16\" height=\"30\" />\n",
       "            </g>\n",
       "\n",
       "            <g transform=\"translate(450 152)\">\n",
       "                <polyline points=\"-15,-20 -35,-20 -35,40 25,40 25,20\" />\n",
       "                <rect x=\"-15\" y=\"-40\" width=\"60\" height=\"60\" />\n",
       "            </g>\n",
       "\n",
       "            <g transform=\"translate(50 352)\">\n",
       "                <polygon points=\"-35,-5 0,-40 35,-5\" />\n",
       "                <polygon points=\"-35,10 0,45 35,10\" />\n",
       "            </g>\n",
       "\n",
       "            <g transform=\"translate(75 250)\">\n",
       "                <polyline points=\"-30,30 -60,0 -30,-30\" />\n",
       "                <polyline points=\"0,30 -30,0 0,-30\" />\n",
       "            </g>\n",
       "\n",
       "            <g transform=\"translate(425 250) rotate(180)\">\n",
       "                <polyline points=\"-30,30 -60,0 -30,-30\" />\n",
       "                <polyline points=\"0,30 -30,0 0,-30\" />\n",
       "            </g>\n",
       "        </g>\n",
       "    </g>\n",
       "</svg>\n",
       "</a>\n",
       "</div>\n",
       "<div>\n",
       "Loading ITables v2.1.4 from the internet...\n",
       "(need <a href=https://mwouts.github.io/itables/troubleshooting.html>help</a>?)</td>\n",
       "</div>\n",
       "</tr></tbody>\n",
       "\n",
       "</table>\n",
       "<link href=\"https://www.unpkg.com/dt_for_itables@2.0.11/dt_bundle.css\" rel=\"stylesheet\">\n",
       "<script type=\"module\">\n",
       "    import {DataTable, jQuery as $} from 'https://www.unpkg.com/dt_for_itables@2.0.11/dt_bundle.js';\n",
       "\n",
       "    document.querySelectorAll(\"#itables_64fdc20f_8963_4871_ac3e_fc0d6e2e4b88:not(.dataTable)\").forEach(table => {\n",
       "        // Define the table data\n",
       "        const data = [[\"avocado\", 0.5], [\"banana\", 0.15], [\"bread\", 1.0], [\"milk\", 0.8], [\"toilet paper\", 3.0]];\n",
       "\n",
       "        // Define the dt_args\n",
       "        let dt_args = {\"layout\": {\"topStart\": null, \"topEnd\": null, \"bottomStart\": null, \"bottomEnd\": null}, \"order\": []};\n",
       "        dt_args[\"data\"] = data;\n",
       "\n",
       "        \n",
       "        new DataTable(table, dt_args);\n",
       "    });\n",
       "</script>\n"
      ],
      "text/plain": [
       "<IPython.core.display.HTML object>"
      ]
     },
     "metadata": {},
     "output_type": "display_data"
    }
   ],
   "source": [
    "file1 = 'https://joannabieri.com/introdatascience/data/purchases.csv'\n",
    "DF_purchases = pd.read_csv(file1)\n",
    "file2 = 'https://joannabieri.com/introdatascience/data/prices.csv'\n",
    "DF_prices = pd.read_csv(file2)\n",
    "show(DF_purchases)\n",
    "show(DF_prices)"
   ]
  },
  {
   "cell_type": "markdown",
   "id": "59cc40ab-4b37-4c68-8da7-fdb713a184e5",
   "metadata": {},
   "source": [
    "## Calculate the total revenue\n",
    "\n",
    "**Q8** Given the data above find the total revenue.\n",
    "\n",
    "We will have to join the data frames so that we can see the price of what was sold. So first we look for a common column. In this case both data frames have **item** as a column.\n",
    "\n",
    "Now, think about how to calculate revenue... we need to add up the total money we made, so we need to know the price of each thing sold.\n",
    "\n",
    "**PAUSE - see if you can write some of the code for this before looking at the cells below**"
   ]
  },
  {
   "cell_type": "code",
   "execution_count": 199,
   "id": "0e354cf0-ce17-492c-b23f-129f01826d3f",
   "metadata": {},
   "outputs": [],
   "source": [
    "#DF_purchase = pd.merge(DF_prices, DF_purchases, on='item',how='outer')\n",
    "#DF_purchase"
   ]
  },
  {
   "cell_type": "code",
   "execution_count": 203,
   "id": "d83267c8-fe75-4a94-85b8-e9e8e52fccc5",
   "metadata": {},
   "outputs": [
    {
     "data": {
      "text/html": [
       "<div>\n",
       "<style scoped>\n",
       "    .dataframe tbody tr th:only-of-type {\n",
       "        vertical-align: middle;\n",
       "    }\n",
       "\n",
       "    .dataframe tbody tr th {\n",
       "        vertical-align: top;\n",
       "    }\n",
       "\n",
       "    .dataframe thead th {\n",
       "        text-align: right;\n",
       "    }\n",
       "</style>\n",
       "<table border=\"1\" class=\"dataframe\">\n",
       "  <thead>\n",
       "    <tr style=\"text-align: right;\">\n",
       "      <th></th>\n",
       "      <th>item</th>\n",
       "      <th>price</th>\n",
       "      <th>customer_id</th>\n",
       "    </tr>\n",
       "  </thead>\n",
       "  <tbody>\n",
       "    <tr>\n",
       "      <th>0</th>\n",
       "      <td>bread</td>\n",
       "      <td>1.00</td>\n",
       "      <td>1</td>\n",
       "    </tr>\n",
       "    <tr>\n",
       "      <th>1</th>\n",
       "      <td>milk</td>\n",
       "      <td>0.80</td>\n",
       "      <td>1</td>\n",
       "    </tr>\n",
       "    <tr>\n",
       "      <th>2</th>\n",
       "      <td>banana</td>\n",
       "      <td>0.15</td>\n",
       "      <td>1</td>\n",
       "    </tr>\n",
       "    <tr>\n",
       "      <th>3</th>\n",
       "      <td>milk</td>\n",
       "      <td>0.80</td>\n",
       "      <td>2</td>\n",
       "    </tr>\n",
       "    <tr>\n",
       "      <th>4</th>\n",
       "      <td>toilet paper</td>\n",
       "      <td>3.00</td>\n",
       "      <td>2</td>\n",
       "    </tr>\n",
       "  </tbody>\n",
       "</table>\n",
       "</div>"
      ],
      "text/plain": [
       "           item  price  customer_id\n",
       "0         bread   1.00            1\n",
       "1          milk   0.80            1\n",
       "2        banana   0.15            1\n",
       "3          milk   0.80            2\n",
       "4  toilet paper   3.00            2"
      ]
     },
     "execution_count": 203,
     "metadata": {},
     "output_type": "execute_result"
    }
   ],
   "source": [
    "DF_combined = pd.merge(DF_prices,DF_purchases,on='item',how='right')\n",
    "DF_combined\n"
   ]
  },
  {
   "cell_type": "code",
   "execution_count": 20,
   "id": "a6e9ef48-206c-45fd-96c4-751cba05b9b5",
   "metadata": {},
   "outputs": [],
   "source": [
    "#"
   ]
  },
  {
   "cell_type": "code",
   "execution_count": 21,
   "id": "c42954be-51ba-48ba-a6de-e91b12964874",
   "metadata": {},
   "outputs": [],
   "source": [
    "#"
   ]
  },
  {
   "cell_type": "markdown",
   "id": "e437831b-9e27-40c1-b7e1-893785439543",
   "metadata": {},
   "source": [
    "**See the lecture notes if you need heelp figuring this out!**\n",
    "\n",
    "**Q9** Calculate the revenue per customer? Hint - group by the customer id and then apply the sum()."
   ]
  },
  {
   "cell_type": "code",
   "execution_count": 201,
   "id": "0863ba4f-65d0-4465-bd70-4557c581a15d",
   "metadata": {},
   "outputs": [
    {
     "data": {
      "text/plain": [
       "5.75"
      ]
     },
     "execution_count": 201,
     "metadata": {},
     "output_type": "execute_result"
    }
   ],
   "source": [
    "# Your code here\n",
    "DF_combined = pd.merge(DF_prices,DF_purchases,on='item',how='right')\n",
    "DF_combined\n",
    "DF_combined['price'].sum()"
   ]
  },
  {
   "cell_type": "markdown",
   "id": "0b3b6bfe-df90-4521-9d96-404916911e2b",
   "metadata": {},
   "source": [
    "# Practice Exam - EDA - College Majors\n",
    "\n",
    "Your solutions should include code written to answer the questions AND words describing the results. For each problem:\n",
    "\n",
    "1. Write code to get the answers. It is okay to copy and paste from our lecture notes or your homework assignments.\n",
    "2. Describe what the code output is telling you.\n",
    "3. Explain any interesting aspects of your results.\n",
    "\n",
    "------------------------\n",
    "-------------------------"
   ]
  },
  {
   "cell_type": "markdown",
   "id": "1c634098-c93e-41c2-bc4a-523f4c27a333",
   "metadata": {},
   "source": [
    "The first step in the process of turning information into knowledge process is to summarize and describe the raw information - the data.\n",
    "In this assignment we explore data on college majors and earnings, specifically the data begin the FiveThirtyEight story [\"The Economic Guide To Picking A College Major\"](https://fivethirtyeight.com/features/the-economic-guide-to-picking-a-college-major/).\n",
    "\n",
    "These data originally come from the American Community Survey (ACS) 2010-2012 Public Use Microdata Series.\n",
    "While this is outside the scope of this assignment, if you are curious about how raw data from the ACS were cleaned and prepared, see [the code](https://github.com/fivethirtyeight/data/blob/master/college-majors/college-majors-rscript.R) FiveThirtyEight authors used.\n",
    "\n",
    "We should also note that there are many considerations that go into picking a major.\n",
    "Earnings potential and employment prospects are two of them, and they are important, but they don't tell the whole story.\n",
    "Keep this in mind as you analyze the data."
   ]
  },
  {
   "cell_type": "code",
   "execution_count": 26,
   "id": "20e25679-7c2a-4244-be1b-dc01e35f8126",
   "metadata": {},
   "outputs": [],
   "source": [
    "file_location = 'https://joannabieri.com/introdatascience/data/recent-grads.csv'\n",
    "DF_raw = pd.read_csv(file_location)"
   ]
  },
  {
   "cell_type": "code",
   "execution_count": 27,
   "id": "763b02f4-00ce-4b9a-ac1d-792c794109f1",
   "metadata": {},
   "outputs": [
    {
     "data": {
      "text/html": [
       "<div>\n",
       "<style scoped>\n",
       "    .dataframe tbody tr th:only-of-type {\n",
       "        vertical-align: middle;\n",
       "    }\n",
       "\n",
       "    .dataframe tbody tr th {\n",
       "        vertical-align: top;\n",
       "    }\n",
       "\n",
       "    .dataframe thead th {\n",
       "        text-align: right;\n",
       "    }\n",
       "</style>\n",
       "<table border=\"1\" class=\"dataframe\">\n",
       "  <thead>\n",
       "    <tr style=\"text-align: right;\">\n",
       "      <th></th>\n",
       "      <th>Rank</th>\n",
       "      <th>Major_code</th>\n",
       "      <th>Major</th>\n",
       "      <th>Total</th>\n",
       "      <th>Men</th>\n",
       "      <th>Women</th>\n",
       "      <th>Major_category</th>\n",
       "      <th>ShareWomen</th>\n",
       "      <th>Sample_size</th>\n",
       "      <th>Employed</th>\n",
       "      <th>...</th>\n",
       "      <th>Part_time</th>\n",
       "      <th>Full_time_year_round</th>\n",
       "      <th>Unemployed</th>\n",
       "      <th>Unemployment_rate</th>\n",
       "      <th>Median</th>\n",
       "      <th>P25th</th>\n",
       "      <th>P75th</th>\n",
       "      <th>College_jobs</th>\n",
       "      <th>Non_college_jobs</th>\n",
       "      <th>Low_wage_jobs</th>\n",
       "    </tr>\n",
       "  </thead>\n",
       "  <tbody>\n",
       "    <tr>\n",
       "      <th>0</th>\n",
       "      <td>1</td>\n",
       "      <td>2419</td>\n",
       "      <td>PETROLEUM ENGINEERING</td>\n",
       "      <td>2339.0</td>\n",
       "      <td>2057.0</td>\n",
       "      <td>282.0</td>\n",
       "      <td>Engineering</td>\n",
       "      <td>0.120564</td>\n",
       "      <td>36</td>\n",
       "      <td>1976</td>\n",
       "      <td>...</td>\n",
       "      <td>270</td>\n",
       "      <td>1207</td>\n",
       "      <td>37</td>\n",
       "      <td>0.018381</td>\n",
       "      <td>110000</td>\n",
       "      <td>95000</td>\n",
       "      <td>125000</td>\n",
       "      <td>1534</td>\n",
       "      <td>364</td>\n",
       "      <td>193</td>\n",
       "    </tr>\n",
       "    <tr>\n",
       "      <th>1</th>\n",
       "      <td>2</td>\n",
       "      <td>2416</td>\n",
       "      <td>MINING AND MINERAL ENGINEERING</td>\n",
       "      <td>756.0</td>\n",
       "      <td>679.0</td>\n",
       "      <td>77.0</td>\n",
       "      <td>Engineering</td>\n",
       "      <td>0.101852</td>\n",
       "      <td>7</td>\n",
       "      <td>640</td>\n",
       "      <td>...</td>\n",
       "      <td>170</td>\n",
       "      <td>388</td>\n",
       "      <td>85</td>\n",
       "      <td>0.117241</td>\n",
       "      <td>75000</td>\n",
       "      <td>55000</td>\n",
       "      <td>90000</td>\n",
       "      <td>350</td>\n",
       "      <td>257</td>\n",
       "      <td>50</td>\n",
       "    </tr>\n",
       "    <tr>\n",
       "      <th>2</th>\n",
       "      <td>3</td>\n",
       "      <td>2415</td>\n",
       "      <td>METALLURGICAL ENGINEERING</td>\n",
       "      <td>856.0</td>\n",
       "      <td>725.0</td>\n",
       "      <td>131.0</td>\n",
       "      <td>Engineering</td>\n",
       "      <td>0.153037</td>\n",
       "      <td>3</td>\n",
       "      <td>648</td>\n",
       "      <td>...</td>\n",
       "      <td>133</td>\n",
       "      <td>340</td>\n",
       "      <td>16</td>\n",
       "      <td>0.024096</td>\n",
       "      <td>73000</td>\n",
       "      <td>50000</td>\n",
       "      <td>105000</td>\n",
       "      <td>456</td>\n",
       "      <td>176</td>\n",
       "      <td>0</td>\n",
       "    </tr>\n",
       "    <tr>\n",
       "      <th>3</th>\n",
       "      <td>4</td>\n",
       "      <td>2417</td>\n",
       "      <td>NAVAL ARCHITECTURE AND MARINE ENGINEERING</td>\n",
       "      <td>1258.0</td>\n",
       "      <td>1123.0</td>\n",
       "      <td>135.0</td>\n",
       "      <td>Engineering</td>\n",
       "      <td>0.107313</td>\n",
       "      <td>16</td>\n",
       "      <td>758</td>\n",
       "      <td>...</td>\n",
       "      <td>150</td>\n",
       "      <td>692</td>\n",
       "      <td>40</td>\n",
       "      <td>0.050125</td>\n",
       "      <td>70000</td>\n",
       "      <td>43000</td>\n",
       "      <td>80000</td>\n",
       "      <td>529</td>\n",
       "      <td>102</td>\n",
       "      <td>0</td>\n",
       "    </tr>\n",
       "    <tr>\n",
       "      <th>4</th>\n",
       "      <td>5</td>\n",
       "      <td>2405</td>\n",
       "      <td>CHEMICAL ENGINEERING</td>\n",
       "      <td>32260.0</td>\n",
       "      <td>21239.0</td>\n",
       "      <td>11021.0</td>\n",
       "      <td>Engineering</td>\n",
       "      <td>0.341631</td>\n",
       "      <td>289</td>\n",
       "      <td>25694</td>\n",
       "      <td>...</td>\n",
       "      <td>5180</td>\n",
       "      <td>16697</td>\n",
       "      <td>1672</td>\n",
       "      <td>0.061098</td>\n",
       "      <td>65000</td>\n",
       "      <td>50000</td>\n",
       "      <td>75000</td>\n",
       "      <td>18314</td>\n",
       "      <td>4440</td>\n",
       "      <td>972</td>\n",
       "    </tr>\n",
       "    <tr>\n",
       "      <th>...</th>\n",
       "      <td>...</td>\n",
       "      <td>...</td>\n",
       "      <td>...</td>\n",
       "      <td>...</td>\n",
       "      <td>...</td>\n",
       "      <td>...</td>\n",
       "      <td>...</td>\n",
       "      <td>...</td>\n",
       "      <td>...</td>\n",
       "      <td>...</td>\n",
       "      <td>...</td>\n",
       "      <td>...</td>\n",
       "      <td>...</td>\n",
       "      <td>...</td>\n",
       "      <td>...</td>\n",
       "      <td>...</td>\n",
       "      <td>...</td>\n",
       "      <td>...</td>\n",
       "      <td>...</td>\n",
       "      <td>...</td>\n",
       "      <td>...</td>\n",
       "    </tr>\n",
       "    <tr>\n",
       "      <th>168</th>\n",
       "      <td>169</td>\n",
       "      <td>3609</td>\n",
       "      <td>ZOOLOGY</td>\n",
       "      <td>8409.0</td>\n",
       "      <td>3050.0</td>\n",
       "      <td>5359.0</td>\n",
       "      <td>Biology &amp; Life Science</td>\n",
       "      <td>0.637293</td>\n",
       "      <td>47</td>\n",
       "      <td>6259</td>\n",
       "      <td>...</td>\n",
       "      <td>2190</td>\n",
       "      <td>3602</td>\n",
       "      <td>304</td>\n",
       "      <td>0.046320</td>\n",
       "      <td>26000</td>\n",
       "      <td>20000</td>\n",
       "      <td>39000</td>\n",
       "      <td>2771</td>\n",
       "      <td>2947</td>\n",
       "      <td>743</td>\n",
       "    </tr>\n",
       "    <tr>\n",
       "      <th>169</th>\n",
       "      <td>170</td>\n",
       "      <td>5201</td>\n",
       "      <td>EDUCATIONAL PSYCHOLOGY</td>\n",
       "      <td>2854.0</td>\n",
       "      <td>522.0</td>\n",
       "      <td>2332.0</td>\n",
       "      <td>Psychology &amp; Social Work</td>\n",
       "      <td>0.817099</td>\n",
       "      <td>7</td>\n",
       "      <td>2125</td>\n",
       "      <td>...</td>\n",
       "      <td>572</td>\n",
       "      <td>1211</td>\n",
       "      <td>148</td>\n",
       "      <td>0.065112</td>\n",
       "      <td>25000</td>\n",
       "      <td>24000</td>\n",
       "      <td>34000</td>\n",
       "      <td>1488</td>\n",
       "      <td>615</td>\n",
       "      <td>82</td>\n",
       "    </tr>\n",
       "    <tr>\n",
       "      <th>170</th>\n",
       "      <td>171</td>\n",
       "      <td>5202</td>\n",
       "      <td>CLINICAL PSYCHOLOGY</td>\n",
       "      <td>2838.0</td>\n",
       "      <td>568.0</td>\n",
       "      <td>2270.0</td>\n",
       "      <td>Psychology &amp; Social Work</td>\n",
       "      <td>0.799859</td>\n",
       "      <td>13</td>\n",
       "      <td>2101</td>\n",
       "      <td>...</td>\n",
       "      <td>648</td>\n",
       "      <td>1293</td>\n",
       "      <td>368</td>\n",
       "      <td>0.149048</td>\n",
       "      <td>25000</td>\n",
       "      <td>25000</td>\n",
       "      <td>40000</td>\n",
       "      <td>986</td>\n",
       "      <td>870</td>\n",
       "      <td>622</td>\n",
       "    </tr>\n",
       "    <tr>\n",
       "      <th>171</th>\n",
       "      <td>172</td>\n",
       "      <td>5203</td>\n",
       "      <td>COUNSELING PSYCHOLOGY</td>\n",
       "      <td>4626.0</td>\n",
       "      <td>931.0</td>\n",
       "      <td>3695.0</td>\n",
       "      <td>Psychology &amp; Social Work</td>\n",
       "      <td>0.798746</td>\n",
       "      <td>21</td>\n",
       "      <td>3777</td>\n",
       "      <td>...</td>\n",
       "      <td>965</td>\n",
       "      <td>2738</td>\n",
       "      <td>214</td>\n",
       "      <td>0.053621</td>\n",
       "      <td>23400</td>\n",
       "      <td>19200</td>\n",
       "      <td>26000</td>\n",
       "      <td>2403</td>\n",
       "      <td>1245</td>\n",
       "      <td>308</td>\n",
       "    </tr>\n",
       "    <tr>\n",
       "      <th>172</th>\n",
       "      <td>173</td>\n",
       "      <td>3501</td>\n",
       "      <td>LIBRARY SCIENCE</td>\n",
       "      <td>1098.0</td>\n",
       "      <td>134.0</td>\n",
       "      <td>964.0</td>\n",
       "      <td>Education</td>\n",
       "      <td>0.877960</td>\n",
       "      <td>2</td>\n",
       "      <td>742</td>\n",
       "      <td>...</td>\n",
       "      <td>237</td>\n",
       "      <td>410</td>\n",
       "      <td>87</td>\n",
       "      <td>0.104946</td>\n",
       "      <td>22000</td>\n",
       "      <td>20000</td>\n",
       "      <td>22000</td>\n",
       "      <td>288</td>\n",
       "      <td>338</td>\n",
       "      <td>192</td>\n",
       "    </tr>\n",
       "  </tbody>\n",
       "</table>\n",
       "<p>173 rows × 21 columns</p>\n",
       "</div>"
      ],
      "text/plain": [
       "     Rank  Major_code                                      Major    Total  \\\n",
       "0       1        2419                      PETROLEUM ENGINEERING   2339.0   \n",
       "1       2        2416             MINING AND MINERAL ENGINEERING    756.0   \n",
       "2       3        2415                  METALLURGICAL ENGINEERING    856.0   \n",
       "3       4        2417  NAVAL ARCHITECTURE AND MARINE ENGINEERING   1258.0   \n",
       "4       5        2405                       CHEMICAL ENGINEERING  32260.0   \n",
       "..    ...         ...                                        ...      ...   \n",
       "168   169        3609                                    ZOOLOGY   8409.0   \n",
       "169   170        5201                     EDUCATIONAL PSYCHOLOGY   2854.0   \n",
       "170   171        5202                        CLINICAL PSYCHOLOGY   2838.0   \n",
       "171   172        5203                      COUNSELING PSYCHOLOGY   4626.0   \n",
       "172   173        3501                            LIBRARY SCIENCE   1098.0   \n",
       "\n",
       "         Men    Women            Major_category  ShareWomen  Sample_size  \\\n",
       "0     2057.0    282.0               Engineering    0.120564           36   \n",
       "1      679.0     77.0               Engineering    0.101852            7   \n",
       "2      725.0    131.0               Engineering    0.153037            3   \n",
       "3     1123.0    135.0               Engineering    0.107313           16   \n",
       "4    21239.0  11021.0               Engineering    0.341631          289   \n",
       "..       ...      ...                       ...         ...          ...   \n",
       "168   3050.0   5359.0    Biology & Life Science    0.637293           47   \n",
       "169    522.0   2332.0  Psychology & Social Work    0.817099            7   \n",
       "170    568.0   2270.0  Psychology & Social Work    0.799859           13   \n",
       "171    931.0   3695.0  Psychology & Social Work    0.798746           21   \n",
       "172    134.0    964.0                 Education    0.877960            2   \n",
       "\n",
       "     Employed  ...  Part_time  Full_time_year_round  Unemployed  \\\n",
       "0        1976  ...        270                  1207          37   \n",
       "1         640  ...        170                   388          85   \n",
       "2         648  ...        133                   340          16   \n",
       "3         758  ...        150                   692          40   \n",
       "4       25694  ...       5180                 16697        1672   \n",
       "..        ...  ...        ...                   ...         ...   \n",
       "168      6259  ...       2190                  3602         304   \n",
       "169      2125  ...        572                  1211         148   \n",
       "170      2101  ...        648                  1293         368   \n",
       "171      3777  ...        965                  2738         214   \n",
       "172       742  ...        237                   410          87   \n",
       "\n",
       "     Unemployment_rate  Median  P25th   P75th  College_jobs  Non_college_jobs  \\\n",
       "0             0.018381  110000  95000  125000          1534               364   \n",
       "1             0.117241   75000  55000   90000           350               257   \n",
       "2             0.024096   73000  50000  105000           456               176   \n",
       "3             0.050125   70000  43000   80000           529               102   \n",
       "4             0.061098   65000  50000   75000         18314              4440   \n",
       "..                 ...     ...    ...     ...           ...               ...   \n",
       "168           0.046320   26000  20000   39000          2771              2947   \n",
       "169           0.065112   25000  24000   34000          1488               615   \n",
       "170           0.149048   25000  25000   40000           986               870   \n",
       "171           0.053621   23400  19200   26000          2403              1245   \n",
       "172           0.104946   22000  20000   22000           288               338   \n",
       "\n",
       "     Low_wage_jobs  \n",
       "0              193  \n",
       "1               50  \n",
       "2                0  \n",
       "3                0  \n",
       "4              972  \n",
       "..             ...  \n",
       "168            743  \n",
       "169             82  \n",
       "170            622  \n",
       "171            308  \n",
       "172            192  \n",
       "\n",
       "[173 rows x 21 columns]"
      ]
     },
     "execution_count": 27,
     "metadata": {},
     "output_type": "execute_result"
    }
   ],
   "source": [
    "DF_raw"
   ]
  },
  {
   "cell_type": "markdown",
   "id": "d2c98753-1b02-4889-81b3-d97627d70824",
   "metadata": {},
   "source": [
    "### 1. Describe the data that you see here.\n",
    "\n",
    "* How many variables?\n",
    "* How man observations?\n",
    "* Are the variables categorical or numerical?\n",
    "* Are there any variables that you don't know what they mean? If so [CLICK HERE - to see the Git Repo for the data where the variables are defined](https://github.com/fivethirtyeight/data/tree/master/college-majors)\n"
   ]
  },
  {
   "cell_type": "code",
   "execution_count": 137,
   "id": "0011fbe4-e81b-446f-8277-a249f36c3880",
   "metadata": {},
   "outputs": [],
   "source": [
    "#There are 21 variables starting Rank to low-wage jobs\n",
    "\n",
    "#print(DF_raw) \n",
    "#I commented on the code cause it was taking up a lot of screen space by giving the dimensions of the data"
   ]
  },
  {
   "cell_type": "code",
   "execution_count": 129,
   "id": "b09fe27b-bcac-46c2-af97-6ca873f5e81d",
   "metadata": {},
   "outputs": [],
   "source": [
    "# We have 173 observations\n"
   ]
  },
  {
   "cell_type": "code",
   "execution_count": 31,
   "id": "0b9165e9-a915-4cd4-898f-06d81ccf22fa",
   "metadata": {},
   "outputs": [],
   "source": [
    "#It is mainly numerical but we have 2 categorial sets of data as well."
   ]
  },
  {
   "cell_type": "markdown",
   "id": "13005d11-f03f-40dd-a53c-9ff76f5dbfe1",
   "metadata": {},
   "source": [
    "**(Click Here to Explain your Results)**"
   ]
  },
  {
   "cell_type": "markdown",
   "id": "e6081090-f75b-43f2-aaee-e9e90afbb058",
   "metadata": {},
   "source": [
    "### 2. Answer some questions about the data\n",
    "\n",
    "* Which major has the lowest unemployment rate? Show a data frame that answers this question, but only show columns that are useful to the answer.\n",
    "* Which major has the highest percentage of women? Show a data frame that answers this question, but only show columns that are useful to the answer.\n",
    "* How do the distributions of median income compare across major categories?\n",
    "    * First get a value count on what major categories are in the data. What categories are most or least represented?\n",
    "    * Do some summary statistics using the .group_by() command to see the statistics for each major category.\n",
    "    * Make a histogram that explores median income for each of the major categories (facet_col). How did you choose your number of bins?\n",
    "    * Why do we often choose the median, rather than the mean, to describe the typical income of a group of people? Look this up online if you don't know the answer!\n",
    "    * Answer the question: Which major category has the highest typical (you'll need to decide what this means) median income?"
   ]
  },
  {
   "cell_type": "code",
   "execution_count": 161,
   "id": "65955115-72c3-445f-be32-af352ececa93",
   "metadata": {},
   "outputs": [
    {
     "data": {
      "text/html": [
       "<table id=\"itables_f546125f_8d86_4344_b433_8736130bff70\" class=\"display nowrap\" data-quarto-disable-processing=\"true\" style=\"table-layout:auto;width:auto;margin:auto;caption-side:bottom\">\n",
       "<thead>\n",
       "    <tr style=\"text-align: right;\">\n",
       "      <th></th>\n",
       "      <th>Major</th>\n",
       "      <th>Unemployment_rate</th>\n",
       "    </tr>\n",
       "  </thead><tbody><tr>\n",
       "<td style=\"vertical-align:middle; text-align:left\">\n",
       "<div style=\"float:left; margin-right: 10px;\">\n",
       "<a href=https://mwouts.github.io/itables/><svg class=\"main-svg\" xmlns=\"http://www.w3.org/2000/svg\" xmlns:xlink=\"http://www.w3.org/1999/xlink\"\n",
       "width=\"64\" viewBox=\"0 0 500 400\" style=\"font-family: 'Droid Sans', sans-serif;\">\n",
       "    <g style=\"fill:#d9d7fc\">\n",
       "        <path d=\"M100,400H500V357H100Z\" />\n",
       "        <path d=\"M100,300H400V257H100Z\" />\n",
       "        <path d=\"M0,200H400V157H0Z\" />\n",
       "        <path d=\"M100,100H500V57H100Z\" />\n",
       "        <path d=\"M100,350H500V307H100Z\" />\n",
       "        <path d=\"M100,250H400V207H100Z\" />\n",
       "        <path d=\"M0,150H400V107H0Z\" />\n",
       "        <path d=\"M100,50H500V7H100Z\" />\n",
       "    </g>\n",
       "    <g style=\"fill:#1a1366;stroke:#1a1366;\">\n",
       "   <rect x=\"100\" y=\"7\" width=\"400\" height=\"43\">\n",
       "    <animate\n",
       "      attributeName=\"width\"\n",
       "      values=\"0;400;0\"\n",
       "      dur=\"5s\"\n",
       "      repeatCount=\"indefinite\" />\n",
       "      <animate\n",
       "      attributeName=\"x\"\n",
       "      values=\"100;100;500\"\n",
       "      dur=\"5s\"\n",
       "      repeatCount=\"indefinite\" />\n",
       "  </rect>\n",
       "        <rect x=\"0\" y=\"107\" width=\"400\" height=\"43\">\n",
       "    <animate\n",
       "      attributeName=\"width\"\n",
       "      values=\"0;400;0\"\n",
       "      dur=\"3.5s\"\n",
       "      repeatCount=\"indefinite\" />\n",
       "    <animate\n",
       "      attributeName=\"x\"\n",
       "      values=\"0;0;400\"\n",
       "      dur=\"3.5s\"\n",
       "      repeatCount=\"indefinite\" />\n",
       "  </rect>\n",
       "        <rect x=\"100\" y=\"207\" width=\"300\" height=\"43\">\n",
       "    <animate\n",
       "      attributeName=\"width\"\n",
       "      values=\"0;300;0\"\n",
       "      dur=\"3s\"\n",
       "      repeatCount=\"indefinite\" />\n",
       "    <animate\n",
       "      attributeName=\"x\"\n",
       "      values=\"100;100;400\"\n",
       "      dur=\"3s\"\n",
       "      repeatCount=\"indefinite\" />\n",
       "  </rect>\n",
       "        <rect x=\"100\" y=\"307\" width=\"400\" height=\"43\">\n",
       "    <animate\n",
       "      attributeName=\"width\"\n",
       "      values=\"0;400;0\"\n",
       "      dur=\"4s\"\n",
       "      repeatCount=\"indefinite\" />\n",
       "      <animate\n",
       "      attributeName=\"x\"\n",
       "      values=\"100;100;500\"\n",
       "      dur=\"4s\"\n",
       "      repeatCount=\"indefinite\" />\n",
       "  </rect>\n",
       "        <g style=\"fill:transparent;stroke-width:8; stroke-linejoin:round\" rx=\"5\">\n",
       "            <g transform=\"translate(45 50) rotate(-45)\">\n",
       "                <circle r=\"33\" cx=\"0\" cy=\"0\" />\n",
       "                <rect x=\"-8\" y=\"32\" width=\"16\" height=\"30\" />\n",
       "            </g>\n",
       "\n",
       "            <g transform=\"translate(450 152)\">\n",
       "                <polyline points=\"-15,-20 -35,-20 -35,40 25,40 25,20\" />\n",
       "                <rect x=\"-15\" y=\"-40\" width=\"60\" height=\"60\" />\n",
       "            </g>\n",
       "\n",
       "            <g transform=\"translate(50 352)\">\n",
       "                <polygon points=\"-35,-5 0,-40 35,-5\" />\n",
       "                <polygon points=\"-35,10 0,45 35,10\" />\n",
       "            </g>\n",
       "\n",
       "            <g transform=\"translate(75 250)\">\n",
       "                <polyline points=\"-30,30 -60,0 -30,-30\" />\n",
       "                <polyline points=\"0,30 -30,0 0,-30\" />\n",
       "            </g>\n",
       "\n",
       "            <g transform=\"translate(425 250) rotate(180)\">\n",
       "                <polyline points=\"-30,30 -60,0 -30,-30\" />\n",
       "                <polyline points=\"0,30 -30,0 0,-30\" />\n",
       "            </g>\n",
       "        </g>\n",
       "    </g>\n",
       "</svg>\n",
       "</a>\n",
       "</div>\n",
       "<div>\n",
       "Loading ITables v2.1.4 from the internet...\n",
       "(need <a href=https://mwouts.github.io/itables/troubleshooting.html>help</a>?)</td>\n",
       "</div>\n",
       "</tr></tbody>\n",
       "\n",
       "</table>\n",
       "<link href=\"https://www.unpkg.com/dt_for_itables@2.0.11/dt_bundle.css\" rel=\"stylesheet\">\n",
       "<script type=\"module\">\n",
       "    import {DataTable, jQuery as $} from 'https://www.unpkg.com/dt_for_itables@2.0.11/dt_bundle.js';\n",
       "\n",
       "    document.querySelectorAll(\"#itables_f546125f_8d86_4344_b433_8736130bff70:not(.dataTable)\").forEach(table => {\n",
       "        // Define the table data\n",
       "        const data = [[120, \"EDUCATIONAL ADMINISTRATION AND SUPERVISION\", 0.0], [73, \"MILITARY TECHNOLOGIES\", 0.0], [83, \"BOTANY\", 0.0], [52, \"MATHEMATICS AND COMPUTER SCIENCE\", 0.0], [112, \"SOIL SCIENCE\", 0.0], [14, \"ENGINEERING MECHANICS PHYSICS AND SCIENCE\", 0.006334], [19, \"COURT REPORTING\", 0.01169], [119, \"MATHEMATICS TEACHER EDUCATION\", 0.016203], [0, \"PETROLEUM ENGINEERING\", 0.018381], [64, \"GENERAL AGRICULTURE\", 0.019642], [7, \"ASTRONOMY AND ASTROPHYSICS\", 0.021167], [110, \"ATMOSPHERIC SCIENCES AND METEOROLOGY\", 0.022229], [13, \"MATERIALS SCIENCE\", 0.023043], [2, \"METALLURGICAL ENGINEERING\", 0.024096], [90, \"GEOSCIENCES\", 0.024374], [23, \"MATERIALS ENGINEERING AND MATERIALS SCIENCE\", 0.027789], [38, \"INDUSTRIAL PRODUCTION TECHNOLOGIES\", 0.028308], [75, \"ELECTRICAL, MECHANICAL, AND PRECISION TECHNOLOGIES AND PRODUCTION\", 0.02948], [91, \"SOCIAL PSYCHOLOGY\", 0.02965], [50, \"ENGINEERING AND INDUSTRIAL MANAGEMENT\", 0.033652], [67, \"GENETICS\", 0.034118], [72, \"PHYSICAL SCIENCES\", 0.035354], [154, \"TEACHER EDUCATION: MULTIPLE LEVELS\", 0.036546], [44, \"MEDICAL TECHNOLOGIES TECHNICIANS\", 0.036983], [156, \"HUMAN SERVICES AND COMMUNITY ORGANIZATION\", 0.037819], [136, \"ART AND MUSIC EDUCATION\", 0.038638], [164, \"EARLY CHILDHOOD EDUCATION\", 0.040105], [100, \"SPECIAL NEEDS EDUCATION\", 0.041508], [51, \"MEDICAL ASSISTING SERVICES\", 0.042507], [16, \"INDUSTRIAL AND MANUFACTURING ENGINEERING\", 0.042876], [34, \"NURSING\", 0.044863], [143, \"PLANT SCIENCE AND AGRONOMY\", 0.045455], [168, \"ZOOLOGY\", 0.04632], [138, \"ELEMENTARY EDUCATION\", 0.046586], [69, \"UNITED STATES HISTORY\", 0.047179], [144, \"SCIENCE AND COMPUTER TEACHER EDUCATION\", 0.047264], [41, \"MATHEMATICS\", 0.047277], [163, \"COMMUNICATION DISORDERS SCIENCES AND SERVICES\", 0.047584], [27, \"OPERATIONS LOGISTICS AND E-COMMERCE\", 0.047859], [43, \"PHYSICS\", 0.048224], [108, \"NEUROSCIENCE\", 0.048482], [63, \"AGRICULTURE PRODUCTION AND MANAGEMENT\", 0.050031], [3, \"NAVAL ARCHITECTURE AND MARINE ENGINEERING\", 0.050125], [128, \"LANGUAGE AND DRAMA EDUCATION\", 0.050306], [152, \"ANIMAL SCIENCES\", 0.050862], [139, \"PHYSICAL FITNESS PARKS RECREATION AND LEISURE\", 0.051467], [155, \"MISCELLANEOUS PSYCHOLOGY\", 0.051908], [133, \"SECONDARY TEACHER EDUCATION\", 0.052229], [65, \"MISCELLANEOUS ENGINEERING TECHNOLOGIES\", 0.052539], [171, \"COUNSELING PSYCHOLOGY\", 0.053621], [74, \"CHEMISTRY\", 0.053972], [117, \"SOCIAL SCIENCE OR HISTORY TEACHER EDUCATION\", 0.054083], [132, \"ECOLOGY\", 0.054475], [31, \"ENGINEERING TECHNOLOGIES\", 0.05503], [60, \"PHARMACY PHARMACEUTICAL SCIENCES AND ADMINISTRATION\", 0.055521], [160, \"COSMETOLOGY SERVICES AND CULINARY ARTS\", 0.055677], [97, \"MULTI-DISCIPLINARY OR GENERAL SCIENCE\", 0.055807], [66, \"MECHANICAL ENGINEERING RELATED TECHNOLOGIES\", 0.056357], [49, \"OCEANOGRAPHY\", 0.056995], [8, \"MECHANICAL ENGINEERING\", 0.057342], [113, \"GENERAL EDUCATION\", 0.05736], [24, \"MANAGEMENT INFORMATION SYSTEMS AND STATISTICS\", 0.05824], [122, \"MISCELLANEOUS BIOLOGY\", 0.058545], [9, \"ELECTRICAL ENGINEERING\", 0.059174], [130, \"MISCELLANEOUS EDUCATION\", 0.059212], [86, \"HUMAN RESOURCES AND PERSONNEL MANAGEMENT\", 0.05957], [161, \"MISCELLANEOUS AGRICULTURE\", 0.059767], [126, \"TREATMENT THERAPY PROFESSIONS\", 0.059821], [17, \"GENERAL ENGINEERING\", 0.059824], [26, \"CONSTRUCTION SERVICES\", 0.060023], [148, \"ART HISTORY AND CRITICISM\", 0.060298], [35, \"FINANCE\", 0.060686], [45, \"INFORMATION SCIENCES\", 0.060741], [4, \"CHEMICAL ENGINEERING\", 0.061098], [127, \"HOSPITALITY MANAGEMENT\", 0.061169], [77, \"MARKETING AND MARKETING RESEARCH\", 0.061215], [18, \"ARCHITECTURAL ENGINEERING\", 0.061931], [158, \"THEOLOGY AND RELIGIOUS VOCATIONS\", 0.062628], [20, \"COMPUTER SCIENCE\", 0.063173], [99, \"AREA ETHNIC AND CIVILIZATION STUDIES\", 0.063429], [169, \"EDUCATIONAL PSYCHOLOGY\", 0.065112], [11, \"AEROSPACE ENGINEERING\", 0.065162], [10, \"COMPUTER ENGINEERING\", 0.065409], [107, \"NATURAL RESOURCES MANAGEMENT\", 0.066619], [80, \"MICROBIOLOGY\", 0.066776], [150, \"FAMILY AND CONSUMER SCIENCES\", 0.067128], [98, \"ADVERTISING AND PUBLIC RELATIONS\", 0.067961], [157, \"HUMANITIES\", 0.068584], [103, \"NUTRITION SCIENCES\", 0.068701], [151, \"SOCIAL WORK\", 0.068828], [101, \"PHYSIOLOGY\", 0.069163], [96, \"JOURNALISM\", 0.069176], [40, \"ACCOUNTING\", 0.069749], [121, \"HEALTH AND MEDICAL PREPARATORY PROGRAMS\", 0.06978], [25, \"CIVIL ENGINEERING\", 0.07061], [123, \"BIOLOGY\", 0.070725], [109, \"MULTI/INTERDISCIPLINARY STUDIES\", 0.070861], [39, \"NUCLEAR, INDUSTRIAL RADIOLOGY, AND BIOLOGICAL TECHNOLOGIES\", 0.07154], [87, \"PRE-LAW AND LEGAL STUDIES\", 0.071965], [62, \"MISCELLANEOUS BUSINESS & MEDICAL ADMINISTRATION\", 0.071983], [76, \"BUSINESS MANAGEMENT AND ADMINISTRATION\", 0.072218], [106, \"TRANSPORTATION SCIENCES AND TECHNOLOGIES\", 0.072725], [57, \"GENERAL BUSINESS\", 0.072861], [68, \"MISCELLANEOUS SOCIAL SCIENCES\", 0.07308], [28, \"MISCELLANEOUS ENGINEERING\", 0.074393], [147, \"PHYSICAL AND HEALTH EDUCATION TEACHING\", 0.074667], [33, \"GEOLOGICAL AND GEOPHYSICAL ENGINEERING\", 0.075038], [93, \"COMMUNICATIONS\", 0.075177], [54, \"COGNITIVE SCIENCE AND BIOPSYCHOLOGY\", 0.075236], [85, \"GEOLOGY AND EARTH SCIENCE\", 0.075449], [115, \"FRENCH GERMAN LATIN AND OTHER COMMON FOREIGN LANGUAGE STUDIES\", 0.075566], [146, \"MUSIC\", 0.07596], [71, \"AGRICULTURAL ECONOMICS\", 0.07725], [166, \"DRAMA AND THEATER ARTS\", 0.077541], [140, \"LIBERAL ARTS\", 0.078268], [92, \"ENVIRONMENTAL SCIENCE\", 0.078585], [82, \"BIOCHEMICAL SCIENCES\", 0.080531], [88, \"MISCELLANEOUS HEALTH MEDICAL PROFESSIONS\", 0.081411], [167, \"COMPOSITION AND RHETORIC\", 0.081742], [134, \"GENERAL MEDICAL AND HEALTH SERVICES\", 0.082102], [94, \"CRIMINAL JUSTICE AND FIRE PROTECTION\", 0.082452], [116, \"INTERCULTURAL AND INTERNATIONAL STUDIES\", 0.083634], [145, \"PSYCHOLOGY\", 0.083811], [149, \"FINE ARTS\", 0.084186], [61, \"MOLECULAR BIOLOGY\", 0.084361], [124, \"SOCIOLOGY\", 0.084951], [48, \"PHARMACOLOGY\", 0.085532], [46, \"STATISTICS AND DECISION SCIENCE\", 0.086274], [15, \"BIOLOGICAL ENGINEERING\", 0.087143], [22, \"ELECTRICAL ENGINEERING TECHNOLOGY\", 0.087557], [137, \"ENGLISH LANGUAGE AND LITERATURE\", 0.087724], [32, \"MISCELLANEOUS FINE ARTS\", 0.089375], [159, \"STUDIO ARTS\", 0.089552], [104, \"HEALTH AND MEDICAL ADMINISTRATIVE SERVICES\", 0.089626], [125, \"MASS MEDIA\", 0.089837], [47, \"APPLIED MATHEMATICS\", 0.090823], [12, \"BIOMEDICAL ENGINEERING\", 0.092084], [131, \"INTERDISCIPLINARY SOCIAL SCIENCES\", 0.092306], [42, \"COMPUTER AND INFORMATION SYSTEMS\", 0.09346], [30, \"ENVIRONMENTAL ENGINEERING\", 0.093589], [6, \"ACTUARIAL SCIENCE\", 0.095652], [114, \"HISTORY\", 0.095667], [135, \"PHILOSOPHY AND RELIGIOUS STUDIES\", 0.096052], [59, \"INTERNATIONAL BUSINESS\", 0.096175], [37, \"BUSINESS ECONOMICS\", 0.096448], [111, \"FORESTRY\", 0.096726], [95, \"COMMERCIAL ART AND GRAPHIC DESIGN\", 0.096798], [56, \"INTERNATIONAL RELATIONS\", 0.096799], [21, \"FOOD SCIENCE\", 0.096931], [102, \"CRIMINOLOGY\", 0.097244], [36, \"ECONOMICS\", 0.099092], [81, \"COMPUTER ADMINISTRATION MANAGEMENT AND SECURITY\", 0.099723], [78, \"POLITICAL SCIENCE AND GOVERNMENT\", 0.101175], [153, \"VISUAL AND PERFORMING ARTS\", 0.102197], [162, \"ANTHROPOLOGY AND ARCHEOLOGY\", 0.102792], [142, \"GENERAL SOCIAL SCIENCES\", 0.103455], [129, \"LINGUISTICS AND COMPARATIVE LANGUAGE AND LITERATURE\", 0.104436], [172, \"LIBRARY SCIENCE\", 0.104946], [141, \"FILM VIDEO AND PHOTOGRAPHIC ARTS\", 0.105772], [165, \"OTHER FOREIGN LANGUAGES\", 0.107116], [55, \"SCHOOL STUDENT COUNSELING\", 0.107579], [70, \"INDUSTRIAL AND ORGANIZATIONAL PSYCHOLOGY\", 0.108787], [118, \"COMMUNITY AND PUBLIC HEALTH\", 0.112144], [58, \"ARCHITECTURE\", 0.113332], [79, \"GEOGRAPHY\", 0.113459], [53, \"COMPUTER PROGRAMMING AND DATA PROCESSING\", 0.113983], [1, \"MINING AND MINERAL ENGINEERING\", 0.117241], [105, \"COMMUNICATION TECHNOLOGIES\", 0.119511], [29, \"PUBLIC POLICY\", 0.128426], [170, \"CLINICAL PSYCHOLOGY\", 0.149048], [84, \"COMPUTER NETWORKING AND TELECOMMUNICATIONS\", 0.15185], [89, \"PUBLIC ADMINISTRATION\", 0.159491], [5, \"NUCLEAR ENGINEERING\", 0.177226]];\n",
       "\n",
       "        // Define the dt_args\n",
       "        let dt_args = {\"layout\": {\"topStart\": \"pageLength\", \"topEnd\": \"search\", \"bottomStart\": \"info\", \"bottomEnd\": \"paging\"}, \"order\": []};\n",
       "        dt_args[\"data\"] = data;\n",
       "\n",
       "        \n",
       "        new DataTable(table, dt_args);\n",
       "    });\n",
       "</script>\n"
      ],
      "text/plain": [
       "<IPython.core.display.HTML object>"
      ]
     },
     "metadata": {},
     "output_type": "display_data"
    }
   ],
   "source": [
    "my_variables = ['Major', 'Unemployment_rate']\n",
    "\n",
    "DF = DF_raw[my_variables]\n",
    "DF_sorted = DF[my_variables].sort_values('Unemployment_rate', ascending=True)\n",
    "show(DF_sorted)\n",
    "#The first line of code gives us the 2 columns we need to do the work. Where it was sorted from the lowest unemployment. "
   ]
  },
  {
   "cell_type": "code",
   "execution_count": 179,
   "id": "8b12bd53-36e0-47b4-9ef5-3cbf6fc065a4",
   "metadata": {},
   "outputs": [
    {
     "data": {
      "text/html": [
       "<table id=\"itables_3fcc61ff_9c02_400d_8664_dc32be98f0b8\" class=\"display nowrap\" data-quarto-disable-processing=\"true\" style=\"table-layout:auto;width:auto;margin:auto;caption-side:bottom\">\n",
       "<thead>\n",
       "    <tr style=\"text-align: right;\">\n",
       "      <th></th>\n",
       "      <th>ShareWomen</th>\n",
       "      <th>Major</th>\n",
       "    </tr>\n",
       "  </thead><tbody><tr>\n",
       "<td style=\"vertical-align:middle; text-align:left\">\n",
       "<div style=\"float:left; margin-right: 10px;\">\n",
       "<a href=https://mwouts.github.io/itables/><svg class=\"main-svg\" xmlns=\"http://www.w3.org/2000/svg\" xmlns:xlink=\"http://www.w3.org/1999/xlink\"\n",
       "width=\"64\" viewBox=\"0 0 500 400\" style=\"font-family: 'Droid Sans', sans-serif;\">\n",
       "    <g style=\"fill:#d9d7fc\">\n",
       "        <path d=\"M100,400H500V357H100Z\" />\n",
       "        <path d=\"M100,300H400V257H100Z\" />\n",
       "        <path d=\"M0,200H400V157H0Z\" />\n",
       "        <path d=\"M100,100H500V57H100Z\" />\n",
       "        <path d=\"M100,350H500V307H100Z\" />\n",
       "        <path d=\"M100,250H400V207H100Z\" />\n",
       "        <path d=\"M0,150H400V107H0Z\" />\n",
       "        <path d=\"M100,50H500V7H100Z\" />\n",
       "    </g>\n",
       "    <g style=\"fill:#1a1366;stroke:#1a1366;\">\n",
       "   <rect x=\"100\" y=\"7\" width=\"400\" height=\"43\">\n",
       "    <animate\n",
       "      attributeName=\"width\"\n",
       "      values=\"0;400;0\"\n",
       "      dur=\"5s\"\n",
       "      repeatCount=\"indefinite\" />\n",
       "      <animate\n",
       "      attributeName=\"x\"\n",
       "      values=\"100;100;500\"\n",
       "      dur=\"5s\"\n",
       "      repeatCount=\"indefinite\" />\n",
       "  </rect>\n",
       "        <rect x=\"0\" y=\"107\" width=\"400\" height=\"43\">\n",
       "    <animate\n",
       "      attributeName=\"width\"\n",
       "      values=\"0;400;0\"\n",
       "      dur=\"3.5s\"\n",
       "      repeatCount=\"indefinite\" />\n",
       "    <animate\n",
       "      attributeName=\"x\"\n",
       "      values=\"0;0;400\"\n",
       "      dur=\"3.5s\"\n",
       "      repeatCount=\"indefinite\" />\n",
       "  </rect>\n",
       "        <rect x=\"100\" y=\"207\" width=\"300\" height=\"43\">\n",
       "    <animate\n",
       "      attributeName=\"width\"\n",
       "      values=\"0;300;0\"\n",
       "      dur=\"3s\"\n",
       "      repeatCount=\"indefinite\" />\n",
       "    <animate\n",
       "      attributeName=\"x\"\n",
       "      values=\"100;100;400\"\n",
       "      dur=\"3s\"\n",
       "      repeatCount=\"indefinite\" />\n",
       "  </rect>\n",
       "        <rect x=\"100\" y=\"307\" width=\"400\" height=\"43\">\n",
       "    <animate\n",
       "      attributeName=\"width\"\n",
       "      values=\"0;400;0\"\n",
       "      dur=\"4s\"\n",
       "      repeatCount=\"indefinite\" />\n",
       "      <animate\n",
       "      attributeName=\"x\"\n",
       "      values=\"100;100;500\"\n",
       "      dur=\"4s\"\n",
       "      repeatCount=\"indefinite\" />\n",
       "  </rect>\n",
       "        <g style=\"fill:transparent;stroke-width:8; stroke-linejoin:round\" rx=\"5\">\n",
       "            <g transform=\"translate(45 50) rotate(-45)\">\n",
       "                <circle r=\"33\" cx=\"0\" cy=\"0\" />\n",
       "                <rect x=\"-8\" y=\"32\" width=\"16\" height=\"30\" />\n",
       "            </g>\n",
       "\n",
       "            <g transform=\"translate(450 152)\">\n",
       "                <polyline points=\"-15,-20 -35,-20 -35,40 25,40 25,20\" />\n",
       "                <rect x=\"-15\" y=\"-40\" width=\"60\" height=\"60\" />\n",
       "            </g>\n",
       "\n",
       "            <g transform=\"translate(50 352)\">\n",
       "                <polygon points=\"-35,-5 0,-40 35,-5\" />\n",
       "                <polygon points=\"-35,10 0,45 35,10\" />\n",
       "            </g>\n",
       "\n",
       "            <g transform=\"translate(75 250)\">\n",
       "                <polyline points=\"-30,30 -60,0 -30,-30\" />\n",
       "                <polyline points=\"0,30 -30,0 0,-30\" />\n",
       "            </g>\n",
       "\n",
       "            <g transform=\"translate(425 250) rotate(180)\">\n",
       "                <polyline points=\"-30,30 -60,0 -30,-30\" />\n",
       "                <polyline points=\"0,30 -30,0 0,-30\" />\n",
       "            </g>\n",
       "        </g>\n",
       "    </g>\n",
       "</svg>\n",
       "</a>\n",
       "</div>\n",
       "<div>\n",
       "Loading ITables v2.1.4 from the internet...\n",
       "(need <a href=https://mwouts.github.io/itables/troubleshooting.html>help</a>?)</td>\n",
       "</div>\n",
       "</tr></tbody>\n",
       "\n",
       "</table>\n",
       "<link href=\"https://www.unpkg.com/dt_for_itables@2.0.11/dt_bundle.css\" rel=\"stylesheet\">\n",
       "<script type=\"module\">\n",
       "    import {DataTable, jQuery as $} from 'https://www.unpkg.com/dt_for_itables@2.0.11/dt_bundle.js';\n",
       "\n",
       "    document.querySelectorAll(\"#itables_3fcc61ff_9c02_400d_8664_dc32be98f0b8:not(.dataTable)\").forEach(table => {\n",
       "        // Define the table data\n",
       "        const data = [[164, 0.968954, \"EARLY CHILDHOOD EDUCATION\"], [163, 0.967998, \"COMMUNICATION DISORDERS SCIENCES AND SERVICES\"], [51, 0.927807, \"MEDICAL ASSISTING SERVICES\"], [138, 0.923745, \"ELEMENTARY EDUCATION\"], [150, 0.910933, \"FAMILY AND CONSUMER SCIENCES\"], [100, 0.906677, \"SPECIAL NEEDS EDUCATION\"], [156, 0.90559, \"HUMAN SERVICES AND COMMUNITY ORGANIZATION\"], [151, 0.904075, \"SOCIAL WORK\"], [34, 0.896019, \"NURSING\"], [88, 0.881294, \"MISCELLANEOUS HEALTH MEDICAL PROFESSIONS\"], [172, 0.87796, \"LIBRARY SCIENCE\"], [128, 0.877228, \"LANGUAGE AND DRAMA EDUCATION\"], [103, 0.864456, \"NUTRITION SCIENCES\"], [55, 0.854523, \"SCHOOL STUDENT COUNSELING\"], [148, 0.845934, \"ART HISTORY AND CRITICISM\"], [169, 0.817099, \"EDUCATIONAL PSYCHOLOGY\"], [113, 0.812877, \"GENERAL EDUCATION\"], [154, 0.810704, \"TEACHER EDUCATION: MULTIPLE LEVELS\"], [170, 0.799859, \"CLINICAL PSYCHOLOGY\"], [155, 0.79892, \"MISCELLANEOUS PSYCHOLOGY\"], [171, 0.798746, \"COUNSELING PSYCHOLOGY\"], [118, 0.792095, \"COMMUNITY AND PUBLIC HEALTH\"], [145, 0.779933, \"PSYCHOLOGY\"], [134, 0.774577, \"GENERAL MEDICAL AND HEALTH SERVICES\"], [109, 0.770901, \"MULTI/INTERDISCIPLINARY STUDIES\"], [104, 0.764427, \"HEALTH AND MEDICAL ADMINISTRATIVE SERVICES\"], [131, 0.76432, \"INTERDISCIPLINARY SOCIAL SCIENCES\"], [98, 0.75806, \"ADVERTISING AND PUBLIC RELATIONS\"], [44, 0.753927, \"MEDICAL TECHNOLOGIES TECHNICIANS\"], [152, 0.752144, \"ANIMAL SCIENCES\"], [39, 0.750473, \"NUCLEAR, INDUSTRIAL RADIOLOGY, AND BIOLOGICAL TECHNOLOGIES\"], [86, 0.747561, \"HUMAN RESOURCES AND PERSONNEL MANAGEMENT\"], [153, 0.745662, \"VISUAL AND PERFORMING ARTS\"], [129, 0.733992, \"LINGUISTICS AND COMPARATIVE LANGUAGE AND LITERATURE\"], [115, 0.733968, \"FRENCH GERMAN LATIN AND OTHER COMMON FOREIGN LANGUAGE STUDIES\"], [161, 0.728495, \"MISCELLANEOUS AGRICULTURE\"], [119, 0.728033, \"MATHEMATICS TEACHER EDUCATION\"], [126, 0.721866, \"TREATMENT THERAPY PROFESSIONS\"], [159, 0.719974, \"STUDIO ARTS\"], [99, 0.719859, \"AREA ETHNIC AND CIVILIZATION STUDIES\"], [124, 0.718365, \"SOCIOLOGY\"], [48, 0.707719, \"PHARMACOLOGY\"], [162, 0.707136, \"ANTHROPOLOGY AND ARCHEOLOGY\"], [91, 0.70202, \"SOCIAL PSYCHOLOGY\"], [137, 0.700898, \"ENGLISH LANGUAGE AND LITERATURE\"], [157, 0.697384, \"HUMANITIES\"], [95, 0.690365, \"COMMERCIAL ART AND GRAPHIC DESIGN\"], [165, 0.690111, \"OTHER FOREIGN LANGUAGES\"], [49, 0.688999, \"OCEANOGRAPHY\"], [140, 0.686993, \"LIBERAL ARTS\"], [136, 0.686024, \"ART AND MUSIC EDUCATION\"], [144, 0.683943, \"SCIENCE AND COMPUTER TEACHER EDUCATION\"], [96, 0.673143, \"JOURNALISM\"], [87, 0.672161, \"PRE-LAW AND LEGAL STUDIES\"], [93, 0.669999, \"COMMUNICATIONS\"], [149, 0.667034, \"FINE ARTS\"], [166, 0.666119, \"DRAMA AND THEATER ARTS\"], [116, 0.65213, \"INTERCULTURAL AND INTERNATIONAL STUDIES\"], [120, 0.651741, \"EDUCATIONAL ADMINISTRATION AND SUPERVISION\"], [127, 0.65166, \"HOSPITALITY MANAGEMENT\"], [70, 0.643331, \"INDUSTRIAL AND ORGANIZATIONAL PSYCHOLOGY\"], [130, 0.64, \"MISCELLANEOUS EDUCATION\"], [108, 0.638147, \"NEUROSCIENCE\"], [168, 0.637293, \"ZOOLOGY\"], [56, 0.632987, \"INTERNATIONAL RELATIONS\"], [60, 0.630716, \"PHARMACY PHARMACEUTICAL SCIENCES AND ADMINISTRATION\"], [167, 0.629505, \"COMPOSITION AND RHETORIC\"], [101, 0.618223, \"PHYSIOLOGY\"], [77, 0.615727, \"MARKETING AND MARKETING RESEARCH\"], [142, 0.606889, \"GENERAL SOCIAL SCIENCES\"], [123, 0.601858, \"BIOLOGY\"], [133, 0.601752, \"SECONDARY TEACHER EDUCATION\"], [61, 0.594208, \"MOLECULAR BIOLOGY\"], [90, 0.591001, \"GEOSCIENCES\"], [59, 0.589712, \"INTERNATIONAL BUSINESS\"], [160, 0.584776, \"COSMETOLOGY SERVICES AND CULINARY ARTS\"], [92, 0.584556, \"ENVIRONMENTAL SCIENCE\"], [80, 0.580948, \"MICROBIOLOGY\"], [132, 0.57636, \"ECOLOGY\"], [121, 0.566641, \"HEALTH AND MEDICAL PREPARATORY PROGRAMS\"], [54, 0.564866, \"COGNITIVE SCIENCE AND BIOPSYCHOLOGY\"], [97, 0.564639, \"MULTI-DISCIPLINARY OR GENERAL SCIENCE\"], [29, 0.558548, \"PUBLIC POLICY\"], [122, 0.556604, \"MISCELLANEOUS BIOLOGY\"], [68, 0.543405, \"MISCELLANEOUS SOCIAL SCIENCES\"], [7, 0.535714, \"ASTRONOMY AND ASTROPHYSICS\"], [125, 0.532334, \"MASS MEDIA\"], [83, 0.528969, \"BOTANY\"], [46, 0.526476, \"STATISTICS AND DECISION SCIENCE\"], [40, 0.524153, \"ACCOUNTING\"], [67, 0.515543, \"GENETICS\"], [82, 0.515406, \"BIOCHEMICAL SCIENCES\"], [117, 0.507377, \"SOCIAL SCIENCE OR HISTORY TEACHER EDUCATION\"], [146, 0.506721, \"MUSIC\"], [74, 0.505141, \"CHEMISTRY\"], [139, 0.502846, \"PHYSICAL FITNESS PARKS RECREATION AND LEISURE\"], [102, 0.495397, \"CRIMINOLOGY\"], [78, 0.48593, \"POLITICAL SCIENCE AND GOVERNMENT\"], [89, 0.476461, \"PUBLIC ADMINISTRATION\"], [94, 0.47501, \"CRIMINAL JUSTICE AND FIRE PROTECTION\"], [76, 0.47319, \"BUSINESS MANAGEMENT AND ADMINISTRATION\"], [85, 0.470197, \"GEOLOGY AND EARTH SCIENCE\"], [58, 0.451465, \"ARCHITECTURE\"], [114, 0.448732, \"HISTORY\"], [41, 0.448099, \"MATHEMATICS\"], [147, 0.444582, \"PHYSICAL AND HEALTH EDUCATION TEACHING\"], [6, 0.441356, \"ACTUARIAL SCIENCE\"], [12, 0.437847, \"BIOMEDICAL ENGINEERING\"], [57, 0.436302, \"GENERAL BUSINESS\"], [47, 0.434298, \"APPLIED MATHEMATICS\"], [37, 0.430537, \"BUSINESS ECONOMICS\"], [69, 0.429685, \"UNITED STATES HISTORY\"], [62, 0.426924, \"MISCELLANEOUS BUSINESS & MEDICAL ADMINISTRATION\"], [141, 0.423209, \"FILM VIDEO AND PHOTOGRAPHIC ARTS\"], [64, 0.417925, \"GENERAL AGRICULTURE\"], [135, 0.41681, \"PHILOSOPHY AND RELIGIOUS STUDIES\"], [32, 0.41018, \"MISCELLANEOUS FINE ARTS\"], [158, 0.383719, \"THEOLOGY AND RELIGIOUS VOCATIONS\"], [79, 0.3829, \"GEOGRAPHY\"], [72, 0.377437, \"PHYSICAL SCIENCES\"], [107, 0.374356, \"NATURAL RESOURCES MANAGEMENT\"], [105, 0.366177, \"COMMUNICATION TECHNOLOGIES\"], [36, 0.355469, \"ECONOMICS\"], [18, 0.350442, \"ARCHITECTURAL ENGINEERING\"], [16, 0.343473, \"INDUSTRIAL AND MANUFACTURING ENGINEERING\"], [30, 0.342229, \"ENVIRONMENTAL ENGINEERING\"], [4, 0.341631, \"CHEMICAL ENGINEERING\"], [35, 0.340825, \"FINANCE\"], [143, 0.339671, \"PLANT SCIENCE AND AGRONOMY\"], [23, 0.325092, \"MATERIALS ENGINEERING AND MATERIALS SCIENCE\"], [27, 0.324838, \"OPERATIONS LOGISTICS AND E-COMMERCE\"], [33, 0.322222, \"GEOLOGICAL AND GEOPHYSICAL ENGINEERING\"], [63, 0.32177, \"AGRICULTURE PRODUCTION AND MANAGEMENT\"], [110, 0.321296, \"ATMOSPHERIC SCIENCES AND METEOROLOGY\"], [15, 0.320784, \"BIOLOGICAL ENGINEERING\"], [13, 0.31082, \"MATERIALS SCIENCE\"], [112, 0.305109, \"SOIL SCIENCE\"], [84, 0.305005, \"COMPUTER NETWORKING AND TELECOMMUNICATIONS\"], [22, 0.292607, \"ELECTRICAL ENGINEERING TECHNOLOGY\"], [71, 0.282903, \"AGRICULTURAL ECONOMICS\"], [43, 0.281936, \"PHYSICS\"], [24, 0.27879, \"MANAGEMENT INFORMATION SYSTEMS AND STATISTICS\"], [53, 0.269194, \"COMPUTER PROGRAMMING AND DATA PROCESSING\"], [42, 0.253583, \"COMPUTER AND INFORMATION SYSTEMS\"], [17, 0.25296, \"GENERAL ENGINEERING\"], [31, 0.251389, \"ENGINEERING TECHNOLOGIES\"], [38, 0.24919, \"INDUSTRIAL PRODUCTION TECHNOLOGIES\"], [45, 0.244103, \"INFORMATION SCIENCES\"], [19, 0.236063, \"COURT REPORTING\"], [75, 0.232444, \"ELECTRICAL, MECHANICAL, AND PRECISION TECHNOLOGIES AND PRODUCTION\"], [25, 0.227118, \"CIVIL ENGINEERING\"], [20, 0.222695, \"COMPUTER SCIENCE\"], [65, 0.200023, \"MISCELLANEOUS ENGINEERING TECHNOLOGIES\"], [10, 0.199413, \"COMPUTER ENGINEERING\"], [9, 0.19645, \"ELECTRICAL ENGINEERING\"], [28, 0.18997, \"MISCELLANEOUS ENGINEERING\"], [14, 0.183985, \"ENGINEERING MECHANICS PHYSICS AND SCIENCE\"], [81, 0.180883, \"COMPUTER ADMINISTRATION MANAGEMENT AND SECURITY\"], [52, 0.178982, \"MATHEMATICS AND COMPUTER SCIENCE\"], [50, 0.174123, \"ENGINEERING AND INDUSTRIAL MANAGEMENT\"], [2, 0.153037, \"METALLURGICAL ENGINEERING\"], [5, 0.144967, \"NUCLEAR ENGINEERING\"], [11, 0.139793, \"AEROSPACE ENGINEERING\"], [111, 0.125035, \"FORESTRY\"], [106, 0.12495, \"TRANSPORTATION SCIENCES AND TECHNOLOGIES\"], [0, 0.120564, \"PETROLEUM ENGINEERING\"], [8, 0.119559, \"MECHANICAL ENGINEERING\"], [3, 0.107313, \"NAVAL ARCHITECTURE AND MARINE ENGINEERING\"], [1, 0.101852, \"MINING AND MINERAL ENGINEERING\"], [26, 0.090713, \"CONSTRUCTION SERVICES\"], [66, 0.077453, \"MECHANICAL ENGINEERING RELATED TECHNOLOGIES\"], [73, 0.0, \"MILITARY TECHNOLOGIES\"], [21, NaN, \"FOOD SCIENCE\"]];\n",
       "\n",
       "        // Define the dt_args\n",
       "        let dt_args = {\"layout\": {\"topStart\": \"pageLength\", \"topEnd\": \"search\", \"bottomStart\": \"info\", \"bottomEnd\": \"paging\"}, \"order\": []};\n",
       "        dt_args[\"data\"] = data;\n",
       "\n",
       "        \n",
       "        new DataTable(table, dt_args);\n",
       "    });\n",
       "</script>\n"
      ],
      "text/plain": [
       "<IPython.core.display.HTML object>"
      ]
     },
     "metadata": {},
     "output_type": "display_data"
    }
   ],
   "source": [
    "my_variables = ['ShareWomen', 'Major']\n",
    "\n",
    "DF = DF_raw[my_variables]\n",
    "DF_sorted = DF[my_variables].sort_values('ShareWomen', ascending=False)\n",
    "show(DF_sorted)\n",
    "#I chose the two columns and did the same process as the previous one with ascending of false to get the highest percentage of women."
   ]
  },
  {
   "cell_type": "code",
   "execution_count": 221,
   "id": "a595e3c3-8b12-4917-905a-486a305b6baa",
   "metadata": {},
   "outputs": [
    {
     "data": {
      "text/html": [
       "<table id=\"itables_9941ea57_ed75_4e15_b15f_a8d9b6fc386b\" class=\"display nowrap\" data-quarto-disable-processing=\"true\" style=\"table-layout:auto;width:auto;margin:auto;caption-side:bottom\">\n",
       "<thead>\n",
       "    <tr style=\"text-align: right;\">\n",
       "      <th></th>\n",
       "      <th>count</th>\n",
       "      <th>mean</th>\n",
       "      <th>std</th>\n",
       "      <th>min</th>\n",
       "      <th>25%</th>\n",
       "      <th>50%</th>\n",
       "      <th>75%</th>\n",
       "      <th>max</th>\n",
       "    </tr>\n",
       "    <tr>\n",
       "      <th>Major</th>\n",
       "      <th></th>\n",
       "      <th></th>\n",
       "      <th></th>\n",
       "      <th></th>\n",
       "      <th></th>\n",
       "      <th></th>\n",
       "      <th></th>\n",
       "      <th></th>\n",
       "    </tr>\n",
       "  </thead><tbody><tr>\n",
       "<td style=\"vertical-align:middle; text-align:left\">\n",
       "<div style=\"float:left; margin-right: 10px;\">\n",
       "<a href=https://mwouts.github.io/itables/><svg class=\"main-svg\" xmlns=\"http://www.w3.org/2000/svg\" xmlns:xlink=\"http://www.w3.org/1999/xlink\"\n",
       "width=\"64\" viewBox=\"0 0 500 400\" style=\"font-family: 'Droid Sans', sans-serif;\">\n",
       "    <g style=\"fill:#d9d7fc\">\n",
       "        <path d=\"M100,400H500V357H100Z\" />\n",
       "        <path d=\"M100,300H400V257H100Z\" />\n",
       "        <path d=\"M0,200H400V157H0Z\" />\n",
       "        <path d=\"M100,100H500V57H100Z\" />\n",
       "        <path d=\"M100,350H500V307H100Z\" />\n",
       "        <path d=\"M100,250H400V207H100Z\" />\n",
       "        <path d=\"M0,150H400V107H0Z\" />\n",
       "        <path d=\"M100,50H500V7H100Z\" />\n",
       "    </g>\n",
       "    <g style=\"fill:#1a1366;stroke:#1a1366;\">\n",
       "   <rect x=\"100\" y=\"7\" width=\"400\" height=\"43\">\n",
       "    <animate\n",
       "      attributeName=\"width\"\n",
       "      values=\"0;400;0\"\n",
       "      dur=\"5s\"\n",
       "      repeatCount=\"indefinite\" />\n",
       "      <animate\n",
       "      attributeName=\"x\"\n",
       "      values=\"100;100;500\"\n",
       "      dur=\"5s\"\n",
       "      repeatCount=\"indefinite\" />\n",
       "  </rect>\n",
       "        <rect x=\"0\" y=\"107\" width=\"400\" height=\"43\">\n",
       "    <animate\n",
       "      attributeName=\"width\"\n",
       "      values=\"0;400;0\"\n",
       "      dur=\"3.5s\"\n",
       "      repeatCount=\"indefinite\" />\n",
       "    <animate\n",
       "      attributeName=\"x\"\n",
       "      values=\"0;0;400\"\n",
       "      dur=\"3.5s\"\n",
       "      repeatCount=\"indefinite\" />\n",
       "  </rect>\n",
       "        <rect x=\"100\" y=\"207\" width=\"300\" height=\"43\">\n",
       "    <animate\n",
       "      attributeName=\"width\"\n",
       "      values=\"0;300;0\"\n",
       "      dur=\"3s\"\n",
       "      repeatCount=\"indefinite\" />\n",
       "    <animate\n",
       "      attributeName=\"x\"\n",
       "      values=\"100;100;400\"\n",
       "      dur=\"3s\"\n",
       "      repeatCount=\"indefinite\" />\n",
       "  </rect>\n",
       "        <rect x=\"100\" y=\"307\" width=\"400\" height=\"43\">\n",
       "    <animate\n",
       "      attributeName=\"width\"\n",
       "      values=\"0;400;0\"\n",
       "      dur=\"4s\"\n",
       "      repeatCount=\"indefinite\" />\n",
       "      <animate\n",
       "      attributeName=\"x\"\n",
       "      values=\"100;100;500\"\n",
       "      dur=\"4s\"\n",
       "      repeatCount=\"indefinite\" />\n",
       "  </rect>\n",
       "        <g style=\"fill:transparent;stroke-width:8; stroke-linejoin:round\" rx=\"5\">\n",
       "            <g transform=\"translate(45 50) rotate(-45)\">\n",
       "                <circle r=\"33\" cx=\"0\" cy=\"0\" />\n",
       "                <rect x=\"-8\" y=\"32\" width=\"16\" height=\"30\" />\n",
       "            </g>\n",
       "\n",
       "            <g transform=\"translate(450 152)\">\n",
       "                <polyline points=\"-15,-20 -35,-20 -35,40 25,40 25,20\" />\n",
       "                <rect x=\"-15\" y=\"-40\" width=\"60\" height=\"60\" />\n",
       "            </g>\n",
       "\n",
       "            <g transform=\"translate(50 352)\">\n",
       "                <polygon points=\"-35,-5 0,-40 35,-5\" />\n",
       "                <polygon points=\"-35,10 0,45 35,10\" />\n",
       "            </g>\n",
       "\n",
       "            <g transform=\"translate(75 250)\">\n",
       "                <polyline points=\"-30,30 -60,0 -30,-30\" />\n",
       "                <polyline points=\"0,30 -30,0 0,-30\" />\n",
       "            </g>\n",
       "\n",
       "            <g transform=\"translate(425 250) rotate(180)\">\n",
       "                <polyline points=\"-30,30 -60,0 -30,-30\" />\n",
       "                <polyline points=\"0,30 -30,0 0,-30\" />\n",
       "            </g>\n",
       "        </g>\n",
       "    </g>\n",
       "</svg>\n",
       "</a>\n",
       "</div>\n",
       "<div>\n",
       "Loading ITables v2.1.4 from the internet...\n",
       "(need <a href=https://mwouts.github.io/itables/troubleshooting.html>help</a>?)</td>\n",
       "</div>\n",
       "</tr></tbody>\n",
       "\n",
       "</table>\n",
       "<link href=\"https://www.unpkg.com/dt_for_itables@2.0.11/dt_bundle.css\" rel=\"stylesheet\">\n",
       "<script type=\"module\">\n",
       "    import {DataTable, jQuery as $} from 'https://www.unpkg.com/dt_for_itables@2.0.11/dt_bundle.js';\n",
       "\n",
       "    document.querySelectorAll(\"#itables_9941ea57_ed75_4e15_b15f_a8d9b6fc386b:not(.dataTable)\").forEach(table => {\n",
       "        // Define the table data\n",
       "        const data = [[\"ACCOUNTING\", 1.0, 45000.0, NaN, 45000.0, 45000.0, 45000.0, 45000.0, 45000.0], [\"ACTUARIAL SCIENCE\", 1.0, 62000.0, NaN, 62000.0, 62000.0, 62000.0, 62000.0, 62000.0], [\"ADVERTISING AND PUBLIC RELATIONS\", 1.0, 35000.0, NaN, 35000.0, 35000.0, 35000.0, 35000.0, 35000.0], [\"AEROSPACE ENGINEERING\", 1.0, 60000.0, NaN, 60000.0, 60000.0, 60000.0, 60000.0, 60000.0], [\"AGRICULTURAL ECONOMICS\", 1.0, 40000.0, NaN, 40000.0, 40000.0, 40000.0, 40000.0, 40000.0], [\"AGRICULTURE PRODUCTION AND MANAGEMENT\", 1.0, 40000.0, NaN, 40000.0, 40000.0, 40000.0, 40000.0, 40000.0], [\"ANIMAL SCIENCES\", 1.0, 30000.0, NaN, 30000.0, 30000.0, 30000.0, 30000.0, 30000.0], [\"ANTHROPOLOGY AND ARCHEOLOGY\", 1.0, 28000.0, NaN, 28000.0, 28000.0, 28000.0, 28000.0, 28000.0], [\"APPLIED MATHEMATICS\", 1.0, 45000.0, NaN, 45000.0, 45000.0, 45000.0, 45000.0, 45000.0], [\"ARCHITECTURAL ENGINEERING\", 1.0, 54000.0, NaN, 54000.0, 54000.0, 54000.0, 54000.0, 54000.0], [\"ARCHITECTURE\", 1.0, 40000.0, NaN, 40000.0, 40000.0, 40000.0, 40000.0, 40000.0], [\"AREA ETHNIC AND CIVILIZATION STUDIES\", 1.0, 35000.0, NaN, 35000.0, 35000.0, 35000.0, 35000.0, 35000.0], [\"ART AND MUSIC EDUCATION\", 1.0, 32100.0, NaN, 32100.0, 32100.0, 32100.0, 32100.0, 32100.0], [\"ART HISTORY AND CRITICISM\", 1.0, 31000.0, NaN, 31000.0, 31000.0, 31000.0, 31000.0, 31000.0], [\"ASTRONOMY AND ASTROPHYSICS\", 1.0, 62000.0, NaN, 62000.0, 62000.0, 62000.0, 62000.0, 62000.0], [\"ATMOSPHERIC SCIENCES AND METEOROLOGY\", 1.0, 35000.0, NaN, 35000.0, 35000.0, 35000.0, 35000.0, 35000.0], [\"BIOCHEMICAL SCIENCES\", 1.0, 37400.0, NaN, 37400.0, 37400.0, 37400.0, 37400.0, 37400.0], [\"BIOLOGICAL ENGINEERING\", 1.0, 57100.0, NaN, 57100.0, 57100.0, 57100.0, 57100.0, 57100.0], [\"BIOLOGY\", 1.0, 33400.0, NaN, 33400.0, 33400.0, 33400.0, 33400.0, 33400.0], [\"BIOMEDICAL ENGINEERING\", 1.0, 60000.0, NaN, 60000.0, 60000.0, 60000.0, 60000.0, 60000.0], [\"BOTANY\", 1.0, 37000.0, NaN, 37000.0, 37000.0, 37000.0, 37000.0, 37000.0], [\"BUSINESS ECONOMICS\", 1.0, 46000.0, NaN, 46000.0, 46000.0, 46000.0, 46000.0, 46000.0], [\"BUSINESS MANAGEMENT AND ADMINISTRATION\", 1.0, 38000.0, NaN, 38000.0, 38000.0, 38000.0, 38000.0, 38000.0], [\"CHEMICAL ENGINEERING\", 1.0, 65000.0, NaN, 65000.0, 65000.0, 65000.0, 65000.0, 65000.0], [\"CHEMISTRY\", 1.0, 39000.0, NaN, 39000.0, 39000.0, 39000.0, 39000.0, 39000.0], [\"CIVIL ENGINEERING\", 1.0, 50000.0, NaN, 50000.0, 50000.0, 50000.0, 50000.0, 50000.0], [\"CLINICAL PSYCHOLOGY\", 1.0, 25000.0, NaN, 25000.0, 25000.0, 25000.0, 25000.0, 25000.0], [\"COGNITIVE SCIENCE AND BIOPSYCHOLOGY\", 1.0, 41000.0, NaN, 41000.0, 41000.0, 41000.0, 41000.0, 41000.0], [\"COMMERCIAL ART AND GRAPHIC DESIGN\", 1.0, 35000.0, NaN, 35000.0, 35000.0, 35000.0, 35000.0, 35000.0], [\"COMMUNICATION DISORDERS SCIENCES AND SERVICES\", 1.0, 28000.0, NaN, 28000.0, 28000.0, 28000.0, 28000.0, 28000.0], [\"COMMUNICATION TECHNOLOGIES\", 1.0, 35000.0, NaN, 35000.0, 35000.0, 35000.0, 35000.0, 35000.0], [\"COMMUNICATIONS\", 1.0, 35000.0, NaN, 35000.0, 35000.0, 35000.0, 35000.0, 35000.0], [\"COMMUNITY AND PUBLIC HEALTH\", 1.0, 34000.0, NaN, 34000.0, 34000.0, 34000.0, 34000.0, 34000.0], [\"COMPOSITION AND RHETORIC\", 1.0, 27000.0, NaN, 27000.0, 27000.0, 27000.0, 27000.0, 27000.0], [\"COMPUTER ADMINISTRATION MANAGEMENT AND SECURITY\", 1.0, 37500.0, NaN, 37500.0, 37500.0, 37500.0, 37500.0, 37500.0], [\"COMPUTER AND INFORMATION SYSTEMS\", 1.0, 45000.0, NaN, 45000.0, 45000.0, 45000.0, 45000.0, 45000.0], [\"COMPUTER ENGINEERING\", 1.0, 60000.0, NaN, 60000.0, 60000.0, 60000.0, 60000.0, 60000.0], [\"COMPUTER NETWORKING AND TELECOMMUNICATIONS\", 1.0, 36400.0, NaN, 36400.0, 36400.0, 36400.0, 36400.0, 36400.0], [\"COMPUTER PROGRAMMING AND DATA PROCESSING\", 1.0, 41300.0, NaN, 41300.0, 41300.0, 41300.0, 41300.0, 41300.0], [\"COMPUTER SCIENCE\", 1.0, 53000.0, NaN, 53000.0, 53000.0, 53000.0, 53000.0, 53000.0], [\"CONSTRUCTION SERVICES\", 1.0, 50000.0, NaN, 50000.0, 50000.0, 50000.0, 50000.0, 50000.0], [\"COSMETOLOGY SERVICES AND CULINARY ARTS\", 1.0, 29000.0, NaN, 29000.0, 29000.0, 29000.0, 29000.0, 29000.0], [\"COUNSELING PSYCHOLOGY\", 1.0, 23400.0, NaN, 23400.0, 23400.0, 23400.0, 23400.0, 23400.0], [\"COURT REPORTING\", 1.0, 54000.0, NaN, 54000.0, 54000.0, 54000.0, 54000.0, 54000.0], [\"CRIMINAL JUSTICE AND FIRE PROTECTION\", 1.0, 35000.0, NaN, 35000.0, 35000.0, 35000.0, 35000.0, 35000.0], [\"CRIMINOLOGY\", 1.0, 35000.0, NaN, 35000.0, 35000.0, 35000.0, 35000.0, 35000.0], [\"DRAMA AND THEATER ARTS\", 1.0, 27000.0, NaN, 27000.0, 27000.0, 27000.0, 27000.0, 27000.0], [\"EARLY CHILDHOOD EDUCATION\", 1.0, 28000.0, NaN, 28000.0, 28000.0, 28000.0, 28000.0, 28000.0], [\"ECOLOGY\", 1.0, 33000.0, NaN, 33000.0, 33000.0, 33000.0, 33000.0, 33000.0], [\"ECONOMICS\", 1.0, 47000.0, NaN, 47000.0, 47000.0, 47000.0, 47000.0, 47000.0], [\"EDUCATIONAL ADMINISTRATION AND SUPERVISION\", 1.0, 34000.0, NaN, 34000.0, 34000.0, 34000.0, 34000.0, 34000.0], [\"EDUCATIONAL PSYCHOLOGY\", 1.0, 25000.0, NaN, 25000.0, 25000.0, 25000.0, 25000.0, 25000.0], [\"ELECTRICAL ENGINEERING\", 1.0, 60000.0, NaN, 60000.0, 60000.0, 60000.0, 60000.0, 60000.0], [\"ELECTRICAL ENGINEERING TECHNOLOGY\", 1.0, 52000.0, NaN, 52000.0, 52000.0, 52000.0, 52000.0, 52000.0], [\"ELECTRICAL, MECHANICAL, AND PRECISION TECHNOLOGIES AND PRODUCTION\", 1.0, 38400.0, NaN, 38400.0, 38400.0, 38400.0, 38400.0, 38400.0], [\"ELEMENTARY EDUCATION\", 1.0, 32000.0, NaN, 32000.0, 32000.0, 32000.0, 32000.0, 32000.0], [\"ENGINEERING AND INDUSTRIAL MANAGEMENT\", 1.0, 44000.0, NaN, 44000.0, 44000.0, 44000.0, 44000.0, 44000.0], [\"ENGINEERING MECHANICS PHYSICS AND SCIENCE\", 1.0, 58000.0, NaN, 58000.0, 58000.0, 58000.0, 58000.0, 58000.0], [\"ENGINEERING TECHNOLOGIES\", 1.0, 50000.0, NaN, 50000.0, 50000.0, 50000.0, 50000.0, 50000.0], [\"ENGLISH LANGUAGE AND LITERATURE\", 1.0, 32000.0, NaN, 32000.0, 32000.0, 32000.0, 32000.0, 32000.0], [\"ENVIRONMENTAL ENGINEERING\", 1.0, 50000.0, NaN, 50000.0, 50000.0, 50000.0, 50000.0, 50000.0], [\"ENVIRONMENTAL SCIENCE\", 1.0, 35600.0, NaN, 35600.0, 35600.0, 35600.0, 35600.0, 35600.0], [\"FAMILY AND CONSUMER SCIENCES\", 1.0, 30000.0, NaN, 30000.0, 30000.0, 30000.0, 30000.0, 30000.0], [\"FILM VIDEO AND PHOTOGRAPHIC ARTS\", 1.0, 32000.0, NaN, 32000.0, 32000.0, 32000.0, 32000.0, 32000.0], [\"FINANCE\", 1.0, 47000.0, NaN, 47000.0, 47000.0, 47000.0, 47000.0, 47000.0], [\"FINE ARTS\", 1.0, 30500.0, NaN, 30500.0, 30500.0, 30500.0, 30500.0, 30500.0], [\"FOOD SCIENCE\", 1.0, 53000.0, NaN, 53000.0, 53000.0, 53000.0, 53000.0, 53000.0], [\"FORESTRY\", 1.0, 35000.0, NaN, 35000.0, 35000.0, 35000.0, 35000.0, 35000.0], [\"FRENCH GERMAN LATIN AND OTHER COMMON FOREIGN LANGUAGE STUDIES\", 1.0, 34000.0, NaN, 34000.0, 34000.0, 34000.0, 34000.0, 34000.0], [\"GENERAL AGRICULTURE\", 1.0, 40000.0, NaN, 40000.0, 40000.0, 40000.0, 40000.0, 40000.0], [\"GENERAL BUSINESS\", 1.0, 40000.0, NaN, 40000.0, 40000.0, 40000.0, 40000.0, 40000.0], [\"GENERAL EDUCATION\", 1.0, 34000.0, NaN, 34000.0, 34000.0, 34000.0, 34000.0, 34000.0], [\"GENERAL ENGINEERING\", 1.0, 56000.0, NaN, 56000.0, 56000.0, 56000.0, 56000.0, 56000.0], [\"GENERAL MEDICAL AND HEALTH SERVICES\", 1.0, 32400.0, NaN, 32400.0, 32400.0, 32400.0, 32400.0, 32400.0], [\"GENERAL SOCIAL SCIENCES\", 1.0, 32000.0, NaN, 32000.0, 32000.0, 32000.0, 32000.0, 32000.0], [\"GENETICS\", 1.0, 40000.0, NaN, 40000.0, 40000.0, 40000.0, 40000.0, 40000.0], [\"GEOGRAPHY\", 1.0, 38000.0, NaN, 38000.0, 38000.0, 38000.0, 38000.0, 38000.0], [\"GEOLOGICAL AND GEOPHYSICAL ENGINEERING\", 1.0, 50000.0, NaN, 50000.0, 50000.0, 50000.0, 50000.0, 50000.0], [\"GEOLOGY AND EARTH SCIENCE\", 1.0, 36200.0, NaN, 36200.0, 36200.0, 36200.0, 36200.0, 36200.0], [\"GEOSCIENCES\", 1.0, 36000.0, NaN, 36000.0, 36000.0, 36000.0, 36000.0, 36000.0], [\"HEALTH AND MEDICAL ADMINISTRATIVE SERVICES\", 1.0, 35000.0, NaN, 35000.0, 35000.0, 35000.0, 35000.0, 35000.0], [\"HEALTH AND MEDICAL PREPARATORY PROGRAMS\", 1.0, 33500.0, NaN, 33500.0, 33500.0, 33500.0, 33500.0, 33500.0], [\"HISTORY\", 1.0, 34000.0, NaN, 34000.0, 34000.0, 34000.0, 34000.0, 34000.0], [\"HOSPITALITY MANAGEMENT\", 1.0, 33000.0, NaN, 33000.0, 33000.0, 33000.0, 33000.0, 33000.0], [\"HUMAN RESOURCES AND PERSONNEL MANAGEMENT\", 1.0, 36000.0, NaN, 36000.0, 36000.0, 36000.0, 36000.0, 36000.0], [\"HUMAN SERVICES AND COMMUNITY ORGANIZATION\", 1.0, 30000.0, NaN, 30000.0, 30000.0, 30000.0, 30000.0, 30000.0], [\"HUMANITIES\", 1.0, 30000.0, NaN, 30000.0, 30000.0, 30000.0, 30000.0, 30000.0], [\"INDUSTRIAL AND MANUFACTURING ENGINEERING\", 1.0, 57000.0, NaN, 57000.0, 57000.0, 57000.0, 57000.0, 57000.0], [\"INDUSTRIAL AND ORGANIZATIONAL PSYCHOLOGY\", 1.0, 40000.0, NaN, 40000.0, 40000.0, 40000.0, 40000.0, 40000.0], [\"INDUSTRIAL PRODUCTION TECHNOLOGIES\", 1.0, 46000.0, NaN, 46000.0, 46000.0, 46000.0, 46000.0, 46000.0], [\"INFORMATION SCIENCES\", 1.0, 45000.0, NaN, 45000.0, 45000.0, 45000.0, 45000.0, 45000.0], [\"INTERCULTURAL AND INTERNATIONAL STUDIES\", 1.0, 34000.0, NaN, 34000.0, 34000.0, 34000.0, 34000.0, 34000.0], [\"INTERDISCIPLINARY SOCIAL SCIENCES\", 1.0, 33000.0, NaN, 33000.0, 33000.0, 33000.0, 33000.0, 33000.0], [\"INTERNATIONAL BUSINESS\", 1.0, 40000.0, NaN, 40000.0, 40000.0, 40000.0, 40000.0, 40000.0], [\"INTERNATIONAL RELATIONS\", 1.0, 40100.0, NaN, 40100.0, 40100.0, 40100.0, 40100.0, 40100.0], [\"JOURNALISM\", 1.0, 35000.0, NaN, 35000.0, 35000.0, 35000.0, 35000.0, 35000.0], [\"LANGUAGE AND DRAMA EDUCATION\", 1.0, 33000.0, NaN, 33000.0, 33000.0, 33000.0, 33000.0, 33000.0], [\"LIBERAL ARTS\", 1.0, 32000.0, NaN, 32000.0, 32000.0, 32000.0, 32000.0, 32000.0], [\"LIBRARY SCIENCE\", 1.0, 22000.0, NaN, 22000.0, 22000.0, 22000.0, 22000.0, 22000.0], [\"LINGUISTICS AND COMPARATIVE LANGUAGE AND LITERATURE\", 1.0, 33000.0, NaN, 33000.0, 33000.0, 33000.0, 33000.0, 33000.0], [\"MANAGEMENT INFORMATION SYSTEMS AND STATISTICS\", 1.0, 51000.0, NaN, 51000.0, 51000.0, 51000.0, 51000.0, 51000.0], [\"MARKETING AND MARKETING RESEARCH\", 1.0, 38000.0, NaN, 38000.0, 38000.0, 38000.0, 38000.0, 38000.0], [\"MASS MEDIA\", 1.0, 33000.0, NaN, 33000.0, 33000.0, 33000.0, 33000.0, 33000.0], [\"MATERIALS ENGINEERING AND MATERIALS SCIENCE\", 1.0, 52000.0, NaN, 52000.0, 52000.0, 52000.0, 52000.0, 52000.0], [\"MATERIALS SCIENCE\", 1.0, 60000.0, NaN, 60000.0, 60000.0, 60000.0, 60000.0, 60000.0], [\"MATHEMATICS\", 1.0, 45000.0, NaN, 45000.0, 45000.0, 45000.0, 45000.0, 45000.0], [\"MATHEMATICS AND COMPUTER SCIENCE\", 1.0, 42000.0, NaN, 42000.0, 42000.0, 42000.0, 42000.0, 42000.0], [\"MATHEMATICS TEACHER EDUCATION\", 1.0, 34000.0, NaN, 34000.0, 34000.0, 34000.0, 34000.0, 34000.0], [\"MECHANICAL ENGINEERING\", 1.0, 60000.0, NaN, 60000.0, 60000.0, 60000.0, 60000.0, 60000.0], [\"MECHANICAL ENGINEERING RELATED TECHNOLOGIES\", 1.0, 40000.0, NaN, 40000.0, 40000.0, 40000.0, 40000.0, 40000.0], [\"MEDICAL ASSISTING SERVICES\", 1.0, 42000.0, NaN, 42000.0, 42000.0, 42000.0, 42000.0, 42000.0], [\"MEDICAL TECHNOLOGIES TECHNICIANS\", 1.0, 45000.0, NaN, 45000.0, 45000.0, 45000.0, 45000.0, 45000.0], [\"METALLURGICAL ENGINEERING\", 1.0, 73000.0, NaN, 73000.0, 73000.0, 73000.0, 73000.0, 73000.0], [\"MICROBIOLOGY\", 1.0, 38000.0, NaN, 38000.0, 38000.0, 38000.0, 38000.0, 38000.0], [\"MILITARY TECHNOLOGIES\", 1.0, 40000.0, NaN, 40000.0, 40000.0, 40000.0, 40000.0, 40000.0], [\"MINING AND MINERAL ENGINEERING\", 1.0, 75000.0, NaN, 75000.0, 75000.0, 75000.0, 75000.0, 75000.0], [\"MISCELLANEOUS AGRICULTURE\", 1.0, 29000.0, NaN, 29000.0, 29000.0, 29000.0, 29000.0, 29000.0], [\"MISCELLANEOUS BIOLOGY\", 1.0, 33500.0, NaN, 33500.0, 33500.0, 33500.0, 33500.0, 33500.0], [\"MISCELLANEOUS BUSINESS & MEDICAL ADMINISTRATION\", 1.0, 40000.0, NaN, 40000.0, 40000.0, 40000.0, 40000.0, 40000.0], [\"MISCELLANEOUS EDUCATION\", 1.0, 33000.0, NaN, 33000.0, 33000.0, 33000.0, 33000.0, 33000.0], [\"MISCELLANEOUS ENGINEERING\", 1.0, 50000.0, NaN, 50000.0, 50000.0, 50000.0, 50000.0, 50000.0], [\"MISCELLANEOUS ENGINEERING TECHNOLOGIES\", 1.0, 40000.0, NaN, 40000.0, 40000.0, 40000.0, 40000.0, 40000.0], [\"MISCELLANEOUS FINE ARTS\", 1.0, 50000.0, NaN, 50000.0, 50000.0, 50000.0, 50000.0, 50000.0], [\"MISCELLANEOUS HEALTH MEDICAL PROFESSIONS\", 1.0, 36000.0, NaN, 36000.0, 36000.0, 36000.0, 36000.0, 36000.0], [\"MISCELLANEOUS PSYCHOLOGY\", 1.0, 30000.0, NaN, 30000.0, 30000.0, 30000.0, 30000.0, 30000.0], [\"MISCELLANEOUS SOCIAL SCIENCES\", 1.0, 40000.0, NaN, 40000.0, 40000.0, 40000.0, 40000.0, 40000.0], [\"MOLECULAR BIOLOGY\", 1.0, 40000.0, NaN, 40000.0, 40000.0, 40000.0, 40000.0, 40000.0], [\"MULTI-DISCIPLINARY OR GENERAL SCIENCE\", 1.0, 35000.0, NaN, 35000.0, 35000.0, 35000.0, 35000.0, 35000.0], [\"MULTI/INTERDISCIPLINARY STUDIES\", 1.0, 35000.0, NaN, 35000.0, 35000.0, 35000.0, 35000.0, 35000.0], [\"MUSIC\", 1.0, 31000.0, NaN, 31000.0, 31000.0, 31000.0, 31000.0, 31000.0], [\"NATURAL RESOURCES MANAGEMENT\", 1.0, 35000.0, NaN, 35000.0, 35000.0, 35000.0, 35000.0, 35000.0], [\"NAVAL ARCHITECTURE AND MARINE ENGINEERING\", 1.0, 70000.0, NaN, 70000.0, 70000.0, 70000.0, 70000.0, 70000.0], [\"NEUROSCIENCE\", 1.0, 35000.0, NaN, 35000.0, 35000.0, 35000.0, 35000.0, 35000.0], [\"NUCLEAR ENGINEERING\", 1.0, 65000.0, NaN, 65000.0, 65000.0, 65000.0, 65000.0, 65000.0], [\"NUCLEAR, INDUSTRIAL RADIOLOGY, AND BIOLOGICAL TECHNOLOGIES\", 1.0, 46000.0, NaN, 46000.0, 46000.0, 46000.0, 46000.0, 46000.0], [\"NURSING\", 1.0, 48000.0, NaN, 48000.0, 48000.0, 48000.0, 48000.0, 48000.0], [\"NUTRITION SCIENCES\", 1.0, 35000.0, NaN, 35000.0, 35000.0, 35000.0, 35000.0, 35000.0], [\"OCEANOGRAPHY\", 1.0, 44700.0, NaN, 44700.0, 44700.0, 44700.0, 44700.0, 44700.0], [\"OPERATIONS LOGISTICS AND E-COMMERCE\", 1.0, 50000.0, NaN, 50000.0, 50000.0, 50000.0, 50000.0, 50000.0], [\"OTHER FOREIGN LANGUAGES\", 1.0, 27500.0, NaN, 27500.0, 27500.0, 27500.0, 27500.0, 27500.0], [\"PETROLEUM ENGINEERING\", 1.0, 110000.0, NaN, 110000.0, 110000.0, 110000.0, 110000.0, 110000.0], [\"PHARMACOLOGY\", 1.0, 45000.0, NaN, 45000.0, 45000.0, 45000.0, 45000.0, 45000.0], [\"PHARMACY PHARMACEUTICAL SCIENCES AND ADMINISTRATION\", 1.0, 40000.0, NaN, 40000.0, 40000.0, 40000.0, 40000.0, 40000.0], [\"PHILOSOPHY AND RELIGIOUS STUDIES\", 1.0, 32200.0, NaN, 32200.0, 32200.0, 32200.0, 32200.0, 32200.0], [\"PHYSICAL AND HEALTH EDUCATION TEACHING\", 1.0, 31000.0, NaN, 31000.0, 31000.0, 31000.0, 31000.0, 31000.0], [\"PHYSICAL FITNESS PARKS RECREATION AND LEISURE\", 1.0, 32000.0, NaN, 32000.0, 32000.0, 32000.0, 32000.0, 32000.0], [\"PHYSICAL SCIENCES\", 1.0, 40000.0, NaN, 40000.0, 40000.0, 40000.0, 40000.0, 40000.0], [\"PHYSICS\", 1.0, 45000.0, NaN, 45000.0, 45000.0, 45000.0, 45000.0, 45000.0], [\"PHYSIOLOGY\", 1.0, 35000.0, NaN, 35000.0, 35000.0, 35000.0, 35000.0, 35000.0], [\"PLANT SCIENCE AND AGRONOMY\", 1.0, 32000.0, NaN, 32000.0, 32000.0, 32000.0, 32000.0, 32000.0], [\"POLITICAL SCIENCE AND GOVERNMENT\", 1.0, 38000.0, NaN, 38000.0, 38000.0, 38000.0, 38000.0, 38000.0], [\"PRE-LAW AND LEGAL STUDIES\", 1.0, 36000.0, NaN, 36000.0, 36000.0, 36000.0, 36000.0, 36000.0], [\"PSYCHOLOGY\", 1.0, 31500.0, NaN, 31500.0, 31500.0, 31500.0, 31500.0, 31500.0], [\"PUBLIC ADMINISTRATION\", 1.0, 36000.0, NaN, 36000.0, 36000.0, 36000.0, 36000.0, 36000.0], [\"PUBLIC POLICY\", 1.0, 50000.0, NaN, 50000.0, 50000.0, 50000.0, 50000.0, 50000.0], [\"SCHOOL STUDENT COUNSELING\", 1.0, 41000.0, NaN, 41000.0, 41000.0, 41000.0, 41000.0, 41000.0], [\"SCIENCE AND COMPUTER TEACHER EDUCATION\", 1.0, 32000.0, NaN, 32000.0, 32000.0, 32000.0, 32000.0, 32000.0], [\"SECONDARY TEACHER EDUCATION\", 1.0, 32500.0, NaN, 32500.0, 32500.0, 32500.0, 32500.0, 32500.0], [\"SOCIAL PSYCHOLOGY\", 1.0, 36000.0, NaN, 36000.0, 36000.0, 36000.0, 36000.0, 36000.0], [\"SOCIAL SCIENCE OR HISTORY TEACHER EDUCATION\", 1.0, 34000.0, NaN, 34000.0, 34000.0, 34000.0, 34000.0, 34000.0], [\"SOCIAL WORK\", 1.0, 30000.0, NaN, 30000.0, 30000.0, 30000.0, 30000.0, 30000.0], [\"SOCIOLOGY\", 1.0, 33000.0, NaN, 33000.0, 33000.0, 33000.0, 33000.0, 33000.0], [\"SOIL SCIENCE\", 1.0, 35000.0, NaN, 35000.0, 35000.0, 35000.0, 35000.0, 35000.0], [\"SPECIAL NEEDS EDUCATION\", 1.0, 35000.0, NaN, 35000.0, 35000.0, 35000.0, 35000.0, 35000.0], [\"STATISTICS AND DECISION SCIENCE\", 1.0, 45000.0, NaN, 45000.0, 45000.0, 45000.0, 45000.0, 45000.0], [\"STUDIO ARTS\", 1.0, 29000.0, NaN, 29000.0, 29000.0, 29000.0, 29000.0, 29000.0], [\"TEACHER EDUCATION: MULTIPLE LEVELS\", 1.0, 30000.0, NaN, 30000.0, 30000.0, 30000.0, 30000.0, 30000.0], [\"THEOLOGY AND RELIGIOUS VOCATIONS\", 1.0, 29000.0, NaN, 29000.0, 29000.0, 29000.0, 29000.0, 29000.0], [\"TRANSPORTATION SCIENCES AND TECHNOLOGIES\", 1.0, 35000.0, NaN, 35000.0, 35000.0, 35000.0, 35000.0, 35000.0], [\"TREATMENT THERAPY PROFESSIONS\", 1.0, 33000.0, NaN, 33000.0, 33000.0, 33000.0, 33000.0, 33000.0], [\"UNITED STATES HISTORY\", 1.0, 40000.0, NaN, 40000.0, 40000.0, 40000.0, 40000.0, 40000.0], [\"VISUAL AND PERFORMING ARTS\", 1.0, 30000.0, NaN, 30000.0, 30000.0, 30000.0, 30000.0, 30000.0], [\"ZOOLOGY\", 1.0, 26000.0, NaN, 26000.0, 26000.0, 26000.0, 26000.0, 26000.0]];\n",
       "\n",
       "        // Define the dt_args\n",
       "        let dt_args = {\"layout\": {\"topStart\": \"pageLength\", \"topEnd\": \"search\", \"bottomStart\": \"info\", \"bottomEnd\": \"paging\"}, \"order\": []};\n",
       "        dt_args[\"data\"] = data;\n",
       "\n",
       "        \n",
       "        new DataTable(table, dt_args);\n",
       "    });\n",
       "</script>\n"
      ],
      "text/plain": [
       "<IPython.core.display.HTML object>"
      ]
     },
     "metadata": {},
     "output_type": "display_data"
    }
   ],
   "source": [
    "my_columns = ['Major','Median']\n",
    "DF_raw[my_columns].value_counts()\n",
    "Stats = DF_raw.groupby('Major')['Median'].describe()\n",
    "show(Stats)\n",
    "\n",
    "#We had our two columns and had it count the values of it each major. That was helped by using the describe function and median. Median is used that way it doesn't get skewed from data oultiers."
   ]
  },
  {
   "cell_type": "code",
   "execution_count": 386,
   "id": "2ff29fef-7c12-4ba5-bb3a-a1982c53d359",
   "metadata": {},
   "outputs": [
    {
     "data": {
      "application/vnd.plotly.v1+json": {
       "config": {
        "plotlyServerURL": "https://plot.ly"
       },
       "data": [
        {
         "alignmentgroup": "True",
         "bingroup": "x",
         "hovertemplate": "Major=PETROLEUM ENGINEERING<br>Median=%{x}<br>count=%{y}<extra></extra>",
         "legendgroup": "PETROLEUM ENGINEERING",
         "marker": {
          "color": "#636efa",
          "opacity": 0.5,
          "pattern": {
           "shape": ""
          }
         },
         "name": "PETROLEUM ENGINEERING",
         "nbinsx": 20,
         "offsetgroup": "PETROLEUM ENGINEERING",
         "orientation": "v",
         "showlegend": true,
         "type": "histogram",
         "x": [
          110000
         ],
         "xaxis": "x",
         "yaxis": "y"
        },
        {
         "alignmentgroup": "True",
         "bingroup": "x",
         "hovertemplate": "Major=MINING AND MINERAL ENGINEERING<br>Median=%{x}<br>count=%{y}<extra></extra>",
         "legendgroup": "MINING AND MINERAL ENGINEERING",
         "marker": {
          "color": "#EF553B",
          "opacity": 0.5,
          "pattern": {
           "shape": ""
          }
         },
         "name": "MINING AND MINERAL ENGINEERING",
         "nbinsx": 20,
         "offsetgroup": "MINING AND MINERAL ENGINEERING",
         "orientation": "v",
         "showlegend": true,
         "type": "histogram",
         "x": [
          75000
         ],
         "xaxis": "x",
         "yaxis": "y"
        },
        {
         "alignmentgroup": "True",
         "bingroup": "x",
         "hovertemplate": "Major=METALLURGICAL ENGINEERING<br>Median=%{x}<br>count=%{y}<extra></extra>",
         "legendgroup": "METALLURGICAL ENGINEERING",
         "marker": {
          "color": "#00cc96",
          "opacity": 0.5,
          "pattern": {
           "shape": ""
          }
         },
         "name": "METALLURGICAL ENGINEERING",
         "nbinsx": 20,
         "offsetgroup": "METALLURGICAL ENGINEERING",
         "orientation": "v",
         "showlegend": true,
         "type": "histogram",
         "x": [
          73000
         ],
         "xaxis": "x",
         "yaxis": "y"
        },
        {
         "alignmentgroup": "True",
         "bingroup": "x",
         "hovertemplate": "Major=NAVAL ARCHITECTURE AND MARINE ENGINEERING<br>Median=%{x}<br>count=%{y}<extra></extra>",
         "legendgroup": "NAVAL ARCHITECTURE AND MARINE ENGINEERING",
         "marker": {
          "color": "#ab63fa",
          "opacity": 0.5,
          "pattern": {
           "shape": ""
          }
         },
         "name": "NAVAL ARCHITECTURE AND MARINE ENGINEERING",
         "nbinsx": 20,
         "offsetgroup": "NAVAL ARCHITECTURE AND MARINE ENGINEERING",
         "orientation": "v",
         "showlegend": true,
         "type": "histogram",
         "x": [
          70000
         ],
         "xaxis": "x",
         "yaxis": "y"
        },
        {
         "alignmentgroup": "True",
         "bingroup": "x",
         "hovertemplate": "Major=CHEMICAL ENGINEERING<br>Median=%{x}<br>count=%{y}<extra></extra>",
         "legendgroup": "CHEMICAL ENGINEERING",
         "marker": {
          "color": "#FFA15A",
          "opacity": 0.5,
          "pattern": {
           "shape": ""
          }
         },
         "name": "CHEMICAL ENGINEERING",
         "nbinsx": 20,
         "offsetgroup": "CHEMICAL ENGINEERING",
         "orientation": "v",
         "showlegend": true,
         "type": "histogram",
         "x": [
          65000
         ],
         "xaxis": "x",
         "yaxis": "y"
        },
        {
         "alignmentgroup": "True",
         "bingroup": "x",
         "hovertemplate": "Major=NUCLEAR ENGINEERING<br>Median=%{x}<br>count=%{y}<extra></extra>",
         "legendgroup": "NUCLEAR ENGINEERING",
         "marker": {
          "color": "#19d3f3",
          "opacity": 0.5,
          "pattern": {
           "shape": ""
          }
         },
         "name": "NUCLEAR ENGINEERING",
         "nbinsx": 20,
         "offsetgroup": "NUCLEAR ENGINEERING",
         "orientation": "v",
         "showlegend": true,
         "type": "histogram",
         "x": [
          65000
         ],
         "xaxis": "x",
         "yaxis": "y"
        },
        {
         "alignmentgroup": "True",
         "bingroup": "x",
         "hovertemplate": "Major=ACTUARIAL SCIENCE<br>Median=%{x}<br>count=%{y}<extra></extra>",
         "legendgroup": "ACTUARIAL SCIENCE",
         "marker": {
          "color": "#FF6692",
          "opacity": 0.5,
          "pattern": {
           "shape": ""
          }
         },
         "name": "ACTUARIAL SCIENCE",
         "nbinsx": 20,
         "offsetgroup": "ACTUARIAL SCIENCE",
         "orientation": "v",
         "showlegend": true,
         "type": "histogram",
         "x": [
          62000
         ],
         "xaxis": "x",
         "yaxis": "y"
        },
        {
         "alignmentgroup": "True",
         "bingroup": "x",
         "hovertemplate": "Major=ASTRONOMY AND ASTROPHYSICS<br>Median=%{x}<br>count=%{y}<extra></extra>",
         "legendgroup": "ASTRONOMY AND ASTROPHYSICS",
         "marker": {
          "color": "#B6E880",
          "opacity": 0.5,
          "pattern": {
           "shape": ""
          }
         },
         "name": "ASTRONOMY AND ASTROPHYSICS",
         "nbinsx": 20,
         "offsetgroup": "ASTRONOMY AND ASTROPHYSICS",
         "orientation": "v",
         "showlegend": true,
         "type": "histogram",
         "x": [
          62000
         ],
         "xaxis": "x",
         "yaxis": "y"
        },
        {
         "alignmentgroup": "True",
         "bingroup": "x",
         "hovertemplate": "Major=MECHANICAL ENGINEERING<br>Median=%{x}<br>count=%{y}<extra></extra>",
         "legendgroup": "MECHANICAL ENGINEERING",
         "marker": {
          "color": "#FF97FF",
          "opacity": 0.5,
          "pattern": {
           "shape": ""
          }
         },
         "name": "MECHANICAL ENGINEERING",
         "nbinsx": 20,
         "offsetgroup": "MECHANICAL ENGINEERING",
         "orientation": "v",
         "showlegend": true,
         "type": "histogram",
         "x": [
          60000
         ],
         "xaxis": "x",
         "yaxis": "y"
        },
        {
         "alignmentgroup": "True",
         "bingroup": "x",
         "hovertemplate": "Major=ELECTRICAL ENGINEERING<br>Median=%{x}<br>count=%{y}<extra></extra>",
         "legendgroup": "ELECTRICAL ENGINEERING",
         "marker": {
          "color": "#FECB52",
          "opacity": 0.5,
          "pattern": {
           "shape": ""
          }
         },
         "name": "ELECTRICAL ENGINEERING",
         "nbinsx": 20,
         "offsetgroup": "ELECTRICAL ENGINEERING",
         "orientation": "v",
         "showlegend": true,
         "type": "histogram",
         "x": [
          60000
         ],
         "xaxis": "x",
         "yaxis": "y"
        },
        {
         "alignmentgroup": "True",
         "bingroup": "x",
         "hovertemplate": "Major=COMPUTER ENGINEERING<br>Median=%{x}<br>count=%{y}<extra></extra>",
         "legendgroup": "COMPUTER ENGINEERING",
         "marker": {
          "color": "#636efa",
          "opacity": 0.5,
          "pattern": {
           "shape": ""
          }
         },
         "name": "COMPUTER ENGINEERING",
         "nbinsx": 20,
         "offsetgroup": "COMPUTER ENGINEERING",
         "orientation": "v",
         "showlegend": true,
         "type": "histogram",
         "x": [
          60000
         ],
         "xaxis": "x",
         "yaxis": "y"
        },
        {
         "alignmentgroup": "True",
         "bingroup": "x",
         "hovertemplate": "Major=AEROSPACE ENGINEERING<br>Median=%{x}<br>count=%{y}<extra></extra>",
         "legendgroup": "AEROSPACE ENGINEERING",
         "marker": {
          "color": "#EF553B",
          "opacity": 0.5,
          "pattern": {
           "shape": ""
          }
         },
         "name": "AEROSPACE ENGINEERING",
         "nbinsx": 20,
         "offsetgroup": "AEROSPACE ENGINEERING",
         "orientation": "v",
         "showlegend": true,
         "type": "histogram",
         "x": [
          60000
         ],
         "xaxis": "x",
         "yaxis": "y"
        },
        {
         "alignmentgroup": "True",
         "bingroup": "x",
         "hovertemplate": "Major=BIOMEDICAL ENGINEERING<br>Median=%{x}<br>count=%{y}<extra></extra>",
         "legendgroup": "BIOMEDICAL ENGINEERING",
         "marker": {
          "color": "#00cc96",
          "opacity": 0.5,
          "pattern": {
           "shape": ""
          }
         },
         "name": "BIOMEDICAL ENGINEERING",
         "nbinsx": 20,
         "offsetgroup": "BIOMEDICAL ENGINEERING",
         "orientation": "v",
         "showlegend": true,
         "type": "histogram",
         "x": [
          60000
         ],
         "xaxis": "x",
         "yaxis": "y"
        },
        {
         "alignmentgroup": "True",
         "bingroup": "x",
         "hovertemplate": "Major=MATERIALS SCIENCE<br>Median=%{x}<br>count=%{y}<extra></extra>",
         "legendgroup": "MATERIALS SCIENCE",
         "marker": {
          "color": "#ab63fa",
          "opacity": 0.5,
          "pattern": {
           "shape": ""
          }
         },
         "name": "MATERIALS SCIENCE",
         "nbinsx": 20,
         "offsetgroup": "MATERIALS SCIENCE",
         "orientation": "v",
         "showlegend": true,
         "type": "histogram",
         "x": [
          60000
         ],
         "xaxis": "x",
         "yaxis": "y"
        },
        {
         "alignmentgroup": "True",
         "bingroup": "x",
         "hovertemplate": "Major=ENGINEERING MECHANICS PHYSICS AND SCIENCE<br>Median=%{x}<br>count=%{y}<extra></extra>",
         "legendgroup": "ENGINEERING MECHANICS PHYSICS AND SCIENCE",
         "marker": {
          "color": "#FFA15A",
          "opacity": 0.5,
          "pattern": {
           "shape": ""
          }
         },
         "name": "ENGINEERING MECHANICS PHYSICS AND SCIENCE",
         "nbinsx": 20,
         "offsetgroup": "ENGINEERING MECHANICS PHYSICS AND SCIENCE",
         "orientation": "v",
         "showlegend": true,
         "type": "histogram",
         "x": [
          58000
         ],
         "xaxis": "x",
         "yaxis": "y"
        },
        {
         "alignmentgroup": "True",
         "bingroup": "x",
         "hovertemplate": "Major=BIOLOGICAL ENGINEERING<br>Median=%{x}<br>count=%{y}<extra></extra>",
         "legendgroup": "BIOLOGICAL ENGINEERING",
         "marker": {
          "color": "#19d3f3",
          "opacity": 0.5,
          "pattern": {
           "shape": ""
          }
         },
         "name": "BIOLOGICAL ENGINEERING",
         "nbinsx": 20,
         "offsetgroup": "BIOLOGICAL ENGINEERING",
         "orientation": "v",
         "showlegend": true,
         "type": "histogram",
         "x": [
          57100
         ],
         "xaxis": "x",
         "yaxis": "y"
        },
        {
         "alignmentgroup": "True",
         "bingroup": "x",
         "hovertemplate": "Major=INDUSTRIAL AND MANUFACTURING ENGINEERING<br>Median=%{x}<br>count=%{y}<extra></extra>",
         "legendgroup": "INDUSTRIAL AND MANUFACTURING ENGINEERING",
         "marker": {
          "color": "#FF6692",
          "opacity": 0.5,
          "pattern": {
           "shape": ""
          }
         },
         "name": "INDUSTRIAL AND MANUFACTURING ENGINEERING",
         "nbinsx": 20,
         "offsetgroup": "INDUSTRIAL AND MANUFACTURING ENGINEERING",
         "orientation": "v",
         "showlegend": true,
         "type": "histogram",
         "x": [
          57000
         ],
         "xaxis": "x",
         "yaxis": "y"
        },
        {
         "alignmentgroup": "True",
         "bingroup": "x",
         "hovertemplate": "Major=GENERAL ENGINEERING<br>Median=%{x}<br>count=%{y}<extra></extra>",
         "legendgroup": "GENERAL ENGINEERING",
         "marker": {
          "color": "#B6E880",
          "opacity": 0.5,
          "pattern": {
           "shape": ""
          }
         },
         "name": "GENERAL ENGINEERING",
         "nbinsx": 20,
         "offsetgroup": "GENERAL ENGINEERING",
         "orientation": "v",
         "showlegend": true,
         "type": "histogram",
         "x": [
          56000
         ],
         "xaxis": "x",
         "yaxis": "y"
        },
        {
         "alignmentgroup": "True",
         "bingroup": "x",
         "hovertemplate": "Major=ARCHITECTURAL ENGINEERING<br>Median=%{x}<br>count=%{y}<extra></extra>",
         "legendgroup": "ARCHITECTURAL ENGINEERING",
         "marker": {
          "color": "#FF97FF",
          "opacity": 0.5,
          "pattern": {
           "shape": ""
          }
         },
         "name": "ARCHITECTURAL ENGINEERING",
         "nbinsx": 20,
         "offsetgroup": "ARCHITECTURAL ENGINEERING",
         "orientation": "v",
         "showlegend": true,
         "type": "histogram",
         "x": [
          54000
         ],
         "xaxis": "x",
         "yaxis": "y"
        },
        {
         "alignmentgroup": "True",
         "bingroup": "x",
         "hovertemplate": "Major=COURT REPORTING<br>Median=%{x}<br>count=%{y}<extra></extra>",
         "legendgroup": "COURT REPORTING",
         "marker": {
          "color": "#FECB52",
          "opacity": 0.5,
          "pattern": {
           "shape": ""
          }
         },
         "name": "COURT REPORTING",
         "nbinsx": 20,
         "offsetgroup": "COURT REPORTING",
         "orientation": "v",
         "showlegend": true,
         "type": "histogram",
         "x": [
          54000
         ],
         "xaxis": "x",
         "yaxis": "y"
        },
        {
         "alignmentgroup": "True",
         "bingroup": "x",
         "hovertemplate": "Major=COMPUTER SCIENCE<br>Median=%{x}<br>count=%{y}<extra></extra>",
         "legendgroup": "COMPUTER SCIENCE",
         "marker": {
          "color": "#636efa",
          "opacity": 0.5,
          "pattern": {
           "shape": ""
          }
         },
         "name": "COMPUTER SCIENCE",
         "nbinsx": 20,
         "offsetgroup": "COMPUTER SCIENCE",
         "orientation": "v",
         "showlegend": true,
         "type": "histogram",
         "x": [
          53000
         ],
         "xaxis": "x",
         "yaxis": "y"
        },
        {
         "alignmentgroup": "True",
         "bingroup": "x",
         "hovertemplate": "Major=FOOD SCIENCE<br>Median=%{x}<br>count=%{y}<extra></extra>",
         "legendgroup": "FOOD SCIENCE",
         "marker": {
          "color": "#EF553B",
          "opacity": 0.5,
          "pattern": {
           "shape": ""
          }
         },
         "name": "FOOD SCIENCE",
         "nbinsx": 20,
         "offsetgroup": "FOOD SCIENCE",
         "orientation": "v",
         "showlegend": true,
         "type": "histogram",
         "x": [
          53000
         ],
         "xaxis": "x",
         "yaxis": "y"
        },
        {
         "alignmentgroup": "True",
         "bingroup": "x",
         "hovertemplate": "Major=ELECTRICAL ENGINEERING TECHNOLOGY<br>Median=%{x}<br>count=%{y}<extra></extra>",
         "legendgroup": "ELECTRICAL ENGINEERING TECHNOLOGY",
         "marker": {
          "color": "#00cc96",
          "opacity": 0.5,
          "pattern": {
           "shape": ""
          }
         },
         "name": "ELECTRICAL ENGINEERING TECHNOLOGY",
         "nbinsx": 20,
         "offsetgroup": "ELECTRICAL ENGINEERING TECHNOLOGY",
         "orientation": "v",
         "showlegend": true,
         "type": "histogram",
         "x": [
          52000
         ],
         "xaxis": "x",
         "yaxis": "y"
        },
        {
         "alignmentgroup": "True",
         "bingroup": "x",
         "hovertemplate": "Major=MATERIALS ENGINEERING AND MATERIALS SCIENCE<br>Median=%{x}<br>count=%{y}<extra></extra>",
         "legendgroup": "MATERIALS ENGINEERING AND MATERIALS SCIENCE",
         "marker": {
          "color": "#ab63fa",
          "opacity": 0.5,
          "pattern": {
           "shape": ""
          }
         },
         "name": "MATERIALS ENGINEERING AND MATERIALS SCIENCE",
         "nbinsx": 20,
         "offsetgroup": "MATERIALS ENGINEERING AND MATERIALS SCIENCE",
         "orientation": "v",
         "showlegend": true,
         "type": "histogram",
         "x": [
          52000
         ],
         "xaxis": "x",
         "yaxis": "y"
        },
        {
         "alignmentgroup": "True",
         "bingroup": "x",
         "hovertemplate": "Major=MANAGEMENT INFORMATION SYSTEMS AND STATISTICS<br>Median=%{x}<br>count=%{y}<extra></extra>",
         "legendgroup": "MANAGEMENT INFORMATION SYSTEMS AND STATISTICS",
         "marker": {
          "color": "#FFA15A",
          "opacity": 0.5,
          "pattern": {
           "shape": ""
          }
         },
         "name": "MANAGEMENT INFORMATION SYSTEMS AND STATISTICS",
         "nbinsx": 20,
         "offsetgroup": "MANAGEMENT INFORMATION SYSTEMS AND STATISTICS",
         "orientation": "v",
         "showlegend": true,
         "type": "histogram",
         "x": [
          51000
         ],
         "xaxis": "x",
         "yaxis": "y"
        },
        {
         "alignmentgroup": "True",
         "bingroup": "x",
         "hovertemplate": "Major=CIVIL ENGINEERING<br>Median=%{x}<br>count=%{y}<extra></extra>",
         "legendgroup": "CIVIL ENGINEERING",
         "marker": {
          "color": "#19d3f3",
          "opacity": 0.5,
          "pattern": {
           "shape": ""
          }
         },
         "name": "CIVIL ENGINEERING",
         "nbinsx": 20,
         "offsetgroup": "CIVIL ENGINEERING",
         "orientation": "v",
         "showlegend": true,
         "type": "histogram",
         "x": [
          50000
         ],
         "xaxis": "x",
         "yaxis": "y"
        },
        {
         "alignmentgroup": "True",
         "bingroup": "x",
         "hovertemplate": "Major=CONSTRUCTION SERVICES<br>Median=%{x}<br>count=%{y}<extra></extra>",
         "legendgroup": "CONSTRUCTION SERVICES",
         "marker": {
          "color": "#FF6692",
          "opacity": 0.5,
          "pattern": {
           "shape": ""
          }
         },
         "name": "CONSTRUCTION SERVICES",
         "nbinsx": 20,
         "offsetgroup": "CONSTRUCTION SERVICES",
         "orientation": "v",
         "showlegend": true,
         "type": "histogram",
         "x": [
          50000
         ],
         "xaxis": "x",
         "yaxis": "y"
        },
        {
         "alignmentgroup": "True",
         "bingroup": "x",
         "hovertemplate": "Major=OPERATIONS LOGISTICS AND E-COMMERCE<br>Median=%{x}<br>count=%{y}<extra></extra>",
         "legendgroup": "OPERATIONS LOGISTICS AND E-COMMERCE",
         "marker": {
          "color": "#B6E880",
          "opacity": 0.5,
          "pattern": {
           "shape": ""
          }
         },
         "name": "OPERATIONS LOGISTICS AND E-COMMERCE",
         "nbinsx": 20,
         "offsetgroup": "OPERATIONS LOGISTICS AND E-COMMERCE",
         "orientation": "v",
         "showlegend": true,
         "type": "histogram",
         "x": [
          50000
         ],
         "xaxis": "x",
         "yaxis": "y"
        },
        {
         "alignmentgroup": "True",
         "bingroup": "x",
         "hovertemplate": "Major=MISCELLANEOUS ENGINEERING<br>Median=%{x}<br>count=%{y}<extra></extra>",
         "legendgroup": "MISCELLANEOUS ENGINEERING",
         "marker": {
          "color": "#FF97FF",
          "opacity": 0.5,
          "pattern": {
           "shape": ""
          }
         },
         "name": "MISCELLANEOUS ENGINEERING",
         "nbinsx": 20,
         "offsetgroup": "MISCELLANEOUS ENGINEERING",
         "orientation": "v",
         "showlegend": true,
         "type": "histogram",
         "x": [
          50000
         ],
         "xaxis": "x",
         "yaxis": "y"
        },
        {
         "alignmentgroup": "True",
         "bingroup": "x",
         "hovertemplate": "Major=PUBLIC POLICY<br>Median=%{x}<br>count=%{y}<extra></extra>",
         "legendgroup": "PUBLIC POLICY",
         "marker": {
          "color": "#FECB52",
          "opacity": 0.5,
          "pattern": {
           "shape": ""
          }
         },
         "name": "PUBLIC POLICY",
         "nbinsx": 20,
         "offsetgroup": "PUBLIC POLICY",
         "orientation": "v",
         "showlegend": true,
         "type": "histogram",
         "x": [
          50000
         ],
         "xaxis": "x",
         "yaxis": "y"
        },
        {
         "alignmentgroup": "True",
         "bingroup": "x",
         "hovertemplate": "Major=ENVIRONMENTAL ENGINEERING<br>Median=%{x}<br>count=%{y}<extra></extra>",
         "legendgroup": "ENVIRONMENTAL ENGINEERING",
         "marker": {
          "color": "#636efa",
          "opacity": 0.5,
          "pattern": {
           "shape": ""
          }
         },
         "name": "ENVIRONMENTAL ENGINEERING",
         "nbinsx": 20,
         "offsetgroup": "ENVIRONMENTAL ENGINEERING",
         "orientation": "v",
         "showlegend": true,
         "type": "histogram",
         "x": [
          50000
         ],
         "xaxis": "x",
         "yaxis": "y"
        },
        {
         "alignmentgroup": "True",
         "bingroup": "x",
         "hovertemplate": "Major=ENGINEERING TECHNOLOGIES<br>Median=%{x}<br>count=%{y}<extra></extra>",
         "legendgroup": "ENGINEERING TECHNOLOGIES",
         "marker": {
          "color": "#EF553B",
          "opacity": 0.5,
          "pattern": {
           "shape": ""
          }
         },
         "name": "ENGINEERING TECHNOLOGIES",
         "nbinsx": 20,
         "offsetgroup": "ENGINEERING TECHNOLOGIES",
         "orientation": "v",
         "showlegend": true,
         "type": "histogram",
         "x": [
          50000
         ],
         "xaxis": "x",
         "yaxis": "y"
        },
        {
         "alignmentgroup": "True",
         "bingroup": "x",
         "hovertemplate": "Major=MISCELLANEOUS FINE ARTS<br>Median=%{x}<br>count=%{y}<extra></extra>",
         "legendgroup": "MISCELLANEOUS FINE ARTS",
         "marker": {
          "color": "#00cc96",
          "opacity": 0.5,
          "pattern": {
           "shape": ""
          }
         },
         "name": "MISCELLANEOUS FINE ARTS",
         "nbinsx": 20,
         "offsetgroup": "MISCELLANEOUS FINE ARTS",
         "orientation": "v",
         "showlegend": true,
         "type": "histogram",
         "x": [
          50000
         ],
         "xaxis": "x",
         "yaxis": "y"
        },
        {
         "alignmentgroup": "True",
         "bingroup": "x",
         "hovertemplate": "Major=GEOLOGICAL AND GEOPHYSICAL ENGINEERING<br>Median=%{x}<br>count=%{y}<extra></extra>",
         "legendgroup": "GEOLOGICAL AND GEOPHYSICAL ENGINEERING",
         "marker": {
          "color": "#ab63fa",
          "opacity": 0.5,
          "pattern": {
           "shape": ""
          }
         },
         "name": "GEOLOGICAL AND GEOPHYSICAL ENGINEERING",
         "nbinsx": 20,
         "offsetgroup": "GEOLOGICAL AND GEOPHYSICAL ENGINEERING",
         "orientation": "v",
         "showlegend": true,
         "type": "histogram",
         "x": [
          50000
         ],
         "xaxis": "x",
         "yaxis": "y"
        },
        {
         "alignmentgroup": "True",
         "bingroup": "x",
         "hovertemplate": "Major=NURSING<br>Median=%{x}<br>count=%{y}<extra></extra>",
         "legendgroup": "NURSING",
         "marker": {
          "color": "#FFA15A",
          "opacity": 0.5,
          "pattern": {
           "shape": ""
          }
         },
         "name": "NURSING",
         "nbinsx": 20,
         "offsetgroup": "NURSING",
         "orientation": "v",
         "showlegend": true,
         "type": "histogram",
         "x": [
          48000
         ],
         "xaxis": "x",
         "yaxis": "y"
        },
        {
         "alignmentgroup": "True",
         "bingroup": "x",
         "hovertemplate": "Major=FINANCE<br>Median=%{x}<br>count=%{y}<extra></extra>",
         "legendgroup": "FINANCE",
         "marker": {
          "color": "#19d3f3",
          "opacity": 0.5,
          "pattern": {
           "shape": ""
          }
         },
         "name": "FINANCE",
         "nbinsx": 20,
         "offsetgroup": "FINANCE",
         "orientation": "v",
         "showlegend": true,
         "type": "histogram",
         "x": [
          47000
         ],
         "xaxis": "x",
         "yaxis": "y"
        },
        {
         "alignmentgroup": "True",
         "bingroup": "x",
         "hovertemplate": "Major=ECONOMICS<br>Median=%{x}<br>count=%{y}<extra></extra>",
         "legendgroup": "ECONOMICS",
         "marker": {
          "color": "#FF6692",
          "opacity": 0.5,
          "pattern": {
           "shape": ""
          }
         },
         "name": "ECONOMICS",
         "nbinsx": 20,
         "offsetgroup": "ECONOMICS",
         "orientation": "v",
         "showlegend": true,
         "type": "histogram",
         "x": [
          47000
         ],
         "xaxis": "x",
         "yaxis": "y"
        },
        {
         "alignmentgroup": "True",
         "bingroup": "x",
         "hovertemplate": "Major=BUSINESS ECONOMICS<br>Median=%{x}<br>count=%{y}<extra></extra>",
         "legendgroup": "BUSINESS ECONOMICS",
         "marker": {
          "color": "#B6E880",
          "opacity": 0.5,
          "pattern": {
           "shape": ""
          }
         },
         "name": "BUSINESS ECONOMICS",
         "nbinsx": 20,
         "offsetgroup": "BUSINESS ECONOMICS",
         "orientation": "v",
         "showlegend": true,
         "type": "histogram",
         "x": [
          46000
         ],
         "xaxis": "x",
         "yaxis": "y"
        },
        {
         "alignmentgroup": "True",
         "bingroup": "x",
         "hovertemplate": "Major=INDUSTRIAL PRODUCTION TECHNOLOGIES<br>Median=%{x}<br>count=%{y}<extra></extra>",
         "legendgroup": "INDUSTRIAL PRODUCTION TECHNOLOGIES",
         "marker": {
          "color": "#FF97FF",
          "opacity": 0.5,
          "pattern": {
           "shape": ""
          }
         },
         "name": "INDUSTRIAL PRODUCTION TECHNOLOGIES",
         "nbinsx": 20,
         "offsetgroup": "INDUSTRIAL PRODUCTION TECHNOLOGIES",
         "orientation": "v",
         "showlegend": true,
         "type": "histogram",
         "x": [
          46000
         ],
         "xaxis": "x",
         "yaxis": "y"
        },
        {
         "alignmentgroup": "True",
         "bingroup": "x",
         "hovertemplate": "Major=NUCLEAR, INDUSTRIAL RADIOLOGY, AND BIOLOGICAL TECHNOLOGIES<br>Median=%{x}<br>count=%{y}<extra></extra>",
         "legendgroup": "NUCLEAR, INDUSTRIAL RADIOLOGY, AND BIOLOGICAL TECHNOLOGIES",
         "marker": {
          "color": "#FECB52",
          "opacity": 0.5,
          "pattern": {
           "shape": ""
          }
         },
         "name": "NUCLEAR, INDUSTRIAL RADIOLOGY, AND BIOLOGICAL TECHNOLOGIES",
         "nbinsx": 20,
         "offsetgroup": "NUCLEAR, INDUSTRIAL RADIOLOGY, AND BIOLOGICAL TECHNOLOGIES",
         "orientation": "v",
         "showlegend": true,
         "type": "histogram",
         "x": [
          46000
         ],
         "xaxis": "x",
         "yaxis": "y"
        },
        {
         "alignmentgroup": "True",
         "bingroup": "x",
         "hovertemplate": "Major=ACCOUNTING<br>Median=%{x}<br>count=%{y}<extra></extra>",
         "legendgroup": "ACCOUNTING",
         "marker": {
          "color": "#636efa",
          "opacity": 0.5,
          "pattern": {
           "shape": ""
          }
         },
         "name": "ACCOUNTING",
         "nbinsx": 20,
         "offsetgroup": "ACCOUNTING",
         "orientation": "v",
         "showlegend": true,
         "type": "histogram",
         "x": [
          45000
         ],
         "xaxis": "x",
         "yaxis": "y"
        },
        {
         "alignmentgroup": "True",
         "bingroup": "x",
         "hovertemplate": "Major=MATHEMATICS<br>Median=%{x}<br>count=%{y}<extra></extra>",
         "legendgroup": "MATHEMATICS",
         "marker": {
          "color": "#EF553B",
          "opacity": 0.5,
          "pattern": {
           "shape": ""
          }
         },
         "name": "MATHEMATICS",
         "nbinsx": 20,
         "offsetgroup": "MATHEMATICS",
         "orientation": "v",
         "showlegend": true,
         "type": "histogram",
         "x": [
          45000
         ],
         "xaxis": "x",
         "yaxis": "y"
        },
        {
         "alignmentgroup": "True",
         "bingroup": "x",
         "hovertemplate": "Major=COMPUTER AND INFORMATION SYSTEMS<br>Median=%{x}<br>count=%{y}<extra></extra>",
         "legendgroup": "COMPUTER AND INFORMATION SYSTEMS",
         "marker": {
          "color": "#00cc96",
          "opacity": 0.5,
          "pattern": {
           "shape": ""
          }
         },
         "name": "COMPUTER AND INFORMATION SYSTEMS",
         "nbinsx": 20,
         "offsetgroup": "COMPUTER AND INFORMATION SYSTEMS",
         "orientation": "v",
         "showlegend": true,
         "type": "histogram",
         "x": [
          45000
         ],
         "xaxis": "x",
         "yaxis": "y"
        },
        {
         "alignmentgroup": "True",
         "bingroup": "x",
         "hovertemplate": "Major=PHYSICS<br>Median=%{x}<br>count=%{y}<extra></extra>",
         "legendgroup": "PHYSICS",
         "marker": {
          "color": "#ab63fa",
          "opacity": 0.5,
          "pattern": {
           "shape": ""
          }
         },
         "name": "PHYSICS",
         "nbinsx": 20,
         "offsetgroup": "PHYSICS",
         "orientation": "v",
         "showlegend": true,
         "type": "histogram",
         "x": [
          45000
         ],
         "xaxis": "x",
         "yaxis": "y"
        },
        {
         "alignmentgroup": "True",
         "bingroup": "x",
         "hovertemplate": "Major=MEDICAL TECHNOLOGIES TECHNICIANS<br>Median=%{x}<br>count=%{y}<extra></extra>",
         "legendgroup": "MEDICAL TECHNOLOGIES TECHNICIANS",
         "marker": {
          "color": "#FFA15A",
          "opacity": 0.5,
          "pattern": {
           "shape": ""
          }
         },
         "name": "MEDICAL TECHNOLOGIES TECHNICIANS",
         "nbinsx": 20,
         "offsetgroup": "MEDICAL TECHNOLOGIES TECHNICIANS",
         "orientation": "v",
         "showlegend": true,
         "type": "histogram",
         "x": [
          45000
         ],
         "xaxis": "x",
         "yaxis": "y"
        },
        {
         "alignmentgroup": "True",
         "bingroup": "x",
         "hovertemplate": "Major=INFORMATION SCIENCES<br>Median=%{x}<br>count=%{y}<extra></extra>",
         "legendgroup": "INFORMATION SCIENCES",
         "marker": {
          "color": "#19d3f3",
          "opacity": 0.5,
          "pattern": {
           "shape": ""
          }
         },
         "name": "INFORMATION SCIENCES",
         "nbinsx": 20,
         "offsetgroup": "INFORMATION SCIENCES",
         "orientation": "v",
         "showlegend": true,
         "type": "histogram",
         "x": [
          45000
         ],
         "xaxis": "x",
         "yaxis": "y"
        },
        {
         "alignmentgroup": "True",
         "bingroup": "x",
         "hovertemplate": "Major=STATISTICS AND DECISION SCIENCE<br>Median=%{x}<br>count=%{y}<extra></extra>",
         "legendgroup": "STATISTICS AND DECISION SCIENCE",
         "marker": {
          "color": "#FF6692",
          "opacity": 0.5,
          "pattern": {
           "shape": ""
          }
         },
         "name": "STATISTICS AND DECISION SCIENCE",
         "nbinsx": 20,
         "offsetgroup": "STATISTICS AND DECISION SCIENCE",
         "orientation": "v",
         "showlegend": true,
         "type": "histogram",
         "x": [
          45000
         ],
         "xaxis": "x",
         "yaxis": "y"
        },
        {
         "alignmentgroup": "True",
         "bingroup": "x",
         "hovertemplate": "Major=APPLIED MATHEMATICS<br>Median=%{x}<br>count=%{y}<extra></extra>",
         "legendgroup": "APPLIED MATHEMATICS",
         "marker": {
          "color": "#B6E880",
          "opacity": 0.5,
          "pattern": {
           "shape": ""
          }
         },
         "name": "APPLIED MATHEMATICS",
         "nbinsx": 20,
         "offsetgroup": "APPLIED MATHEMATICS",
         "orientation": "v",
         "showlegend": true,
         "type": "histogram",
         "x": [
          45000
         ],
         "xaxis": "x",
         "yaxis": "y"
        },
        {
         "alignmentgroup": "True",
         "bingroup": "x",
         "hovertemplate": "Major=PHARMACOLOGY<br>Median=%{x}<br>count=%{y}<extra></extra>",
         "legendgroup": "PHARMACOLOGY",
         "marker": {
          "color": "#FF97FF",
          "opacity": 0.5,
          "pattern": {
           "shape": ""
          }
         },
         "name": "PHARMACOLOGY",
         "nbinsx": 20,
         "offsetgroup": "PHARMACOLOGY",
         "orientation": "v",
         "showlegend": true,
         "type": "histogram",
         "x": [
          45000
         ],
         "xaxis": "x",
         "yaxis": "y"
        },
        {
         "alignmentgroup": "True",
         "bingroup": "x",
         "hovertemplate": "Major=OCEANOGRAPHY<br>Median=%{x}<br>count=%{y}<extra></extra>",
         "legendgroup": "OCEANOGRAPHY",
         "marker": {
          "color": "#FECB52",
          "opacity": 0.5,
          "pattern": {
           "shape": ""
          }
         },
         "name": "OCEANOGRAPHY",
         "nbinsx": 20,
         "offsetgroup": "OCEANOGRAPHY",
         "orientation": "v",
         "showlegend": true,
         "type": "histogram",
         "x": [
          44700
         ],
         "xaxis": "x",
         "yaxis": "y"
        },
        {
         "alignmentgroup": "True",
         "bingroup": "x",
         "hovertemplate": "Major=ENGINEERING AND INDUSTRIAL MANAGEMENT<br>Median=%{x}<br>count=%{y}<extra></extra>",
         "legendgroup": "ENGINEERING AND INDUSTRIAL MANAGEMENT",
         "marker": {
          "color": "#636efa",
          "opacity": 0.5,
          "pattern": {
           "shape": ""
          }
         },
         "name": "ENGINEERING AND INDUSTRIAL MANAGEMENT",
         "nbinsx": 20,
         "offsetgroup": "ENGINEERING AND INDUSTRIAL MANAGEMENT",
         "orientation": "v",
         "showlegend": true,
         "type": "histogram",
         "x": [
          44000
         ],
         "xaxis": "x",
         "yaxis": "y"
        },
        {
         "alignmentgroup": "True",
         "bingroup": "x",
         "hovertemplate": "Major=MEDICAL ASSISTING SERVICES<br>Median=%{x}<br>count=%{y}<extra></extra>",
         "legendgroup": "MEDICAL ASSISTING SERVICES",
         "marker": {
          "color": "#EF553B",
          "opacity": 0.5,
          "pattern": {
           "shape": ""
          }
         },
         "name": "MEDICAL ASSISTING SERVICES",
         "nbinsx": 20,
         "offsetgroup": "MEDICAL ASSISTING SERVICES",
         "orientation": "v",
         "showlegend": true,
         "type": "histogram",
         "x": [
          42000
         ],
         "xaxis": "x",
         "yaxis": "y"
        },
        {
         "alignmentgroup": "True",
         "bingroup": "x",
         "hovertemplate": "Major=MATHEMATICS AND COMPUTER SCIENCE<br>Median=%{x}<br>count=%{y}<extra></extra>",
         "legendgroup": "MATHEMATICS AND COMPUTER SCIENCE",
         "marker": {
          "color": "#00cc96",
          "opacity": 0.5,
          "pattern": {
           "shape": ""
          }
         },
         "name": "MATHEMATICS AND COMPUTER SCIENCE",
         "nbinsx": 20,
         "offsetgroup": "MATHEMATICS AND COMPUTER SCIENCE",
         "orientation": "v",
         "showlegend": true,
         "type": "histogram",
         "x": [
          42000
         ],
         "xaxis": "x",
         "yaxis": "y"
        },
        {
         "alignmentgroup": "True",
         "bingroup": "x",
         "hovertemplate": "Major=COMPUTER PROGRAMMING AND DATA PROCESSING<br>Median=%{x}<br>count=%{y}<extra></extra>",
         "legendgroup": "COMPUTER PROGRAMMING AND DATA PROCESSING",
         "marker": {
          "color": "#ab63fa",
          "opacity": 0.5,
          "pattern": {
           "shape": ""
          }
         },
         "name": "COMPUTER PROGRAMMING AND DATA PROCESSING",
         "nbinsx": 20,
         "offsetgroup": "COMPUTER PROGRAMMING AND DATA PROCESSING",
         "orientation": "v",
         "showlegend": true,
         "type": "histogram",
         "x": [
          41300
         ],
         "xaxis": "x",
         "yaxis": "y"
        },
        {
         "alignmentgroup": "True",
         "bingroup": "x",
         "hovertemplate": "Major=COGNITIVE SCIENCE AND BIOPSYCHOLOGY<br>Median=%{x}<br>count=%{y}<extra></extra>",
         "legendgroup": "COGNITIVE SCIENCE AND BIOPSYCHOLOGY",
         "marker": {
          "color": "#FFA15A",
          "opacity": 0.5,
          "pattern": {
           "shape": ""
          }
         },
         "name": "COGNITIVE SCIENCE AND BIOPSYCHOLOGY",
         "nbinsx": 20,
         "offsetgroup": "COGNITIVE SCIENCE AND BIOPSYCHOLOGY",
         "orientation": "v",
         "showlegend": true,
         "type": "histogram",
         "x": [
          41000
         ],
         "xaxis": "x",
         "yaxis": "y"
        },
        {
         "alignmentgroup": "True",
         "bingroup": "x",
         "hovertemplate": "Major=SCHOOL STUDENT COUNSELING<br>Median=%{x}<br>count=%{y}<extra></extra>",
         "legendgroup": "SCHOOL STUDENT COUNSELING",
         "marker": {
          "color": "#19d3f3",
          "opacity": 0.5,
          "pattern": {
           "shape": ""
          }
         },
         "name": "SCHOOL STUDENT COUNSELING",
         "nbinsx": 20,
         "offsetgroup": "SCHOOL STUDENT COUNSELING",
         "orientation": "v",
         "showlegend": true,
         "type": "histogram",
         "x": [
          41000
         ],
         "xaxis": "x",
         "yaxis": "y"
        },
        {
         "alignmentgroup": "True",
         "bingroup": "x",
         "hovertemplate": "Major=INTERNATIONAL RELATIONS<br>Median=%{x}<br>count=%{y}<extra></extra>",
         "legendgroup": "INTERNATIONAL RELATIONS",
         "marker": {
          "color": "#FF6692",
          "opacity": 0.5,
          "pattern": {
           "shape": ""
          }
         },
         "name": "INTERNATIONAL RELATIONS",
         "nbinsx": 20,
         "offsetgroup": "INTERNATIONAL RELATIONS",
         "orientation": "v",
         "showlegend": true,
         "type": "histogram",
         "x": [
          40100
         ],
         "xaxis": "x",
         "yaxis": "y"
        },
        {
         "alignmentgroup": "True",
         "bingroup": "x",
         "hovertemplate": "Major=GENERAL BUSINESS<br>Median=%{x}<br>count=%{y}<extra></extra>",
         "legendgroup": "GENERAL BUSINESS",
         "marker": {
          "color": "#B6E880",
          "opacity": 0.5,
          "pattern": {
           "shape": ""
          }
         },
         "name": "GENERAL BUSINESS",
         "nbinsx": 20,
         "offsetgroup": "GENERAL BUSINESS",
         "orientation": "v",
         "showlegend": true,
         "type": "histogram",
         "x": [
          40000
         ],
         "xaxis": "x",
         "yaxis": "y"
        },
        {
         "alignmentgroup": "True",
         "bingroup": "x",
         "hovertemplate": "Major=ARCHITECTURE<br>Median=%{x}<br>count=%{y}<extra></extra>",
         "legendgroup": "ARCHITECTURE",
         "marker": {
          "color": "#FF97FF",
          "opacity": 0.5,
          "pattern": {
           "shape": ""
          }
         },
         "name": "ARCHITECTURE",
         "nbinsx": 20,
         "offsetgroup": "ARCHITECTURE",
         "orientation": "v",
         "showlegend": true,
         "type": "histogram",
         "x": [
          40000
         ],
         "xaxis": "x",
         "yaxis": "y"
        },
        {
         "alignmentgroup": "True",
         "bingroup": "x",
         "hovertemplate": "Major=INTERNATIONAL BUSINESS<br>Median=%{x}<br>count=%{y}<extra></extra>",
         "legendgroup": "INTERNATIONAL BUSINESS",
         "marker": {
          "color": "#FECB52",
          "opacity": 0.5,
          "pattern": {
           "shape": ""
          }
         },
         "name": "INTERNATIONAL BUSINESS",
         "nbinsx": 20,
         "offsetgroup": "INTERNATIONAL BUSINESS",
         "orientation": "v",
         "showlegend": true,
         "type": "histogram",
         "x": [
          40000
         ],
         "xaxis": "x",
         "yaxis": "y"
        },
        {
         "alignmentgroup": "True",
         "bingroup": "x",
         "hovertemplate": "Major=PHARMACY PHARMACEUTICAL SCIENCES AND ADMINISTRATION<br>Median=%{x}<br>count=%{y}<extra></extra>",
         "legendgroup": "PHARMACY PHARMACEUTICAL SCIENCES AND ADMINISTRATION",
         "marker": {
          "color": "#636efa",
          "opacity": 0.5,
          "pattern": {
           "shape": ""
          }
         },
         "name": "PHARMACY PHARMACEUTICAL SCIENCES AND ADMINISTRATION",
         "nbinsx": 20,
         "offsetgroup": "PHARMACY PHARMACEUTICAL SCIENCES AND ADMINISTRATION",
         "orientation": "v",
         "showlegend": true,
         "type": "histogram",
         "x": [
          40000
         ],
         "xaxis": "x",
         "yaxis": "y"
        },
        {
         "alignmentgroup": "True",
         "bingroup": "x",
         "hovertemplate": "Major=MOLECULAR BIOLOGY<br>Median=%{x}<br>count=%{y}<extra></extra>",
         "legendgroup": "MOLECULAR BIOLOGY",
         "marker": {
          "color": "#EF553B",
          "opacity": 0.5,
          "pattern": {
           "shape": ""
          }
         },
         "name": "MOLECULAR BIOLOGY",
         "nbinsx": 20,
         "offsetgroup": "MOLECULAR BIOLOGY",
         "orientation": "v",
         "showlegend": true,
         "type": "histogram",
         "x": [
          40000
         ],
         "xaxis": "x",
         "yaxis": "y"
        },
        {
         "alignmentgroup": "True",
         "bingroup": "x",
         "hovertemplate": "Major=MISCELLANEOUS BUSINESS & MEDICAL ADMINISTRATION<br>Median=%{x}<br>count=%{y}<extra></extra>",
         "legendgroup": "MISCELLANEOUS BUSINESS & MEDICAL ADMINISTRATION",
         "marker": {
          "color": "#00cc96",
          "opacity": 0.5,
          "pattern": {
           "shape": ""
          }
         },
         "name": "MISCELLANEOUS BUSINESS & MEDICAL ADMINISTRATION",
         "nbinsx": 20,
         "offsetgroup": "MISCELLANEOUS BUSINESS & MEDICAL ADMINISTRATION",
         "orientation": "v",
         "showlegend": true,
         "type": "histogram",
         "x": [
          40000
         ],
         "xaxis": "x",
         "yaxis": "y"
        },
        {
         "alignmentgroup": "True",
         "bingroup": "x",
         "hovertemplate": "Major=AGRICULTURE PRODUCTION AND MANAGEMENT<br>Median=%{x}<br>count=%{y}<extra></extra>",
         "legendgroup": "AGRICULTURE PRODUCTION AND MANAGEMENT",
         "marker": {
          "color": "#ab63fa",
          "opacity": 0.5,
          "pattern": {
           "shape": ""
          }
         },
         "name": "AGRICULTURE PRODUCTION AND MANAGEMENT",
         "nbinsx": 20,
         "offsetgroup": "AGRICULTURE PRODUCTION AND MANAGEMENT",
         "orientation": "v",
         "showlegend": true,
         "type": "histogram",
         "x": [
          40000
         ],
         "xaxis": "x",
         "yaxis": "y"
        },
        {
         "alignmentgroup": "True",
         "bingroup": "x",
         "hovertemplate": "Major=GENERAL AGRICULTURE<br>Median=%{x}<br>count=%{y}<extra></extra>",
         "legendgroup": "GENERAL AGRICULTURE",
         "marker": {
          "color": "#FFA15A",
          "opacity": 0.5,
          "pattern": {
           "shape": ""
          }
         },
         "name": "GENERAL AGRICULTURE",
         "nbinsx": 20,
         "offsetgroup": "GENERAL AGRICULTURE",
         "orientation": "v",
         "showlegend": true,
         "type": "histogram",
         "x": [
          40000
         ],
         "xaxis": "x",
         "yaxis": "y"
        },
        {
         "alignmentgroup": "True",
         "bingroup": "x",
         "hovertemplate": "Major=MISCELLANEOUS ENGINEERING TECHNOLOGIES<br>Median=%{x}<br>count=%{y}<extra></extra>",
         "legendgroup": "MISCELLANEOUS ENGINEERING TECHNOLOGIES",
         "marker": {
          "color": "#19d3f3",
          "opacity": 0.5,
          "pattern": {
           "shape": ""
          }
         },
         "name": "MISCELLANEOUS ENGINEERING TECHNOLOGIES",
         "nbinsx": 20,
         "offsetgroup": "MISCELLANEOUS ENGINEERING TECHNOLOGIES",
         "orientation": "v",
         "showlegend": true,
         "type": "histogram",
         "x": [
          40000
         ],
         "xaxis": "x",
         "yaxis": "y"
        },
        {
         "alignmentgroup": "True",
         "bingroup": "x",
         "hovertemplate": "Major=MECHANICAL ENGINEERING RELATED TECHNOLOGIES<br>Median=%{x}<br>count=%{y}<extra></extra>",
         "legendgroup": "MECHANICAL ENGINEERING RELATED TECHNOLOGIES",
         "marker": {
          "color": "#FF6692",
          "opacity": 0.5,
          "pattern": {
           "shape": ""
          }
         },
         "name": "MECHANICAL ENGINEERING RELATED TECHNOLOGIES",
         "nbinsx": 20,
         "offsetgroup": "MECHANICAL ENGINEERING RELATED TECHNOLOGIES",
         "orientation": "v",
         "showlegend": true,
         "type": "histogram",
         "x": [
          40000
         ],
         "xaxis": "x",
         "yaxis": "y"
        },
        {
         "alignmentgroup": "True",
         "bingroup": "x",
         "hovertemplate": "Major=GENETICS<br>Median=%{x}<br>count=%{y}<extra></extra>",
         "legendgroup": "GENETICS",
         "marker": {
          "color": "#B6E880",
          "opacity": 0.5,
          "pattern": {
           "shape": ""
          }
         },
         "name": "GENETICS",
         "nbinsx": 20,
         "offsetgroup": "GENETICS",
         "orientation": "v",
         "showlegend": true,
         "type": "histogram",
         "x": [
          40000
         ],
         "xaxis": "x",
         "yaxis": "y"
        },
        {
         "alignmentgroup": "True",
         "bingroup": "x",
         "hovertemplate": "Major=MISCELLANEOUS SOCIAL SCIENCES<br>Median=%{x}<br>count=%{y}<extra></extra>",
         "legendgroup": "MISCELLANEOUS SOCIAL SCIENCES",
         "marker": {
          "color": "#FF97FF",
          "opacity": 0.5,
          "pattern": {
           "shape": ""
          }
         },
         "name": "MISCELLANEOUS SOCIAL SCIENCES",
         "nbinsx": 20,
         "offsetgroup": "MISCELLANEOUS SOCIAL SCIENCES",
         "orientation": "v",
         "showlegend": true,
         "type": "histogram",
         "x": [
          40000
         ],
         "xaxis": "x",
         "yaxis": "y"
        },
        {
         "alignmentgroup": "True",
         "bingroup": "x",
         "hovertemplate": "Major=UNITED STATES HISTORY<br>Median=%{x}<br>count=%{y}<extra></extra>",
         "legendgroup": "UNITED STATES HISTORY",
         "marker": {
          "color": "#FECB52",
          "opacity": 0.5,
          "pattern": {
           "shape": ""
          }
         },
         "name": "UNITED STATES HISTORY",
         "nbinsx": 20,
         "offsetgroup": "UNITED STATES HISTORY",
         "orientation": "v",
         "showlegend": true,
         "type": "histogram",
         "x": [
          40000
         ],
         "xaxis": "x",
         "yaxis": "y"
        },
        {
         "alignmentgroup": "True",
         "bingroup": "x",
         "hovertemplate": "Major=INDUSTRIAL AND ORGANIZATIONAL PSYCHOLOGY<br>Median=%{x}<br>count=%{y}<extra></extra>",
         "legendgroup": "INDUSTRIAL AND ORGANIZATIONAL PSYCHOLOGY",
         "marker": {
          "color": "#636efa",
          "opacity": 0.5,
          "pattern": {
           "shape": ""
          }
         },
         "name": "INDUSTRIAL AND ORGANIZATIONAL PSYCHOLOGY",
         "nbinsx": 20,
         "offsetgroup": "INDUSTRIAL AND ORGANIZATIONAL PSYCHOLOGY",
         "orientation": "v",
         "showlegend": true,
         "type": "histogram",
         "x": [
          40000
         ],
         "xaxis": "x",
         "yaxis": "y"
        },
        {
         "alignmentgroup": "True",
         "bingroup": "x",
         "hovertemplate": "Major=AGRICULTURAL ECONOMICS<br>Median=%{x}<br>count=%{y}<extra></extra>",
         "legendgroup": "AGRICULTURAL ECONOMICS",
         "marker": {
          "color": "#EF553B",
          "opacity": 0.5,
          "pattern": {
           "shape": ""
          }
         },
         "name": "AGRICULTURAL ECONOMICS",
         "nbinsx": 20,
         "offsetgroup": "AGRICULTURAL ECONOMICS",
         "orientation": "v",
         "showlegend": true,
         "type": "histogram",
         "x": [
          40000
         ],
         "xaxis": "x",
         "yaxis": "y"
        },
        {
         "alignmentgroup": "True",
         "bingroup": "x",
         "hovertemplate": "Major=PHYSICAL SCIENCES<br>Median=%{x}<br>count=%{y}<extra></extra>",
         "legendgroup": "PHYSICAL SCIENCES",
         "marker": {
          "color": "#00cc96",
          "opacity": 0.5,
          "pattern": {
           "shape": ""
          }
         },
         "name": "PHYSICAL SCIENCES",
         "nbinsx": 20,
         "offsetgroup": "PHYSICAL SCIENCES",
         "orientation": "v",
         "showlegend": true,
         "type": "histogram",
         "x": [
          40000
         ],
         "xaxis": "x",
         "yaxis": "y"
        },
        {
         "alignmentgroup": "True",
         "bingroup": "x",
         "hovertemplate": "Major=MILITARY TECHNOLOGIES<br>Median=%{x}<br>count=%{y}<extra></extra>",
         "legendgroup": "MILITARY TECHNOLOGIES",
         "marker": {
          "color": "#ab63fa",
          "opacity": 0.5,
          "pattern": {
           "shape": ""
          }
         },
         "name": "MILITARY TECHNOLOGIES",
         "nbinsx": 20,
         "offsetgroup": "MILITARY TECHNOLOGIES",
         "orientation": "v",
         "showlegend": true,
         "type": "histogram",
         "x": [
          40000
         ],
         "xaxis": "x",
         "yaxis": "y"
        },
        {
         "alignmentgroup": "True",
         "bingroup": "x",
         "hovertemplate": "Major=CHEMISTRY<br>Median=%{x}<br>count=%{y}<extra></extra>",
         "legendgroup": "CHEMISTRY",
         "marker": {
          "color": "#FFA15A",
          "opacity": 0.5,
          "pattern": {
           "shape": ""
          }
         },
         "name": "CHEMISTRY",
         "nbinsx": 20,
         "offsetgroup": "CHEMISTRY",
         "orientation": "v",
         "showlegend": true,
         "type": "histogram",
         "x": [
          39000
         ],
         "xaxis": "x",
         "yaxis": "y"
        },
        {
         "alignmentgroup": "True",
         "bingroup": "x",
         "hovertemplate": "Major=ELECTRICAL, MECHANICAL, AND PRECISION TECHNOLOGIES AND PRODUCTION<br>Median=%{x}<br>count=%{y}<extra></extra>",
         "legendgroup": "ELECTRICAL, MECHANICAL, AND PRECISION TECHNOLOGIES AND PRODUCTION",
         "marker": {
          "color": "#19d3f3",
          "opacity": 0.5,
          "pattern": {
           "shape": ""
          }
         },
         "name": "ELECTRICAL, MECHANICAL, AND PRECISION TECHNOLOGIES AND PRODUCTION",
         "nbinsx": 20,
         "offsetgroup": "ELECTRICAL, MECHANICAL, AND PRECISION TECHNOLOGIES AND PRODUCTION",
         "orientation": "v",
         "showlegend": true,
         "type": "histogram",
         "x": [
          38400
         ],
         "xaxis": "x",
         "yaxis": "y"
        },
        {
         "alignmentgroup": "True",
         "bingroup": "x",
         "hovertemplate": "Major=BUSINESS MANAGEMENT AND ADMINISTRATION<br>Median=%{x}<br>count=%{y}<extra></extra>",
         "legendgroup": "BUSINESS MANAGEMENT AND ADMINISTRATION",
         "marker": {
          "color": "#FF6692",
          "opacity": 0.5,
          "pattern": {
           "shape": ""
          }
         },
         "name": "BUSINESS MANAGEMENT AND ADMINISTRATION",
         "nbinsx": 20,
         "offsetgroup": "BUSINESS MANAGEMENT AND ADMINISTRATION",
         "orientation": "v",
         "showlegend": true,
         "type": "histogram",
         "x": [
          38000
         ],
         "xaxis": "x",
         "yaxis": "y"
        },
        {
         "alignmentgroup": "True",
         "bingroup": "x",
         "hovertemplate": "Major=MARKETING AND MARKETING RESEARCH<br>Median=%{x}<br>count=%{y}<extra></extra>",
         "legendgroup": "MARKETING AND MARKETING RESEARCH",
         "marker": {
          "color": "#B6E880",
          "opacity": 0.5,
          "pattern": {
           "shape": ""
          }
         },
         "name": "MARKETING AND MARKETING RESEARCH",
         "nbinsx": 20,
         "offsetgroup": "MARKETING AND MARKETING RESEARCH",
         "orientation": "v",
         "showlegend": true,
         "type": "histogram",
         "x": [
          38000
         ],
         "xaxis": "x",
         "yaxis": "y"
        },
        {
         "alignmentgroup": "True",
         "bingroup": "x",
         "hovertemplate": "Major=POLITICAL SCIENCE AND GOVERNMENT<br>Median=%{x}<br>count=%{y}<extra></extra>",
         "legendgroup": "POLITICAL SCIENCE AND GOVERNMENT",
         "marker": {
          "color": "#FF97FF",
          "opacity": 0.5,
          "pattern": {
           "shape": ""
          }
         },
         "name": "POLITICAL SCIENCE AND GOVERNMENT",
         "nbinsx": 20,
         "offsetgroup": "POLITICAL SCIENCE AND GOVERNMENT",
         "orientation": "v",
         "showlegend": true,
         "type": "histogram",
         "x": [
          38000
         ],
         "xaxis": "x",
         "yaxis": "y"
        },
        {
         "alignmentgroup": "True",
         "bingroup": "x",
         "hovertemplate": "Major=GEOGRAPHY<br>Median=%{x}<br>count=%{y}<extra></extra>",
         "legendgroup": "GEOGRAPHY",
         "marker": {
          "color": "#FECB52",
          "opacity": 0.5,
          "pattern": {
           "shape": ""
          }
         },
         "name": "GEOGRAPHY",
         "nbinsx": 20,
         "offsetgroup": "GEOGRAPHY",
         "orientation": "v",
         "showlegend": true,
         "type": "histogram",
         "x": [
          38000
         ],
         "xaxis": "x",
         "yaxis": "y"
        },
        {
         "alignmentgroup": "True",
         "bingroup": "x",
         "hovertemplate": "Major=MICROBIOLOGY<br>Median=%{x}<br>count=%{y}<extra></extra>",
         "legendgroup": "MICROBIOLOGY",
         "marker": {
          "color": "#636efa",
          "opacity": 0.5,
          "pattern": {
           "shape": ""
          }
         },
         "name": "MICROBIOLOGY",
         "nbinsx": 20,
         "offsetgroup": "MICROBIOLOGY",
         "orientation": "v",
         "showlegend": true,
         "type": "histogram",
         "x": [
          38000
         ],
         "xaxis": "x",
         "yaxis": "y"
        },
        {
         "alignmentgroup": "True",
         "bingroup": "x",
         "hovertemplate": "Major=COMPUTER ADMINISTRATION MANAGEMENT AND SECURITY<br>Median=%{x}<br>count=%{y}<extra></extra>",
         "legendgroup": "COMPUTER ADMINISTRATION MANAGEMENT AND SECURITY",
         "marker": {
          "color": "#EF553B",
          "opacity": 0.5,
          "pattern": {
           "shape": ""
          }
         },
         "name": "COMPUTER ADMINISTRATION MANAGEMENT AND SECURITY",
         "nbinsx": 20,
         "offsetgroup": "COMPUTER ADMINISTRATION MANAGEMENT AND SECURITY",
         "orientation": "v",
         "showlegend": true,
         "type": "histogram",
         "x": [
          37500
         ],
         "xaxis": "x",
         "yaxis": "y"
        },
        {
         "alignmentgroup": "True",
         "bingroup": "x",
         "hovertemplate": "Major=BIOCHEMICAL SCIENCES<br>Median=%{x}<br>count=%{y}<extra></extra>",
         "legendgroup": "BIOCHEMICAL SCIENCES",
         "marker": {
          "color": "#00cc96",
          "opacity": 0.5,
          "pattern": {
           "shape": ""
          }
         },
         "name": "BIOCHEMICAL SCIENCES",
         "nbinsx": 20,
         "offsetgroup": "BIOCHEMICAL SCIENCES",
         "orientation": "v",
         "showlegend": true,
         "type": "histogram",
         "x": [
          37400
         ],
         "xaxis": "x",
         "yaxis": "y"
        },
        {
         "alignmentgroup": "True",
         "bingroup": "x",
         "hovertemplate": "Major=BOTANY<br>Median=%{x}<br>count=%{y}<extra></extra>",
         "legendgroup": "BOTANY",
         "marker": {
          "color": "#ab63fa",
          "opacity": 0.5,
          "pattern": {
           "shape": ""
          }
         },
         "name": "BOTANY",
         "nbinsx": 20,
         "offsetgroup": "BOTANY",
         "orientation": "v",
         "showlegend": true,
         "type": "histogram",
         "x": [
          37000
         ],
         "xaxis": "x",
         "yaxis": "y"
        },
        {
         "alignmentgroup": "True",
         "bingroup": "x",
         "hovertemplate": "Major=COMPUTER NETWORKING AND TELECOMMUNICATIONS<br>Median=%{x}<br>count=%{y}<extra></extra>",
         "legendgroup": "COMPUTER NETWORKING AND TELECOMMUNICATIONS",
         "marker": {
          "color": "#FFA15A",
          "opacity": 0.5,
          "pattern": {
           "shape": ""
          }
         },
         "name": "COMPUTER NETWORKING AND TELECOMMUNICATIONS",
         "nbinsx": 20,
         "offsetgroup": "COMPUTER NETWORKING AND TELECOMMUNICATIONS",
         "orientation": "v",
         "showlegend": true,
         "type": "histogram",
         "x": [
          36400
         ],
         "xaxis": "x",
         "yaxis": "y"
        },
        {
         "alignmentgroup": "True",
         "bingroup": "x",
         "hovertemplate": "Major=GEOLOGY AND EARTH SCIENCE<br>Median=%{x}<br>count=%{y}<extra></extra>",
         "legendgroup": "GEOLOGY AND EARTH SCIENCE",
         "marker": {
          "color": "#19d3f3",
          "opacity": 0.5,
          "pattern": {
           "shape": ""
          }
         },
         "name": "GEOLOGY AND EARTH SCIENCE",
         "nbinsx": 20,
         "offsetgroup": "GEOLOGY AND EARTH SCIENCE",
         "orientation": "v",
         "showlegend": true,
         "type": "histogram",
         "x": [
          36200
         ],
         "xaxis": "x",
         "yaxis": "y"
        },
        {
         "alignmentgroup": "True",
         "bingroup": "x",
         "hovertemplate": "Major=HUMAN RESOURCES AND PERSONNEL MANAGEMENT<br>Median=%{x}<br>count=%{y}<extra></extra>",
         "legendgroup": "HUMAN RESOURCES AND PERSONNEL MANAGEMENT",
         "marker": {
          "color": "#FF6692",
          "opacity": 0.5,
          "pattern": {
           "shape": ""
          }
         },
         "name": "HUMAN RESOURCES AND PERSONNEL MANAGEMENT",
         "nbinsx": 20,
         "offsetgroup": "HUMAN RESOURCES AND PERSONNEL MANAGEMENT",
         "orientation": "v",
         "showlegend": true,
         "type": "histogram",
         "x": [
          36000
         ],
         "xaxis": "x",
         "yaxis": "y"
        },
        {
         "alignmentgroup": "True",
         "bingroup": "x",
         "hovertemplate": "Major=PRE-LAW AND LEGAL STUDIES<br>Median=%{x}<br>count=%{y}<extra></extra>",
         "legendgroup": "PRE-LAW AND LEGAL STUDIES",
         "marker": {
          "color": "#B6E880",
          "opacity": 0.5,
          "pattern": {
           "shape": ""
          }
         },
         "name": "PRE-LAW AND LEGAL STUDIES",
         "nbinsx": 20,
         "offsetgroup": "PRE-LAW AND LEGAL STUDIES",
         "orientation": "v",
         "showlegend": true,
         "type": "histogram",
         "x": [
          36000
         ],
         "xaxis": "x",
         "yaxis": "y"
        },
        {
         "alignmentgroup": "True",
         "bingroup": "x",
         "hovertemplate": "Major=MISCELLANEOUS HEALTH MEDICAL PROFESSIONS<br>Median=%{x}<br>count=%{y}<extra></extra>",
         "legendgroup": "MISCELLANEOUS HEALTH MEDICAL PROFESSIONS",
         "marker": {
          "color": "#FF97FF",
          "opacity": 0.5,
          "pattern": {
           "shape": ""
          }
         },
         "name": "MISCELLANEOUS HEALTH MEDICAL PROFESSIONS",
         "nbinsx": 20,
         "offsetgroup": "MISCELLANEOUS HEALTH MEDICAL PROFESSIONS",
         "orientation": "v",
         "showlegend": true,
         "type": "histogram",
         "x": [
          36000
         ],
         "xaxis": "x",
         "yaxis": "y"
        },
        {
         "alignmentgroup": "True",
         "bingroup": "x",
         "hovertemplate": "Major=PUBLIC ADMINISTRATION<br>Median=%{x}<br>count=%{y}<extra></extra>",
         "legendgroup": "PUBLIC ADMINISTRATION",
         "marker": {
          "color": "#FECB52",
          "opacity": 0.5,
          "pattern": {
           "shape": ""
          }
         },
         "name": "PUBLIC ADMINISTRATION",
         "nbinsx": 20,
         "offsetgroup": "PUBLIC ADMINISTRATION",
         "orientation": "v",
         "showlegend": true,
         "type": "histogram",
         "x": [
          36000
         ],
         "xaxis": "x",
         "yaxis": "y"
        },
        {
         "alignmentgroup": "True",
         "bingroup": "x",
         "hovertemplate": "Major=GEOSCIENCES<br>Median=%{x}<br>count=%{y}<extra></extra>",
         "legendgroup": "GEOSCIENCES",
         "marker": {
          "color": "#636efa",
          "opacity": 0.5,
          "pattern": {
           "shape": ""
          }
         },
         "name": "GEOSCIENCES",
         "nbinsx": 20,
         "offsetgroup": "GEOSCIENCES",
         "orientation": "v",
         "showlegend": true,
         "type": "histogram",
         "x": [
          36000
         ],
         "xaxis": "x",
         "yaxis": "y"
        },
        {
         "alignmentgroup": "True",
         "bingroup": "x",
         "hovertemplate": "Major=SOCIAL PSYCHOLOGY<br>Median=%{x}<br>count=%{y}<extra></extra>",
         "legendgroup": "SOCIAL PSYCHOLOGY",
         "marker": {
          "color": "#EF553B",
          "opacity": 0.5,
          "pattern": {
           "shape": ""
          }
         },
         "name": "SOCIAL PSYCHOLOGY",
         "nbinsx": 20,
         "offsetgroup": "SOCIAL PSYCHOLOGY",
         "orientation": "v",
         "showlegend": true,
         "type": "histogram",
         "x": [
          36000
         ],
         "xaxis": "x",
         "yaxis": "y"
        },
        {
         "alignmentgroup": "True",
         "bingroup": "x",
         "hovertemplate": "Major=ENVIRONMENTAL SCIENCE<br>Median=%{x}<br>count=%{y}<extra></extra>",
         "legendgroup": "ENVIRONMENTAL SCIENCE",
         "marker": {
          "color": "#00cc96",
          "opacity": 0.5,
          "pattern": {
           "shape": ""
          }
         },
         "name": "ENVIRONMENTAL SCIENCE",
         "nbinsx": 20,
         "offsetgroup": "ENVIRONMENTAL SCIENCE",
         "orientation": "v",
         "showlegend": true,
         "type": "histogram",
         "x": [
          35600
         ],
         "xaxis": "x",
         "yaxis": "y"
        },
        {
         "alignmentgroup": "True",
         "bingroup": "x",
         "hovertemplate": "Major=COMMUNICATIONS<br>Median=%{x}<br>count=%{y}<extra></extra>",
         "legendgroup": "COMMUNICATIONS",
         "marker": {
          "color": "#ab63fa",
          "opacity": 0.5,
          "pattern": {
           "shape": ""
          }
         },
         "name": "COMMUNICATIONS",
         "nbinsx": 20,
         "offsetgroup": "COMMUNICATIONS",
         "orientation": "v",
         "showlegend": true,
         "type": "histogram",
         "x": [
          35000
         ],
         "xaxis": "x",
         "yaxis": "y"
        },
        {
         "alignmentgroup": "True",
         "bingroup": "x",
         "hovertemplate": "Major=CRIMINAL JUSTICE AND FIRE PROTECTION<br>Median=%{x}<br>count=%{y}<extra></extra>",
         "legendgroup": "CRIMINAL JUSTICE AND FIRE PROTECTION",
         "marker": {
          "color": "#FFA15A",
          "opacity": 0.5,
          "pattern": {
           "shape": ""
          }
         },
         "name": "CRIMINAL JUSTICE AND FIRE PROTECTION",
         "nbinsx": 20,
         "offsetgroup": "CRIMINAL JUSTICE AND FIRE PROTECTION",
         "orientation": "v",
         "showlegend": true,
         "type": "histogram",
         "x": [
          35000
         ],
         "xaxis": "x",
         "yaxis": "y"
        },
        {
         "alignmentgroup": "True",
         "bingroup": "x",
         "hovertemplate": "Major=COMMERCIAL ART AND GRAPHIC DESIGN<br>Median=%{x}<br>count=%{y}<extra></extra>",
         "legendgroup": "COMMERCIAL ART AND GRAPHIC DESIGN",
         "marker": {
          "color": "#19d3f3",
          "opacity": 0.5,
          "pattern": {
           "shape": ""
          }
         },
         "name": "COMMERCIAL ART AND GRAPHIC DESIGN",
         "nbinsx": 20,
         "offsetgroup": "COMMERCIAL ART AND GRAPHIC DESIGN",
         "orientation": "v",
         "showlegend": true,
         "type": "histogram",
         "x": [
          35000
         ],
         "xaxis": "x",
         "yaxis": "y"
        },
        {
         "alignmentgroup": "True",
         "bingroup": "x",
         "hovertemplate": "Major=JOURNALISM<br>Median=%{x}<br>count=%{y}<extra></extra>",
         "legendgroup": "JOURNALISM",
         "marker": {
          "color": "#FF6692",
          "opacity": 0.5,
          "pattern": {
           "shape": ""
          }
         },
         "name": "JOURNALISM",
         "nbinsx": 20,
         "offsetgroup": "JOURNALISM",
         "orientation": "v",
         "showlegend": true,
         "type": "histogram",
         "x": [
          35000
         ],
         "xaxis": "x",
         "yaxis": "y"
        },
        {
         "alignmentgroup": "True",
         "bingroup": "x",
         "hovertemplate": "Major=MULTI-DISCIPLINARY OR GENERAL SCIENCE<br>Median=%{x}<br>count=%{y}<extra></extra>",
         "legendgroup": "MULTI-DISCIPLINARY OR GENERAL SCIENCE",
         "marker": {
          "color": "#B6E880",
          "opacity": 0.5,
          "pattern": {
           "shape": ""
          }
         },
         "name": "MULTI-DISCIPLINARY OR GENERAL SCIENCE",
         "nbinsx": 20,
         "offsetgroup": "MULTI-DISCIPLINARY OR GENERAL SCIENCE",
         "orientation": "v",
         "showlegend": true,
         "type": "histogram",
         "x": [
          35000
         ],
         "xaxis": "x",
         "yaxis": "y"
        },
        {
         "alignmentgroup": "True",
         "bingroup": "x",
         "hovertemplate": "Major=ADVERTISING AND PUBLIC RELATIONS<br>Median=%{x}<br>count=%{y}<extra></extra>",
         "legendgroup": "ADVERTISING AND PUBLIC RELATIONS",
         "marker": {
          "color": "#FF97FF",
          "opacity": 0.5,
          "pattern": {
           "shape": ""
          }
         },
         "name": "ADVERTISING AND PUBLIC RELATIONS",
         "nbinsx": 20,
         "offsetgroup": "ADVERTISING AND PUBLIC RELATIONS",
         "orientation": "v",
         "showlegend": true,
         "type": "histogram",
         "x": [
          35000
         ],
         "xaxis": "x",
         "yaxis": "y"
        },
        {
         "alignmentgroup": "True",
         "bingroup": "x",
         "hovertemplate": "Major=AREA ETHNIC AND CIVILIZATION STUDIES<br>Median=%{x}<br>count=%{y}<extra></extra>",
         "legendgroup": "AREA ETHNIC AND CIVILIZATION STUDIES",
         "marker": {
          "color": "#FECB52",
          "opacity": 0.5,
          "pattern": {
           "shape": ""
          }
         },
         "name": "AREA ETHNIC AND CIVILIZATION STUDIES",
         "nbinsx": 20,
         "offsetgroup": "AREA ETHNIC AND CIVILIZATION STUDIES",
         "orientation": "v",
         "showlegend": true,
         "type": "histogram",
         "x": [
          35000
         ],
         "xaxis": "x",
         "yaxis": "y"
        },
        {
         "alignmentgroup": "True",
         "bingroup": "x",
         "hovertemplate": "Major=SPECIAL NEEDS EDUCATION<br>Median=%{x}<br>count=%{y}<extra></extra>",
         "legendgroup": "SPECIAL NEEDS EDUCATION",
         "marker": {
          "color": "#636efa",
          "opacity": 0.5,
          "pattern": {
           "shape": ""
          }
         },
         "name": "SPECIAL NEEDS EDUCATION",
         "nbinsx": 20,
         "offsetgroup": "SPECIAL NEEDS EDUCATION",
         "orientation": "v",
         "showlegend": true,
         "type": "histogram",
         "x": [
          35000
         ],
         "xaxis": "x",
         "yaxis": "y"
        },
        {
         "alignmentgroup": "True",
         "bingroup": "x",
         "hovertemplate": "Major=PHYSIOLOGY<br>Median=%{x}<br>count=%{y}<extra></extra>",
         "legendgroup": "PHYSIOLOGY",
         "marker": {
          "color": "#EF553B",
          "opacity": 0.5,
          "pattern": {
           "shape": ""
          }
         },
         "name": "PHYSIOLOGY",
         "nbinsx": 20,
         "offsetgroup": "PHYSIOLOGY",
         "orientation": "v",
         "showlegend": true,
         "type": "histogram",
         "x": [
          35000
         ],
         "xaxis": "x",
         "yaxis": "y"
        },
        {
         "alignmentgroup": "True",
         "bingroup": "x",
         "hovertemplate": "Major=CRIMINOLOGY<br>Median=%{x}<br>count=%{y}<extra></extra>",
         "legendgroup": "CRIMINOLOGY",
         "marker": {
          "color": "#00cc96",
          "opacity": 0.5,
          "pattern": {
           "shape": ""
          }
         },
         "name": "CRIMINOLOGY",
         "nbinsx": 20,
         "offsetgroup": "CRIMINOLOGY",
         "orientation": "v",
         "showlegend": true,
         "type": "histogram",
         "x": [
          35000
         ],
         "xaxis": "x",
         "yaxis": "y"
        },
        {
         "alignmentgroup": "True",
         "bingroup": "x",
         "hovertemplate": "Major=NUTRITION SCIENCES<br>Median=%{x}<br>count=%{y}<extra></extra>",
         "legendgroup": "NUTRITION SCIENCES",
         "marker": {
          "color": "#ab63fa",
          "opacity": 0.5,
          "pattern": {
           "shape": ""
          }
         },
         "name": "NUTRITION SCIENCES",
         "nbinsx": 20,
         "offsetgroup": "NUTRITION SCIENCES",
         "orientation": "v",
         "showlegend": true,
         "type": "histogram",
         "x": [
          35000
         ],
         "xaxis": "x",
         "yaxis": "y"
        },
        {
         "alignmentgroup": "True",
         "bingroup": "x",
         "hovertemplate": "Major=HEALTH AND MEDICAL ADMINISTRATIVE SERVICES<br>Median=%{x}<br>count=%{y}<extra></extra>",
         "legendgroup": "HEALTH AND MEDICAL ADMINISTRATIVE SERVICES",
         "marker": {
          "color": "#FFA15A",
          "opacity": 0.5,
          "pattern": {
           "shape": ""
          }
         },
         "name": "HEALTH AND MEDICAL ADMINISTRATIVE SERVICES",
         "nbinsx": 20,
         "offsetgroup": "HEALTH AND MEDICAL ADMINISTRATIVE SERVICES",
         "orientation": "v",
         "showlegend": true,
         "type": "histogram",
         "x": [
          35000
         ],
         "xaxis": "x",
         "yaxis": "y"
        },
        {
         "alignmentgroup": "True",
         "bingroup": "x",
         "hovertemplate": "Major=COMMUNICATION TECHNOLOGIES<br>Median=%{x}<br>count=%{y}<extra></extra>",
         "legendgroup": "COMMUNICATION TECHNOLOGIES",
         "marker": {
          "color": "#19d3f3",
          "opacity": 0.5,
          "pattern": {
           "shape": ""
          }
         },
         "name": "COMMUNICATION TECHNOLOGIES",
         "nbinsx": 20,
         "offsetgroup": "COMMUNICATION TECHNOLOGIES",
         "orientation": "v",
         "showlegend": true,
         "type": "histogram",
         "x": [
          35000
         ],
         "xaxis": "x",
         "yaxis": "y"
        },
        {
         "alignmentgroup": "True",
         "bingroup": "x",
         "hovertemplate": "Major=TRANSPORTATION SCIENCES AND TECHNOLOGIES<br>Median=%{x}<br>count=%{y}<extra></extra>",
         "legendgroup": "TRANSPORTATION SCIENCES AND TECHNOLOGIES",
         "marker": {
          "color": "#FF6692",
          "opacity": 0.5,
          "pattern": {
           "shape": ""
          }
         },
         "name": "TRANSPORTATION SCIENCES AND TECHNOLOGIES",
         "nbinsx": 20,
         "offsetgroup": "TRANSPORTATION SCIENCES AND TECHNOLOGIES",
         "orientation": "v",
         "showlegend": true,
         "type": "histogram",
         "x": [
          35000
         ],
         "xaxis": "x",
         "yaxis": "y"
        },
        {
         "alignmentgroup": "True",
         "bingroup": "x",
         "hovertemplate": "Major=NATURAL RESOURCES MANAGEMENT<br>Median=%{x}<br>count=%{y}<extra></extra>",
         "legendgroup": "NATURAL RESOURCES MANAGEMENT",
         "marker": {
          "color": "#B6E880",
          "opacity": 0.5,
          "pattern": {
           "shape": ""
          }
         },
         "name": "NATURAL RESOURCES MANAGEMENT",
         "nbinsx": 20,
         "offsetgroup": "NATURAL RESOURCES MANAGEMENT",
         "orientation": "v",
         "showlegend": true,
         "type": "histogram",
         "x": [
          35000
         ],
         "xaxis": "x",
         "yaxis": "y"
        },
        {
         "alignmentgroup": "True",
         "bingroup": "x",
         "hovertemplate": "Major=NEUROSCIENCE<br>Median=%{x}<br>count=%{y}<extra></extra>",
         "legendgroup": "NEUROSCIENCE",
         "marker": {
          "color": "#FF97FF",
          "opacity": 0.5,
          "pattern": {
           "shape": ""
          }
         },
         "name": "NEUROSCIENCE",
         "nbinsx": 20,
         "offsetgroup": "NEUROSCIENCE",
         "orientation": "v",
         "showlegend": true,
         "type": "histogram",
         "x": [
          35000
         ],
         "xaxis": "x",
         "yaxis": "y"
        },
        {
         "alignmentgroup": "True",
         "bingroup": "x",
         "hovertemplate": "Major=MULTI/INTERDISCIPLINARY STUDIES<br>Median=%{x}<br>count=%{y}<extra></extra>",
         "legendgroup": "MULTI/INTERDISCIPLINARY STUDIES",
         "marker": {
          "color": "#FECB52",
          "opacity": 0.5,
          "pattern": {
           "shape": ""
          }
         },
         "name": "MULTI/INTERDISCIPLINARY STUDIES",
         "nbinsx": 20,
         "offsetgroup": "MULTI/INTERDISCIPLINARY STUDIES",
         "orientation": "v",
         "showlegend": true,
         "type": "histogram",
         "x": [
          35000
         ],
         "xaxis": "x",
         "yaxis": "y"
        },
        {
         "alignmentgroup": "True",
         "bingroup": "x",
         "hovertemplate": "Major=ATMOSPHERIC SCIENCES AND METEOROLOGY<br>Median=%{x}<br>count=%{y}<extra></extra>",
         "legendgroup": "ATMOSPHERIC SCIENCES AND METEOROLOGY",
         "marker": {
          "color": "#636efa",
          "opacity": 0.5,
          "pattern": {
           "shape": ""
          }
         },
         "name": "ATMOSPHERIC SCIENCES AND METEOROLOGY",
         "nbinsx": 20,
         "offsetgroup": "ATMOSPHERIC SCIENCES AND METEOROLOGY",
         "orientation": "v",
         "showlegend": true,
         "type": "histogram",
         "x": [
          35000
         ],
         "xaxis": "x",
         "yaxis": "y"
        },
        {
         "alignmentgroup": "True",
         "bingroup": "x",
         "hovertemplate": "Major=FORESTRY<br>Median=%{x}<br>count=%{y}<extra></extra>",
         "legendgroup": "FORESTRY",
         "marker": {
          "color": "#EF553B",
          "opacity": 0.5,
          "pattern": {
           "shape": ""
          }
         },
         "name": "FORESTRY",
         "nbinsx": 20,
         "offsetgroup": "FORESTRY",
         "orientation": "v",
         "showlegend": true,
         "type": "histogram",
         "x": [
          35000
         ],
         "xaxis": "x",
         "yaxis": "y"
        },
        {
         "alignmentgroup": "True",
         "bingroup": "x",
         "hovertemplate": "Major=SOIL SCIENCE<br>Median=%{x}<br>count=%{y}<extra></extra>",
         "legendgroup": "SOIL SCIENCE",
         "marker": {
          "color": "#00cc96",
          "opacity": 0.5,
          "pattern": {
           "shape": ""
          }
         },
         "name": "SOIL SCIENCE",
         "nbinsx": 20,
         "offsetgroup": "SOIL SCIENCE",
         "orientation": "v",
         "showlegend": true,
         "type": "histogram",
         "x": [
          35000
         ],
         "xaxis": "x",
         "yaxis": "y"
        },
        {
         "alignmentgroup": "True",
         "bingroup": "x",
         "hovertemplate": "Major=GENERAL EDUCATION<br>Median=%{x}<br>count=%{y}<extra></extra>",
         "legendgroup": "GENERAL EDUCATION",
         "marker": {
          "color": "#ab63fa",
          "opacity": 0.5,
          "pattern": {
           "shape": ""
          }
         },
         "name": "GENERAL EDUCATION",
         "nbinsx": 20,
         "offsetgroup": "GENERAL EDUCATION",
         "orientation": "v",
         "showlegend": true,
         "type": "histogram",
         "x": [
          34000
         ],
         "xaxis": "x",
         "yaxis": "y"
        },
        {
         "alignmentgroup": "True",
         "bingroup": "x",
         "hovertemplate": "Major=HISTORY<br>Median=%{x}<br>count=%{y}<extra></extra>",
         "legendgroup": "HISTORY",
         "marker": {
          "color": "#FFA15A",
          "opacity": 0.5,
          "pattern": {
           "shape": ""
          }
         },
         "name": "HISTORY",
         "nbinsx": 20,
         "offsetgroup": "HISTORY",
         "orientation": "v",
         "showlegend": true,
         "type": "histogram",
         "x": [
          34000
         ],
         "xaxis": "x",
         "yaxis": "y"
        },
        {
         "alignmentgroup": "True",
         "bingroup": "x",
         "hovertemplate": "Major=FRENCH GERMAN LATIN AND OTHER COMMON FOREIGN LANGUAGE STUDIES<br>Median=%{x}<br>count=%{y}<extra></extra>",
         "legendgroup": "FRENCH GERMAN LATIN AND OTHER COMMON FOREIGN LANGUAGE STUDIES",
         "marker": {
          "color": "#19d3f3",
          "opacity": 0.5,
          "pattern": {
           "shape": ""
          }
         },
         "name": "FRENCH GERMAN LATIN AND OTHER COMMON FOREIGN LANGUAGE STUDIES",
         "nbinsx": 20,
         "offsetgroup": "FRENCH GERMAN LATIN AND OTHER COMMON FOREIGN LANGUAGE STUDIES",
         "orientation": "v",
         "showlegend": true,
         "type": "histogram",
         "x": [
          34000
         ],
         "xaxis": "x",
         "yaxis": "y"
        },
        {
         "alignmentgroup": "True",
         "bingroup": "x",
         "hovertemplate": "Major=INTERCULTURAL AND INTERNATIONAL STUDIES<br>Median=%{x}<br>count=%{y}<extra></extra>",
         "legendgroup": "INTERCULTURAL AND INTERNATIONAL STUDIES",
         "marker": {
          "color": "#FF6692",
          "opacity": 0.5,
          "pattern": {
           "shape": ""
          }
         },
         "name": "INTERCULTURAL AND INTERNATIONAL STUDIES",
         "nbinsx": 20,
         "offsetgroup": "INTERCULTURAL AND INTERNATIONAL STUDIES",
         "orientation": "v",
         "showlegend": true,
         "type": "histogram",
         "x": [
          34000
         ],
         "xaxis": "x",
         "yaxis": "y"
        },
        {
         "alignmentgroup": "True",
         "bingroup": "x",
         "hovertemplate": "Major=SOCIAL SCIENCE OR HISTORY TEACHER EDUCATION<br>Median=%{x}<br>count=%{y}<extra></extra>",
         "legendgroup": "SOCIAL SCIENCE OR HISTORY TEACHER EDUCATION",
         "marker": {
          "color": "#B6E880",
          "opacity": 0.5,
          "pattern": {
           "shape": ""
          }
         },
         "name": "SOCIAL SCIENCE OR HISTORY TEACHER EDUCATION",
         "nbinsx": 20,
         "offsetgroup": "SOCIAL SCIENCE OR HISTORY TEACHER EDUCATION",
         "orientation": "v",
         "showlegend": true,
         "type": "histogram",
         "x": [
          34000
         ],
         "xaxis": "x",
         "yaxis": "y"
        },
        {
         "alignmentgroup": "True",
         "bingroup": "x",
         "hovertemplate": "Major=COMMUNITY AND PUBLIC HEALTH<br>Median=%{x}<br>count=%{y}<extra></extra>",
         "legendgroup": "COMMUNITY AND PUBLIC HEALTH",
         "marker": {
          "color": "#FF97FF",
          "opacity": 0.5,
          "pattern": {
           "shape": ""
          }
         },
         "name": "COMMUNITY AND PUBLIC HEALTH",
         "nbinsx": 20,
         "offsetgroup": "COMMUNITY AND PUBLIC HEALTH",
         "orientation": "v",
         "showlegend": true,
         "type": "histogram",
         "x": [
          34000
         ],
         "xaxis": "x",
         "yaxis": "y"
        },
        {
         "alignmentgroup": "True",
         "bingroup": "x",
         "hovertemplate": "Major=MATHEMATICS TEACHER EDUCATION<br>Median=%{x}<br>count=%{y}<extra></extra>",
         "legendgroup": "MATHEMATICS TEACHER EDUCATION",
         "marker": {
          "color": "#FECB52",
          "opacity": 0.5,
          "pattern": {
           "shape": ""
          }
         },
         "name": "MATHEMATICS TEACHER EDUCATION",
         "nbinsx": 20,
         "offsetgroup": "MATHEMATICS TEACHER EDUCATION",
         "orientation": "v",
         "showlegend": true,
         "type": "histogram",
         "x": [
          34000
         ],
         "xaxis": "x",
         "yaxis": "y"
        },
        {
         "alignmentgroup": "True",
         "bingroup": "x",
         "hovertemplate": "Major=EDUCATIONAL ADMINISTRATION AND SUPERVISION<br>Median=%{x}<br>count=%{y}<extra></extra>",
         "legendgroup": "EDUCATIONAL ADMINISTRATION AND SUPERVISION",
         "marker": {
          "color": "#636efa",
          "opacity": 0.5,
          "pattern": {
           "shape": ""
          }
         },
         "name": "EDUCATIONAL ADMINISTRATION AND SUPERVISION",
         "nbinsx": 20,
         "offsetgroup": "EDUCATIONAL ADMINISTRATION AND SUPERVISION",
         "orientation": "v",
         "showlegend": true,
         "type": "histogram",
         "x": [
          34000
         ],
         "xaxis": "x",
         "yaxis": "y"
        },
        {
         "alignmentgroup": "True",
         "bingroup": "x",
         "hovertemplate": "Major=HEALTH AND MEDICAL PREPARATORY PROGRAMS<br>Median=%{x}<br>count=%{y}<extra></extra>",
         "legendgroup": "HEALTH AND MEDICAL PREPARATORY PROGRAMS",
         "marker": {
          "color": "#EF553B",
          "opacity": 0.5,
          "pattern": {
           "shape": ""
          }
         },
         "name": "HEALTH AND MEDICAL PREPARATORY PROGRAMS",
         "nbinsx": 20,
         "offsetgroup": "HEALTH AND MEDICAL PREPARATORY PROGRAMS",
         "orientation": "v",
         "showlegend": true,
         "type": "histogram",
         "x": [
          33500
         ],
         "xaxis": "x",
         "yaxis": "y"
        },
        {
         "alignmentgroup": "True",
         "bingroup": "x",
         "hovertemplate": "Major=MISCELLANEOUS BIOLOGY<br>Median=%{x}<br>count=%{y}<extra></extra>",
         "legendgroup": "MISCELLANEOUS BIOLOGY",
         "marker": {
          "color": "#00cc96",
          "opacity": 0.5,
          "pattern": {
           "shape": ""
          }
         },
         "name": "MISCELLANEOUS BIOLOGY",
         "nbinsx": 20,
         "offsetgroup": "MISCELLANEOUS BIOLOGY",
         "orientation": "v",
         "showlegend": true,
         "type": "histogram",
         "x": [
          33500
         ],
         "xaxis": "x",
         "yaxis": "y"
        },
        {
         "alignmentgroup": "True",
         "bingroup": "x",
         "hovertemplate": "Major=BIOLOGY<br>Median=%{x}<br>count=%{y}<extra></extra>",
         "legendgroup": "BIOLOGY",
         "marker": {
          "color": "#ab63fa",
          "opacity": 0.5,
          "pattern": {
           "shape": ""
          }
         },
         "name": "BIOLOGY",
         "nbinsx": 20,
         "offsetgroup": "BIOLOGY",
         "orientation": "v",
         "showlegend": true,
         "type": "histogram",
         "x": [
          33400
         ],
         "xaxis": "x",
         "yaxis": "y"
        },
        {
         "alignmentgroup": "True",
         "bingroup": "x",
         "hovertemplate": "Major=SOCIOLOGY<br>Median=%{x}<br>count=%{y}<extra></extra>",
         "legendgroup": "SOCIOLOGY",
         "marker": {
          "color": "#FFA15A",
          "opacity": 0.5,
          "pattern": {
           "shape": ""
          }
         },
         "name": "SOCIOLOGY",
         "nbinsx": 20,
         "offsetgroup": "SOCIOLOGY",
         "orientation": "v",
         "showlegend": true,
         "type": "histogram",
         "x": [
          33000
         ],
         "xaxis": "x",
         "yaxis": "y"
        },
        {
         "alignmentgroup": "True",
         "bingroup": "x",
         "hovertemplate": "Major=MASS MEDIA<br>Median=%{x}<br>count=%{y}<extra></extra>",
         "legendgroup": "MASS MEDIA",
         "marker": {
          "color": "#19d3f3",
          "opacity": 0.5,
          "pattern": {
           "shape": ""
          }
         },
         "name": "MASS MEDIA",
         "nbinsx": 20,
         "offsetgroup": "MASS MEDIA",
         "orientation": "v",
         "showlegend": true,
         "type": "histogram",
         "x": [
          33000
         ],
         "xaxis": "x",
         "yaxis": "y"
        },
        {
         "alignmentgroup": "True",
         "bingroup": "x",
         "hovertemplate": "Major=TREATMENT THERAPY PROFESSIONS<br>Median=%{x}<br>count=%{y}<extra></extra>",
         "legendgroup": "TREATMENT THERAPY PROFESSIONS",
         "marker": {
          "color": "#FF6692",
          "opacity": 0.5,
          "pattern": {
           "shape": ""
          }
         },
         "name": "TREATMENT THERAPY PROFESSIONS",
         "nbinsx": 20,
         "offsetgroup": "TREATMENT THERAPY PROFESSIONS",
         "orientation": "v",
         "showlegend": true,
         "type": "histogram",
         "x": [
          33000
         ],
         "xaxis": "x",
         "yaxis": "y"
        },
        {
         "alignmentgroup": "True",
         "bingroup": "x",
         "hovertemplate": "Major=HOSPITALITY MANAGEMENT<br>Median=%{x}<br>count=%{y}<extra></extra>",
         "legendgroup": "HOSPITALITY MANAGEMENT",
         "marker": {
          "color": "#B6E880",
          "opacity": 0.5,
          "pattern": {
           "shape": ""
          }
         },
         "name": "HOSPITALITY MANAGEMENT",
         "nbinsx": 20,
         "offsetgroup": "HOSPITALITY MANAGEMENT",
         "orientation": "v",
         "showlegend": true,
         "type": "histogram",
         "x": [
          33000
         ],
         "xaxis": "x",
         "yaxis": "y"
        },
        {
         "alignmentgroup": "True",
         "bingroup": "x",
         "hovertemplate": "Major=LANGUAGE AND DRAMA EDUCATION<br>Median=%{x}<br>count=%{y}<extra></extra>",
         "legendgroup": "LANGUAGE AND DRAMA EDUCATION",
         "marker": {
          "color": "#FF97FF",
          "opacity": 0.5,
          "pattern": {
           "shape": ""
          }
         },
         "name": "LANGUAGE AND DRAMA EDUCATION",
         "nbinsx": 20,
         "offsetgroup": "LANGUAGE AND DRAMA EDUCATION",
         "orientation": "v",
         "showlegend": true,
         "type": "histogram",
         "x": [
          33000
         ],
         "xaxis": "x",
         "yaxis": "y"
        },
        {
         "alignmentgroup": "True",
         "bingroup": "x",
         "hovertemplate": "Major=LINGUISTICS AND COMPARATIVE LANGUAGE AND LITERATURE<br>Median=%{x}<br>count=%{y}<extra></extra>",
         "legendgroup": "LINGUISTICS AND COMPARATIVE LANGUAGE AND LITERATURE",
         "marker": {
          "color": "#FECB52",
          "opacity": 0.5,
          "pattern": {
           "shape": ""
          }
         },
         "name": "LINGUISTICS AND COMPARATIVE LANGUAGE AND LITERATURE",
         "nbinsx": 20,
         "offsetgroup": "LINGUISTICS AND COMPARATIVE LANGUAGE AND LITERATURE",
         "orientation": "v",
         "showlegend": true,
         "type": "histogram",
         "x": [
          33000
         ],
         "xaxis": "x",
         "yaxis": "y"
        },
        {
         "alignmentgroup": "True",
         "bingroup": "x",
         "hovertemplate": "Major=MISCELLANEOUS EDUCATION<br>Median=%{x}<br>count=%{y}<extra></extra>",
         "legendgroup": "MISCELLANEOUS EDUCATION",
         "marker": {
          "color": "#636efa",
          "opacity": 0.5,
          "pattern": {
           "shape": ""
          }
         },
         "name": "MISCELLANEOUS EDUCATION",
         "nbinsx": 20,
         "offsetgroup": "MISCELLANEOUS EDUCATION",
         "orientation": "v",
         "showlegend": true,
         "type": "histogram",
         "x": [
          33000
         ],
         "xaxis": "x",
         "yaxis": "y"
        },
        {
         "alignmentgroup": "True",
         "bingroup": "x",
         "hovertemplate": "Major=INTERDISCIPLINARY SOCIAL SCIENCES<br>Median=%{x}<br>count=%{y}<extra></extra>",
         "legendgroup": "INTERDISCIPLINARY SOCIAL SCIENCES",
         "marker": {
          "color": "#EF553B",
          "opacity": 0.5,
          "pattern": {
           "shape": ""
          }
         },
         "name": "INTERDISCIPLINARY SOCIAL SCIENCES",
         "nbinsx": 20,
         "offsetgroup": "INTERDISCIPLINARY SOCIAL SCIENCES",
         "orientation": "v",
         "showlegend": true,
         "type": "histogram",
         "x": [
          33000
         ],
         "xaxis": "x",
         "yaxis": "y"
        },
        {
         "alignmentgroup": "True",
         "bingroup": "x",
         "hovertemplate": "Major=ECOLOGY<br>Median=%{x}<br>count=%{y}<extra></extra>",
         "legendgroup": "ECOLOGY",
         "marker": {
          "color": "#00cc96",
          "opacity": 0.5,
          "pattern": {
           "shape": ""
          }
         },
         "name": "ECOLOGY",
         "nbinsx": 20,
         "offsetgroup": "ECOLOGY",
         "orientation": "v",
         "showlegend": true,
         "type": "histogram",
         "x": [
          33000
         ],
         "xaxis": "x",
         "yaxis": "y"
        },
        {
         "alignmentgroup": "True",
         "bingroup": "x",
         "hovertemplate": "Major=SECONDARY TEACHER EDUCATION<br>Median=%{x}<br>count=%{y}<extra></extra>",
         "legendgroup": "SECONDARY TEACHER EDUCATION",
         "marker": {
          "color": "#ab63fa",
          "opacity": 0.5,
          "pattern": {
           "shape": ""
          }
         },
         "name": "SECONDARY TEACHER EDUCATION",
         "nbinsx": 20,
         "offsetgroup": "SECONDARY TEACHER EDUCATION",
         "orientation": "v",
         "showlegend": true,
         "type": "histogram",
         "x": [
          32500
         ],
         "xaxis": "x",
         "yaxis": "y"
        },
        {
         "alignmentgroup": "True",
         "bingroup": "x",
         "hovertemplate": "Major=GENERAL MEDICAL AND HEALTH SERVICES<br>Median=%{x}<br>count=%{y}<extra></extra>",
         "legendgroup": "GENERAL MEDICAL AND HEALTH SERVICES",
         "marker": {
          "color": "#FFA15A",
          "opacity": 0.5,
          "pattern": {
           "shape": ""
          }
         },
         "name": "GENERAL MEDICAL AND HEALTH SERVICES",
         "nbinsx": 20,
         "offsetgroup": "GENERAL MEDICAL AND HEALTH SERVICES",
         "orientation": "v",
         "showlegend": true,
         "type": "histogram",
         "x": [
          32400
         ],
         "xaxis": "x",
         "yaxis": "y"
        },
        {
         "alignmentgroup": "True",
         "bingroup": "x",
         "hovertemplate": "Major=PHILOSOPHY AND RELIGIOUS STUDIES<br>Median=%{x}<br>count=%{y}<extra></extra>",
         "legendgroup": "PHILOSOPHY AND RELIGIOUS STUDIES",
         "marker": {
          "color": "#19d3f3",
          "opacity": 0.5,
          "pattern": {
           "shape": ""
          }
         },
         "name": "PHILOSOPHY AND RELIGIOUS STUDIES",
         "nbinsx": 20,
         "offsetgroup": "PHILOSOPHY AND RELIGIOUS STUDIES",
         "orientation": "v",
         "showlegend": true,
         "type": "histogram",
         "x": [
          32200
         ],
         "xaxis": "x",
         "yaxis": "y"
        },
        {
         "alignmentgroup": "True",
         "bingroup": "x",
         "hovertemplate": "Major=ART AND MUSIC EDUCATION<br>Median=%{x}<br>count=%{y}<extra></extra>",
         "legendgroup": "ART AND MUSIC EDUCATION",
         "marker": {
          "color": "#FF6692",
          "opacity": 0.5,
          "pattern": {
           "shape": ""
          }
         },
         "name": "ART AND MUSIC EDUCATION",
         "nbinsx": 20,
         "offsetgroup": "ART AND MUSIC EDUCATION",
         "orientation": "v",
         "showlegend": true,
         "type": "histogram",
         "x": [
          32100
         ],
         "xaxis": "x",
         "yaxis": "y"
        },
        {
         "alignmentgroup": "True",
         "bingroup": "x",
         "hovertemplate": "Major=ENGLISH LANGUAGE AND LITERATURE<br>Median=%{x}<br>count=%{y}<extra></extra>",
         "legendgroup": "ENGLISH LANGUAGE AND LITERATURE",
         "marker": {
          "color": "#B6E880",
          "opacity": 0.5,
          "pattern": {
           "shape": ""
          }
         },
         "name": "ENGLISH LANGUAGE AND LITERATURE",
         "nbinsx": 20,
         "offsetgroup": "ENGLISH LANGUAGE AND LITERATURE",
         "orientation": "v",
         "showlegend": true,
         "type": "histogram",
         "x": [
          32000
         ],
         "xaxis": "x",
         "yaxis": "y"
        },
        {
         "alignmentgroup": "True",
         "bingroup": "x",
         "hovertemplate": "Major=ELEMENTARY EDUCATION<br>Median=%{x}<br>count=%{y}<extra></extra>",
         "legendgroup": "ELEMENTARY EDUCATION",
         "marker": {
          "color": "#FF97FF",
          "opacity": 0.5,
          "pattern": {
           "shape": ""
          }
         },
         "name": "ELEMENTARY EDUCATION",
         "nbinsx": 20,
         "offsetgroup": "ELEMENTARY EDUCATION",
         "orientation": "v",
         "showlegend": true,
         "type": "histogram",
         "x": [
          32000
         ],
         "xaxis": "x",
         "yaxis": "y"
        },
        {
         "alignmentgroup": "True",
         "bingroup": "x",
         "hovertemplate": "Major=PHYSICAL FITNESS PARKS RECREATION AND LEISURE<br>Median=%{x}<br>count=%{y}<extra></extra>",
         "legendgroup": "PHYSICAL FITNESS PARKS RECREATION AND LEISURE",
         "marker": {
          "color": "#FECB52",
          "opacity": 0.5,
          "pattern": {
           "shape": ""
          }
         },
         "name": "PHYSICAL FITNESS PARKS RECREATION AND LEISURE",
         "nbinsx": 20,
         "offsetgroup": "PHYSICAL FITNESS PARKS RECREATION AND LEISURE",
         "orientation": "v",
         "showlegend": true,
         "type": "histogram",
         "x": [
          32000
         ],
         "xaxis": "x",
         "yaxis": "y"
        },
        {
         "alignmentgroup": "True",
         "bingroup": "x",
         "hovertemplate": "Major=LIBERAL ARTS<br>Median=%{x}<br>count=%{y}<extra></extra>",
         "legendgroup": "LIBERAL ARTS",
         "marker": {
          "color": "#636efa",
          "opacity": 0.5,
          "pattern": {
           "shape": ""
          }
         },
         "name": "LIBERAL ARTS",
         "nbinsx": 20,
         "offsetgroup": "LIBERAL ARTS",
         "orientation": "v",
         "showlegend": true,
         "type": "histogram",
         "x": [
          32000
         ],
         "xaxis": "x",
         "yaxis": "y"
        },
        {
         "alignmentgroup": "True",
         "bingroup": "x",
         "hovertemplate": "Major=FILM VIDEO AND PHOTOGRAPHIC ARTS<br>Median=%{x}<br>count=%{y}<extra></extra>",
         "legendgroup": "FILM VIDEO AND PHOTOGRAPHIC ARTS",
         "marker": {
          "color": "#EF553B",
          "opacity": 0.5,
          "pattern": {
           "shape": ""
          }
         },
         "name": "FILM VIDEO AND PHOTOGRAPHIC ARTS",
         "nbinsx": 20,
         "offsetgroup": "FILM VIDEO AND PHOTOGRAPHIC ARTS",
         "orientation": "v",
         "showlegend": true,
         "type": "histogram",
         "x": [
          32000
         ],
         "xaxis": "x",
         "yaxis": "y"
        },
        {
         "alignmentgroup": "True",
         "bingroup": "x",
         "hovertemplate": "Major=GENERAL SOCIAL SCIENCES<br>Median=%{x}<br>count=%{y}<extra></extra>",
         "legendgroup": "GENERAL SOCIAL SCIENCES",
         "marker": {
          "color": "#00cc96",
          "opacity": 0.5,
          "pattern": {
           "shape": ""
          }
         },
         "name": "GENERAL SOCIAL SCIENCES",
         "nbinsx": 20,
         "offsetgroup": "GENERAL SOCIAL SCIENCES",
         "orientation": "v",
         "showlegend": true,
         "type": "histogram",
         "x": [
          32000
         ],
         "xaxis": "x",
         "yaxis": "y"
        },
        {
         "alignmentgroup": "True",
         "bingroup": "x",
         "hovertemplate": "Major=PLANT SCIENCE AND AGRONOMY<br>Median=%{x}<br>count=%{y}<extra></extra>",
         "legendgroup": "PLANT SCIENCE AND AGRONOMY",
         "marker": {
          "color": "#ab63fa",
          "opacity": 0.5,
          "pattern": {
           "shape": ""
          }
         },
         "name": "PLANT SCIENCE AND AGRONOMY",
         "nbinsx": 20,
         "offsetgroup": "PLANT SCIENCE AND AGRONOMY",
         "orientation": "v",
         "showlegend": true,
         "type": "histogram",
         "x": [
          32000
         ],
         "xaxis": "x",
         "yaxis": "y"
        },
        {
         "alignmentgroup": "True",
         "bingroup": "x",
         "hovertemplate": "Major=SCIENCE AND COMPUTER TEACHER EDUCATION<br>Median=%{x}<br>count=%{y}<extra></extra>",
         "legendgroup": "SCIENCE AND COMPUTER TEACHER EDUCATION",
         "marker": {
          "color": "#FFA15A",
          "opacity": 0.5,
          "pattern": {
           "shape": ""
          }
         },
         "name": "SCIENCE AND COMPUTER TEACHER EDUCATION",
         "nbinsx": 20,
         "offsetgroup": "SCIENCE AND COMPUTER TEACHER EDUCATION",
         "orientation": "v",
         "showlegend": true,
         "type": "histogram",
         "x": [
          32000
         ],
         "xaxis": "x",
         "yaxis": "y"
        },
        {
         "alignmentgroup": "True",
         "bingroup": "x",
         "hovertemplate": "Major=PSYCHOLOGY<br>Median=%{x}<br>count=%{y}<extra></extra>",
         "legendgroup": "PSYCHOLOGY",
         "marker": {
          "color": "#19d3f3",
          "opacity": 0.5,
          "pattern": {
           "shape": ""
          }
         },
         "name": "PSYCHOLOGY",
         "nbinsx": 20,
         "offsetgroup": "PSYCHOLOGY",
         "orientation": "v",
         "showlegend": true,
         "type": "histogram",
         "x": [
          31500
         ],
         "xaxis": "x",
         "yaxis": "y"
        },
        {
         "alignmentgroup": "True",
         "bingroup": "x",
         "hovertemplate": "Major=MUSIC<br>Median=%{x}<br>count=%{y}<extra></extra>",
         "legendgroup": "MUSIC",
         "marker": {
          "color": "#FF6692",
          "opacity": 0.5,
          "pattern": {
           "shape": ""
          }
         },
         "name": "MUSIC",
         "nbinsx": 20,
         "offsetgroup": "MUSIC",
         "orientation": "v",
         "showlegend": true,
         "type": "histogram",
         "x": [
          31000
         ],
         "xaxis": "x",
         "yaxis": "y"
        },
        {
         "alignmentgroup": "True",
         "bingroup": "x",
         "hovertemplate": "Major=PHYSICAL AND HEALTH EDUCATION TEACHING<br>Median=%{x}<br>count=%{y}<extra></extra>",
         "legendgroup": "PHYSICAL AND HEALTH EDUCATION TEACHING",
         "marker": {
          "color": "#B6E880",
          "opacity": 0.5,
          "pattern": {
           "shape": ""
          }
         },
         "name": "PHYSICAL AND HEALTH EDUCATION TEACHING",
         "nbinsx": 20,
         "offsetgroup": "PHYSICAL AND HEALTH EDUCATION TEACHING",
         "orientation": "v",
         "showlegend": true,
         "type": "histogram",
         "x": [
          31000
         ],
         "xaxis": "x",
         "yaxis": "y"
        },
        {
         "alignmentgroup": "True",
         "bingroup": "x",
         "hovertemplate": "Major=ART HISTORY AND CRITICISM<br>Median=%{x}<br>count=%{y}<extra></extra>",
         "legendgroup": "ART HISTORY AND CRITICISM",
         "marker": {
          "color": "#FF97FF",
          "opacity": 0.5,
          "pattern": {
           "shape": ""
          }
         },
         "name": "ART HISTORY AND CRITICISM",
         "nbinsx": 20,
         "offsetgroup": "ART HISTORY AND CRITICISM",
         "orientation": "v",
         "showlegend": true,
         "type": "histogram",
         "x": [
          31000
         ],
         "xaxis": "x",
         "yaxis": "y"
        },
        {
         "alignmentgroup": "True",
         "bingroup": "x",
         "hovertemplate": "Major=FINE ARTS<br>Median=%{x}<br>count=%{y}<extra></extra>",
         "legendgroup": "FINE ARTS",
         "marker": {
          "color": "#FECB52",
          "opacity": 0.5,
          "pattern": {
           "shape": ""
          }
         },
         "name": "FINE ARTS",
         "nbinsx": 20,
         "offsetgroup": "FINE ARTS",
         "orientation": "v",
         "showlegend": true,
         "type": "histogram",
         "x": [
          30500
         ],
         "xaxis": "x",
         "yaxis": "y"
        },
        {
         "alignmentgroup": "True",
         "bingroup": "x",
         "hovertemplate": "Major=FAMILY AND CONSUMER SCIENCES<br>Median=%{x}<br>count=%{y}<extra></extra>",
         "legendgroup": "FAMILY AND CONSUMER SCIENCES",
         "marker": {
          "color": "#636efa",
          "opacity": 0.5,
          "pattern": {
           "shape": ""
          }
         },
         "name": "FAMILY AND CONSUMER SCIENCES",
         "nbinsx": 20,
         "offsetgroup": "FAMILY AND CONSUMER SCIENCES",
         "orientation": "v",
         "showlegend": true,
         "type": "histogram",
         "x": [
          30000
         ],
         "xaxis": "x",
         "yaxis": "y"
        },
        {
         "alignmentgroup": "True",
         "bingroup": "x",
         "hovertemplate": "Major=SOCIAL WORK<br>Median=%{x}<br>count=%{y}<extra></extra>",
         "legendgroup": "SOCIAL WORK",
         "marker": {
          "color": "#EF553B",
          "opacity": 0.5,
          "pattern": {
           "shape": ""
          }
         },
         "name": "SOCIAL WORK",
         "nbinsx": 20,
         "offsetgroup": "SOCIAL WORK",
         "orientation": "v",
         "showlegend": true,
         "type": "histogram",
         "x": [
          30000
         ],
         "xaxis": "x",
         "yaxis": "y"
        },
        {
         "alignmentgroup": "True",
         "bingroup": "x",
         "hovertemplate": "Major=ANIMAL SCIENCES<br>Median=%{x}<br>count=%{y}<extra></extra>",
         "legendgroup": "ANIMAL SCIENCES",
         "marker": {
          "color": "#00cc96",
          "opacity": 0.5,
          "pattern": {
           "shape": ""
          }
         },
         "name": "ANIMAL SCIENCES",
         "nbinsx": 20,
         "offsetgroup": "ANIMAL SCIENCES",
         "orientation": "v",
         "showlegend": true,
         "type": "histogram",
         "x": [
          30000
         ],
         "xaxis": "x",
         "yaxis": "y"
        },
        {
         "alignmentgroup": "True",
         "bingroup": "x",
         "hovertemplate": "Major=VISUAL AND PERFORMING ARTS<br>Median=%{x}<br>count=%{y}<extra></extra>",
         "legendgroup": "VISUAL AND PERFORMING ARTS",
         "marker": {
          "color": "#ab63fa",
          "opacity": 0.5,
          "pattern": {
           "shape": ""
          }
         },
         "name": "VISUAL AND PERFORMING ARTS",
         "nbinsx": 20,
         "offsetgroup": "VISUAL AND PERFORMING ARTS",
         "orientation": "v",
         "showlegend": true,
         "type": "histogram",
         "x": [
          30000
         ],
         "xaxis": "x",
         "yaxis": "y"
        },
        {
         "alignmentgroup": "True",
         "bingroup": "x",
         "hovertemplate": "Major=TEACHER EDUCATION: MULTIPLE LEVELS<br>Median=%{x}<br>count=%{y}<extra></extra>",
         "legendgroup": "TEACHER EDUCATION: MULTIPLE LEVELS",
         "marker": {
          "color": "#FFA15A",
          "opacity": 0.5,
          "pattern": {
           "shape": ""
          }
         },
         "name": "TEACHER EDUCATION: MULTIPLE LEVELS",
         "nbinsx": 20,
         "offsetgroup": "TEACHER EDUCATION: MULTIPLE LEVELS",
         "orientation": "v",
         "showlegend": true,
         "type": "histogram",
         "x": [
          30000
         ],
         "xaxis": "x",
         "yaxis": "y"
        },
        {
         "alignmentgroup": "True",
         "bingroup": "x",
         "hovertemplate": "Major=MISCELLANEOUS PSYCHOLOGY<br>Median=%{x}<br>count=%{y}<extra></extra>",
         "legendgroup": "MISCELLANEOUS PSYCHOLOGY",
         "marker": {
          "color": "#19d3f3",
          "opacity": 0.5,
          "pattern": {
           "shape": ""
          }
         },
         "name": "MISCELLANEOUS PSYCHOLOGY",
         "nbinsx": 20,
         "offsetgroup": "MISCELLANEOUS PSYCHOLOGY",
         "orientation": "v",
         "showlegend": true,
         "type": "histogram",
         "x": [
          30000
         ],
         "xaxis": "x",
         "yaxis": "y"
        },
        {
         "alignmentgroup": "True",
         "bingroup": "x",
         "hovertemplate": "Major=HUMAN SERVICES AND COMMUNITY ORGANIZATION<br>Median=%{x}<br>count=%{y}<extra></extra>",
         "legendgroup": "HUMAN SERVICES AND COMMUNITY ORGANIZATION",
         "marker": {
          "color": "#FF6692",
          "opacity": 0.5,
          "pattern": {
           "shape": ""
          }
         },
         "name": "HUMAN SERVICES AND COMMUNITY ORGANIZATION",
         "nbinsx": 20,
         "offsetgroup": "HUMAN SERVICES AND COMMUNITY ORGANIZATION",
         "orientation": "v",
         "showlegend": true,
         "type": "histogram",
         "x": [
          30000
         ],
         "xaxis": "x",
         "yaxis": "y"
        },
        {
         "alignmentgroup": "True",
         "bingroup": "x",
         "hovertemplate": "Major=HUMANITIES<br>Median=%{x}<br>count=%{y}<extra></extra>",
         "legendgroup": "HUMANITIES",
         "marker": {
          "color": "#B6E880",
          "opacity": 0.5,
          "pattern": {
           "shape": ""
          }
         },
         "name": "HUMANITIES",
         "nbinsx": 20,
         "offsetgroup": "HUMANITIES",
         "orientation": "v",
         "showlegend": true,
         "type": "histogram",
         "x": [
          30000
         ],
         "xaxis": "x",
         "yaxis": "y"
        },
        {
         "alignmentgroup": "True",
         "bingroup": "x",
         "hovertemplate": "Major=THEOLOGY AND RELIGIOUS VOCATIONS<br>Median=%{x}<br>count=%{y}<extra></extra>",
         "legendgroup": "THEOLOGY AND RELIGIOUS VOCATIONS",
         "marker": {
          "color": "#FF97FF",
          "opacity": 0.5,
          "pattern": {
           "shape": ""
          }
         },
         "name": "THEOLOGY AND RELIGIOUS VOCATIONS",
         "nbinsx": 20,
         "offsetgroup": "THEOLOGY AND RELIGIOUS VOCATIONS",
         "orientation": "v",
         "showlegend": true,
         "type": "histogram",
         "x": [
          29000
         ],
         "xaxis": "x",
         "yaxis": "y"
        },
        {
         "alignmentgroup": "True",
         "bingroup": "x",
         "hovertemplate": "Major=STUDIO ARTS<br>Median=%{x}<br>count=%{y}<extra></extra>",
         "legendgroup": "STUDIO ARTS",
         "marker": {
          "color": "#FECB52",
          "opacity": 0.5,
          "pattern": {
           "shape": ""
          }
         },
         "name": "STUDIO ARTS",
         "nbinsx": 20,
         "offsetgroup": "STUDIO ARTS",
         "orientation": "v",
         "showlegend": true,
         "type": "histogram",
         "x": [
          29000
         ],
         "xaxis": "x",
         "yaxis": "y"
        },
        {
         "alignmentgroup": "True",
         "bingroup": "x",
         "hovertemplate": "Major=COSMETOLOGY SERVICES AND CULINARY ARTS<br>Median=%{x}<br>count=%{y}<extra></extra>",
         "legendgroup": "COSMETOLOGY SERVICES AND CULINARY ARTS",
         "marker": {
          "color": "#636efa",
          "opacity": 0.5,
          "pattern": {
           "shape": ""
          }
         },
         "name": "COSMETOLOGY SERVICES AND CULINARY ARTS",
         "nbinsx": 20,
         "offsetgroup": "COSMETOLOGY SERVICES AND CULINARY ARTS",
         "orientation": "v",
         "showlegend": true,
         "type": "histogram",
         "x": [
          29000
         ],
         "xaxis": "x",
         "yaxis": "y"
        },
        {
         "alignmentgroup": "True",
         "bingroup": "x",
         "hovertemplate": "Major=MISCELLANEOUS AGRICULTURE<br>Median=%{x}<br>count=%{y}<extra></extra>",
         "legendgroup": "MISCELLANEOUS AGRICULTURE",
         "marker": {
          "color": "#EF553B",
          "opacity": 0.5,
          "pattern": {
           "shape": ""
          }
         },
         "name": "MISCELLANEOUS AGRICULTURE",
         "nbinsx": 20,
         "offsetgroup": "MISCELLANEOUS AGRICULTURE",
         "orientation": "v",
         "showlegend": true,
         "type": "histogram",
         "x": [
          29000
         ],
         "xaxis": "x",
         "yaxis": "y"
        },
        {
         "alignmentgroup": "True",
         "bingroup": "x",
         "hovertemplate": "Major=ANTHROPOLOGY AND ARCHEOLOGY<br>Median=%{x}<br>count=%{y}<extra></extra>",
         "legendgroup": "ANTHROPOLOGY AND ARCHEOLOGY",
         "marker": {
          "color": "#00cc96",
          "opacity": 0.5,
          "pattern": {
           "shape": ""
          }
         },
         "name": "ANTHROPOLOGY AND ARCHEOLOGY",
         "nbinsx": 20,
         "offsetgroup": "ANTHROPOLOGY AND ARCHEOLOGY",
         "orientation": "v",
         "showlegend": true,
         "type": "histogram",
         "x": [
          28000
         ],
         "xaxis": "x",
         "yaxis": "y"
        },
        {
         "alignmentgroup": "True",
         "bingroup": "x",
         "hovertemplate": "Major=COMMUNICATION DISORDERS SCIENCES AND SERVICES<br>Median=%{x}<br>count=%{y}<extra></extra>",
         "legendgroup": "COMMUNICATION DISORDERS SCIENCES AND SERVICES",
         "marker": {
          "color": "#ab63fa",
          "opacity": 0.5,
          "pattern": {
           "shape": ""
          }
         },
         "name": "COMMUNICATION DISORDERS SCIENCES AND SERVICES",
         "nbinsx": 20,
         "offsetgroup": "COMMUNICATION DISORDERS SCIENCES AND SERVICES",
         "orientation": "v",
         "showlegend": true,
         "type": "histogram",
         "x": [
          28000
         ],
         "xaxis": "x",
         "yaxis": "y"
        },
        {
         "alignmentgroup": "True",
         "bingroup": "x",
         "hovertemplate": "Major=EARLY CHILDHOOD EDUCATION<br>Median=%{x}<br>count=%{y}<extra></extra>",
         "legendgroup": "EARLY CHILDHOOD EDUCATION",
         "marker": {
          "color": "#FFA15A",
          "opacity": 0.5,
          "pattern": {
           "shape": ""
          }
         },
         "name": "EARLY CHILDHOOD EDUCATION",
         "nbinsx": 20,
         "offsetgroup": "EARLY CHILDHOOD EDUCATION",
         "orientation": "v",
         "showlegend": true,
         "type": "histogram",
         "x": [
          28000
         ],
         "xaxis": "x",
         "yaxis": "y"
        },
        {
         "alignmentgroup": "True",
         "bingroup": "x",
         "hovertemplate": "Major=OTHER FOREIGN LANGUAGES<br>Median=%{x}<br>count=%{y}<extra></extra>",
         "legendgroup": "OTHER FOREIGN LANGUAGES",
         "marker": {
          "color": "#19d3f3",
          "opacity": 0.5,
          "pattern": {
           "shape": ""
          }
         },
         "name": "OTHER FOREIGN LANGUAGES",
         "nbinsx": 20,
         "offsetgroup": "OTHER FOREIGN LANGUAGES",
         "orientation": "v",
         "showlegend": true,
         "type": "histogram",
         "x": [
          27500
         ],
         "xaxis": "x",
         "yaxis": "y"
        },
        {
         "alignmentgroup": "True",
         "bingroup": "x",
         "hovertemplate": "Major=DRAMA AND THEATER ARTS<br>Median=%{x}<br>count=%{y}<extra></extra>",
         "legendgroup": "DRAMA AND THEATER ARTS",
         "marker": {
          "color": "#FF6692",
          "opacity": 0.5,
          "pattern": {
           "shape": ""
          }
         },
         "name": "DRAMA AND THEATER ARTS",
         "nbinsx": 20,
         "offsetgroup": "DRAMA AND THEATER ARTS",
         "orientation": "v",
         "showlegend": true,
         "type": "histogram",
         "x": [
          27000
         ],
         "xaxis": "x",
         "yaxis": "y"
        },
        {
         "alignmentgroup": "True",
         "bingroup": "x",
         "hovertemplate": "Major=COMPOSITION AND RHETORIC<br>Median=%{x}<br>count=%{y}<extra></extra>",
         "legendgroup": "COMPOSITION AND RHETORIC",
         "marker": {
          "color": "#B6E880",
          "opacity": 0.5,
          "pattern": {
           "shape": ""
          }
         },
         "name": "COMPOSITION AND RHETORIC",
         "nbinsx": 20,
         "offsetgroup": "COMPOSITION AND RHETORIC",
         "orientation": "v",
         "showlegend": true,
         "type": "histogram",
         "x": [
          27000
         ],
         "xaxis": "x",
         "yaxis": "y"
        },
        {
         "alignmentgroup": "True",
         "bingroup": "x",
         "hovertemplate": "Major=ZOOLOGY<br>Median=%{x}<br>count=%{y}<extra></extra>",
         "legendgroup": "ZOOLOGY",
         "marker": {
          "color": "#FF97FF",
          "opacity": 0.5,
          "pattern": {
           "shape": ""
          }
         },
         "name": "ZOOLOGY",
         "nbinsx": 20,
         "offsetgroup": "ZOOLOGY",
         "orientation": "v",
         "showlegend": true,
         "type": "histogram",
         "x": [
          26000
         ],
         "xaxis": "x",
         "yaxis": "y"
        },
        {
         "alignmentgroup": "True",
         "bingroup": "x",
         "hovertemplate": "Major=EDUCATIONAL PSYCHOLOGY<br>Median=%{x}<br>count=%{y}<extra></extra>",
         "legendgroup": "EDUCATIONAL PSYCHOLOGY",
         "marker": {
          "color": "#FECB52",
          "opacity": 0.5,
          "pattern": {
           "shape": ""
          }
         },
         "name": "EDUCATIONAL PSYCHOLOGY",
         "nbinsx": 20,
         "offsetgroup": "EDUCATIONAL PSYCHOLOGY",
         "orientation": "v",
         "showlegend": true,
         "type": "histogram",
         "x": [
          25000
         ],
         "xaxis": "x",
         "yaxis": "y"
        },
        {
         "alignmentgroup": "True",
         "bingroup": "x",
         "hovertemplate": "Major=CLINICAL PSYCHOLOGY<br>Median=%{x}<br>count=%{y}<extra></extra>",
         "legendgroup": "CLINICAL PSYCHOLOGY",
         "marker": {
          "color": "#636efa",
          "opacity": 0.5,
          "pattern": {
           "shape": ""
          }
         },
         "name": "CLINICAL PSYCHOLOGY",
         "nbinsx": 20,
         "offsetgroup": "CLINICAL PSYCHOLOGY",
         "orientation": "v",
         "showlegend": true,
         "type": "histogram",
         "x": [
          25000
         ],
         "xaxis": "x",
         "yaxis": "y"
        },
        {
         "alignmentgroup": "True",
         "bingroup": "x",
         "hovertemplate": "Major=COUNSELING PSYCHOLOGY<br>Median=%{x}<br>count=%{y}<extra></extra>",
         "legendgroup": "COUNSELING PSYCHOLOGY",
         "marker": {
          "color": "#EF553B",
          "opacity": 0.5,
          "pattern": {
           "shape": ""
          }
         },
         "name": "COUNSELING PSYCHOLOGY",
         "nbinsx": 20,
         "offsetgroup": "COUNSELING PSYCHOLOGY",
         "orientation": "v",
         "showlegend": true,
         "type": "histogram",
         "x": [
          23400
         ],
         "xaxis": "x",
         "yaxis": "y"
        },
        {
         "alignmentgroup": "True",
         "bingroup": "x",
         "hovertemplate": "Major=LIBRARY SCIENCE<br>Median=%{x}<br>count=%{y}<extra></extra>",
         "legendgroup": "LIBRARY SCIENCE",
         "marker": {
          "color": "#00cc96",
          "opacity": 0.5,
          "pattern": {
           "shape": ""
          }
         },
         "name": "LIBRARY SCIENCE",
         "nbinsx": 20,
         "offsetgroup": "LIBRARY SCIENCE",
         "orientation": "v",
         "showlegend": true,
         "type": "histogram",
         "x": [
          22000
         ],
         "xaxis": "x",
         "yaxis": "y"
        }
       ],
       "layout": {
        "autosize": true,
        "barmode": "relative",
        "legend": {
         "title": {
          "text": "Major"
         },
         "tracegroupgap": 0
        },
        "margin": {
         "t": 60
        },
        "template": {
         "data": {
          "bar": [
           {
            "error_x": {
             "color": "#2a3f5f"
            },
            "error_y": {
             "color": "#2a3f5f"
            },
            "marker": {
             "line": {
              "color": "#E5ECF6",
              "width": 0.5
             },
             "pattern": {
              "fillmode": "overlay",
              "size": 10,
              "solidity": 0.2
             }
            },
            "type": "bar"
           }
          ],
          "barpolar": [
           {
            "marker": {
             "line": {
              "color": "#E5ECF6",
              "width": 0.5
             },
             "pattern": {
              "fillmode": "overlay",
              "size": 10,
              "solidity": 0.2
             }
            },
            "type": "barpolar"
           }
          ],
          "carpet": [
           {
            "aaxis": {
             "endlinecolor": "#2a3f5f",
             "gridcolor": "white",
             "linecolor": "white",
             "minorgridcolor": "white",
             "startlinecolor": "#2a3f5f"
            },
            "baxis": {
             "endlinecolor": "#2a3f5f",
             "gridcolor": "white",
             "linecolor": "white",
             "minorgridcolor": "white",
             "startlinecolor": "#2a3f5f"
            },
            "type": "carpet"
           }
          ],
          "choropleth": [
           {
            "colorbar": {
             "outlinewidth": 0,
             "ticks": ""
            },
            "type": "choropleth"
           }
          ],
          "contour": [
           {
            "colorbar": {
             "outlinewidth": 0,
             "ticks": ""
            },
            "colorscale": [
             [
              0,
              "#0d0887"
             ],
             [
              0.1111111111111111,
              "#46039f"
             ],
             [
              0.2222222222222222,
              "#7201a8"
             ],
             [
              0.3333333333333333,
              "#9c179e"
             ],
             [
              0.4444444444444444,
              "#bd3786"
             ],
             [
              0.5555555555555556,
              "#d8576b"
             ],
             [
              0.6666666666666666,
              "#ed7953"
             ],
             [
              0.7777777777777778,
              "#fb9f3a"
             ],
             [
              0.8888888888888888,
              "#fdca26"
             ],
             [
              1,
              "#f0f921"
             ]
            ],
            "type": "contour"
           }
          ],
          "contourcarpet": [
           {
            "colorbar": {
             "outlinewidth": 0,
             "ticks": ""
            },
            "type": "contourcarpet"
           }
          ],
          "heatmap": [
           {
            "colorbar": {
             "outlinewidth": 0,
             "ticks": ""
            },
            "colorscale": [
             [
              0,
              "#0d0887"
             ],
             [
              0.1111111111111111,
              "#46039f"
             ],
             [
              0.2222222222222222,
              "#7201a8"
             ],
             [
              0.3333333333333333,
              "#9c179e"
             ],
             [
              0.4444444444444444,
              "#bd3786"
             ],
             [
              0.5555555555555556,
              "#d8576b"
             ],
             [
              0.6666666666666666,
              "#ed7953"
             ],
             [
              0.7777777777777778,
              "#fb9f3a"
             ],
             [
              0.8888888888888888,
              "#fdca26"
             ],
             [
              1,
              "#f0f921"
             ]
            ],
            "type": "heatmap"
           }
          ],
          "heatmapgl": [
           {
            "colorbar": {
             "outlinewidth": 0,
             "ticks": ""
            },
            "colorscale": [
             [
              0,
              "#0d0887"
             ],
             [
              0.1111111111111111,
              "#46039f"
             ],
             [
              0.2222222222222222,
              "#7201a8"
             ],
             [
              0.3333333333333333,
              "#9c179e"
             ],
             [
              0.4444444444444444,
              "#bd3786"
             ],
             [
              0.5555555555555556,
              "#d8576b"
             ],
             [
              0.6666666666666666,
              "#ed7953"
             ],
             [
              0.7777777777777778,
              "#fb9f3a"
             ],
             [
              0.8888888888888888,
              "#fdca26"
             ],
             [
              1,
              "#f0f921"
             ]
            ],
            "type": "heatmapgl"
           }
          ],
          "histogram": [
           {
            "marker": {
             "pattern": {
              "fillmode": "overlay",
              "size": 10,
              "solidity": 0.2
             }
            },
            "type": "histogram"
           }
          ],
          "histogram2d": [
           {
            "colorbar": {
             "outlinewidth": 0,
             "ticks": ""
            },
            "colorscale": [
             [
              0,
              "#0d0887"
             ],
             [
              0.1111111111111111,
              "#46039f"
             ],
             [
              0.2222222222222222,
              "#7201a8"
             ],
             [
              0.3333333333333333,
              "#9c179e"
             ],
             [
              0.4444444444444444,
              "#bd3786"
             ],
             [
              0.5555555555555556,
              "#d8576b"
             ],
             [
              0.6666666666666666,
              "#ed7953"
             ],
             [
              0.7777777777777778,
              "#fb9f3a"
             ],
             [
              0.8888888888888888,
              "#fdca26"
             ],
             [
              1,
              "#f0f921"
             ]
            ],
            "type": "histogram2d"
           }
          ],
          "histogram2dcontour": [
           {
            "colorbar": {
             "outlinewidth": 0,
             "ticks": ""
            },
            "colorscale": [
             [
              0,
              "#0d0887"
             ],
             [
              0.1111111111111111,
              "#46039f"
             ],
             [
              0.2222222222222222,
              "#7201a8"
             ],
             [
              0.3333333333333333,
              "#9c179e"
             ],
             [
              0.4444444444444444,
              "#bd3786"
             ],
             [
              0.5555555555555556,
              "#d8576b"
             ],
             [
              0.6666666666666666,
              "#ed7953"
             ],
             [
              0.7777777777777778,
              "#fb9f3a"
             ],
             [
              0.8888888888888888,
              "#fdca26"
             ],
             [
              1,
              "#f0f921"
             ]
            ],
            "type": "histogram2dcontour"
           }
          ],
          "mesh3d": [
           {
            "colorbar": {
             "outlinewidth": 0,
             "ticks": ""
            },
            "type": "mesh3d"
           }
          ],
          "parcoords": [
           {
            "line": {
             "colorbar": {
              "outlinewidth": 0,
              "ticks": ""
             }
            },
            "type": "parcoords"
           }
          ],
          "pie": [
           {
            "automargin": true,
            "type": "pie"
           }
          ],
          "scatter": [
           {
            "fillpattern": {
             "fillmode": "overlay",
             "size": 10,
             "solidity": 0.2
            },
            "type": "scatter"
           }
          ],
          "scatter3d": [
           {
            "line": {
             "colorbar": {
              "outlinewidth": 0,
              "ticks": ""
             }
            },
            "marker": {
             "colorbar": {
              "outlinewidth": 0,
              "ticks": ""
             }
            },
            "type": "scatter3d"
           }
          ],
          "scattercarpet": [
           {
            "marker": {
             "colorbar": {
              "outlinewidth": 0,
              "ticks": ""
             }
            },
            "type": "scattercarpet"
           }
          ],
          "scattergeo": [
           {
            "marker": {
             "colorbar": {
              "outlinewidth": 0,
              "ticks": ""
             }
            },
            "type": "scattergeo"
           }
          ],
          "scattergl": [
           {
            "marker": {
             "colorbar": {
              "outlinewidth": 0,
              "ticks": ""
             }
            },
            "type": "scattergl"
           }
          ],
          "scattermapbox": [
           {
            "marker": {
             "colorbar": {
              "outlinewidth": 0,
              "ticks": ""
             }
            },
            "type": "scattermapbox"
           }
          ],
          "scatterpolar": [
           {
            "marker": {
             "colorbar": {
              "outlinewidth": 0,
              "ticks": ""
             }
            },
            "type": "scatterpolar"
           }
          ],
          "scatterpolargl": [
           {
            "marker": {
             "colorbar": {
              "outlinewidth": 0,
              "ticks": ""
             }
            },
            "type": "scatterpolargl"
           }
          ],
          "scatterternary": [
           {
            "marker": {
             "colorbar": {
              "outlinewidth": 0,
              "ticks": ""
             }
            },
            "type": "scatterternary"
           }
          ],
          "surface": [
           {
            "colorbar": {
             "outlinewidth": 0,
             "ticks": ""
            },
            "colorscale": [
             [
              0,
              "#0d0887"
             ],
             [
              0.1111111111111111,
              "#46039f"
             ],
             [
              0.2222222222222222,
              "#7201a8"
             ],
             [
              0.3333333333333333,
              "#9c179e"
             ],
             [
              0.4444444444444444,
              "#bd3786"
             ],
             [
              0.5555555555555556,
              "#d8576b"
             ],
             [
              0.6666666666666666,
              "#ed7953"
             ],
             [
              0.7777777777777778,
              "#fb9f3a"
             ],
             [
              0.8888888888888888,
              "#fdca26"
             ],
             [
              1,
              "#f0f921"
             ]
            ],
            "type": "surface"
           }
          ],
          "table": [
           {
            "cells": {
             "fill": {
              "color": "#EBF0F8"
             },
             "line": {
              "color": "white"
             }
            },
            "header": {
             "fill": {
              "color": "#C8D4E3"
             },
             "line": {
              "color": "white"
             }
            },
            "type": "table"
           }
          ]
         },
         "layout": {
          "annotationdefaults": {
           "arrowcolor": "#2a3f5f",
           "arrowhead": 0,
           "arrowwidth": 1
          },
          "autotypenumbers": "strict",
          "coloraxis": {
           "colorbar": {
            "outlinewidth": 0,
            "ticks": ""
           }
          },
          "colorscale": {
           "diverging": [
            [
             0,
             "#8e0152"
            ],
            [
             0.1,
             "#c51b7d"
            ],
            [
             0.2,
             "#de77ae"
            ],
            [
             0.3,
             "#f1b6da"
            ],
            [
             0.4,
             "#fde0ef"
            ],
            [
             0.5,
             "#f7f7f7"
            ],
            [
             0.6,
             "#e6f5d0"
            ],
            [
             0.7,
             "#b8e186"
            ],
            [
             0.8,
             "#7fbc41"
            ],
            [
             0.9,
             "#4d9221"
            ],
            [
             1,
             "#276419"
            ]
           ],
           "sequential": [
            [
             0,
             "#0d0887"
            ],
            [
             0.1111111111111111,
             "#46039f"
            ],
            [
             0.2222222222222222,
             "#7201a8"
            ],
            [
             0.3333333333333333,
             "#9c179e"
            ],
            [
             0.4444444444444444,
             "#bd3786"
            ],
            [
             0.5555555555555556,
             "#d8576b"
            ],
            [
             0.6666666666666666,
             "#ed7953"
            ],
            [
             0.7777777777777778,
             "#fb9f3a"
            ],
            [
             0.8888888888888888,
             "#fdca26"
            ],
            [
             1,
             "#f0f921"
            ]
           ],
           "sequentialminus": [
            [
             0,
             "#0d0887"
            ],
            [
             0.1111111111111111,
             "#46039f"
            ],
            [
             0.2222222222222222,
             "#7201a8"
            ],
            [
             0.3333333333333333,
             "#9c179e"
            ],
            [
             0.4444444444444444,
             "#bd3786"
            ],
            [
             0.5555555555555556,
             "#d8576b"
            ],
            [
             0.6666666666666666,
             "#ed7953"
            ],
            [
             0.7777777777777778,
             "#fb9f3a"
            ],
            [
             0.8888888888888888,
             "#fdca26"
            ],
            [
             1,
             "#f0f921"
            ]
           ]
          },
          "colorway": [
           "#636efa",
           "#EF553B",
           "#00cc96",
           "#ab63fa",
           "#FFA15A",
           "#19d3f3",
           "#FF6692",
           "#B6E880",
           "#FF97FF",
           "#FECB52"
          ],
          "font": {
           "color": "#2a3f5f"
          },
          "geo": {
           "bgcolor": "white",
           "lakecolor": "white",
           "landcolor": "#E5ECF6",
           "showlakes": true,
           "showland": true,
           "subunitcolor": "white"
          },
          "hoverlabel": {
           "align": "left"
          },
          "hovermode": "closest",
          "mapbox": {
           "style": "light"
          },
          "paper_bgcolor": "white",
          "plot_bgcolor": "#E5ECF6",
          "polar": {
           "angularaxis": {
            "gridcolor": "white",
            "linecolor": "white",
            "ticks": ""
           },
           "bgcolor": "#E5ECF6",
           "radialaxis": {
            "gridcolor": "white",
            "linecolor": "white",
            "ticks": ""
           }
          },
          "scene": {
           "xaxis": {
            "backgroundcolor": "#E5ECF6",
            "gridcolor": "white",
            "gridwidth": 2,
            "linecolor": "white",
            "showbackground": true,
            "ticks": "",
            "zerolinecolor": "white"
           },
           "yaxis": {
            "backgroundcolor": "#E5ECF6",
            "gridcolor": "white",
            "gridwidth": 2,
            "linecolor": "white",
            "showbackground": true,
            "ticks": "",
            "zerolinecolor": "white"
           },
           "zaxis": {
            "backgroundcolor": "#E5ECF6",
            "gridcolor": "white",
            "gridwidth": 2,
            "linecolor": "white",
            "showbackground": true,
            "ticks": "",
            "zerolinecolor": "white"
           }
          },
          "shapedefaults": {
           "line": {
            "color": "#2a3f5f"
           }
          },
          "ternary": {
           "aaxis": {
            "gridcolor": "white",
            "linecolor": "white",
            "ticks": ""
           },
           "baxis": {
            "gridcolor": "white",
            "linecolor": "white",
            "ticks": ""
           },
           "bgcolor": "#E5ECF6",
           "caxis": {
            "gridcolor": "white",
            "linecolor": "white",
            "ticks": ""
           }
          },
          "title": {
           "x": 0.05
          },
          "xaxis": {
           "automargin": true,
           "gridcolor": "white",
           "linecolor": "white",
           "ticks": "",
           "title": {
            "standoff": 15
           },
           "zerolinecolor": "white",
           "zerolinewidth": 2
          },
          "yaxis": {
           "automargin": true,
           "gridcolor": "white",
           "linecolor": "white",
           "ticks": "",
           "title": {
            "standoff": 15
           },
           "zerolinecolor": "white",
           "zerolinewidth": 2
          }
         }
        },
        "xaxis": {
         "anchor": "y",
         "autorange": true,
         "domain": [
          0,
          1
         ],
         "range": [
          19999.5,
          114999.5
         ],
         "title": {
          "text": "Median"
         },
         "type": "linear"
        },
        "yaxis": {
         "anchor": "x",
         "autorange": true,
         "domain": [
          0,
          1
         ],
         "range": [
          0,
          47.36842105263158
         ],
         "title": {
          "text": "count"
         }
        }
       }
      },
      "image/png": "[encoded data removed]",
      "text/html": [
       "<div>                            <div id=\"b4f1adf5-f41a-4660-8683-3e9baa4b4d93\" class=\"plotly-graph-div\" style=\"height:525px; width:100%;\"></div>            <script type=\"text/javascript\">                require([\"plotly\"], function(Plotly) {                    window.PLOTLYENV=window.PLOTLYENV || {};                                    if (document.getElementById(\"b4f1adf5-f41a-4660-8683-3e9baa4b4d93\")) {                    Plotly.newPlot(                        \"b4f1adf5-f41a-4660-8683-3e9baa4b4d93\",                        [{\"alignmentgroup\":\"True\",\"bingroup\":\"x\",\"hovertemplate\":\"Major=PETROLEUM ENGINEERING\\u003cbr\\u003eMedian=%{x}\\u003cbr\\u003ecount=%{y}\\u003cextra\\u003e\\u003c\\u002fextra\\u003e\",\"legendgroup\":\"PETROLEUM ENGINEERING\",\"marker\":{\"color\":\"#636efa\",\"opacity\":0.5,\"pattern\":{\"shape\":\"\"}},\"name\":\"PETROLEUM ENGINEERING\",\"nbinsx\":20,\"offsetgroup\":\"PETROLEUM ENGINEERING\",\"orientation\":\"v\",\"showlegend\":true,\"x\":[110000],\"xaxis\":\"x\",\"yaxis\":\"y\",\"type\":\"histogram\"},{\"alignmentgroup\":\"True\",\"bingroup\":\"x\",\"hovertemplate\":\"Major=MINING AND MINERAL ENGINEERING\\u003cbr\\u003eMedian=%{x}\\u003cbr\\u003ecount=%{y}\\u003cextra\\u003e\\u003c\\u002fextra\\u003e\",\"legendgroup\":\"MINING AND MINERAL ENGINEERING\",\"marker\":{\"color\":\"#EF553B\",\"opacity\":0.5,\"pattern\":{\"shape\":\"\"}},\"name\":\"MINING AND MINERAL ENGINEERING\",\"nbinsx\":20,\"offsetgroup\":\"MINING AND MINERAL ENGINEERING\",\"orientation\":\"v\",\"showlegend\":true,\"x\":[75000],\"xaxis\":\"x\",\"yaxis\":\"y\",\"type\":\"histogram\"},{\"alignmentgroup\":\"True\",\"bingroup\":\"x\",\"hovertemplate\":\"Major=METALLURGICAL ENGINEERING\\u003cbr\\u003eMedian=%{x}\\u003cbr\\u003ecount=%{y}\\u003cextra\\u003e\\u003c\\u002fextra\\u003e\",\"legendgroup\":\"METALLURGICAL ENGINEERING\",\"marker\":{\"color\":\"#00cc96\",\"opacity\":0.5,\"pattern\":{\"shape\":\"\"}},\"name\":\"METALLURGICAL ENGINEERING\",\"nbinsx\":20,\"offsetgroup\":\"METALLURGICAL ENGINEERING\",\"orientation\":\"v\",\"showlegend\":true,\"x\":[73000],\"xaxis\":\"x\",\"yaxis\":\"y\",\"type\":\"histogram\"},{\"alignmentgroup\":\"True\",\"bingroup\":\"x\",\"hovertemplate\":\"Major=NAVAL ARCHITECTURE AND MARINE ENGINEERING\\u003cbr\\u003eMedian=%{x}\\u003cbr\\u003ecount=%{y}\\u003cextra\\u003e\\u003c\\u002fextra\\u003e\",\"legendgroup\":\"NAVAL ARCHITECTURE AND MARINE ENGINEERING\",\"marker\":{\"color\":\"#ab63fa\",\"opacity\":0.5,\"pattern\":{\"shape\":\"\"}},\"name\":\"NAVAL ARCHITECTURE AND MARINE ENGINEERING\",\"nbinsx\":20,\"offsetgroup\":\"NAVAL ARCHITECTURE AND MARINE ENGINEERING\",\"orientation\":\"v\",\"showlegend\":true,\"x\":[70000],\"xaxis\":\"x\",\"yaxis\":\"y\",\"type\":\"histogram\"},{\"alignmentgroup\":\"True\",\"bingroup\":\"x\",\"hovertemplate\":\"Major=CHEMICAL ENGINEERING\\u003cbr\\u003eMedian=%{x}\\u003cbr\\u003ecount=%{y}\\u003cextra\\u003e\\u003c\\u002fextra\\u003e\",\"legendgroup\":\"CHEMICAL ENGINEERING\",\"marker\":{\"color\":\"#FFA15A\",\"opacity\":0.5,\"pattern\":{\"shape\":\"\"}},\"name\":\"CHEMICAL ENGINEERING\",\"nbinsx\":20,\"offsetgroup\":\"CHEMICAL ENGINEERING\",\"orientation\":\"v\",\"showlegend\":true,\"x\":[65000],\"xaxis\":\"x\",\"yaxis\":\"y\",\"type\":\"histogram\"},{\"alignmentgroup\":\"True\",\"bingroup\":\"x\",\"hovertemplate\":\"Major=NUCLEAR ENGINEERING\\u003cbr\\u003eMedian=%{x}\\u003cbr\\u003ecount=%{y}\\u003cextra\\u003e\\u003c\\u002fextra\\u003e\",\"legendgroup\":\"NUCLEAR ENGINEERING\",\"marker\":{\"color\":\"#19d3f3\",\"opacity\":0.5,\"pattern\":{\"shape\":\"\"}},\"name\":\"NUCLEAR ENGINEERING\",\"nbinsx\":20,\"offsetgroup\":\"NUCLEAR ENGINEERING\",\"orientation\":\"v\",\"showlegend\":true,\"x\":[65000],\"xaxis\":\"x\",\"yaxis\":\"y\",\"type\":\"histogram\"},{\"alignmentgroup\":\"True\",\"bingroup\":\"x\",\"hovertemplate\":\"Major=ACTUARIAL SCIENCE\\u003cbr\\u003eMedian=%{x}\\u003cbr\\u003ecount=%{y}\\u003cextra\\u003e\\u003c\\u002fextra\\u003e\",\"legendgroup\":\"ACTUARIAL SCIENCE\",\"marker\":{\"color\":\"#FF6692\",\"opacity\":0.5,\"pattern\":{\"shape\":\"\"}},\"name\":\"ACTUARIAL SCIENCE\",\"nbinsx\":20,\"offsetgroup\":\"ACTUARIAL SCIENCE\",\"orientation\":\"v\",\"showlegend\":true,\"x\":[62000],\"xaxis\":\"x\",\"yaxis\":\"y\",\"type\":\"histogram\"},{\"alignmentgroup\":\"True\",\"bingroup\":\"x\",\"hovertemplate\":\"Major=ASTRONOMY AND ASTROPHYSICS\\u003cbr\\u003eMedian=%{x}\\u003cbr\\u003ecount=%{y}\\u003cextra\\u003e\\u003c\\u002fextra\\u003e\",\"legendgroup\":\"ASTRONOMY AND ASTROPHYSICS\",\"marker\":{\"color\":\"#B6E880\",\"opacity\":0.5,\"pattern\":{\"shape\":\"\"}},\"name\":\"ASTRONOMY AND ASTROPHYSICS\",\"nbinsx\":20,\"offsetgroup\":\"ASTRONOMY AND ASTROPHYSICS\",\"orientation\":\"v\",\"showlegend\":true,\"x\":[62000],\"xaxis\":\"x\",\"yaxis\":\"y\",\"type\":\"histogram\"},{\"alignmentgroup\":\"True\",\"bingroup\":\"x\",\"hovertemplate\":\"Major=MECHANICAL ENGINEERING\\u003cbr\\u003eMedian=%{x}\\u003cbr\\u003ecount=%{y}\\u003cextra\\u003e\\u003c\\u002fextra\\u003e\",\"legendgroup\":\"MECHANICAL ENGINEERING\",\"marker\":{\"color\":\"#FF97FF\",\"opacity\":0.5,\"pattern\":{\"shape\":\"\"}},\"name\":\"MECHANICAL ENGINEERING\",\"nbinsx\":20,\"offsetgroup\":\"MECHANICAL ENGINEERING\",\"orientation\":\"v\",\"showlegend\":true,\"x\":[60000],\"xaxis\":\"x\",\"yaxis\":\"y\",\"type\":\"histogram\"},{\"alignmentgroup\":\"True\",\"bingroup\":\"x\",\"hovertemplate\":\"Major=ELECTRICAL ENGINEERING\\u003cbr\\u003eMedian=%{x}\\u003cbr\\u003ecount=%{y}\\u003cextra\\u003e\\u003c\\u002fextra\\u003e\",\"legendgroup\":\"ELECTRICAL ENGINEERING\",\"marker\":{\"color\":\"#FECB52\",\"opacity\":0.5,\"pattern\":{\"shape\":\"\"}},\"name\":\"ELECTRICAL ENGINEERING\",\"nbinsx\":20,\"offsetgroup\":\"ELECTRICAL ENGINEERING\",\"orientation\":\"v\",\"showlegend\":true,\"x\":[60000],\"xaxis\":\"x\",\"yaxis\":\"y\",\"type\":\"histogram\"},{\"alignmentgroup\":\"True\",\"bingroup\":\"x\",\"hovertemplate\":\"Major=COMPUTER ENGINEERING\\u003cbr\\u003eMedian=%{x}\\u003cbr\\u003ecount=%{y}\\u003cextra\\u003e\\u003c\\u002fextra\\u003e\",\"legendgroup\":\"COMPUTER ENGINEERING\",\"marker\":{\"color\":\"#636efa\",\"opacity\":0.5,\"pattern\":{\"shape\":\"\"}},\"name\":\"COMPUTER ENGINEERING\",\"nbinsx\":20,\"offsetgroup\":\"COMPUTER ENGINEERING\",\"orientation\":\"v\",\"showlegend\":true,\"x\":[60000],\"xaxis\":\"x\",\"yaxis\":\"y\",\"type\":\"histogram\"},{\"alignmentgroup\":\"True\",\"bingroup\":\"x\",\"hovertemplate\":\"Major=AEROSPACE ENGINEERING\\u003cbr\\u003eMedian=%{x}\\u003cbr\\u003ecount=%{y}\\u003cextra\\u003e\\u003c\\u002fextra\\u003e\",\"legendgroup\":\"AEROSPACE ENGINEERING\",\"marker\":{\"color\":\"#EF553B\",\"opacity\":0.5,\"pattern\":{\"shape\":\"\"}},\"name\":\"AEROSPACE ENGINEERING\",\"nbinsx\":20,\"offsetgroup\":\"AEROSPACE ENGINEERING\",\"orientation\":\"v\",\"showlegend\":true,\"x\":[60000],\"xaxis\":\"x\",\"yaxis\":\"y\",\"type\":\"histogram\"},{\"alignmentgroup\":\"True\",\"bingroup\":\"x\",\"hovertemplate\":\"Major=BIOMEDICAL ENGINEERING\\u003cbr\\u003eMedian=%{x}\\u003cbr\\u003ecount=%{y}\\u003cextra\\u003e\\u003c\\u002fextra\\u003e\",\"legendgroup\":\"BIOMEDICAL ENGINEERING\",\"marker\":{\"color\":\"#00cc96\",\"opacity\":0.5,\"pattern\":{\"shape\":\"\"}},\"name\":\"BIOMEDICAL ENGINEERING\",\"nbinsx\":20,\"offsetgroup\":\"BIOMEDICAL ENGINEERING\",\"orientation\":\"v\",\"showlegend\":true,\"x\":[60000],\"xaxis\":\"x\",\"yaxis\":\"y\",\"type\":\"histogram\"},{\"alignmentgroup\":\"True\",\"bingroup\":\"x\",\"hovertemplate\":\"Major=MATERIALS SCIENCE\\u003cbr\\u003eMedian=%{x}\\u003cbr\\u003ecount=%{y}\\u003cextra\\u003e\\u003c\\u002fextra\\u003e\",\"legendgroup\":\"MATERIALS SCIENCE\",\"marker\":{\"color\":\"#ab63fa\",\"opacity\":0.5,\"pattern\":{\"shape\":\"\"}},\"name\":\"MATERIALS SCIENCE\",\"nbinsx\":20,\"offsetgroup\":\"MATERIALS SCIENCE\",\"orientation\":\"v\",\"showlegend\":true,\"x\":[60000],\"xaxis\":\"x\",\"yaxis\":\"y\",\"type\":\"histogram\"},{\"alignmentgroup\":\"True\",\"bingroup\":\"x\",\"hovertemplate\":\"Major=ENGINEERING MECHANICS PHYSICS AND SCIENCE\\u003cbr\\u003eMedian=%{x}\\u003cbr\\u003ecount=%{y}\\u003cextra\\u003e\\u003c\\u002fextra\\u003e\",\"legendgroup\":\"ENGINEERING MECHANICS PHYSICS AND SCIENCE\",\"marker\":{\"color\":\"#FFA15A\",\"opacity\":0.5,\"pattern\":{\"shape\":\"\"}},\"name\":\"ENGINEERING MECHANICS PHYSICS AND SCIENCE\",\"nbinsx\":20,\"offsetgroup\":\"ENGINEERING MECHANICS PHYSICS AND SCIENCE\",\"orientation\":\"v\",\"showlegend\":true,\"x\":[58000],\"xaxis\":\"x\",\"yaxis\":\"y\",\"type\":\"histogram\"},{\"alignmentgroup\":\"True\",\"bingroup\":\"x\",\"hovertemplate\":\"Major=BIOLOGICAL ENGINEERING\\u003cbr\\u003eMedian=%{x}\\u003cbr\\u003ecount=%{y}\\u003cextra\\u003e\\u003c\\u002fextra\\u003e\",\"legendgroup\":\"BIOLOGICAL ENGINEERING\",\"marker\":{\"color\":\"#19d3f3\",\"opacity\":0.5,\"pattern\":{\"shape\":\"\"}},\"name\":\"BIOLOGICAL ENGINEERING\",\"nbinsx\":20,\"offsetgroup\":\"BIOLOGICAL ENGINEERING\",\"orientation\":\"v\",\"showlegend\":true,\"x\":[57100],\"xaxis\":\"x\",\"yaxis\":\"y\",\"type\":\"histogram\"},{\"alignmentgroup\":\"True\",\"bingroup\":\"x\",\"hovertemplate\":\"Major=INDUSTRIAL AND MANUFACTURING ENGINEERING\\u003cbr\\u003eMedian=%{x}\\u003cbr\\u003ecount=%{y}\\u003cextra\\u003e\\u003c\\u002fextra\\u003e\",\"legendgroup\":\"INDUSTRIAL AND MANUFACTURING ENGINEERING\",\"marker\":{\"color\":\"#FF6692\",\"opacity\":0.5,\"pattern\":{\"shape\":\"\"}},\"name\":\"INDUSTRIAL AND MANUFACTURING ENGINEERING\",\"nbinsx\":20,\"offsetgroup\":\"INDUSTRIAL AND MANUFACTURING ENGINEERING\",\"orientation\":\"v\",\"showlegend\":true,\"x\":[57000],\"xaxis\":\"x\",\"yaxis\":\"y\",\"type\":\"histogram\"},{\"alignmentgroup\":\"True\",\"bingroup\":\"x\",\"hovertemplate\":\"Major=GENERAL ENGINEERING\\u003cbr\\u003eMedian=%{x}\\u003cbr\\u003ecount=%{y}\\u003cextra\\u003e\\u003c\\u002fextra\\u003e\",\"legendgroup\":\"GENERAL ENGINEERING\",\"marker\":{\"color\":\"#B6E880\",\"opacity\":0.5,\"pattern\":{\"shape\":\"\"}},\"name\":\"GENERAL ENGINEERING\",\"nbinsx\":20,\"offsetgroup\":\"GENERAL ENGINEERING\",\"orientation\":\"v\",\"showlegend\":true,\"x\":[56000],\"xaxis\":\"x\",\"yaxis\":\"y\",\"type\":\"histogram\"},{\"alignmentgroup\":\"True\",\"bingroup\":\"x\",\"hovertemplate\":\"Major=ARCHITECTURAL ENGINEERING\\u003cbr\\u003eMedian=%{x}\\u003cbr\\u003ecount=%{y}\\u003cextra\\u003e\\u003c\\u002fextra\\u003e\",\"legendgroup\":\"ARCHITECTURAL ENGINEERING\",\"marker\":{\"color\":\"#FF97FF\",\"opacity\":0.5,\"pattern\":{\"shape\":\"\"}},\"name\":\"ARCHITECTURAL ENGINEERING\",\"nbinsx\":20,\"offsetgroup\":\"ARCHITECTURAL ENGINEERING\",\"orientation\":\"v\",\"showlegend\":true,\"x\":[54000],\"xaxis\":\"x\",\"yaxis\":\"y\",\"type\":\"histogram\"},{\"alignmentgroup\":\"True\",\"bingroup\":\"x\",\"hovertemplate\":\"Major=COURT REPORTING\\u003cbr\\u003eMedian=%{x}\\u003cbr\\u003ecount=%{y}\\u003cextra\\u003e\\u003c\\u002fextra\\u003e\",\"legendgroup\":\"COURT REPORTING\",\"marker\":{\"color\":\"#FECB52\",\"opacity\":0.5,\"pattern\":{\"shape\":\"\"}},\"name\":\"COURT REPORTING\",\"nbinsx\":20,\"offsetgroup\":\"COURT REPORTING\",\"orientation\":\"v\",\"showlegend\":true,\"x\":[54000],\"xaxis\":\"x\",\"yaxis\":\"y\",\"type\":\"histogram\"},{\"alignmentgroup\":\"True\",\"bingroup\":\"x\",\"hovertemplate\":\"Major=COMPUTER SCIENCE\\u003cbr\\u003eMedian=%{x}\\u003cbr\\u003ecount=%{y}\\u003cextra\\u003e\\u003c\\u002fextra\\u003e\",\"legendgroup\":\"COMPUTER SCIENCE\",\"marker\":{\"color\":\"#636efa\",\"opacity\":0.5,\"pattern\":{\"shape\":\"\"}},\"name\":\"COMPUTER SCIENCE\",\"nbinsx\":20,\"offsetgroup\":\"COMPUTER SCIENCE\",\"orientation\":\"v\",\"showlegend\":true,\"x\":[53000],\"xaxis\":\"x\",\"yaxis\":\"y\",\"type\":\"histogram\"},{\"alignmentgroup\":\"True\",\"bingroup\":\"x\",\"hovertemplate\":\"Major=FOOD SCIENCE\\u003cbr\\u003eMedian=%{x}\\u003cbr\\u003ecount=%{y}\\u003cextra\\u003e\\u003c\\u002fextra\\u003e\",\"legendgroup\":\"FOOD SCIENCE\",\"marker\":{\"color\":\"#EF553B\",\"opacity\":0.5,\"pattern\":{\"shape\":\"\"}},\"name\":\"FOOD SCIENCE\",\"nbinsx\":20,\"offsetgroup\":\"FOOD SCIENCE\",\"orientation\":\"v\",\"showlegend\":true,\"x\":[53000],\"xaxis\":\"x\",\"yaxis\":\"y\",\"type\":\"histogram\"},{\"alignmentgroup\":\"True\",\"bingroup\":\"x\",\"hovertemplate\":\"Major=ELECTRICAL ENGINEERING TECHNOLOGY\\u003cbr\\u003eMedian=%{x}\\u003cbr\\u003ecount=%{y}\\u003cextra\\u003e\\u003c\\u002fextra\\u003e\",\"legendgroup\":\"ELECTRICAL ENGINEERING TECHNOLOGY\",\"marker\":{\"color\":\"#00cc96\",\"opacity\":0.5,\"pattern\":{\"shape\":\"\"}},\"name\":\"ELECTRICAL ENGINEERING TECHNOLOGY\",\"nbinsx\":20,\"offsetgroup\":\"ELECTRICAL ENGINEERING TECHNOLOGY\",\"orientation\":\"v\",\"showlegend\":true,\"x\":[52000],\"xaxis\":\"x\",\"yaxis\":\"y\",\"type\":\"histogram\"},{\"alignmentgroup\":\"True\",\"bingroup\":\"x\",\"hovertemplate\":\"Major=MATERIALS ENGINEERING AND MATERIALS SCIENCE\\u003cbr\\u003eMedian=%{x}\\u003cbr\\u003ecount=%{y}\\u003cextra\\u003e\\u003c\\u002fextra\\u003e\",\"legendgroup\":\"MATERIALS ENGINEERING AND MATERIALS SCIENCE\",\"marker\":{\"color\":\"#ab63fa\",\"opacity\":0.5,\"pattern\":{\"shape\":\"\"}},\"name\":\"MATERIALS ENGINEERING AND MATERIALS SCIENCE\",\"nbinsx\":20,\"offsetgroup\":\"MATERIALS ENGINEERING AND MATERIALS SCIENCE\",\"orientation\":\"v\",\"showlegend\":true,\"x\":[52000],\"xaxis\":\"x\",\"yaxis\":\"y\",\"type\":\"histogram\"},{\"alignmentgroup\":\"True\",\"bingroup\":\"x\",\"hovertemplate\":\"Major=MANAGEMENT INFORMATION SYSTEMS AND STATISTICS\\u003cbr\\u003eMedian=%{x}\\u003cbr\\u003ecount=%{y}\\u003cextra\\u003e\\u003c\\u002fextra\\u003e\",\"legendgroup\":\"MANAGEMENT INFORMATION SYSTEMS AND STATISTICS\",\"marker\":{\"color\":\"#FFA15A\",\"opacity\":0.5,\"pattern\":{\"shape\":\"\"}},\"name\":\"MANAGEMENT INFORMATION SYSTEMS AND STATISTICS\",\"nbinsx\":20,\"offsetgroup\":\"MANAGEMENT INFORMATION SYSTEMS AND STATISTICS\",\"orientation\":\"v\",\"showlegend\":true,\"x\":[51000],\"xaxis\":\"x\",\"yaxis\":\"y\",\"type\":\"histogram\"},{\"alignmentgroup\":\"True\",\"bingroup\":\"x\",\"hovertemplate\":\"Major=CIVIL ENGINEERING\\u003cbr\\u003eMedian=%{x}\\u003cbr\\u003ecount=%{y}\\u003cextra\\u003e\\u003c\\u002fextra\\u003e\",\"legendgroup\":\"CIVIL ENGINEERING\",\"marker\":{\"color\":\"#19d3f3\",\"opacity\":0.5,\"pattern\":{\"shape\":\"\"}},\"name\":\"CIVIL ENGINEERING\",\"nbinsx\":20,\"offsetgroup\":\"CIVIL ENGINEERING\",\"orientation\":\"v\",\"showlegend\":true,\"x\":[50000],\"xaxis\":\"x\",\"yaxis\":\"y\",\"type\":\"histogram\"},{\"alignmentgroup\":\"True\",\"bingroup\":\"x\",\"hovertemplate\":\"Major=CONSTRUCTION SERVICES\\u003cbr\\u003eMedian=%{x}\\u003cbr\\u003ecount=%{y}\\u003cextra\\u003e\\u003c\\u002fextra\\u003e\",\"legendgroup\":\"CONSTRUCTION SERVICES\",\"marker\":{\"color\":\"#FF6692\",\"opacity\":0.5,\"pattern\":{\"shape\":\"\"}},\"name\":\"CONSTRUCTION SERVICES\",\"nbinsx\":20,\"offsetgroup\":\"CONSTRUCTION SERVICES\",\"orientation\":\"v\",\"showlegend\":true,\"x\":[50000],\"xaxis\":\"x\",\"yaxis\":\"y\",\"type\":\"histogram\"},{\"alignmentgroup\":\"True\",\"bingroup\":\"x\",\"hovertemplate\":\"Major=OPERATIONS LOGISTICS AND E-COMMERCE\\u003cbr\\u003eMedian=%{x}\\u003cbr\\u003ecount=%{y}\\u003cextra\\u003e\\u003c\\u002fextra\\u003e\",\"legendgroup\":\"OPERATIONS LOGISTICS AND E-COMMERCE\",\"marker\":{\"color\":\"#B6E880\",\"opacity\":0.5,\"pattern\":{\"shape\":\"\"}},\"name\":\"OPERATIONS LOGISTICS AND E-COMMERCE\",\"nbinsx\":20,\"offsetgroup\":\"OPERATIONS LOGISTICS AND E-COMMERCE\",\"orientation\":\"v\",\"showlegend\":true,\"x\":[50000],\"xaxis\":\"x\",\"yaxis\":\"y\",\"type\":\"histogram\"},{\"alignmentgroup\":\"True\",\"bingroup\":\"x\",\"hovertemplate\":\"Major=MISCELLANEOUS ENGINEERING\\u003cbr\\u003eMedian=%{x}\\u003cbr\\u003ecount=%{y}\\u003cextra\\u003e\\u003c\\u002fextra\\u003e\",\"legendgroup\":\"MISCELLANEOUS ENGINEERING\",\"marker\":{\"color\":\"#FF97FF\",\"opacity\":0.5,\"pattern\":{\"shape\":\"\"}},\"name\":\"MISCELLANEOUS ENGINEERING\",\"nbinsx\":20,\"offsetgroup\":\"MISCELLANEOUS ENGINEERING\",\"orientation\":\"v\",\"showlegend\":true,\"x\":[50000],\"xaxis\":\"x\",\"yaxis\":\"y\",\"type\":\"histogram\"},{\"alignmentgroup\":\"True\",\"bingroup\":\"x\",\"hovertemplate\":\"Major=PUBLIC POLICY\\u003cbr\\u003eMedian=%{x}\\u003cbr\\u003ecount=%{y}\\u003cextra\\u003e\\u003c\\u002fextra\\u003e\",\"legendgroup\":\"PUBLIC POLICY\",\"marker\":{\"color\":\"#FECB52\",\"opacity\":0.5,\"pattern\":{\"shape\":\"\"}},\"name\":\"PUBLIC POLICY\",\"nbinsx\":20,\"offsetgroup\":\"PUBLIC POLICY\",\"orientation\":\"v\",\"showlegend\":true,\"x\":[50000],\"xaxis\":\"x\",\"yaxis\":\"y\",\"type\":\"histogram\"},{\"alignmentgroup\":\"True\",\"bingroup\":\"x\",\"hovertemplate\":\"Major=ENVIRONMENTAL ENGINEERING\\u003cbr\\u003eMedian=%{x}\\u003cbr\\u003ecount=%{y}\\u003cextra\\u003e\\u003c\\u002fextra\\u003e\",\"legendgroup\":\"ENVIRONMENTAL ENGINEERING\",\"marker\":{\"color\":\"#636efa\",\"opacity\":0.5,\"pattern\":{\"shape\":\"\"}},\"name\":\"ENVIRONMENTAL ENGINEERING\",\"nbinsx\":20,\"offsetgroup\":\"ENVIRONMENTAL ENGINEERING\",\"orientation\":\"v\",\"showlegend\":true,\"x\":[50000],\"xaxis\":\"x\",\"yaxis\":\"y\",\"type\":\"histogram\"},{\"alignmentgroup\":\"True\",\"bingroup\":\"x\",\"hovertemplate\":\"Major=ENGINEERING TECHNOLOGIES\\u003cbr\\u003eMedian=%{x}\\u003cbr\\u003ecount=%{y}\\u003cextra\\u003e\\u003c\\u002fextra\\u003e\",\"legendgroup\":\"ENGINEERING TECHNOLOGIES\",\"marker\":{\"color\":\"#EF553B\",\"opacity\":0.5,\"pattern\":{\"shape\":\"\"}},\"name\":\"ENGINEERING TECHNOLOGIES\",\"nbinsx\":20,\"offsetgroup\":\"ENGINEERING TECHNOLOGIES\",\"orientation\":\"v\",\"showlegend\":true,\"x\":[50000],\"xaxis\":\"x\",\"yaxis\":\"y\",\"type\":\"histogram\"},{\"alignmentgroup\":\"True\",\"bingroup\":\"x\",\"hovertemplate\":\"Major=MISCELLANEOUS FINE ARTS\\u003cbr\\u003eMedian=%{x}\\u003cbr\\u003ecount=%{y}\\u003cextra\\u003e\\u003c\\u002fextra\\u003e\",\"legendgroup\":\"MISCELLANEOUS FINE ARTS\",\"marker\":{\"color\":\"#00cc96\",\"opacity\":0.5,\"pattern\":{\"shape\":\"\"}},\"name\":\"MISCELLANEOUS FINE ARTS\",\"nbinsx\":20,\"offsetgroup\":\"MISCELLANEOUS FINE ARTS\",\"orientation\":\"v\",\"showlegend\":true,\"x\":[50000],\"xaxis\":\"x\",\"yaxis\":\"y\",\"type\":\"histogram\"},{\"alignmentgroup\":\"True\",\"bingroup\":\"x\",\"hovertemplate\":\"Major=GEOLOGICAL AND GEOPHYSICAL ENGINEERING\\u003cbr\\u003eMedian=%{x}\\u003cbr\\u003ecount=%{y}\\u003cextra\\u003e\\u003c\\u002fextra\\u003e\",\"legendgroup\":\"GEOLOGICAL AND GEOPHYSICAL ENGINEERING\",\"marker\":{\"color\":\"#ab63fa\",\"opacity\":0.5,\"pattern\":{\"shape\":\"\"}},\"name\":\"GEOLOGICAL AND GEOPHYSICAL ENGINEERING\",\"nbinsx\":20,\"offsetgroup\":\"GEOLOGICAL AND GEOPHYSICAL ENGINEERING\",\"orientation\":\"v\",\"showlegend\":true,\"x\":[50000],\"xaxis\":\"x\",\"yaxis\":\"y\",\"type\":\"histogram\"},{\"alignmentgroup\":\"True\",\"bingroup\":\"x\",\"hovertemplate\":\"Major=NURSING\\u003cbr\\u003eMedian=%{x}\\u003cbr\\u003ecount=%{y}\\u003cextra\\u003e\\u003c\\u002fextra\\u003e\",\"legendgroup\":\"NURSING\",\"marker\":{\"color\":\"#FFA15A\",\"opacity\":0.5,\"pattern\":{\"shape\":\"\"}},\"name\":\"NURSING\",\"nbinsx\":20,\"offsetgroup\":\"NURSING\",\"orientation\":\"v\",\"showlegend\":true,\"x\":[48000],\"xaxis\":\"x\",\"yaxis\":\"y\",\"type\":\"histogram\"},{\"alignmentgroup\":\"True\",\"bingroup\":\"x\",\"hovertemplate\":\"Major=FINANCE\\u003cbr\\u003eMedian=%{x}\\u003cbr\\u003ecount=%{y}\\u003cextra\\u003e\\u003c\\u002fextra\\u003e\",\"legendgroup\":\"FINANCE\",\"marker\":{\"color\":\"#19d3f3\",\"opacity\":0.5,\"pattern\":{\"shape\":\"\"}},\"name\":\"FINANCE\",\"nbinsx\":20,\"offsetgroup\":\"FINANCE\",\"orientation\":\"v\",\"showlegend\":true,\"x\":[47000],\"xaxis\":\"x\",\"yaxis\":\"y\",\"type\":\"histogram\"},{\"alignmentgroup\":\"True\",\"bingroup\":\"x\",\"hovertemplate\":\"Major=ECONOMICS\\u003cbr\\u003eMedian=%{x}\\u003cbr\\u003ecount=%{y}\\u003cextra\\u003e\\u003c\\u002fextra\\u003e\",\"legendgroup\":\"ECONOMICS\",\"marker\":{\"color\":\"#FF6692\",\"opacity\":0.5,\"pattern\":{\"shape\":\"\"}},\"name\":\"ECONOMICS\",\"nbinsx\":20,\"offsetgroup\":\"ECONOMICS\",\"orientation\":\"v\",\"showlegend\":true,\"x\":[47000],\"xaxis\":\"x\",\"yaxis\":\"y\",\"type\":\"histogram\"},{\"alignmentgroup\":\"True\",\"bingroup\":\"x\",\"hovertemplate\":\"Major=BUSINESS ECONOMICS\\u003cbr\\u003eMedian=%{x}\\u003cbr\\u003ecount=%{y}\\u003cextra\\u003e\\u003c\\u002fextra\\u003e\",\"legendgroup\":\"BUSINESS ECONOMICS\",\"marker\":{\"color\":\"#B6E880\",\"opacity\":0.5,\"pattern\":{\"shape\":\"\"}},\"name\":\"BUSINESS ECONOMICS\",\"nbinsx\":20,\"offsetgroup\":\"BUSINESS ECONOMICS\",\"orientation\":\"v\",\"showlegend\":true,\"x\":[46000],\"xaxis\":\"x\",\"yaxis\":\"y\",\"type\":\"histogram\"},{\"alignmentgroup\":\"True\",\"bingroup\":\"x\",\"hovertemplate\":\"Major=INDUSTRIAL PRODUCTION TECHNOLOGIES\\u003cbr\\u003eMedian=%{x}\\u003cbr\\u003ecount=%{y}\\u003cextra\\u003e\\u003c\\u002fextra\\u003e\",\"legendgroup\":\"INDUSTRIAL PRODUCTION TECHNOLOGIES\",\"marker\":{\"color\":\"#FF97FF\",\"opacity\":0.5,\"pattern\":{\"shape\":\"\"}},\"name\":\"INDUSTRIAL PRODUCTION TECHNOLOGIES\",\"nbinsx\":20,\"offsetgroup\":\"INDUSTRIAL PRODUCTION TECHNOLOGIES\",\"orientation\":\"v\",\"showlegend\":true,\"x\":[46000],\"xaxis\":\"x\",\"yaxis\":\"y\",\"type\":\"histogram\"},{\"alignmentgroup\":\"True\",\"bingroup\":\"x\",\"hovertemplate\":\"Major=NUCLEAR, INDUSTRIAL RADIOLOGY, AND BIOLOGICAL TECHNOLOGIES\\u003cbr\\u003eMedian=%{x}\\u003cbr\\u003ecount=%{y}\\u003cextra\\u003e\\u003c\\u002fextra\\u003e\",\"legendgroup\":\"NUCLEAR, INDUSTRIAL RADIOLOGY, AND BIOLOGICAL TECHNOLOGIES\",\"marker\":{\"color\":\"#FECB52\",\"opacity\":0.5,\"pattern\":{\"shape\":\"\"}},\"name\":\"NUCLEAR, INDUSTRIAL RADIOLOGY, AND BIOLOGICAL TECHNOLOGIES\",\"nbinsx\":20,\"offsetgroup\":\"NUCLEAR, INDUSTRIAL RADIOLOGY, AND BIOLOGICAL TECHNOLOGIES\",\"orientation\":\"v\",\"showlegend\":true,\"x\":[46000],\"xaxis\":\"x\",\"yaxis\":\"y\",\"type\":\"histogram\"},{\"alignmentgroup\":\"True\",\"bingroup\":\"x\",\"hovertemplate\":\"Major=ACCOUNTING\\u003cbr\\u003eMedian=%{x}\\u003cbr\\u003ecount=%{y}\\u003cextra\\u003e\\u003c\\u002fextra\\u003e\",\"legendgroup\":\"ACCOUNTING\",\"marker\":{\"color\":\"#636efa\",\"opacity\":0.5,\"pattern\":{\"shape\":\"\"}},\"name\":\"ACCOUNTING\",\"nbinsx\":20,\"offsetgroup\":\"ACCOUNTING\",\"orientation\":\"v\",\"showlegend\":true,\"x\":[45000],\"xaxis\":\"x\",\"yaxis\":\"y\",\"type\":\"histogram\"},{\"alignmentgroup\":\"True\",\"bingroup\":\"x\",\"hovertemplate\":\"Major=MATHEMATICS\\u003cbr\\u003eMedian=%{x}\\u003cbr\\u003ecount=%{y}\\u003cextra\\u003e\\u003c\\u002fextra\\u003e\",\"legendgroup\":\"MATHEMATICS\",\"marker\":{\"color\":\"#EF553B\",\"opacity\":0.5,\"pattern\":{\"shape\":\"\"}},\"name\":\"MATHEMATICS\",\"nbinsx\":20,\"offsetgroup\":\"MATHEMATICS\",\"orientation\":\"v\",\"showlegend\":true,\"x\":[45000],\"xaxis\":\"x\",\"yaxis\":\"y\",\"type\":\"histogram\"},{\"alignmentgroup\":\"True\",\"bingroup\":\"x\",\"hovertemplate\":\"Major=COMPUTER AND INFORMATION SYSTEMS\\u003cbr\\u003eMedian=%{x}\\u003cbr\\u003ecount=%{y}\\u003cextra\\u003e\\u003c\\u002fextra\\u003e\",\"legendgroup\":\"COMPUTER AND INFORMATION SYSTEMS\",\"marker\":{\"color\":\"#00cc96\",\"opacity\":0.5,\"pattern\":{\"shape\":\"\"}},\"name\":\"COMPUTER AND INFORMATION SYSTEMS\",\"nbinsx\":20,\"offsetgroup\":\"COMPUTER AND INFORMATION SYSTEMS\",\"orientation\":\"v\",\"showlegend\":true,\"x\":[45000],\"xaxis\":\"x\",\"yaxis\":\"y\",\"type\":\"histogram\"},{\"alignmentgroup\":\"True\",\"bingroup\":\"x\",\"hovertemplate\":\"Major=PHYSICS\\u003cbr\\u003eMedian=%{x}\\u003cbr\\u003ecount=%{y}\\u003cextra\\u003e\\u003c\\u002fextra\\u003e\",\"legendgroup\":\"PHYSICS\",\"marker\":{\"color\":\"#ab63fa\",\"opacity\":0.5,\"pattern\":{\"shape\":\"\"}},\"name\":\"PHYSICS\",\"nbinsx\":20,\"offsetgroup\":\"PHYSICS\",\"orientation\":\"v\",\"showlegend\":true,\"x\":[45000],\"xaxis\":\"x\",\"yaxis\":\"y\",\"type\":\"histogram\"},{\"alignmentgroup\":\"True\",\"bingroup\":\"x\",\"hovertemplate\":\"Major=MEDICAL TECHNOLOGIES TECHNICIANS\\u003cbr\\u003eMedian=%{x}\\u003cbr\\u003ecount=%{y}\\u003cextra\\u003e\\u003c\\u002fextra\\u003e\",\"legendgroup\":\"MEDICAL TECHNOLOGIES TECHNICIANS\",\"marker\":{\"color\":\"#FFA15A\",\"opacity\":0.5,\"pattern\":{\"shape\":\"\"}},\"name\":\"MEDICAL TECHNOLOGIES TECHNICIANS\",\"nbinsx\":20,\"offsetgroup\":\"MEDICAL TECHNOLOGIES TECHNICIANS\",\"orientation\":\"v\",\"showlegend\":true,\"x\":[45000],\"xaxis\":\"x\",\"yaxis\":\"y\",\"type\":\"histogram\"},{\"alignmentgroup\":\"True\",\"bingroup\":\"x\",\"hovertemplate\":\"Major=INFORMATION SCIENCES\\u003cbr\\u003eMedian=%{x}\\u003cbr\\u003ecount=%{y}\\u003cextra\\u003e\\u003c\\u002fextra\\u003e\",\"legendgroup\":\"INFORMATION SCIENCES\",\"marker\":{\"color\":\"#19d3f3\",\"opacity\":0.5,\"pattern\":{\"shape\":\"\"}},\"name\":\"INFORMATION SCIENCES\",\"nbinsx\":20,\"offsetgroup\":\"INFORMATION SCIENCES\",\"orientation\":\"v\",\"showlegend\":true,\"x\":[45000],\"xaxis\":\"x\",\"yaxis\":\"y\",\"type\":\"histogram\"},{\"alignmentgroup\":\"True\",\"bingroup\":\"x\",\"hovertemplate\":\"Major=STATISTICS AND DECISION SCIENCE\\u003cbr\\u003eMedian=%{x}\\u003cbr\\u003ecount=%{y}\\u003cextra\\u003e\\u003c\\u002fextra\\u003e\",\"legendgroup\":\"STATISTICS AND DECISION SCIENCE\",\"marker\":{\"color\":\"#FF6692\",\"opacity\":0.5,\"pattern\":{\"shape\":\"\"}},\"name\":\"STATISTICS AND DECISION SCIENCE\",\"nbinsx\":20,\"offsetgroup\":\"STATISTICS AND DECISION SCIENCE\",\"orientation\":\"v\",\"showlegend\":true,\"x\":[45000],\"xaxis\":\"x\",\"yaxis\":\"y\",\"type\":\"histogram\"},{\"alignmentgroup\":\"True\",\"bingroup\":\"x\",\"hovertemplate\":\"Major=APPLIED MATHEMATICS\\u003cbr\\u003eMedian=%{x}\\u003cbr\\u003ecount=%{y}\\u003cextra\\u003e\\u003c\\u002fextra\\u003e\",\"legendgroup\":\"APPLIED MATHEMATICS\",\"marker\":{\"color\":\"#B6E880\",\"opacity\":0.5,\"pattern\":{\"shape\":\"\"}},\"name\":\"APPLIED MATHEMATICS\",\"nbinsx\":20,\"offsetgroup\":\"APPLIED MATHEMATICS\",\"orientation\":\"v\",\"showlegend\":true,\"x\":[45000],\"xaxis\":\"x\",\"yaxis\":\"y\",\"type\":\"histogram\"},{\"alignmentgroup\":\"True\",\"bingroup\":\"x\",\"hovertemplate\":\"Major=PHARMACOLOGY\\u003cbr\\u003eMedian=%{x}\\u003cbr\\u003ecount=%{y}\\u003cextra\\u003e\\u003c\\u002fextra\\u003e\",\"legendgroup\":\"PHARMACOLOGY\",\"marker\":{\"color\":\"#FF97FF\",\"opacity\":0.5,\"pattern\":{\"shape\":\"\"}},\"name\":\"PHARMACOLOGY\",\"nbinsx\":20,\"offsetgroup\":\"PHARMACOLOGY\",\"orientation\":\"v\",\"showlegend\":true,\"x\":[45000],\"xaxis\":\"x\",\"yaxis\":\"y\",\"type\":\"histogram\"},{\"alignmentgroup\":\"True\",\"bingroup\":\"x\",\"hovertemplate\":\"Major=OCEANOGRAPHY\\u003cbr\\u003eMedian=%{x}\\u003cbr\\u003ecount=%{y}\\u003cextra\\u003e\\u003c\\u002fextra\\u003e\",\"legendgroup\":\"OCEANOGRAPHY\",\"marker\":{\"color\":\"#FECB52\",\"opacity\":0.5,\"pattern\":{\"shape\":\"\"}},\"name\":\"OCEANOGRAPHY\",\"nbinsx\":20,\"offsetgroup\":\"OCEANOGRAPHY\",\"orientation\":\"v\",\"showlegend\":true,\"x\":[44700],\"xaxis\":\"x\",\"yaxis\":\"y\",\"type\":\"histogram\"},{\"alignmentgroup\":\"True\",\"bingroup\":\"x\",\"hovertemplate\":\"Major=ENGINEERING AND INDUSTRIAL MANAGEMENT\\u003cbr\\u003eMedian=%{x}\\u003cbr\\u003ecount=%{y}\\u003cextra\\u003e\\u003c\\u002fextra\\u003e\",\"legendgroup\":\"ENGINEERING AND INDUSTRIAL MANAGEMENT\",\"marker\":{\"color\":\"#636efa\",\"opacity\":0.5,\"pattern\":{\"shape\":\"\"}},\"name\":\"ENGINEERING AND INDUSTRIAL MANAGEMENT\",\"nbinsx\":20,\"offsetgroup\":\"ENGINEERING AND INDUSTRIAL MANAGEMENT\",\"orientation\":\"v\",\"showlegend\":true,\"x\":[44000],\"xaxis\":\"x\",\"yaxis\":\"y\",\"type\":\"histogram\"},{\"alignmentgroup\":\"True\",\"bingroup\":\"x\",\"hovertemplate\":\"Major=MEDICAL ASSISTING SERVICES\\u003cbr\\u003eMedian=%{x}\\u003cbr\\u003ecount=%{y}\\u003cextra\\u003e\\u003c\\u002fextra\\u003e\",\"legendgroup\":\"MEDICAL ASSISTING SERVICES\",\"marker\":{\"color\":\"#EF553B\",\"opacity\":0.5,\"pattern\":{\"shape\":\"\"}},\"name\":\"MEDICAL ASSISTING SERVICES\",\"nbinsx\":20,\"offsetgroup\":\"MEDICAL ASSISTING SERVICES\",\"orientation\":\"v\",\"showlegend\":true,\"x\":[42000],\"xaxis\":\"x\",\"yaxis\":\"y\",\"type\":\"histogram\"},{\"alignmentgroup\":\"True\",\"bingroup\":\"x\",\"hovertemplate\":\"Major=MATHEMATICS AND COMPUTER SCIENCE\\u003cbr\\u003eMedian=%{x}\\u003cbr\\u003ecount=%{y}\\u003cextra\\u003e\\u003c\\u002fextra\\u003e\",\"legendgroup\":\"MATHEMATICS AND COMPUTER SCIENCE\",\"marker\":{\"color\":\"#00cc96\",\"opacity\":0.5,\"pattern\":{\"shape\":\"\"}},\"name\":\"MATHEMATICS AND COMPUTER SCIENCE\",\"nbinsx\":20,\"offsetgroup\":\"MATHEMATICS AND COMPUTER SCIENCE\",\"orientation\":\"v\",\"showlegend\":true,\"x\":[42000],\"xaxis\":\"x\",\"yaxis\":\"y\",\"type\":\"histogram\"},{\"alignmentgroup\":\"True\",\"bingroup\":\"x\",\"hovertemplate\":\"Major=COMPUTER PROGRAMMING AND DATA PROCESSING\\u003cbr\\u003eMedian=%{x}\\u003cbr\\u003ecount=%{y}\\u003cextra\\u003e\\u003c\\u002fextra\\u003e\",\"legendgroup\":\"COMPUTER PROGRAMMING AND DATA PROCESSING\",\"marker\":{\"color\":\"#ab63fa\",\"opacity\":0.5,\"pattern\":{\"shape\":\"\"}},\"name\":\"COMPUTER PROGRAMMING AND DATA PROCESSING\",\"nbinsx\":20,\"offsetgroup\":\"COMPUTER PROGRAMMING AND DATA PROCESSING\",\"orientation\":\"v\",\"showlegend\":true,\"x\":[41300],\"xaxis\":\"x\",\"yaxis\":\"y\",\"type\":\"histogram\"},{\"alignmentgroup\":\"True\",\"bingroup\":\"x\",\"hovertemplate\":\"Major=COGNITIVE SCIENCE AND BIOPSYCHOLOGY\\u003cbr\\u003eMedian=%{x}\\u003cbr\\u003ecount=%{y}\\u003cextra\\u003e\\u003c\\u002fextra\\u003e\",\"legendgroup\":\"COGNITIVE SCIENCE AND BIOPSYCHOLOGY\",\"marker\":{\"color\":\"#FFA15A\",\"opacity\":0.5,\"pattern\":{\"shape\":\"\"}},\"name\":\"COGNITIVE SCIENCE AND BIOPSYCHOLOGY\",\"nbinsx\":20,\"offsetgroup\":\"COGNITIVE SCIENCE AND BIOPSYCHOLOGY\",\"orientation\":\"v\",\"showlegend\":true,\"x\":[41000],\"xaxis\":\"x\",\"yaxis\":\"y\",\"type\":\"histogram\"},{\"alignmentgroup\":\"True\",\"bingroup\":\"x\",\"hovertemplate\":\"Major=SCHOOL STUDENT COUNSELING\\u003cbr\\u003eMedian=%{x}\\u003cbr\\u003ecount=%{y}\\u003cextra\\u003e\\u003c\\u002fextra\\u003e\",\"legendgroup\":\"SCHOOL STUDENT COUNSELING\",\"marker\":{\"color\":\"#19d3f3\",\"opacity\":0.5,\"pattern\":{\"shape\":\"\"}},\"name\":\"SCHOOL STUDENT COUNSELING\",\"nbinsx\":20,\"offsetgroup\":\"SCHOOL STUDENT COUNSELING\",\"orientation\":\"v\",\"showlegend\":true,\"x\":[41000],\"xaxis\":\"x\",\"yaxis\":\"y\",\"type\":\"histogram\"},{\"alignmentgroup\":\"True\",\"bingroup\":\"x\",\"hovertemplate\":\"Major=INTERNATIONAL RELATIONS\\u003cbr\\u003eMedian=%{x}\\u003cbr\\u003ecount=%{y}\\u003cextra\\u003e\\u003c\\u002fextra\\u003e\",\"legendgroup\":\"INTERNATIONAL RELATIONS\",\"marker\":{\"color\":\"#FF6692\",\"opacity\":0.5,\"pattern\":{\"shape\":\"\"}},\"name\":\"INTERNATIONAL RELATIONS\",\"nbinsx\":20,\"offsetgroup\":\"INTERNATIONAL RELATIONS\",\"orientation\":\"v\",\"showlegend\":true,\"x\":[40100],\"xaxis\":\"x\",\"yaxis\":\"y\",\"type\":\"histogram\"},{\"alignmentgroup\":\"True\",\"bingroup\":\"x\",\"hovertemplate\":\"Major=GENERAL BUSINESS\\u003cbr\\u003eMedian=%{x}\\u003cbr\\u003ecount=%{y}\\u003cextra\\u003e\\u003c\\u002fextra\\u003e\",\"legendgroup\":\"GENERAL BUSINESS\",\"marker\":{\"color\":\"#B6E880\",\"opacity\":0.5,\"pattern\":{\"shape\":\"\"}},\"name\":\"GENERAL BUSINESS\",\"nbinsx\":20,\"offsetgroup\":\"GENERAL BUSINESS\",\"orientation\":\"v\",\"showlegend\":true,\"x\":[40000],\"xaxis\":\"x\",\"yaxis\":\"y\",\"type\":\"histogram\"},{\"alignmentgroup\":\"True\",\"bingroup\":\"x\",\"hovertemplate\":\"Major=ARCHITECTURE\\u003cbr\\u003eMedian=%{x}\\u003cbr\\u003ecount=%{y}\\u003cextra\\u003e\\u003c\\u002fextra\\u003e\",\"legendgroup\":\"ARCHITECTURE\",\"marker\":{\"color\":\"#FF97FF\",\"opacity\":0.5,\"pattern\":{\"shape\":\"\"}},\"name\":\"ARCHITECTURE\",\"nbinsx\":20,\"offsetgroup\":\"ARCHITECTURE\",\"orientation\":\"v\",\"showlegend\":true,\"x\":[40000],\"xaxis\":\"x\",\"yaxis\":\"y\",\"type\":\"histogram\"},{\"alignmentgroup\":\"True\",\"bingroup\":\"x\",\"hovertemplate\":\"Major=INTERNATIONAL BUSINESS\\u003cbr\\u003eMedian=%{x}\\u003cbr\\u003ecount=%{y}\\u003cextra\\u003e\\u003c\\u002fextra\\u003e\",\"legendgroup\":\"INTERNATIONAL BUSINESS\",\"marker\":{\"color\":\"#FECB52\",\"opacity\":0.5,\"pattern\":{\"shape\":\"\"}},\"name\":\"INTERNATIONAL BUSINESS\",\"nbinsx\":20,\"offsetgroup\":\"INTERNATIONAL BUSINESS\",\"orientation\":\"v\",\"showlegend\":true,\"x\":[40000],\"xaxis\":\"x\",\"yaxis\":\"y\",\"type\":\"histogram\"},{\"alignmentgroup\":\"True\",\"bingroup\":\"x\",\"hovertemplate\":\"Major=PHARMACY PHARMACEUTICAL SCIENCES AND ADMINISTRATION\\u003cbr\\u003eMedian=%{x}\\u003cbr\\u003ecount=%{y}\\u003cextra\\u003e\\u003c\\u002fextra\\u003e\",\"legendgroup\":\"PHARMACY PHARMACEUTICAL SCIENCES AND ADMINISTRATION\",\"marker\":{\"color\":\"#636efa\",\"opacity\":0.5,\"pattern\":{\"shape\":\"\"}},\"name\":\"PHARMACY PHARMACEUTICAL SCIENCES AND ADMINISTRATION\",\"nbinsx\":20,\"offsetgroup\":\"PHARMACY PHARMACEUTICAL SCIENCES AND ADMINISTRATION\",\"orientation\":\"v\",\"showlegend\":true,\"x\":[40000],\"xaxis\":\"x\",\"yaxis\":\"y\",\"type\":\"histogram\"},{\"alignmentgroup\":\"True\",\"bingroup\":\"x\",\"hovertemplate\":\"Major=MOLECULAR BIOLOGY\\u003cbr\\u003eMedian=%{x}\\u003cbr\\u003ecount=%{y}\\u003cextra\\u003e\\u003c\\u002fextra\\u003e\",\"legendgroup\":\"MOLECULAR BIOLOGY\",\"marker\":{\"color\":\"#EF553B\",\"opacity\":0.5,\"pattern\":{\"shape\":\"\"}},\"name\":\"MOLECULAR BIOLOGY\",\"nbinsx\":20,\"offsetgroup\":\"MOLECULAR BIOLOGY\",\"orientation\":\"v\",\"showlegend\":true,\"x\":[40000],\"xaxis\":\"x\",\"yaxis\":\"y\",\"type\":\"histogram\"},{\"alignmentgroup\":\"True\",\"bingroup\":\"x\",\"hovertemplate\":\"Major=MISCELLANEOUS BUSINESS & MEDICAL ADMINISTRATION\\u003cbr\\u003eMedian=%{x}\\u003cbr\\u003ecount=%{y}\\u003cextra\\u003e\\u003c\\u002fextra\\u003e\",\"legendgroup\":\"MISCELLANEOUS BUSINESS & MEDICAL ADMINISTRATION\",\"marker\":{\"color\":\"#00cc96\",\"opacity\":0.5,\"pattern\":{\"shape\":\"\"}},\"name\":\"MISCELLANEOUS BUSINESS & MEDICAL ADMINISTRATION\",\"nbinsx\":20,\"offsetgroup\":\"MISCELLANEOUS BUSINESS & MEDICAL ADMINISTRATION\",\"orientation\":\"v\",\"showlegend\":true,\"x\":[40000],\"xaxis\":\"x\",\"yaxis\":\"y\",\"type\":\"histogram\"},{\"alignmentgroup\":\"True\",\"bingroup\":\"x\",\"hovertemplate\":\"Major=AGRICULTURE PRODUCTION AND MANAGEMENT\\u003cbr\\u003eMedian=%{x}\\u003cbr\\u003ecount=%{y}\\u003cextra\\u003e\\u003c\\u002fextra\\u003e\",\"legendgroup\":\"AGRICULTURE PRODUCTION AND MANAGEMENT\",\"marker\":{\"color\":\"#ab63fa\",\"opacity\":0.5,\"pattern\":{\"shape\":\"\"}},\"name\":\"AGRICULTURE PRODUCTION AND MANAGEMENT\",\"nbinsx\":20,\"offsetgroup\":\"AGRICULTURE PRODUCTION AND MANAGEMENT\",\"orientation\":\"v\",\"showlegend\":true,\"x\":[40000],\"xaxis\":\"x\",\"yaxis\":\"y\",\"type\":\"histogram\"},{\"alignmentgroup\":\"True\",\"bingroup\":\"x\",\"hovertemplate\":\"Major=GENERAL AGRICULTURE\\u003cbr\\u003eMedian=%{x}\\u003cbr\\u003ecount=%{y}\\u003cextra\\u003e\\u003c\\u002fextra\\u003e\",\"legendgroup\":\"GENERAL AGRICULTURE\",\"marker\":{\"color\":\"#FFA15A\",\"opacity\":0.5,\"pattern\":{\"shape\":\"\"}},\"name\":\"GENERAL AGRICULTURE\",\"nbinsx\":20,\"offsetgroup\":\"GENERAL AGRICULTURE\",\"orientation\":\"v\",\"showlegend\":true,\"x\":[40000],\"xaxis\":\"x\",\"yaxis\":\"y\",\"type\":\"histogram\"},{\"alignmentgroup\":\"True\",\"bingroup\":\"x\",\"hovertemplate\":\"Major=MISCELLANEOUS ENGINEERING TECHNOLOGIES\\u003cbr\\u003eMedian=%{x}\\u003cbr\\u003ecount=%{y}\\u003cextra\\u003e\\u003c\\u002fextra\\u003e\",\"legendgroup\":\"MISCELLANEOUS ENGINEERING TECHNOLOGIES\",\"marker\":{\"color\":\"#19d3f3\",\"opacity\":0.5,\"pattern\":{\"shape\":\"\"}},\"name\":\"MISCELLANEOUS ENGINEERING TECHNOLOGIES\",\"nbinsx\":20,\"offsetgroup\":\"MISCELLANEOUS ENGINEERING TECHNOLOGIES\",\"orientation\":\"v\",\"showlegend\":true,\"x\":[40000],\"xaxis\":\"x\",\"yaxis\":\"y\",\"type\":\"histogram\"},{\"alignmentgroup\":\"True\",\"bingroup\":\"x\",\"hovertemplate\":\"Major=MECHANICAL ENGINEERING RELATED TECHNOLOGIES\\u003cbr\\u003eMedian=%{x}\\u003cbr\\u003ecount=%{y}\\u003cextra\\u003e\\u003c\\u002fextra\\u003e\",\"legendgroup\":\"MECHANICAL ENGINEERING RELATED TECHNOLOGIES\",\"marker\":{\"color\":\"#FF6692\",\"opacity\":0.5,\"pattern\":{\"shape\":\"\"}},\"name\":\"MECHANICAL ENGINEERING RELATED TECHNOLOGIES\",\"nbinsx\":20,\"offsetgroup\":\"MECHANICAL ENGINEERING RELATED TECHNOLOGIES\",\"orientation\":\"v\",\"showlegend\":true,\"x\":[40000],\"xaxis\":\"x\",\"yaxis\":\"y\",\"type\":\"histogram\"},{\"alignmentgroup\":\"True\",\"bingroup\":\"x\",\"hovertemplate\":\"Major=GENETICS\\u003cbr\\u003eMedian=%{x}\\u003cbr\\u003ecount=%{y}\\u003cextra\\u003e\\u003c\\u002fextra\\u003e\",\"legendgroup\":\"GENETICS\",\"marker\":{\"color\":\"#B6E880\",\"opacity\":0.5,\"pattern\":{\"shape\":\"\"}},\"name\":\"GENETICS\",\"nbinsx\":20,\"offsetgroup\":\"GENETICS\",\"orientation\":\"v\",\"showlegend\":true,\"x\":[40000],\"xaxis\":\"x\",\"yaxis\":\"y\",\"type\":\"histogram\"},{\"alignmentgroup\":\"True\",\"bingroup\":\"x\",\"hovertemplate\":\"Major=MISCELLANEOUS SOCIAL SCIENCES\\u003cbr\\u003eMedian=%{x}\\u003cbr\\u003ecount=%{y}\\u003cextra\\u003e\\u003c\\u002fextra\\u003e\",\"legendgroup\":\"MISCELLANEOUS SOCIAL SCIENCES\",\"marker\":{\"color\":\"#FF97FF\",\"opacity\":0.5,\"pattern\":{\"shape\":\"\"}},\"name\":\"MISCELLANEOUS SOCIAL SCIENCES\",\"nbinsx\":20,\"offsetgroup\":\"MISCELLANEOUS SOCIAL SCIENCES\",\"orientation\":\"v\",\"showlegend\":true,\"x\":[40000],\"xaxis\":\"x\",\"yaxis\":\"y\",\"type\":\"histogram\"},{\"alignmentgroup\":\"True\",\"bingroup\":\"x\",\"hovertemplate\":\"Major=UNITED STATES HISTORY\\u003cbr\\u003eMedian=%{x}\\u003cbr\\u003ecount=%{y}\\u003cextra\\u003e\\u003c\\u002fextra\\u003e\",\"legendgroup\":\"UNITED STATES HISTORY\",\"marker\":{\"color\":\"#FECB52\",\"opacity\":0.5,\"pattern\":{\"shape\":\"\"}},\"name\":\"UNITED STATES HISTORY\",\"nbinsx\":20,\"offsetgroup\":\"UNITED STATES HISTORY\",\"orientation\":\"v\",\"showlegend\":true,\"x\":[40000],\"xaxis\":\"x\",\"yaxis\":\"y\",\"type\":\"histogram\"},{\"alignmentgroup\":\"True\",\"bingroup\":\"x\",\"hovertemplate\":\"Major=INDUSTRIAL AND ORGANIZATIONAL PSYCHOLOGY\\u003cbr\\u003eMedian=%{x}\\u003cbr\\u003ecount=%{y}\\u003cextra\\u003e\\u003c\\u002fextra\\u003e\",\"legendgroup\":\"INDUSTRIAL AND ORGANIZATIONAL PSYCHOLOGY\",\"marker\":{\"color\":\"#636efa\",\"opacity\":0.5,\"pattern\":{\"shape\":\"\"}},\"name\":\"INDUSTRIAL AND ORGANIZATIONAL PSYCHOLOGY\",\"nbinsx\":20,\"offsetgroup\":\"INDUSTRIAL AND ORGANIZATIONAL PSYCHOLOGY\",\"orientation\":\"v\",\"showlegend\":true,\"x\":[40000],\"xaxis\":\"x\",\"yaxis\":\"y\",\"type\":\"histogram\"},{\"alignmentgroup\":\"True\",\"bingroup\":\"x\",\"hovertemplate\":\"Major=AGRICULTURAL ECONOMICS\\u003cbr\\u003eMedian=%{x}\\u003cbr\\u003ecount=%{y}\\u003cextra\\u003e\\u003c\\u002fextra\\u003e\",\"legendgroup\":\"AGRICULTURAL ECONOMICS\",\"marker\":{\"color\":\"#EF553B\",\"opacity\":0.5,\"pattern\":{\"shape\":\"\"}},\"name\":\"AGRICULTURAL ECONOMICS\",\"nbinsx\":20,\"offsetgroup\":\"AGRICULTURAL ECONOMICS\",\"orientation\":\"v\",\"showlegend\":true,\"x\":[40000],\"xaxis\":\"x\",\"yaxis\":\"y\",\"type\":\"histogram\"},{\"alignmentgroup\":\"True\",\"bingroup\":\"x\",\"hovertemplate\":\"Major=PHYSICAL SCIENCES\\u003cbr\\u003eMedian=%{x}\\u003cbr\\u003ecount=%{y}\\u003cextra\\u003e\\u003c\\u002fextra\\u003e\",\"legendgroup\":\"PHYSICAL SCIENCES\",\"marker\":{\"color\":\"#00cc96\",\"opacity\":0.5,\"pattern\":{\"shape\":\"\"}},\"name\":\"PHYSICAL SCIENCES\",\"nbinsx\":20,\"offsetgroup\":\"PHYSICAL SCIENCES\",\"orientation\":\"v\",\"showlegend\":true,\"x\":[40000],\"xaxis\":\"x\",\"yaxis\":\"y\",\"type\":\"histogram\"},{\"alignmentgroup\":\"True\",\"bingroup\":\"x\",\"hovertemplate\":\"Major=MILITARY TECHNOLOGIES\\u003cbr\\u003eMedian=%{x}\\u003cbr\\u003ecount=%{y}\\u003cextra\\u003e\\u003c\\u002fextra\\u003e\",\"legendgroup\":\"MILITARY TECHNOLOGIES\",\"marker\":{\"color\":\"#ab63fa\",\"opacity\":0.5,\"pattern\":{\"shape\":\"\"}},\"name\":\"MILITARY TECHNOLOGIES\",\"nbinsx\":20,\"offsetgroup\":\"MILITARY TECHNOLOGIES\",\"orientation\":\"v\",\"showlegend\":true,\"x\":[40000],\"xaxis\":\"x\",\"yaxis\":\"y\",\"type\":\"histogram\"},{\"alignmentgroup\":\"True\",\"bingroup\":\"x\",\"hovertemplate\":\"Major=CHEMISTRY\\u003cbr\\u003eMedian=%{x}\\u003cbr\\u003ecount=%{y}\\u003cextra\\u003e\\u003c\\u002fextra\\u003e\",\"legendgroup\":\"CHEMISTRY\",\"marker\":{\"color\":\"#FFA15A\",\"opacity\":0.5,\"pattern\":{\"shape\":\"\"}},\"name\":\"CHEMISTRY\",\"nbinsx\":20,\"offsetgroup\":\"CHEMISTRY\",\"orientation\":\"v\",\"showlegend\":true,\"x\":[39000],\"xaxis\":\"x\",\"yaxis\":\"y\",\"type\":\"histogram\"},{\"alignmentgroup\":\"True\",\"bingroup\":\"x\",\"hovertemplate\":\"Major=ELECTRICAL, MECHANICAL, AND PRECISION TECHNOLOGIES AND PRODUCTION\\u003cbr\\u003eMedian=%{x}\\u003cbr\\u003ecount=%{y}\\u003cextra\\u003e\\u003c\\u002fextra\\u003e\",\"legendgroup\":\"ELECTRICAL, MECHANICAL, AND PRECISION TECHNOLOGIES AND PRODUCTION\",\"marker\":{\"color\":\"#19d3f3\",\"opacity\":0.5,\"pattern\":{\"shape\":\"\"}},\"name\":\"ELECTRICAL, MECHANICAL, AND PRECISION TECHNOLOGIES AND PRODUCTION\",\"nbinsx\":20,\"offsetgroup\":\"ELECTRICAL, MECHANICAL, AND PRECISION TECHNOLOGIES AND PRODUCTION\",\"orientation\":\"v\",\"showlegend\":true,\"x\":[38400],\"xaxis\":\"x\",\"yaxis\":\"y\",\"type\":\"histogram\"},{\"alignmentgroup\":\"True\",\"bingroup\":\"x\",\"hovertemplate\":\"Major=BUSINESS MANAGEMENT AND ADMINISTRATION\\u003cbr\\u003eMedian=%{x}\\u003cbr\\u003ecount=%{y}\\u003cextra\\u003e\\u003c\\u002fextra\\u003e\",\"legendgroup\":\"BUSINESS MANAGEMENT AND ADMINISTRATION\",\"marker\":{\"color\":\"#FF6692\",\"opacity\":0.5,\"pattern\":{\"shape\":\"\"}},\"name\":\"BUSINESS MANAGEMENT AND ADMINISTRATION\",\"nbinsx\":20,\"offsetgroup\":\"BUSINESS MANAGEMENT AND ADMINISTRATION\",\"orientation\":\"v\",\"showlegend\":true,\"x\":[38000],\"xaxis\":\"x\",\"yaxis\":\"y\",\"type\":\"histogram\"},{\"alignmentgroup\":\"True\",\"bingroup\":\"x\",\"hovertemplate\":\"Major=MARKETING AND MARKETING RESEARCH\\u003cbr\\u003eMedian=%{x}\\u003cbr\\u003ecount=%{y}\\u003cextra\\u003e\\u003c\\u002fextra\\u003e\",\"legendgroup\":\"MARKETING AND MARKETING RESEARCH\",\"marker\":{\"color\":\"#B6E880\",\"opacity\":0.5,\"pattern\":{\"shape\":\"\"}},\"name\":\"MARKETING AND MARKETING RESEARCH\",\"nbinsx\":20,\"offsetgroup\":\"MARKETING AND MARKETING RESEARCH\",\"orientation\":\"v\",\"showlegend\":true,\"x\":[38000],\"xaxis\":\"x\",\"yaxis\":\"y\",\"type\":\"histogram\"},{\"alignmentgroup\":\"True\",\"bingroup\":\"x\",\"hovertemplate\":\"Major=POLITICAL SCIENCE AND GOVERNMENT\\u003cbr\\u003eMedian=%{x}\\u003cbr\\u003ecount=%{y}\\u003cextra\\u003e\\u003c\\u002fextra\\u003e\",\"legendgroup\":\"POLITICAL SCIENCE AND GOVERNMENT\",\"marker\":{\"color\":\"#FF97FF\",\"opacity\":0.5,\"pattern\":{\"shape\":\"\"}},\"name\":\"POLITICAL SCIENCE AND GOVERNMENT\",\"nbinsx\":20,\"offsetgroup\":\"POLITICAL SCIENCE AND GOVERNMENT\",\"orientation\":\"v\",\"showlegend\":true,\"x\":[38000],\"xaxis\":\"x\",\"yaxis\":\"y\",\"type\":\"histogram\"},{\"alignmentgroup\":\"True\",\"bingroup\":\"x\",\"hovertemplate\":\"Major=GEOGRAPHY\\u003cbr\\u003eMedian=%{x}\\u003cbr\\u003ecount=%{y}\\u003cextra\\u003e\\u003c\\u002fextra\\u003e\",\"legendgroup\":\"GEOGRAPHY\",\"marker\":{\"color\":\"#FECB52\",\"opacity\":0.5,\"pattern\":{\"shape\":\"\"}},\"name\":\"GEOGRAPHY\",\"nbinsx\":20,\"offsetgroup\":\"GEOGRAPHY\",\"orientation\":\"v\",\"showlegend\":true,\"x\":[38000],\"xaxis\":\"x\",\"yaxis\":\"y\",\"type\":\"histogram\"},{\"alignmentgroup\":\"True\",\"bingroup\":\"x\",\"hovertemplate\":\"Major=MICROBIOLOGY\\u003cbr\\u003eMedian=%{x}\\u003cbr\\u003ecount=%{y}\\u003cextra\\u003e\\u003c\\u002fextra\\u003e\",\"legendgroup\":\"MICROBIOLOGY\",\"marker\":{\"color\":\"#636efa\",\"opacity\":0.5,\"pattern\":{\"shape\":\"\"}},\"name\":\"MICROBIOLOGY\",\"nbinsx\":20,\"offsetgroup\":\"MICROBIOLOGY\",\"orientation\":\"v\",\"showlegend\":true,\"x\":[38000],\"xaxis\":\"x\",\"yaxis\":\"y\",\"type\":\"histogram\"},{\"alignmentgroup\":\"True\",\"bingroup\":\"x\",\"hovertemplate\":\"Major=COMPUTER ADMINISTRATION MANAGEMENT AND SECURITY\\u003cbr\\u003eMedian=%{x}\\u003cbr\\u003ecount=%{y}\\u003cextra\\u003e\\u003c\\u002fextra\\u003e\",\"legendgroup\":\"COMPUTER ADMINISTRATION MANAGEMENT AND SECURITY\",\"marker\":{\"color\":\"#EF553B\",\"opacity\":0.5,\"pattern\":{\"shape\":\"\"}},\"name\":\"COMPUTER ADMINISTRATION MANAGEMENT AND SECURITY\",\"nbinsx\":20,\"offsetgroup\":\"COMPUTER ADMINISTRATION MANAGEMENT AND SECURITY\",\"orientation\":\"v\",\"showlegend\":true,\"x\":[37500],\"xaxis\":\"x\",\"yaxis\":\"y\",\"type\":\"histogram\"},{\"alignmentgroup\":\"True\",\"bingroup\":\"x\",\"hovertemplate\":\"Major=BIOCHEMICAL SCIENCES\\u003cbr\\u003eMedian=%{x}\\u003cbr\\u003ecount=%{y}\\u003cextra\\u003e\\u003c\\u002fextra\\u003e\",\"legendgroup\":\"BIOCHEMICAL SCIENCES\",\"marker\":{\"color\":\"#00cc96\",\"opacity\":0.5,\"pattern\":{\"shape\":\"\"}},\"name\":\"BIOCHEMICAL SCIENCES\",\"nbinsx\":20,\"offsetgroup\":\"BIOCHEMICAL SCIENCES\",\"orientation\":\"v\",\"showlegend\":true,\"x\":[37400],\"xaxis\":\"x\",\"yaxis\":\"y\",\"type\":\"histogram\"},{\"alignmentgroup\":\"True\",\"bingroup\":\"x\",\"hovertemplate\":\"Major=BOTANY\\u003cbr\\u003eMedian=%{x}\\u003cbr\\u003ecount=%{y}\\u003cextra\\u003e\\u003c\\u002fextra\\u003e\",\"legendgroup\":\"BOTANY\",\"marker\":{\"color\":\"#ab63fa\",\"opacity\":0.5,\"pattern\":{\"shape\":\"\"}},\"name\":\"BOTANY\",\"nbinsx\":20,\"offsetgroup\":\"BOTANY\",\"orientation\":\"v\",\"showlegend\":true,\"x\":[37000],\"xaxis\":\"x\",\"yaxis\":\"y\",\"type\":\"histogram\"},{\"alignmentgroup\":\"True\",\"bingroup\":\"x\",\"hovertemplate\":\"Major=COMPUTER NETWORKING AND TELECOMMUNICATIONS\\u003cbr\\u003eMedian=%{x}\\u003cbr\\u003ecount=%{y}\\u003cextra\\u003e\\u003c\\u002fextra\\u003e\",\"legendgroup\":\"COMPUTER NETWORKING AND TELECOMMUNICATIONS\",\"marker\":{\"color\":\"#FFA15A\",\"opacity\":0.5,\"pattern\":{\"shape\":\"\"}},\"name\":\"COMPUTER NETWORKING AND TELECOMMUNICATIONS\",\"nbinsx\":20,\"offsetgroup\":\"COMPUTER NETWORKING AND TELECOMMUNICATIONS\",\"orientation\":\"v\",\"showlegend\":true,\"x\":[36400],\"xaxis\":\"x\",\"yaxis\":\"y\",\"type\":\"histogram\"},{\"alignmentgroup\":\"True\",\"bingroup\":\"x\",\"hovertemplate\":\"Major=GEOLOGY AND EARTH SCIENCE\\u003cbr\\u003eMedian=%{x}\\u003cbr\\u003ecount=%{y}\\u003cextra\\u003e\\u003c\\u002fextra\\u003e\",\"legendgroup\":\"GEOLOGY AND EARTH SCIENCE\",\"marker\":{\"color\":\"#19d3f3\",\"opacity\":0.5,\"pattern\":{\"shape\":\"\"}},\"name\":\"GEOLOGY AND EARTH SCIENCE\",\"nbinsx\":20,\"offsetgroup\":\"GEOLOGY AND EARTH SCIENCE\",\"orientation\":\"v\",\"showlegend\":true,\"x\":[36200],\"xaxis\":\"x\",\"yaxis\":\"y\",\"type\":\"histogram\"},{\"alignmentgroup\":\"True\",\"bingroup\":\"x\",\"hovertemplate\":\"Major=HUMAN RESOURCES AND PERSONNEL MANAGEMENT\\u003cbr\\u003eMedian=%{x}\\u003cbr\\u003ecount=%{y}\\u003cextra\\u003e\\u003c\\u002fextra\\u003e\",\"legendgroup\":\"HUMAN RESOURCES AND PERSONNEL MANAGEMENT\",\"marker\":{\"color\":\"#FF6692\",\"opacity\":0.5,\"pattern\":{\"shape\":\"\"}},\"name\":\"HUMAN RESOURCES AND PERSONNEL MANAGEMENT\",\"nbinsx\":20,\"offsetgroup\":\"HUMAN RESOURCES AND PERSONNEL MANAGEMENT\",\"orientation\":\"v\",\"showlegend\":true,\"x\":[36000],\"xaxis\":\"x\",\"yaxis\":\"y\",\"type\":\"histogram\"},{\"alignmentgroup\":\"True\",\"bingroup\":\"x\",\"hovertemplate\":\"Major=PRE-LAW AND LEGAL STUDIES\\u003cbr\\u003eMedian=%{x}\\u003cbr\\u003ecount=%{y}\\u003cextra\\u003e\\u003c\\u002fextra\\u003e\",\"legendgroup\":\"PRE-LAW AND LEGAL STUDIES\",\"marker\":{\"color\":\"#B6E880\",\"opacity\":0.5,\"pattern\":{\"shape\":\"\"}},\"name\":\"PRE-LAW AND LEGAL STUDIES\",\"nbinsx\":20,\"offsetgroup\":\"PRE-LAW AND LEGAL STUDIES\",\"orientation\":\"v\",\"showlegend\":true,\"x\":[36000],\"xaxis\":\"x\",\"yaxis\":\"y\",\"type\":\"histogram\"},{\"alignmentgroup\":\"True\",\"bingroup\":\"x\",\"hovertemplate\":\"Major=MISCELLANEOUS HEALTH MEDICAL PROFESSIONS\\u003cbr\\u003eMedian=%{x}\\u003cbr\\u003ecount=%{y}\\u003cextra\\u003e\\u003c\\u002fextra\\u003e\",\"legendgroup\":\"MISCELLANEOUS HEALTH MEDICAL PROFESSIONS\",\"marker\":{\"color\":\"#FF97FF\",\"opacity\":0.5,\"pattern\":{\"shape\":\"\"}},\"name\":\"MISCELLANEOUS HEALTH MEDICAL PROFESSIONS\",\"nbinsx\":20,\"offsetgroup\":\"MISCELLANEOUS HEALTH MEDICAL PROFESSIONS\",\"orientation\":\"v\",\"showlegend\":true,\"x\":[36000],\"xaxis\":\"x\",\"yaxis\":\"y\",\"type\":\"histogram\"},{\"alignmentgroup\":\"True\",\"bingroup\":\"x\",\"hovertemplate\":\"Major=PUBLIC ADMINISTRATION\\u003cbr\\u003eMedian=%{x}\\u003cbr\\u003ecount=%{y}\\u003cextra\\u003e\\u003c\\u002fextra\\u003e\",\"legendgroup\":\"PUBLIC ADMINISTRATION\",\"marker\":{\"color\":\"#FECB52\",\"opacity\":0.5,\"pattern\":{\"shape\":\"\"}},\"name\":\"PUBLIC ADMINISTRATION\",\"nbinsx\":20,\"offsetgroup\":\"PUBLIC ADMINISTRATION\",\"orientation\":\"v\",\"showlegend\":true,\"x\":[36000],\"xaxis\":\"x\",\"yaxis\":\"y\",\"type\":\"histogram\"},{\"alignmentgroup\":\"True\",\"bingroup\":\"x\",\"hovertemplate\":\"Major=GEOSCIENCES\\u003cbr\\u003eMedian=%{x}\\u003cbr\\u003ecount=%{y}\\u003cextra\\u003e\\u003c\\u002fextra\\u003e\",\"legendgroup\":\"GEOSCIENCES\",\"marker\":{\"color\":\"#636efa\",\"opacity\":0.5,\"pattern\":{\"shape\":\"\"}},\"name\":\"GEOSCIENCES\",\"nbinsx\":20,\"offsetgroup\":\"GEOSCIENCES\",\"orientation\":\"v\",\"showlegend\":true,\"x\":[36000],\"xaxis\":\"x\",\"yaxis\":\"y\",\"type\":\"histogram\"},{\"alignmentgroup\":\"True\",\"bingroup\":\"x\",\"hovertemplate\":\"Major=SOCIAL PSYCHOLOGY\\u003cbr\\u003eMedian=%{x}\\u003cbr\\u003ecount=%{y}\\u003cextra\\u003e\\u003c\\u002fextra\\u003e\",\"legendgroup\":\"SOCIAL PSYCHOLOGY\",\"marker\":{\"color\":\"#EF553B\",\"opacity\":0.5,\"pattern\":{\"shape\":\"\"}},\"name\":\"SOCIAL PSYCHOLOGY\",\"nbinsx\":20,\"offsetgroup\":\"SOCIAL PSYCHOLOGY\",\"orientation\":\"v\",\"showlegend\":true,\"x\":[36000],\"xaxis\":\"x\",\"yaxis\":\"y\",\"type\":\"histogram\"},{\"alignmentgroup\":\"True\",\"bingroup\":\"x\",\"hovertemplate\":\"Major=ENVIRONMENTAL SCIENCE\\u003cbr\\u003eMedian=%{x}\\u003cbr\\u003ecount=%{y}\\u003cextra\\u003e\\u003c\\u002fextra\\u003e\",\"legendgroup\":\"ENVIRONMENTAL SCIENCE\",\"marker\":{\"color\":\"#00cc96\",\"opacity\":0.5,\"pattern\":{\"shape\":\"\"}},\"name\":\"ENVIRONMENTAL SCIENCE\",\"nbinsx\":20,\"offsetgroup\":\"ENVIRONMENTAL SCIENCE\",\"orientation\":\"v\",\"showlegend\":true,\"x\":[35600],\"xaxis\":\"x\",\"yaxis\":\"y\",\"type\":\"histogram\"},{\"alignmentgroup\":\"True\",\"bingroup\":\"x\",\"hovertemplate\":\"Major=COMMUNICATIONS\\u003cbr\\u003eMedian=%{x}\\u003cbr\\u003ecount=%{y}\\u003cextra\\u003e\\u003c\\u002fextra\\u003e\",\"legendgroup\":\"COMMUNICATIONS\",\"marker\":{\"color\":\"#ab63fa\",\"opacity\":0.5,\"pattern\":{\"shape\":\"\"}},\"name\":\"COMMUNICATIONS\",\"nbinsx\":20,\"offsetgroup\":\"COMMUNICATIONS\",\"orientation\":\"v\",\"showlegend\":true,\"x\":[35000],\"xaxis\":\"x\",\"yaxis\":\"y\",\"type\":\"histogram\"},{\"alignmentgroup\":\"True\",\"bingroup\":\"x\",\"hovertemplate\":\"Major=CRIMINAL JUSTICE AND FIRE PROTECTION\\u003cbr\\u003eMedian=%{x}\\u003cbr\\u003ecount=%{y}\\u003cextra\\u003e\\u003c\\u002fextra\\u003e\",\"legendgroup\":\"CRIMINAL JUSTICE AND FIRE PROTECTION\",\"marker\":{\"color\":\"#FFA15A\",\"opacity\":0.5,\"pattern\":{\"shape\":\"\"}},\"name\":\"CRIMINAL JUSTICE AND FIRE PROTECTION\",\"nbinsx\":20,\"offsetgroup\":\"CRIMINAL JUSTICE AND FIRE PROTECTION\",\"orientation\":\"v\",\"showlegend\":true,\"x\":[35000],\"xaxis\":\"x\",\"yaxis\":\"y\",\"type\":\"histogram\"},{\"alignmentgroup\":\"True\",\"bingroup\":\"x\",\"hovertemplate\":\"Major=COMMERCIAL ART AND GRAPHIC DESIGN\\u003cbr\\u003eMedian=%{x}\\u003cbr\\u003ecount=%{y}\\u003cextra\\u003e\\u003c\\u002fextra\\u003e\",\"legendgroup\":\"COMMERCIAL ART AND GRAPHIC DESIGN\",\"marker\":{\"color\":\"#19d3f3\",\"opacity\":0.5,\"pattern\":{\"shape\":\"\"}},\"name\":\"COMMERCIAL ART AND GRAPHIC DESIGN\",\"nbinsx\":20,\"offsetgroup\":\"COMMERCIAL ART AND GRAPHIC DESIGN\",\"orientation\":\"v\",\"showlegend\":true,\"x\":[35000],\"xaxis\":\"x\",\"yaxis\":\"y\",\"type\":\"histogram\"},{\"alignmentgroup\":\"True\",\"bingroup\":\"x\",\"hovertemplate\":\"Major=JOURNALISM\\u003cbr\\u003eMedian=%{x}\\u003cbr\\u003ecount=%{y}\\u003cextra\\u003e\\u003c\\u002fextra\\u003e\",\"legendgroup\":\"JOURNALISM\",\"marker\":{\"color\":\"#FF6692\",\"opacity\":0.5,\"pattern\":{\"shape\":\"\"}},\"name\":\"JOURNALISM\",\"nbinsx\":20,\"offsetgroup\":\"JOURNALISM\",\"orientation\":\"v\",\"showlegend\":true,\"x\":[35000],\"xaxis\":\"x\",\"yaxis\":\"y\",\"type\":\"histogram\"},{\"alignmentgroup\":\"True\",\"bingroup\":\"x\",\"hovertemplate\":\"Major=MULTI-DISCIPLINARY OR GENERAL SCIENCE\\u003cbr\\u003eMedian=%{x}\\u003cbr\\u003ecount=%{y}\\u003cextra\\u003e\\u003c\\u002fextra\\u003e\",\"legendgroup\":\"MULTI-DISCIPLINARY OR GENERAL SCIENCE\",\"marker\":{\"color\":\"#B6E880\",\"opacity\":0.5,\"pattern\":{\"shape\":\"\"}},\"name\":\"MULTI-DISCIPLINARY OR GENERAL SCIENCE\",\"nbinsx\":20,\"offsetgroup\":\"MULTI-DISCIPLINARY OR GENERAL SCIENCE\",\"orientation\":\"v\",\"showlegend\":true,\"x\":[35000],\"xaxis\":\"x\",\"yaxis\":\"y\",\"type\":\"histogram\"},{\"alignmentgroup\":\"True\",\"bingroup\":\"x\",\"hovertemplate\":\"Major=ADVERTISING AND PUBLIC RELATIONS\\u003cbr\\u003eMedian=%{x}\\u003cbr\\u003ecount=%{y}\\u003cextra\\u003e\\u003c\\u002fextra\\u003e\",\"legendgroup\":\"ADVERTISING AND PUBLIC RELATIONS\",\"marker\":{\"color\":\"#FF97FF\",\"opacity\":0.5,\"pattern\":{\"shape\":\"\"}},\"name\":\"ADVERTISING AND PUBLIC RELATIONS\",\"nbinsx\":20,\"offsetgroup\":\"ADVERTISING AND PUBLIC RELATIONS\",\"orientation\":\"v\",\"showlegend\":true,\"x\":[35000],\"xaxis\":\"x\",\"yaxis\":\"y\",\"type\":\"histogram\"},{\"alignmentgroup\":\"True\",\"bingroup\":\"x\",\"hovertemplate\":\"Major=AREA ETHNIC AND CIVILIZATION STUDIES\\u003cbr\\u003eMedian=%{x}\\u003cbr\\u003ecount=%{y}\\u003cextra\\u003e\\u003c\\u002fextra\\u003e\",\"legendgroup\":\"AREA ETHNIC AND CIVILIZATION STUDIES\",\"marker\":{\"color\":\"#FECB52\",\"opacity\":0.5,\"pattern\":{\"shape\":\"\"}},\"name\":\"AREA ETHNIC AND CIVILIZATION STUDIES\",\"nbinsx\":20,\"offsetgroup\":\"AREA ETHNIC AND CIVILIZATION STUDIES\",\"orientation\":\"v\",\"showlegend\":true,\"x\":[35000],\"xaxis\":\"x\",\"yaxis\":\"y\",\"type\":\"histogram\"},{\"alignmentgroup\":\"True\",\"bingroup\":\"x\",\"hovertemplate\":\"Major=SPECIAL NEEDS EDUCATION\\u003cbr\\u003eMedian=%{x}\\u003cbr\\u003ecount=%{y}\\u003cextra\\u003e\\u003c\\u002fextra\\u003e\",\"legendgroup\":\"SPECIAL NEEDS EDUCATION\",\"marker\":{\"color\":\"#636efa\",\"opacity\":0.5,\"pattern\":{\"shape\":\"\"}},\"name\":\"SPECIAL NEEDS EDUCATION\",\"nbinsx\":20,\"offsetgroup\":\"SPECIAL NEEDS EDUCATION\",\"orientation\":\"v\",\"showlegend\":true,\"x\":[35000],\"xaxis\":\"x\",\"yaxis\":\"y\",\"type\":\"histogram\"},{\"alignmentgroup\":\"True\",\"bingroup\":\"x\",\"hovertemplate\":\"Major=PHYSIOLOGY\\u003cbr\\u003eMedian=%{x}\\u003cbr\\u003ecount=%{y}\\u003cextra\\u003e\\u003c\\u002fextra\\u003e\",\"legendgroup\":\"PHYSIOLOGY\",\"marker\":{\"color\":\"#EF553B\",\"opacity\":0.5,\"pattern\":{\"shape\":\"\"}},\"name\":\"PHYSIOLOGY\",\"nbinsx\":20,\"offsetgroup\":\"PHYSIOLOGY\",\"orientation\":\"v\",\"showlegend\":true,\"x\":[35000],\"xaxis\":\"x\",\"yaxis\":\"y\",\"type\":\"histogram\"},{\"alignmentgroup\":\"True\",\"bingroup\":\"x\",\"hovertemplate\":\"Major=CRIMINOLOGY\\u003cbr\\u003eMedian=%{x}\\u003cbr\\u003ecount=%{y}\\u003cextra\\u003e\\u003c\\u002fextra\\u003e\",\"legendgroup\":\"CRIMINOLOGY\",\"marker\":{\"color\":\"#00cc96\",\"opacity\":0.5,\"pattern\":{\"shape\":\"\"}},\"name\":\"CRIMINOLOGY\",\"nbinsx\":20,\"offsetgroup\":\"CRIMINOLOGY\",\"orientation\":\"v\",\"showlegend\":true,\"x\":[35000],\"xaxis\":\"x\",\"yaxis\":\"y\",\"type\":\"histogram\"},{\"alignmentgroup\":\"True\",\"bingroup\":\"x\",\"hovertemplate\":\"Major=NUTRITION SCIENCES\\u003cbr\\u003eMedian=%{x}\\u003cbr\\u003ecount=%{y}\\u003cextra\\u003e\\u003c\\u002fextra\\u003e\",\"legendgroup\":\"NUTRITION SCIENCES\",\"marker\":{\"color\":\"#ab63fa\",\"opacity\":0.5,\"pattern\":{\"shape\":\"\"}},\"name\":\"NUTRITION SCIENCES\",\"nbinsx\":20,\"offsetgroup\":\"NUTRITION SCIENCES\",\"orientation\":\"v\",\"showlegend\":true,\"x\":[35000],\"xaxis\":\"x\",\"yaxis\":\"y\",\"type\":\"histogram\"},{\"alignmentgroup\":\"True\",\"bingroup\":\"x\",\"hovertemplate\":\"Major=HEALTH AND MEDICAL ADMINISTRATIVE SERVICES\\u003cbr\\u003eMedian=%{x}\\u003cbr\\u003ecount=%{y}\\u003cextra\\u003e\\u003c\\u002fextra\\u003e\",\"legendgroup\":\"HEALTH AND MEDICAL ADMINISTRATIVE SERVICES\",\"marker\":{\"color\":\"#FFA15A\",\"opacity\":0.5,\"pattern\":{\"shape\":\"\"}},\"name\":\"HEALTH AND MEDICAL ADMINISTRATIVE SERVICES\",\"nbinsx\":20,\"offsetgroup\":\"HEALTH AND MEDICAL ADMINISTRATIVE SERVICES\",\"orientation\":\"v\",\"showlegend\":true,\"x\":[35000],\"xaxis\":\"x\",\"yaxis\":\"y\",\"type\":\"histogram\"},{\"alignmentgroup\":\"True\",\"bingroup\":\"x\",\"hovertemplate\":\"Major=COMMUNICATION TECHNOLOGIES\\u003cbr\\u003eMedian=%{x}\\u003cbr\\u003ecount=%{y}\\u003cextra\\u003e\\u003c\\u002fextra\\u003e\",\"legendgroup\":\"COMMUNICATION TECHNOLOGIES\",\"marker\":{\"color\":\"#19d3f3\",\"opacity\":0.5,\"pattern\":{\"shape\":\"\"}},\"name\":\"COMMUNICATION TECHNOLOGIES\",\"nbinsx\":20,\"offsetgroup\":\"COMMUNICATION TECHNOLOGIES\",\"orientation\":\"v\",\"showlegend\":true,\"x\":[35000],\"xaxis\":\"x\",\"yaxis\":\"y\",\"type\":\"histogram\"},{\"alignmentgroup\":\"True\",\"bingroup\":\"x\",\"hovertemplate\":\"Major=TRANSPORTATION SCIENCES AND TECHNOLOGIES\\u003cbr\\u003eMedian=%{x}\\u003cbr\\u003ecount=%{y}\\u003cextra\\u003e\\u003c\\u002fextra\\u003e\",\"legendgroup\":\"TRANSPORTATION SCIENCES AND TECHNOLOGIES\",\"marker\":{\"color\":\"#FF6692\",\"opacity\":0.5,\"pattern\":{\"shape\":\"\"}},\"name\":\"TRANSPORTATION SCIENCES AND TECHNOLOGIES\",\"nbinsx\":20,\"offsetgroup\":\"TRANSPORTATION SCIENCES AND TECHNOLOGIES\",\"orientation\":\"v\",\"showlegend\":true,\"x\":[35000],\"xaxis\":\"x\",\"yaxis\":\"y\",\"type\":\"histogram\"},{\"alignmentgroup\":\"True\",\"bingroup\":\"x\",\"hovertemplate\":\"Major=NATURAL RESOURCES MANAGEMENT\\u003cbr\\u003eMedian=%{x}\\u003cbr\\u003ecount=%{y}\\u003cextra\\u003e\\u003c\\u002fextra\\u003e\",\"legendgroup\":\"NATURAL RESOURCES MANAGEMENT\",\"marker\":{\"color\":\"#B6E880\",\"opacity\":0.5,\"pattern\":{\"shape\":\"\"}},\"name\":\"NATURAL RESOURCES MANAGEMENT\",\"nbinsx\":20,\"offsetgroup\":\"NATURAL RESOURCES MANAGEMENT\",\"orientation\":\"v\",\"showlegend\":true,\"x\":[35000],\"xaxis\":\"x\",\"yaxis\":\"y\",\"type\":\"histogram\"},{\"alignmentgroup\":\"True\",\"bingroup\":\"x\",\"hovertemplate\":\"Major=NEUROSCIENCE\\u003cbr\\u003eMedian=%{x}\\u003cbr\\u003ecount=%{y}\\u003cextra\\u003e\\u003c\\u002fextra\\u003e\",\"legendgroup\":\"NEUROSCIENCE\",\"marker\":{\"color\":\"#FF97FF\",\"opacity\":0.5,\"pattern\":{\"shape\":\"\"}},\"name\":\"NEUROSCIENCE\",\"nbinsx\":20,\"offsetgroup\":\"NEUROSCIENCE\",\"orientation\":\"v\",\"showlegend\":true,\"x\":[35000],\"xaxis\":\"x\",\"yaxis\":\"y\",\"type\":\"histogram\"},{\"alignmentgroup\":\"True\",\"bingroup\":\"x\",\"hovertemplate\":\"Major=MULTI\\u002fINTERDISCIPLINARY STUDIES\\u003cbr\\u003eMedian=%{x}\\u003cbr\\u003ecount=%{y}\\u003cextra\\u003e\\u003c\\u002fextra\\u003e\",\"legendgroup\":\"MULTI\\u002fINTERDISCIPLINARY STUDIES\",\"marker\":{\"color\":\"#FECB52\",\"opacity\":0.5,\"pattern\":{\"shape\":\"\"}},\"name\":\"MULTI\\u002fINTERDISCIPLINARY STUDIES\",\"nbinsx\":20,\"offsetgroup\":\"MULTI\\u002fINTERDISCIPLINARY STUDIES\",\"orientation\":\"v\",\"showlegend\":true,\"x\":[35000],\"xaxis\":\"x\",\"yaxis\":\"y\",\"type\":\"histogram\"},{\"alignmentgroup\":\"True\",\"bingroup\":\"x\",\"hovertemplate\":\"Major=ATMOSPHERIC SCIENCES AND METEOROLOGY\\u003cbr\\u003eMedian=%{x}\\u003cbr\\u003ecount=%{y}\\u003cextra\\u003e\\u003c\\u002fextra\\u003e\",\"legendgroup\":\"ATMOSPHERIC SCIENCES AND METEOROLOGY\",\"marker\":{\"color\":\"#636efa\",\"opacity\":0.5,\"pattern\":{\"shape\":\"\"}},\"name\":\"ATMOSPHERIC SCIENCES AND METEOROLOGY\",\"nbinsx\":20,\"offsetgroup\":\"ATMOSPHERIC SCIENCES AND METEOROLOGY\",\"orientation\":\"v\",\"showlegend\":true,\"x\":[35000],\"xaxis\":\"x\",\"yaxis\":\"y\",\"type\":\"histogram\"},{\"alignmentgroup\":\"True\",\"bingroup\":\"x\",\"hovertemplate\":\"Major=FORESTRY\\u003cbr\\u003eMedian=%{x}\\u003cbr\\u003ecount=%{y}\\u003cextra\\u003e\\u003c\\u002fextra\\u003e\",\"legendgroup\":\"FORESTRY\",\"marker\":{\"color\":\"#EF553B\",\"opacity\":0.5,\"pattern\":{\"shape\":\"\"}},\"name\":\"FORESTRY\",\"nbinsx\":20,\"offsetgroup\":\"FORESTRY\",\"orientation\":\"v\",\"showlegend\":true,\"x\":[35000],\"xaxis\":\"x\",\"yaxis\":\"y\",\"type\":\"histogram\"},{\"alignmentgroup\":\"True\",\"bingroup\":\"x\",\"hovertemplate\":\"Major=SOIL SCIENCE\\u003cbr\\u003eMedian=%{x}\\u003cbr\\u003ecount=%{y}\\u003cextra\\u003e\\u003c\\u002fextra\\u003e\",\"legendgroup\":\"SOIL SCIENCE\",\"marker\":{\"color\":\"#00cc96\",\"opacity\":0.5,\"pattern\":{\"shape\":\"\"}},\"name\":\"SOIL SCIENCE\",\"nbinsx\":20,\"offsetgroup\":\"SOIL SCIENCE\",\"orientation\":\"v\",\"showlegend\":true,\"x\":[35000],\"xaxis\":\"x\",\"yaxis\":\"y\",\"type\":\"histogram\"},{\"alignmentgroup\":\"True\",\"bingroup\":\"x\",\"hovertemplate\":\"Major=GENERAL EDUCATION\\u003cbr\\u003eMedian=%{x}\\u003cbr\\u003ecount=%{y}\\u003cextra\\u003e\\u003c\\u002fextra\\u003e\",\"legendgroup\":\"GENERAL EDUCATION\",\"marker\":{\"color\":\"#ab63fa\",\"opacity\":0.5,\"pattern\":{\"shape\":\"\"}},\"name\":\"GENERAL EDUCATION\",\"nbinsx\":20,\"offsetgroup\":\"GENERAL EDUCATION\",\"orientation\":\"v\",\"showlegend\":true,\"x\":[34000],\"xaxis\":\"x\",\"yaxis\":\"y\",\"type\":\"histogram\"},{\"alignmentgroup\":\"True\",\"bingroup\":\"x\",\"hovertemplate\":\"Major=HISTORY\\u003cbr\\u003eMedian=%{x}\\u003cbr\\u003ecount=%{y}\\u003cextra\\u003e\\u003c\\u002fextra\\u003e\",\"legendgroup\":\"HISTORY\",\"marker\":{\"color\":\"#FFA15A\",\"opacity\":0.5,\"pattern\":{\"shape\":\"\"}},\"name\":\"HISTORY\",\"nbinsx\":20,\"offsetgroup\":\"HISTORY\",\"orientation\":\"v\",\"showlegend\":true,\"x\":[34000],\"xaxis\":\"x\",\"yaxis\":\"y\",\"type\":\"histogram\"},{\"alignmentgroup\":\"True\",\"bingroup\":\"x\",\"hovertemplate\":\"Major=FRENCH GERMAN LATIN AND OTHER COMMON FOREIGN LANGUAGE STUDIES\\u003cbr\\u003eMedian=%{x}\\u003cbr\\u003ecount=%{y}\\u003cextra\\u003e\\u003c\\u002fextra\\u003e\",\"legendgroup\":\"FRENCH GERMAN LATIN AND OTHER COMMON FOREIGN LANGUAGE STUDIES\",\"marker\":{\"color\":\"#19d3f3\",\"opacity\":0.5,\"pattern\":{\"shape\":\"\"}},\"name\":\"FRENCH GERMAN LATIN AND OTHER COMMON FOREIGN LANGUAGE STUDIES\",\"nbinsx\":20,\"offsetgroup\":\"FRENCH GERMAN LATIN AND OTHER COMMON FOREIGN LANGUAGE STUDIES\",\"orientation\":\"v\",\"showlegend\":true,\"x\":[34000],\"xaxis\":\"x\",\"yaxis\":\"y\",\"type\":\"histogram\"},{\"alignmentgroup\":\"True\",\"bingroup\":\"x\",\"hovertemplate\":\"Major=INTERCULTURAL AND INTERNATIONAL STUDIES\\u003cbr\\u003eMedian=%{x}\\u003cbr\\u003ecount=%{y}\\u003cextra\\u003e\\u003c\\u002fextra\\u003e\",\"legendgroup\":\"INTERCULTURAL AND INTERNATIONAL STUDIES\",\"marker\":{\"color\":\"#FF6692\",\"opacity\":0.5,\"pattern\":{\"shape\":\"\"}},\"name\":\"INTERCULTURAL AND INTERNATIONAL STUDIES\",\"nbinsx\":20,\"offsetgroup\":\"INTERCULTURAL AND INTERNATIONAL STUDIES\",\"orientation\":\"v\",\"showlegend\":true,\"x\":[34000],\"xaxis\":\"x\",\"yaxis\":\"y\",\"type\":\"histogram\"},{\"alignmentgroup\":\"True\",\"bingroup\":\"x\",\"hovertemplate\":\"Major=SOCIAL SCIENCE OR HISTORY TEACHER EDUCATION\\u003cbr\\u003eMedian=%{x}\\u003cbr\\u003ecount=%{y}\\u003cextra\\u003e\\u003c\\u002fextra\\u003e\",\"legendgroup\":\"SOCIAL SCIENCE OR HISTORY TEACHER EDUCATION\",\"marker\":{\"color\":\"#B6E880\",\"opacity\":0.5,\"pattern\":{\"shape\":\"\"}},\"name\":\"SOCIAL SCIENCE OR HISTORY TEACHER EDUCATION\",\"nbinsx\":20,\"offsetgroup\":\"SOCIAL SCIENCE OR HISTORY TEACHER EDUCATION\",\"orientation\":\"v\",\"showlegend\":true,\"x\":[34000],\"xaxis\":\"x\",\"yaxis\":\"y\",\"type\":\"histogram\"},{\"alignmentgroup\":\"True\",\"bingroup\":\"x\",\"hovertemplate\":\"Major=COMMUNITY AND PUBLIC HEALTH\\u003cbr\\u003eMedian=%{x}\\u003cbr\\u003ecount=%{y}\\u003cextra\\u003e\\u003c\\u002fextra\\u003e\",\"legendgroup\":\"COMMUNITY AND PUBLIC HEALTH\",\"marker\":{\"color\":\"#FF97FF\",\"opacity\":0.5,\"pattern\":{\"shape\":\"\"}},\"name\":\"COMMUNITY AND PUBLIC HEALTH\",\"nbinsx\":20,\"offsetgroup\":\"COMMUNITY AND PUBLIC HEALTH\",\"orientation\":\"v\",\"showlegend\":true,\"x\":[34000],\"xaxis\":\"x\",\"yaxis\":\"y\",\"type\":\"histogram\"},{\"alignmentgroup\":\"True\",\"bingroup\":\"x\",\"hovertemplate\":\"Major=MATHEMATICS TEACHER EDUCATION\\u003cbr\\u003eMedian=%{x}\\u003cbr\\u003ecount=%{y}\\u003cextra\\u003e\\u003c\\u002fextra\\u003e\",\"legendgroup\":\"MATHEMATICS TEACHER EDUCATION\",\"marker\":{\"color\":\"#FECB52\",\"opacity\":0.5,\"pattern\":{\"shape\":\"\"}},\"name\":\"MATHEMATICS TEACHER EDUCATION\",\"nbinsx\":20,\"offsetgroup\":\"MATHEMATICS TEACHER EDUCATION\",\"orientation\":\"v\",\"showlegend\":true,\"x\":[34000],\"xaxis\":\"x\",\"yaxis\":\"y\",\"type\":\"histogram\"},{\"alignmentgroup\":\"True\",\"bingroup\":\"x\",\"hovertemplate\":\"Major=EDUCATIONAL ADMINISTRATION AND SUPERVISION\\u003cbr\\u003eMedian=%{x}\\u003cbr\\u003ecount=%{y}\\u003cextra\\u003e\\u003c\\u002fextra\\u003e\",\"legendgroup\":\"EDUCATIONAL ADMINISTRATION AND SUPERVISION\",\"marker\":{\"color\":\"#636efa\",\"opacity\":0.5,\"pattern\":{\"shape\":\"\"}},\"name\":\"EDUCATIONAL ADMINISTRATION AND SUPERVISION\",\"nbinsx\":20,\"offsetgroup\":\"EDUCATIONAL ADMINISTRATION AND SUPERVISION\",\"orientation\":\"v\",\"showlegend\":true,\"x\":[34000],\"xaxis\":\"x\",\"yaxis\":\"y\",\"type\":\"histogram\"},{\"alignmentgroup\":\"True\",\"bingroup\":\"x\",\"hovertemplate\":\"Major=HEALTH AND MEDICAL PREPARATORY PROGRAMS\\u003cbr\\u003eMedian=%{x}\\u003cbr\\u003ecount=%{y}\\u003cextra\\u003e\\u003c\\u002fextra\\u003e\",\"legendgroup\":\"HEALTH AND MEDICAL PREPARATORY PROGRAMS\",\"marker\":{\"color\":\"#EF553B\",\"opacity\":0.5,\"pattern\":{\"shape\":\"\"}},\"name\":\"HEALTH AND MEDICAL PREPARATORY PROGRAMS\",\"nbinsx\":20,\"offsetgroup\":\"HEALTH AND MEDICAL PREPARATORY PROGRAMS\",\"orientation\":\"v\",\"showlegend\":true,\"x\":[33500],\"xaxis\":\"x\",\"yaxis\":\"y\",\"type\":\"histogram\"},{\"alignmentgroup\":\"True\",\"bingroup\":\"x\",\"hovertemplate\":\"Major=MISCELLANEOUS BIOLOGY\\u003cbr\\u003eMedian=%{x}\\u003cbr\\u003ecount=%{y}\\u003cextra\\u003e\\u003c\\u002fextra\\u003e\",\"legendgroup\":\"MISCELLANEOUS BIOLOGY\",\"marker\":{\"color\":\"#00cc96\",\"opacity\":0.5,\"pattern\":{\"shape\":\"\"}},\"name\":\"MISCELLANEOUS BIOLOGY\",\"nbinsx\":20,\"offsetgroup\":\"MISCELLANEOUS BIOLOGY\",\"orientation\":\"v\",\"showlegend\":true,\"x\":[33500],\"xaxis\":\"x\",\"yaxis\":\"y\",\"type\":\"histogram\"},{\"alignmentgroup\":\"True\",\"bingroup\":\"x\",\"hovertemplate\":\"Major=BIOLOGY\\u003cbr\\u003eMedian=%{x}\\u003cbr\\u003ecount=%{y}\\u003cextra\\u003e\\u003c\\u002fextra\\u003e\",\"legendgroup\":\"BIOLOGY\",\"marker\":{\"color\":\"#ab63fa\",\"opacity\":0.5,\"pattern\":{\"shape\":\"\"}},\"name\":\"BIOLOGY\",\"nbinsx\":20,\"offsetgroup\":\"BIOLOGY\",\"orientation\":\"v\",\"showlegend\":true,\"x\":[33400],\"xaxis\":\"x\",\"yaxis\":\"y\",\"type\":\"histogram\"},{\"alignmentgroup\":\"True\",\"bingroup\":\"x\",\"hovertemplate\":\"Major=SOCIOLOGY\\u003cbr\\u003eMedian=%{x}\\u003cbr\\u003ecount=%{y}\\u003cextra\\u003e\\u003c\\u002fextra\\u003e\",\"legendgroup\":\"SOCIOLOGY\",\"marker\":{\"color\":\"#FFA15A\",\"opacity\":0.5,\"pattern\":{\"shape\":\"\"}},\"name\":\"SOCIOLOGY\",\"nbinsx\":20,\"offsetgroup\":\"SOCIOLOGY\",\"orientation\":\"v\",\"showlegend\":true,\"x\":[33000],\"xaxis\":\"x\",\"yaxis\":\"y\",\"type\":\"histogram\"},{\"alignmentgroup\":\"True\",\"bingroup\":\"x\",\"hovertemplate\":\"Major=MASS MEDIA\\u003cbr\\u003eMedian=%{x}\\u003cbr\\u003ecount=%{y}\\u003cextra\\u003e\\u003c\\u002fextra\\u003e\",\"legendgroup\":\"MASS MEDIA\",\"marker\":{\"color\":\"#19d3f3\",\"opacity\":0.5,\"pattern\":{\"shape\":\"\"}},\"name\":\"MASS MEDIA\",\"nbinsx\":20,\"offsetgroup\":\"MASS MEDIA\",\"orientation\":\"v\",\"showlegend\":true,\"x\":[33000],\"xaxis\":\"x\",\"yaxis\":\"y\",\"type\":\"histogram\"},{\"alignmentgroup\":\"True\",\"bingroup\":\"x\",\"hovertemplate\":\"Major=TREATMENT THERAPY PROFESSIONS\\u003cbr\\u003eMedian=%{x}\\u003cbr\\u003ecount=%{y}\\u003cextra\\u003e\\u003c\\u002fextra\\u003e\",\"legendgroup\":\"TREATMENT THERAPY PROFESSIONS\",\"marker\":{\"color\":\"#FF6692\",\"opacity\":0.5,\"pattern\":{\"shape\":\"\"}},\"name\":\"TREATMENT THERAPY PROFESSIONS\",\"nbinsx\":20,\"offsetgroup\":\"TREATMENT THERAPY PROFESSIONS\",\"orientation\":\"v\",\"showlegend\":true,\"x\":[33000],\"xaxis\":\"x\",\"yaxis\":\"y\",\"type\":\"histogram\"},{\"alignmentgroup\":\"True\",\"bingroup\":\"x\",\"hovertemplate\":\"Major=HOSPITALITY MANAGEMENT\\u003cbr\\u003eMedian=%{x}\\u003cbr\\u003ecount=%{y}\\u003cextra\\u003e\\u003c\\u002fextra\\u003e\",\"legendgroup\":\"HOSPITALITY MANAGEMENT\",\"marker\":{\"color\":\"#B6E880\",\"opacity\":0.5,\"pattern\":{\"shape\":\"\"}},\"name\":\"HOSPITALITY MANAGEMENT\",\"nbinsx\":20,\"offsetgroup\":\"HOSPITALITY MANAGEMENT\",\"orientation\":\"v\",\"showlegend\":true,\"x\":[33000],\"xaxis\":\"x\",\"yaxis\":\"y\",\"type\":\"histogram\"},{\"alignmentgroup\":\"True\",\"bingroup\":\"x\",\"hovertemplate\":\"Major=LANGUAGE AND DRAMA EDUCATION\\u003cbr\\u003eMedian=%{x}\\u003cbr\\u003ecount=%{y}\\u003cextra\\u003e\\u003c\\u002fextra\\u003e\",\"legendgroup\":\"LANGUAGE AND DRAMA EDUCATION\",\"marker\":{\"color\":\"#FF97FF\",\"opacity\":0.5,\"pattern\":{\"shape\":\"\"}},\"name\":\"LANGUAGE AND DRAMA EDUCATION\",\"nbinsx\":20,\"offsetgroup\":\"LANGUAGE AND DRAMA EDUCATION\",\"orientation\":\"v\",\"showlegend\":true,\"x\":[33000],\"xaxis\":\"x\",\"yaxis\":\"y\",\"type\":\"histogram\"},{\"alignmentgroup\":\"True\",\"bingroup\":\"x\",\"hovertemplate\":\"Major=LINGUISTICS AND COMPARATIVE LANGUAGE AND LITERATURE\\u003cbr\\u003eMedian=%{x}\\u003cbr\\u003ecount=%{y}\\u003cextra\\u003e\\u003c\\u002fextra\\u003e\",\"legendgroup\":\"LINGUISTICS AND COMPARATIVE LANGUAGE AND LITERATURE\",\"marker\":{\"color\":\"#FECB52\",\"opacity\":0.5,\"pattern\":{\"shape\":\"\"}},\"name\":\"LINGUISTICS AND COMPARATIVE LANGUAGE AND LITERATURE\",\"nbinsx\":20,\"offsetgroup\":\"LINGUISTICS AND COMPARATIVE LANGUAGE AND LITERATURE\",\"orientation\":\"v\",\"showlegend\":true,\"x\":[33000],\"xaxis\":\"x\",\"yaxis\":\"y\",\"type\":\"histogram\"},{\"alignmentgroup\":\"True\",\"bingroup\":\"x\",\"hovertemplate\":\"Major=MISCELLANEOUS EDUCATION\\u003cbr\\u003eMedian=%{x}\\u003cbr\\u003ecount=%{y}\\u003cextra\\u003e\\u003c\\u002fextra\\u003e\",\"legendgroup\":\"MISCELLANEOUS EDUCATION\",\"marker\":{\"color\":\"#636efa\",\"opacity\":0.5,\"pattern\":{\"shape\":\"\"}},\"name\":\"MISCELLANEOUS EDUCATION\",\"nbinsx\":20,\"offsetgroup\":\"MISCELLANEOUS EDUCATION\",\"orientation\":\"v\",\"showlegend\":true,\"x\":[33000],\"xaxis\":\"x\",\"yaxis\":\"y\",\"type\":\"histogram\"},{\"alignmentgroup\":\"True\",\"bingroup\":\"x\",\"hovertemplate\":\"Major=INTERDISCIPLINARY SOCIAL SCIENCES\\u003cbr\\u003eMedian=%{x}\\u003cbr\\u003ecount=%{y}\\u003cextra\\u003e\\u003c\\u002fextra\\u003e\",\"legendgroup\":\"INTERDISCIPLINARY SOCIAL SCIENCES\",\"marker\":{\"color\":\"#EF553B\",\"opacity\":0.5,\"pattern\":{\"shape\":\"\"}},\"name\":\"INTERDISCIPLINARY SOCIAL SCIENCES\",\"nbinsx\":20,\"offsetgroup\":\"INTERDISCIPLINARY SOCIAL SCIENCES\",\"orientation\":\"v\",\"showlegend\":true,\"x\":[33000],\"xaxis\":\"x\",\"yaxis\":\"y\",\"type\":\"histogram\"},{\"alignmentgroup\":\"True\",\"bingroup\":\"x\",\"hovertemplate\":\"Major=ECOLOGY\\u003cbr\\u003eMedian=%{x}\\u003cbr\\u003ecount=%{y}\\u003cextra\\u003e\\u003c\\u002fextra\\u003e\",\"legendgroup\":\"ECOLOGY\",\"marker\":{\"color\":\"#00cc96\",\"opacity\":0.5,\"pattern\":{\"shape\":\"\"}},\"name\":\"ECOLOGY\",\"nbinsx\":20,\"offsetgroup\":\"ECOLOGY\",\"orientation\":\"v\",\"showlegend\":true,\"x\":[33000],\"xaxis\":\"x\",\"yaxis\":\"y\",\"type\":\"histogram\"},{\"alignmentgroup\":\"True\",\"bingroup\":\"x\",\"hovertemplate\":\"Major=SECONDARY TEACHER EDUCATION\\u003cbr\\u003eMedian=%{x}\\u003cbr\\u003ecount=%{y}\\u003cextra\\u003e\\u003c\\u002fextra\\u003e\",\"legendgroup\":\"SECONDARY TEACHER EDUCATION\",\"marker\":{\"color\":\"#ab63fa\",\"opacity\":0.5,\"pattern\":{\"shape\":\"\"}},\"name\":\"SECONDARY TEACHER EDUCATION\",\"nbinsx\":20,\"offsetgroup\":\"SECONDARY TEACHER EDUCATION\",\"orientation\":\"v\",\"showlegend\":true,\"x\":[32500],\"xaxis\":\"x\",\"yaxis\":\"y\",\"type\":\"histogram\"},{\"alignmentgroup\":\"True\",\"bingroup\":\"x\",\"hovertemplate\":\"Major=GENERAL MEDICAL AND HEALTH SERVICES\\u003cbr\\u003eMedian=%{x}\\u003cbr\\u003ecount=%{y}\\u003cextra\\u003e\\u003c\\u002fextra\\u003e\",\"legendgroup\":\"GENERAL MEDICAL AND HEALTH SERVICES\",\"marker\":{\"color\":\"#FFA15A\",\"opacity\":0.5,\"pattern\":{\"shape\":\"\"}},\"name\":\"GENERAL MEDICAL AND HEALTH SERVICES\",\"nbinsx\":20,\"offsetgroup\":\"GENERAL MEDICAL AND HEALTH SERVICES\",\"orientation\":\"v\",\"showlegend\":true,\"x\":[32400],\"xaxis\":\"x\",\"yaxis\":\"y\",\"type\":\"histogram\"},{\"alignmentgroup\":\"True\",\"bingroup\":\"x\",\"hovertemplate\":\"Major=PHILOSOPHY AND RELIGIOUS STUDIES\\u003cbr\\u003eMedian=%{x}\\u003cbr\\u003ecount=%{y}\\u003cextra\\u003e\\u003c\\u002fextra\\u003e\",\"legendgroup\":\"PHILOSOPHY AND RELIGIOUS STUDIES\",\"marker\":{\"color\":\"#19d3f3\",\"opacity\":0.5,\"pattern\":{\"shape\":\"\"}},\"name\":\"PHILOSOPHY AND RELIGIOUS STUDIES\",\"nbinsx\":20,\"offsetgroup\":\"PHILOSOPHY AND RELIGIOUS STUDIES\",\"orientation\":\"v\",\"showlegend\":true,\"x\":[32200],\"xaxis\":\"x\",\"yaxis\":\"y\",\"type\":\"histogram\"},{\"alignmentgroup\":\"True\",\"bingroup\":\"x\",\"hovertemplate\":\"Major=ART AND MUSIC EDUCATION\\u003cbr\\u003eMedian=%{x}\\u003cbr\\u003ecount=%{y}\\u003cextra\\u003e\\u003c\\u002fextra\\u003e\",\"legendgroup\":\"ART AND MUSIC EDUCATION\",\"marker\":{\"color\":\"#FF6692\",\"opacity\":0.5,\"pattern\":{\"shape\":\"\"}},\"name\":\"ART AND MUSIC EDUCATION\",\"nbinsx\":20,\"offsetgroup\":\"ART AND MUSIC EDUCATION\",\"orientation\":\"v\",\"showlegend\":true,\"x\":[32100],\"xaxis\":\"x\",\"yaxis\":\"y\",\"type\":\"histogram\"},{\"alignmentgroup\":\"True\",\"bingroup\":\"x\",\"hovertemplate\":\"Major=ENGLISH LANGUAGE AND LITERATURE\\u003cbr\\u003eMedian=%{x}\\u003cbr\\u003ecount=%{y}\\u003cextra\\u003e\\u003c\\u002fextra\\u003e\",\"legendgroup\":\"ENGLISH LANGUAGE AND LITERATURE\",\"marker\":{\"color\":\"#B6E880\",\"opacity\":0.5,\"pattern\":{\"shape\":\"\"}},\"name\":\"ENGLISH LANGUAGE AND LITERATURE\",\"nbinsx\":20,\"offsetgroup\":\"ENGLISH LANGUAGE AND LITERATURE\",\"orientation\":\"v\",\"showlegend\":true,\"x\":[32000],\"xaxis\":\"x\",\"yaxis\":\"y\",\"type\":\"histogram\"},{\"alignmentgroup\":\"True\",\"bingroup\":\"x\",\"hovertemplate\":\"Major=ELEMENTARY EDUCATION\\u003cbr\\u003eMedian=%{x}\\u003cbr\\u003ecount=%{y}\\u003cextra\\u003e\\u003c\\u002fextra\\u003e\",\"legendgroup\":\"ELEMENTARY EDUCATION\",\"marker\":{\"color\":\"#FF97FF\",\"opacity\":0.5,\"pattern\":{\"shape\":\"\"}},\"name\":\"ELEMENTARY EDUCATION\",\"nbinsx\":20,\"offsetgroup\":\"ELEMENTARY EDUCATION\",\"orientation\":\"v\",\"showlegend\":true,\"x\":[32000],\"xaxis\":\"x\",\"yaxis\":\"y\",\"type\":\"histogram\"},{\"alignmentgroup\":\"True\",\"bingroup\":\"x\",\"hovertemplate\":\"Major=PHYSICAL FITNESS PARKS RECREATION AND LEISURE\\u003cbr\\u003eMedian=%{x}\\u003cbr\\u003ecount=%{y}\\u003cextra\\u003e\\u003c\\u002fextra\\u003e\",\"legendgroup\":\"PHYSICAL FITNESS PARKS RECREATION AND LEISURE\",\"marker\":{\"color\":\"#FECB52\",\"opacity\":0.5,\"pattern\":{\"shape\":\"\"}},\"name\":\"PHYSICAL FITNESS PARKS RECREATION AND LEISURE\",\"nbinsx\":20,\"offsetgroup\":\"PHYSICAL FITNESS PARKS RECREATION AND LEISURE\",\"orientation\":\"v\",\"showlegend\":true,\"x\":[32000],\"xaxis\":\"x\",\"yaxis\":\"y\",\"type\":\"histogram\"},{\"alignmentgroup\":\"True\",\"bingroup\":\"x\",\"hovertemplate\":\"Major=LIBERAL ARTS\\u003cbr\\u003eMedian=%{x}\\u003cbr\\u003ecount=%{y}\\u003cextra\\u003e\\u003c\\u002fextra\\u003e\",\"legendgroup\":\"LIBERAL ARTS\",\"marker\":{\"color\":\"#636efa\",\"opacity\":0.5,\"pattern\":{\"shape\":\"\"}},\"name\":\"LIBERAL ARTS\",\"nbinsx\":20,\"offsetgroup\":\"LIBERAL ARTS\",\"orientation\":\"v\",\"showlegend\":true,\"x\":[32000],\"xaxis\":\"x\",\"yaxis\":\"y\",\"type\":\"histogram\"},{\"alignmentgroup\":\"True\",\"bingroup\":\"x\",\"hovertemplate\":\"Major=FILM VIDEO AND PHOTOGRAPHIC ARTS\\u003cbr\\u003eMedian=%{x}\\u003cbr\\u003ecount=%{y}\\u003cextra\\u003e\\u003c\\u002fextra\\u003e\",\"legendgroup\":\"FILM VIDEO AND PHOTOGRAPHIC ARTS\",\"marker\":{\"color\":\"#EF553B\",\"opacity\":0.5,\"pattern\":{\"shape\":\"\"}},\"name\":\"FILM VIDEO AND PHOTOGRAPHIC ARTS\",\"nbinsx\":20,\"offsetgroup\":\"FILM VIDEO AND PHOTOGRAPHIC ARTS\",\"orientation\":\"v\",\"showlegend\":true,\"x\":[32000],\"xaxis\":\"x\",\"yaxis\":\"y\",\"type\":\"histogram\"},{\"alignmentgroup\":\"True\",\"bingroup\":\"x\",\"hovertemplate\":\"Major=GENERAL SOCIAL SCIENCES\\u003cbr\\u003eMedian=%{x}\\u003cbr\\u003ecount=%{y}\\u003cextra\\u003e\\u003c\\u002fextra\\u003e\",\"legendgroup\":\"GENERAL SOCIAL SCIENCES\",\"marker\":{\"color\":\"#00cc96\",\"opacity\":0.5,\"pattern\":{\"shape\":\"\"}},\"name\":\"GENERAL SOCIAL SCIENCES\",\"nbinsx\":20,\"offsetgroup\":\"GENERAL SOCIAL SCIENCES\",\"orientation\":\"v\",\"showlegend\":true,\"x\":[32000],\"xaxis\":\"x\",\"yaxis\":\"y\",\"type\":\"histogram\"},{\"alignmentgroup\":\"True\",\"bingroup\":\"x\",\"hovertemplate\":\"Major=PLANT SCIENCE AND AGRONOMY\\u003cbr\\u003eMedian=%{x}\\u003cbr\\u003ecount=%{y}\\u003cextra\\u003e\\u003c\\u002fextra\\u003e\",\"legendgroup\":\"PLANT SCIENCE AND AGRONOMY\",\"marker\":{\"color\":\"#ab63fa\",\"opacity\":0.5,\"pattern\":{\"shape\":\"\"}},\"name\":\"PLANT SCIENCE AND AGRONOMY\",\"nbinsx\":20,\"offsetgroup\":\"PLANT SCIENCE AND AGRONOMY\",\"orientation\":\"v\",\"showlegend\":true,\"x\":[32000],\"xaxis\":\"x\",\"yaxis\":\"y\",\"type\":\"histogram\"},{\"alignmentgroup\":\"True\",\"bingroup\":\"x\",\"hovertemplate\":\"Major=SCIENCE AND COMPUTER TEACHER EDUCATION\\u003cbr\\u003eMedian=%{x}\\u003cbr\\u003ecount=%{y}\\u003cextra\\u003e\\u003c\\u002fextra\\u003e\",\"legendgroup\":\"SCIENCE AND COMPUTER TEACHER EDUCATION\",\"marker\":{\"color\":\"#FFA15A\",\"opacity\":0.5,\"pattern\":{\"shape\":\"\"}},\"name\":\"SCIENCE AND COMPUTER TEACHER EDUCATION\",\"nbinsx\":20,\"offsetgroup\":\"SCIENCE AND COMPUTER TEACHER EDUCATION\",\"orientation\":\"v\",\"showlegend\":true,\"x\":[32000],\"xaxis\":\"x\",\"yaxis\":\"y\",\"type\":\"histogram\"},{\"alignmentgroup\":\"True\",\"bingroup\":\"x\",\"hovertemplate\":\"Major=PSYCHOLOGY\\u003cbr\\u003eMedian=%{x}\\u003cbr\\u003ecount=%{y}\\u003cextra\\u003e\\u003c\\u002fextra\\u003e\",\"legendgroup\":\"PSYCHOLOGY\",\"marker\":{\"color\":\"#19d3f3\",\"opacity\":0.5,\"pattern\":{\"shape\":\"\"}},\"name\":\"PSYCHOLOGY\",\"nbinsx\":20,\"offsetgroup\":\"PSYCHOLOGY\",\"orientation\":\"v\",\"showlegend\":true,\"x\":[31500],\"xaxis\":\"x\",\"yaxis\":\"y\",\"type\":\"histogram\"},{\"alignmentgroup\":\"True\",\"bingroup\":\"x\",\"hovertemplate\":\"Major=MUSIC\\u003cbr\\u003eMedian=%{x}\\u003cbr\\u003ecount=%{y}\\u003cextra\\u003e\\u003c\\u002fextra\\u003e\",\"legendgroup\":\"MUSIC\",\"marker\":{\"color\":\"#FF6692\",\"opacity\":0.5,\"pattern\":{\"shape\":\"\"}},\"name\":\"MUSIC\",\"nbinsx\":20,\"offsetgroup\":\"MUSIC\",\"orientation\":\"v\",\"showlegend\":true,\"x\":[31000],\"xaxis\":\"x\",\"yaxis\":\"y\",\"type\":\"histogram\"},{\"alignmentgroup\":\"True\",\"bingroup\":\"x\",\"hovertemplate\":\"Major=PHYSICAL AND HEALTH EDUCATION TEACHING\\u003cbr\\u003eMedian=%{x}\\u003cbr\\u003ecount=%{y}\\u003cextra\\u003e\\u003c\\u002fextra\\u003e\",\"legendgroup\":\"PHYSICAL AND HEALTH EDUCATION TEACHING\",\"marker\":{\"color\":\"#B6E880\",\"opacity\":0.5,\"pattern\":{\"shape\":\"\"}},\"name\":\"PHYSICAL AND HEALTH EDUCATION TEACHING\",\"nbinsx\":20,\"offsetgroup\":\"PHYSICAL AND HEALTH EDUCATION TEACHING\",\"orientation\":\"v\",\"showlegend\":true,\"x\":[31000],\"xaxis\":\"x\",\"yaxis\":\"y\",\"type\":\"histogram\"},{\"alignmentgroup\":\"True\",\"bingroup\":\"x\",\"hovertemplate\":\"Major=ART HISTORY AND CRITICISM\\u003cbr\\u003eMedian=%{x}\\u003cbr\\u003ecount=%{y}\\u003cextra\\u003e\\u003c\\u002fextra\\u003e\",\"legendgroup\":\"ART HISTORY AND CRITICISM\",\"marker\":{\"color\":\"#FF97FF\",\"opacity\":0.5,\"pattern\":{\"shape\":\"\"}},\"name\":\"ART HISTORY AND CRITICISM\",\"nbinsx\":20,\"offsetgroup\":\"ART HISTORY AND CRITICISM\",\"orientation\":\"v\",\"showlegend\":true,\"x\":[31000],\"xaxis\":\"x\",\"yaxis\":\"y\",\"type\":\"histogram\"},{\"alignmentgroup\":\"True\",\"bingroup\":\"x\",\"hovertemplate\":\"Major=FINE ARTS\\u003cbr\\u003eMedian=%{x}\\u003cbr\\u003ecount=%{y}\\u003cextra\\u003e\\u003c\\u002fextra\\u003e\",\"legendgroup\":\"FINE ARTS\",\"marker\":{\"color\":\"#FECB52\",\"opacity\":0.5,\"pattern\":{\"shape\":\"\"}},\"name\":\"FINE ARTS\",\"nbinsx\":20,\"offsetgroup\":\"FINE ARTS\",\"orientation\":\"v\",\"showlegend\":true,\"x\":[30500],\"xaxis\":\"x\",\"yaxis\":\"y\",\"type\":\"histogram\"},{\"alignmentgroup\":\"True\",\"bingroup\":\"x\",\"hovertemplate\":\"Major=FAMILY AND CONSUMER SCIENCES\\u003cbr\\u003eMedian=%{x}\\u003cbr\\u003ecount=%{y}\\u003cextra\\u003e\\u003c\\u002fextra\\u003e\",\"legendgroup\":\"FAMILY AND CONSUMER SCIENCES\",\"marker\":{\"color\":\"#636efa\",\"opacity\":0.5,\"pattern\":{\"shape\":\"\"}},\"name\":\"FAMILY AND CONSUMER SCIENCES\",\"nbinsx\":20,\"offsetgroup\":\"FAMILY AND CONSUMER SCIENCES\",\"orientation\":\"v\",\"showlegend\":true,\"x\":[30000],\"xaxis\":\"x\",\"yaxis\":\"y\",\"type\":\"histogram\"},{\"alignmentgroup\":\"True\",\"bingroup\":\"x\",\"hovertemplate\":\"Major=SOCIAL WORK\\u003cbr\\u003eMedian=%{x}\\u003cbr\\u003ecount=%{y}\\u003cextra\\u003e\\u003c\\u002fextra\\u003e\",\"legendgroup\":\"SOCIAL WORK\",\"marker\":{\"color\":\"#EF553B\",\"opacity\":0.5,\"pattern\":{\"shape\":\"\"}},\"name\":\"SOCIAL WORK\",\"nbinsx\":20,\"offsetgroup\":\"SOCIAL WORK\",\"orientation\":\"v\",\"showlegend\":true,\"x\":[30000],\"xaxis\":\"x\",\"yaxis\":\"y\",\"type\":\"histogram\"},{\"alignmentgroup\":\"True\",\"bingroup\":\"x\",\"hovertemplate\":\"Major=ANIMAL SCIENCES\\u003cbr\\u003eMedian=%{x}\\u003cbr\\u003ecount=%{y}\\u003cextra\\u003e\\u003c\\u002fextra\\u003e\",\"legendgroup\":\"ANIMAL SCIENCES\",\"marker\":{\"color\":\"#00cc96\",\"opacity\":0.5,\"pattern\":{\"shape\":\"\"}},\"name\":\"ANIMAL SCIENCES\",\"nbinsx\":20,\"offsetgroup\":\"ANIMAL SCIENCES\",\"orientation\":\"v\",\"showlegend\":true,\"x\":[30000],\"xaxis\":\"x\",\"yaxis\":\"y\",\"type\":\"histogram\"},{\"alignmentgroup\":\"True\",\"bingroup\":\"x\",\"hovertemplate\":\"Major=VISUAL AND PERFORMING ARTS\\u003cbr\\u003eMedian=%{x}\\u003cbr\\u003ecount=%{y}\\u003cextra\\u003e\\u003c\\u002fextra\\u003e\",\"legendgroup\":\"VISUAL AND PERFORMING ARTS\",\"marker\":{\"color\":\"#ab63fa\",\"opacity\":0.5,\"pattern\":{\"shape\":\"\"}},\"name\":\"VISUAL AND PERFORMING ARTS\",\"nbinsx\":20,\"offsetgroup\":\"VISUAL AND PERFORMING ARTS\",\"orientation\":\"v\",\"showlegend\":true,\"x\":[30000],\"xaxis\":\"x\",\"yaxis\":\"y\",\"type\":\"histogram\"},{\"alignmentgroup\":\"True\",\"bingroup\":\"x\",\"hovertemplate\":\"Major=TEACHER EDUCATION: MULTIPLE LEVELS\\u003cbr\\u003eMedian=%{x}\\u003cbr\\u003ecount=%{y}\\u003cextra\\u003e\\u003c\\u002fextra\\u003e\",\"legendgroup\":\"TEACHER EDUCATION: MULTIPLE LEVELS\",\"marker\":{\"color\":\"#FFA15A\",\"opacity\":0.5,\"pattern\":{\"shape\":\"\"}},\"name\":\"TEACHER EDUCATION: MULTIPLE LEVELS\",\"nbinsx\":20,\"offsetgroup\":\"TEACHER EDUCATION: MULTIPLE LEVELS\",\"orientation\":\"v\",\"showlegend\":true,\"x\":[30000],\"xaxis\":\"x\",\"yaxis\":\"y\",\"type\":\"histogram\"},{\"alignmentgroup\":\"True\",\"bingroup\":\"x\",\"hovertemplate\":\"Major=MISCELLANEOUS PSYCHOLOGY\\u003cbr\\u003eMedian=%{x}\\u003cbr\\u003ecount=%{y}\\u003cextra\\u003e\\u003c\\u002fextra\\u003e\",\"legendgroup\":\"MISCELLANEOUS PSYCHOLOGY\",\"marker\":{\"color\":\"#19d3f3\",\"opacity\":0.5,\"pattern\":{\"shape\":\"\"}},\"name\":\"MISCELLANEOUS PSYCHOLOGY\",\"nbinsx\":20,\"offsetgroup\":\"MISCELLANEOUS PSYCHOLOGY\",\"orientation\":\"v\",\"showlegend\":true,\"x\":[30000],\"xaxis\":\"x\",\"yaxis\":\"y\",\"type\":\"histogram\"},{\"alignmentgroup\":\"True\",\"bingroup\":\"x\",\"hovertemplate\":\"Major=HUMAN SERVICES AND COMMUNITY ORGANIZATION\\u003cbr\\u003eMedian=%{x}\\u003cbr\\u003ecount=%{y}\\u003cextra\\u003e\\u003c\\u002fextra\\u003e\",\"legendgroup\":\"HUMAN SERVICES AND COMMUNITY ORGANIZATION\",\"marker\":{\"color\":\"#FF6692\",\"opacity\":0.5,\"pattern\":{\"shape\":\"\"}},\"name\":\"HUMAN SERVICES AND COMMUNITY ORGANIZATION\",\"nbinsx\":20,\"offsetgroup\":\"HUMAN SERVICES AND COMMUNITY ORGANIZATION\",\"orientation\":\"v\",\"showlegend\":true,\"x\":[30000],\"xaxis\":\"x\",\"yaxis\":\"y\",\"type\":\"histogram\"},{\"alignmentgroup\":\"True\",\"bingroup\":\"x\",\"hovertemplate\":\"Major=HUMANITIES\\u003cbr\\u003eMedian=%{x}\\u003cbr\\u003ecount=%{y}\\u003cextra\\u003e\\u003c\\u002fextra\\u003e\",\"legendgroup\":\"HUMANITIES\",\"marker\":{\"color\":\"#B6E880\",\"opacity\":0.5,\"pattern\":{\"shape\":\"\"}},\"name\":\"HUMANITIES\",\"nbinsx\":20,\"offsetgroup\":\"HUMANITIES\",\"orientation\":\"v\",\"showlegend\":true,\"x\":[30000],\"xaxis\":\"x\",\"yaxis\":\"y\",\"type\":\"histogram\"},{\"alignmentgroup\":\"True\",\"bingroup\":\"x\",\"hovertemplate\":\"Major=THEOLOGY AND RELIGIOUS VOCATIONS\\u003cbr\\u003eMedian=%{x}\\u003cbr\\u003ecount=%{y}\\u003cextra\\u003e\\u003c\\u002fextra\\u003e\",\"legendgroup\":\"THEOLOGY AND RELIGIOUS VOCATIONS\",\"marker\":{\"color\":\"#FF97FF\",\"opacity\":0.5,\"pattern\":{\"shape\":\"\"}},\"name\":\"THEOLOGY AND RELIGIOUS VOCATIONS\",\"nbinsx\":20,\"offsetgroup\":\"THEOLOGY AND RELIGIOUS VOCATIONS\",\"orientation\":\"v\",\"showlegend\":true,\"x\":[29000],\"xaxis\":\"x\",\"yaxis\":\"y\",\"type\":\"histogram\"},{\"alignmentgroup\":\"True\",\"bingroup\":\"x\",\"hovertemplate\":\"Major=STUDIO ARTS\\u003cbr\\u003eMedian=%{x}\\u003cbr\\u003ecount=%{y}\\u003cextra\\u003e\\u003c\\u002fextra\\u003e\",\"legendgroup\":\"STUDIO ARTS\",\"marker\":{\"color\":\"#FECB52\",\"opacity\":0.5,\"pattern\":{\"shape\":\"\"}},\"name\":\"STUDIO ARTS\",\"nbinsx\":20,\"offsetgroup\":\"STUDIO ARTS\",\"orientation\":\"v\",\"showlegend\":true,\"x\":[29000],\"xaxis\":\"x\",\"yaxis\":\"y\",\"type\":\"histogram\"},{\"alignmentgroup\":\"True\",\"bingroup\":\"x\",\"hovertemplate\":\"Major=COSMETOLOGY SERVICES AND CULINARY ARTS\\u003cbr\\u003eMedian=%{x}\\u003cbr\\u003ecount=%{y}\\u003cextra\\u003e\\u003c\\u002fextra\\u003e\",\"legendgroup\":\"COSMETOLOGY SERVICES AND CULINARY ARTS\",\"marker\":{\"color\":\"#636efa\",\"opacity\":0.5,\"pattern\":{\"shape\":\"\"}},\"name\":\"COSMETOLOGY SERVICES AND CULINARY ARTS\",\"nbinsx\":20,\"offsetgroup\":\"COSMETOLOGY SERVICES AND CULINARY ARTS\",\"orientation\":\"v\",\"showlegend\":true,\"x\":[29000],\"xaxis\":\"x\",\"yaxis\":\"y\",\"type\":\"histogram\"},{\"alignmentgroup\":\"True\",\"bingroup\":\"x\",\"hovertemplate\":\"Major=MISCELLANEOUS AGRICULTURE\\u003cbr\\u003eMedian=%{x}\\u003cbr\\u003ecount=%{y}\\u003cextra\\u003e\\u003c\\u002fextra\\u003e\",\"legendgroup\":\"MISCELLANEOUS AGRICULTURE\",\"marker\":{\"color\":\"#EF553B\",\"opacity\":0.5,\"pattern\":{\"shape\":\"\"}},\"name\":\"MISCELLANEOUS AGRICULTURE\",\"nbinsx\":20,\"offsetgroup\":\"MISCELLANEOUS AGRICULTURE\",\"orientation\":\"v\",\"showlegend\":true,\"x\":[29000],\"xaxis\":\"x\",\"yaxis\":\"y\",\"type\":\"histogram\"},{\"alignmentgroup\":\"True\",\"bingroup\":\"x\",\"hovertemplate\":\"Major=ANTHROPOLOGY AND ARCHEOLOGY\\u003cbr\\u003eMedian=%{x}\\u003cbr\\u003ecount=%{y}\\u003cextra\\u003e\\u003c\\u002fextra\\u003e\",\"legendgroup\":\"ANTHROPOLOGY AND ARCHEOLOGY\",\"marker\":{\"color\":\"#00cc96\",\"opacity\":0.5,\"pattern\":{\"shape\":\"\"}},\"name\":\"ANTHROPOLOGY AND ARCHEOLOGY\",\"nbinsx\":20,\"offsetgroup\":\"ANTHROPOLOGY AND ARCHEOLOGY\",\"orientation\":\"v\",\"showlegend\":true,\"x\":[28000],\"xaxis\":\"x\",\"yaxis\":\"y\",\"type\":\"histogram\"},{\"alignmentgroup\":\"True\",\"bingroup\":\"x\",\"hovertemplate\":\"Major=COMMUNICATION DISORDERS SCIENCES AND SERVICES\\u003cbr\\u003eMedian=%{x}\\u003cbr\\u003ecount=%{y}\\u003cextra\\u003e\\u003c\\u002fextra\\u003e\",\"legendgroup\":\"COMMUNICATION DISORDERS SCIENCES AND SERVICES\",\"marker\":{\"color\":\"#ab63fa\",\"opacity\":0.5,\"pattern\":{\"shape\":\"\"}},\"name\":\"COMMUNICATION DISORDERS SCIENCES AND SERVICES\",\"nbinsx\":20,\"offsetgroup\":\"COMMUNICATION DISORDERS SCIENCES AND SERVICES\",\"orientation\":\"v\",\"showlegend\":true,\"x\":[28000],\"xaxis\":\"x\",\"yaxis\":\"y\",\"type\":\"histogram\"},{\"alignmentgroup\":\"True\",\"bingroup\":\"x\",\"hovertemplate\":\"Major=EARLY CHILDHOOD EDUCATION\\u003cbr\\u003eMedian=%{x}\\u003cbr\\u003ecount=%{y}\\u003cextra\\u003e\\u003c\\u002fextra\\u003e\",\"legendgroup\":\"EARLY CHILDHOOD EDUCATION\",\"marker\":{\"color\":\"#FFA15A\",\"opacity\":0.5,\"pattern\":{\"shape\":\"\"}},\"name\":\"EARLY CHILDHOOD EDUCATION\",\"nbinsx\":20,\"offsetgroup\":\"EARLY CHILDHOOD EDUCATION\",\"orientation\":\"v\",\"showlegend\":true,\"x\":[28000],\"xaxis\":\"x\",\"yaxis\":\"y\",\"type\":\"histogram\"},{\"alignmentgroup\":\"True\",\"bingroup\":\"x\",\"hovertemplate\":\"Major=OTHER FOREIGN LANGUAGES\\u003cbr\\u003eMedian=%{x}\\u003cbr\\u003ecount=%{y}\\u003cextra\\u003e\\u003c\\u002fextra\\u003e\",\"legendgroup\":\"OTHER FOREIGN LANGUAGES\",\"marker\":{\"color\":\"#19d3f3\",\"opacity\":0.5,\"pattern\":{\"shape\":\"\"}},\"name\":\"OTHER FOREIGN LANGUAGES\",\"nbinsx\":20,\"offsetgroup\":\"OTHER FOREIGN LANGUAGES\",\"orientation\":\"v\",\"showlegend\":true,\"x\":[27500],\"xaxis\":\"x\",\"yaxis\":\"y\",\"type\":\"histogram\"},{\"alignmentgroup\":\"True\",\"bingroup\":\"x\",\"hovertemplate\":\"Major=DRAMA AND THEATER ARTS\\u003cbr\\u003eMedian=%{x}\\u003cbr\\u003ecount=%{y}\\u003cextra\\u003e\\u003c\\u002fextra\\u003e\",\"legendgroup\":\"DRAMA AND THEATER ARTS\",\"marker\":{\"color\":\"#FF6692\",\"opacity\":0.5,\"pattern\":{\"shape\":\"\"}},\"name\":\"DRAMA AND THEATER ARTS\",\"nbinsx\":20,\"offsetgroup\":\"DRAMA AND THEATER ARTS\",\"orientation\":\"v\",\"showlegend\":true,\"x\":[27000],\"xaxis\":\"x\",\"yaxis\":\"y\",\"type\":\"histogram\"},{\"alignmentgroup\":\"True\",\"bingroup\":\"x\",\"hovertemplate\":\"Major=COMPOSITION AND RHETORIC\\u003cbr\\u003eMedian=%{x}\\u003cbr\\u003ecount=%{y}\\u003cextra\\u003e\\u003c\\u002fextra\\u003e\",\"legendgroup\":\"COMPOSITION AND RHETORIC\",\"marker\":{\"color\":\"#B6E880\",\"opacity\":0.5,\"pattern\":{\"shape\":\"\"}},\"name\":\"COMPOSITION AND RHETORIC\",\"nbinsx\":20,\"offsetgroup\":\"COMPOSITION AND RHETORIC\",\"orientation\":\"v\",\"showlegend\":true,\"x\":[27000],\"xaxis\":\"x\",\"yaxis\":\"y\",\"type\":\"histogram\"},{\"alignmentgroup\":\"True\",\"bingroup\":\"x\",\"hovertemplate\":\"Major=ZOOLOGY\\u003cbr\\u003eMedian=%{x}\\u003cbr\\u003ecount=%{y}\\u003cextra\\u003e\\u003c\\u002fextra\\u003e\",\"legendgroup\":\"ZOOLOGY\",\"marker\":{\"color\":\"#FF97FF\",\"opacity\":0.5,\"pattern\":{\"shape\":\"\"}},\"name\":\"ZOOLOGY\",\"nbinsx\":20,\"offsetgroup\":\"ZOOLOGY\",\"orientation\":\"v\",\"showlegend\":true,\"x\":[26000],\"xaxis\":\"x\",\"yaxis\":\"y\",\"type\":\"histogram\"},{\"alignmentgroup\":\"True\",\"bingroup\":\"x\",\"hovertemplate\":\"Major=EDUCATIONAL PSYCHOLOGY\\u003cbr\\u003eMedian=%{x}\\u003cbr\\u003ecount=%{y}\\u003cextra\\u003e\\u003c\\u002fextra\\u003e\",\"legendgroup\":\"EDUCATIONAL PSYCHOLOGY\",\"marker\":{\"color\":\"#FECB52\",\"opacity\":0.5,\"pattern\":{\"shape\":\"\"}},\"name\":\"EDUCATIONAL PSYCHOLOGY\",\"nbinsx\":20,\"offsetgroup\":\"EDUCATIONAL PSYCHOLOGY\",\"orientation\":\"v\",\"showlegend\":true,\"x\":[25000],\"xaxis\":\"x\",\"yaxis\":\"y\",\"type\":\"histogram\"},{\"alignmentgroup\":\"True\",\"bingroup\":\"x\",\"hovertemplate\":\"Major=CLINICAL PSYCHOLOGY\\u003cbr\\u003eMedian=%{x}\\u003cbr\\u003ecount=%{y}\\u003cextra\\u003e\\u003c\\u002fextra\\u003e\",\"legendgroup\":\"CLINICAL PSYCHOLOGY\",\"marker\":{\"color\":\"#636efa\",\"opacity\":0.5,\"pattern\":{\"shape\":\"\"}},\"name\":\"CLINICAL PSYCHOLOGY\",\"nbinsx\":20,\"offsetgroup\":\"CLINICAL PSYCHOLOGY\",\"orientation\":\"v\",\"showlegend\":true,\"x\":[25000],\"xaxis\":\"x\",\"yaxis\":\"y\",\"type\":\"histogram\"},{\"alignmentgroup\":\"True\",\"bingroup\":\"x\",\"hovertemplate\":\"Major=COUNSELING PSYCHOLOGY\\u003cbr\\u003eMedian=%{x}\\u003cbr\\u003ecount=%{y}\\u003cextra\\u003e\\u003c\\u002fextra\\u003e\",\"legendgroup\":\"COUNSELING PSYCHOLOGY\",\"marker\":{\"color\":\"#EF553B\",\"opacity\":0.5,\"pattern\":{\"shape\":\"\"}},\"name\":\"COUNSELING PSYCHOLOGY\",\"nbinsx\":20,\"offsetgroup\":\"COUNSELING PSYCHOLOGY\",\"orientation\":\"v\",\"showlegend\":true,\"x\":[23400],\"xaxis\":\"x\",\"yaxis\":\"y\",\"type\":\"histogram\"},{\"alignmentgroup\":\"True\",\"bingroup\":\"x\",\"hovertemplate\":\"Major=LIBRARY SCIENCE\\u003cbr\\u003eMedian=%{x}\\u003cbr\\u003ecount=%{y}\\u003cextra\\u003e\\u003c\\u002fextra\\u003e\",\"legendgroup\":\"LIBRARY SCIENCE\",\"marker\":{\"color\":\"#00cc96\",\"opacity\":0.5,\"pattern\":{\"shape\":\"\"}},\"name\":\"LIBRARY SCIENCE\",\"nbinsx\":20,\"offsetgroup\":\"LIBRARY SCIENCE\",\"orientation\":\"v\",\"showlegend\":true,\"x\":[22000],\"xaxis\":\"x\",\"yaxis\":\"y\",\"type\":\"histogram\"}],                        {\"template\":{\"data\":{\"histogram2dcontour\":[{\"type\":\"histogram2dcontour\",\"colorbar\":{\"outlinewidth\":0,\"ticks\":\"\"},\"colorscale\":[[0.0,\"#0d0887\"],[0.1111111111111111,\"#46039f\"],[0.2222222222222222,\"#7201a8\"],[0.3333333333333333,\"#9c179e\"],[0.4444444444444444,\"#bd3786\"],[0.5555555555555556,\"#d8576b\"],[0.6666666666666666,\"#ed7953\"],[0.7777777777777778,\"#fb9f3a\"],[0.8888888888888888,\"#fdca26\"],[1.0,\"#f0f921\"]]}],\"choropleth\":[{\"type\":\"choropleth\",\"colorbar\":{\"outlinewidth\":0,\"ticks\":\"\"}}],\"histogram2d\":[{\"type\":\"histogram2d\",\"colorbar\":{\"outlinewidth\":0,\"ticks\":\"\"},\"colorscale\":[[0.0,\"#0d0887\"],[0.1111111111111111,\"#46039f\"],[0.2222222222222222,\"#7201a8\"],[0.3333333333333333,\"#9c179e\"],[0.4444444444444444,\"#bd3786\"],[0.5555555555555556,\"#d8576b\"],[0.6666666666666666,\"#ed7953\"],[0.7777777777777778,\"#fb9f3a\"],[0.8888888888888888,\"#fdca26\"],[1.0,\"#f0f921\"]]}],\"heatmap\":[{\"type\":\"heatmap\",\"colorbar\":{\"outlinewidth\":0,\"ticks\":\"\"},\"colorscale\":[[0.0,\"#0d0887\"],[0.1111111111111111,\"#46039f\"],[0.2222222222222222,\"#7201a8\"],[0.3333333333333333,\"#9c179e\"],[0.4444444444444444,\"#bd3786\"],[0.5555555555555556,\"#d8576b\"],[0.6666666666666666,\"#ed7953\"],[0.7777777777777778,\"#fb9f3a\"],[0.8888888888888888,\"#fdca26\"],[1.0,\"#f0f921\"]]}],\"heatmapgl\":[{\"type\":\"heatmapgl\",\"colorbar\":{\"outlinewidth\":0,\"ticks\":\"\"},\"colorscale\":[[0.0,\"#0d0887\"],[0.1111111111111111,\"#46039f\"],[0.2222222222222222,\"#7201a8\"],[0.3333333333333333,\"#9c179e\"],[0.4444444444444444,\"#bd3786\"],[0.5555555555555556,\"#d8576b\"],[0.6666666666666666,\"#ed7953\"],[0.7777777777777778,\"#fb9f3a\"],[0.8888888888888888,\"#fdca26\"],[1.0,\"#f0f921\"]]}],\"contourcarpet\":[{\"type\":\"contourcarpet\",\"colorbar\":{\"outlinewidth\":0,\"ticks\":\"\"}}],\"contour\":[{\"type\":\"contour\",\"colorbar\":{\"outlinewidth\":0,\"ticks\":\"\"},\"colorscale\":[[0.0,\"#0d0887\"],[0.1111111111111111,\"#46039f\"],[0.2222222222222222,\"#7201a8\"],[0.3333333333333333,\"#9c179e\"],[0.4444444444444444,\"#bd3786\"],[0.5555555555555556,\"#d8576b\"],[0.6666666666666666,\"#ed7953\"],[0.7777777777777778,\"#fb9f3a\"],[0.8888888888888888,\"#fdca26\"],[1.0,\"#f0f921\"]]}],\"surface\":[{\"type\":\"surface\",\"colorbar\":{\"outlinewidth\":0,\"ticks\":\"\"},\"colorscale\":[[0.0,\"#0d0887\"],[0.1111111111111111,\"#46039f\"],[0.2222222222222222,\"#7201a8\"],[0.3333333333333333,\"#9c179e\"],[0.4444444444444444,\"#bd3786\"],[0.5555555555555556,\"#d8576b\"],[0.6666666666666666,\"#ed7953\"],[0.7777777777777778,\"#fb9f3a\"],[0.8888888888888888,\"#fdca26\"],[1.0,\"#f0f921\"]]}],\"mesh3d\":[{\"type\":\"mesh3d\",\"colorbar\":{\"outlinewidth\":0,\"ticks\":\"\"}}],\"scatter\":[{\"fillpattern\":{\"fillmode\":\"overlay\",\"size\":10,\"solidity\":0.2},\"type\":\"scatter\"}],\"parcoords\":[{\"type\":\"parcoords\",\"line\":{\"colorbar\":{\"outlinewidth\":0,\"ticks\":\"\"}}}],\"scatterpolargl\":[{\"type\":\"scatterpolargl\",\"marker\":{\"colorbar\":{\"outlinewidth\":0,\"ticks\":\"\"}}}],\"bar\":[{\"error_x\":{\"color\":\"#2a3f5f\"},\"error_y\":{\"color\":\"#2a3f5f\"},\"marker\":{\"line\":{\"color\":\"#E5ECF6\",\"width\":0.5},\"pattern\":{\"fillmode\":\"overlay\",\"size\":10,\"solidity\":0.2}},\"type\":\"bar\"}],\"scattergeo\":[{\"type\":\"scattergeo\",\"marker\":{\"colorbar\":{\"outlinewidth\":0,\"ticks\":\"\"}}}],\"scatterpolar\":[{\"type\":\"scatterpolar\",\"marker\":{\"colorbar\":{\"outlinewidth\":0,\"ticks\":\"\"}}}],\"histogram\":[{\"marker\":{\"pattern\":{\"fillmode\":\"overlay\",\"size\":10,\"solidity\":0.2}},\"type\":\"histogram\"}],\"scattergl\":[{\"type\":\"scattergl\",\"marker\":{\"colorbar\":{\"outlinewidth\":0,\"ticks\":\"\"}}}],\"scatter3d\":[{\"type\":\"scatter3d\",\"line\":{\"colorbar\":{\"outlinewidth\":0,\"ticks\":\"\"}},\"marker\":{\"colorbar\":{\"outlinewidth\":0,\"ticks\":\"\"}}}],\"scattermapbox\":[{\"type\":\"scattermapbox\",\"marker\":{\"colorbar\":{\"outlinewidth\":0,\"ticks\":\"\"}}}],\"scatterternary\":[{\"type\":\"scatterternary\",\"marker\":{\"colorbar\":{\"outlinewidth\":0,\"ticks\":\"\"}}}],\"scattercarpet\":[{\"type\":\"scattercarpet\",\"marker\":{\"colorbar\":{\"outlinewidth\":0,\"ticks\":\"\"}}}],\"carpet\":[{\"aaxis\":{\"endlinecolor\":\"#2a3f5f\",\"gridcolor\":\"white\",\"linecolor\":\"white\",\"minorgridcolor\":\"white\",\"startlinecolor\":\"#2a3f5f\"},\"baxis\":{\"endlinecolor\":\"#2a3f5f\",\"gridcolor\":\"white\",\"linecolor\":\"white\",\"minorgridcolor\":\"white\",\"startlinecolor\":\"#2a3f5f\"},\"type\":\"carpet\"}],\"table\":[{\"cells\":{\"fill\":{\"color\":\"#EBF0F8\"},\"line\":{\"color\":\"white\"}},\"header\":{\"fill\":{\"color\":\"#C8D4E3\"},\"line\":{\"color\":\"white\"}},\"type\":\"table\"}],\"barpolar\":[{\"marker\":{\"line\":{\"color\":\"#E5ECF6\",\"width\":0.5},\"pattern\":{\"fillmode\":\"overlay\",\"size\":10,\"solidity\":0.2}},\"type\":\"barpolar\"}],\"pie\":[{\"automargin\":true,\"type\":\"pie\"}]},\"layout\":{\"autotypenumbers\":\"strict\",\"colorway\":[\"#636efa\",\"#EF553B\",\"#00cc96\",\"#ab63fa\",\"#FFA15A\",\"#19d3f3\",\"#FF6692\",\"#B6E880\",\"#FF97FF\",\"#FECB52\"],\"font\":{\"color\":\"#2a3f5f\"},\"hovermode\":\"closest\",\"hoverlabel\":{\"align\":\"left\"},\"paper_bgcolor\":\"white\",\"plot_bgcolor\":\"#E5ECF6\",\"polar\":{\"bgcolor\":\"#E5ECF6\",\"angularaxis\":{\"gridcolor\":\"white\",\"linecolor\":\"white\",\"ticks\":\"\"},\"radialaxis\":{\"gridcolor\":\"white\",\"linecolor\":\"white\",\"ticks\":\"\"}},\"ternary\":{\"bgcolor\":\"#E5ECF6\",\"aaxis\":{\"gridcolor\":\"white\",\"linecolor\":\"white\",\"ticks\":\"\"},\"baxis\":{\"gridcolor\":\"white\",\"linecolor\":\"white\",\"ticks\":\"\"},\"caxis\":{\"gridcolor\":\"white\",\"linecolor\":\"white\",\"ticks\":\"\"}},\"coloraxis\":{\"colorbar\":{\"outlinewidth\":0,\"ticks\":\"\"}},\"colorscale\":{\"sequential\":[[0.0,\"#0d0887\"],[0.1111111111111111,\"#46039f\"],[0.2222222222222222,\"#7201a8\"],[0.3333333333333333,\"#9c179e\"],[0.4444444444444444,\"#bd3786\"],[0.5555555555555556,\"#d8576b\"],[0.6666666666666666,\"#ed7953\"],[0.7777777777777778,\"#fb9f3a\"],[0.8888888888888888,\"#fdca26\"],[1.0,\"#f0f921\"]],\"sequentialminus\":[[0.0,\"#0d0887\"],[0.1111111111111111,\"#46039f\"],[0.2222222222222222,\"#7201a8\"],[0.3333333333333333,\"#9c179e\"],[0.4444444444444444,\"#bd3786\"],[0.5555555555555556,\"#d8576b\"],[0.6666666666666666,\"#ed7953\"],[0.7777777777777778,\"#fb9f3a\"],[0.8888888888888888,\"#fdca26\"],[1.0,\"#f0f921\"]],\"diverging\":[[0,\"#8e0152\"],[0.1,\"#c51b7d\"],[0.2,\"#de77ae\"],[0.3,\"#f1b6da\"],[0.4,\"#fde0ef\"],[0.5,\"#f7f7f7\"],[0.6,\"#e6f5d0\"],[0.7,\"#b8e186\"],[0.8,\"#7fbc41\"],[0.9,\"#4d9221\"],[1,\"#276419\"]]},\"xaxis\":{\"gridcolor\":\"white\",\"linecolor\":\"white\",\"ticks\":\"\",\"title\":{\"standoff\":15},\"zerolinecolor\":\"white\",\"automargin\":true,\"zerolinewidth\":2},\"yaxis\":{\"gridcolor\":\"white\",\"linecolor\":\"white\",\"ticks\":\"\",\"title\":{\"standoff\":15},\"zerolinecolor\":\"white\",\"automargin\":true,\"zerolinewidth\":2},\"scene\":{\"xaxis\":{\"backgroundcolor\":\"#E5ECF6\",\"gridcolor\":\"white\",\"linecolor\":\"white\",\"showbackground\":true,\"ticks\":\"\",\"zerolinecolor\":\"white\",\"gridwidth\":2},\"yaxis\":{\"backgroundcolor\":\"#E5ECF6\",\"gridcolor\":\"white\",\"linecolor\":\"white\",\"showbackground\":true,\"ticks\":\"\",\"zerolinecolor\":\"white\",\"gridwidth\":2},\"zaxis\":{\"backgroundcolor\":\"#E5ECF6\",\"gridcolor\":\"white\",\"linecolor\":\"white\",\"showbackground\":true,\"ticks\":\"\",\"zerolinecolor\":\"white\",\"gridwidth\":2}},\"shapedefaults\":{\"line\":{\"color\":\"#2a3f5f\"}},\"annotationdefaults\":{\"arrowcolor\":\"#2a3f5f\",\"arrowhead\":0,\"arrowwidth\":1},\"geo\":{\"bgcolor\":\"white\",\"landcolor\":\"#E5ECF6\",\"subunitcolor\":\"white\",\"showland\":true,\"showlakes\":true,\"lakecolor\":\"white\"},\"title\":{\"x\":0.05},\"mapbox\":{\"style\":\"light\"}}},\"xaxis\":{\"anchor\":\"y\",\"domain\":[0.0,1.0],\"title\":{\"text\":\"Median\"}},\"yaxis\":{\"anchor\":\"x\",\"domain\":[0.0,1.0],\"title\":{\"text\":\"count\"}},\"legend\":{\"title\":{\"text\":\"Major\"},\"tracegroupgap\":0},\"margin\":{\"t\":60},\"barmode\":\"relative\"},                        {\"responsive\": true}                    ).then(function(){\n",
       "                            \n",
       "var gd = document.getElementById('b4f1adf5-f41a-4660-8683-3e9baa4b4d93');\n",
       "var x = new MutationObserver(function (mutations, observer) {{\n",
       "        var display = window.getComputedStyle(gd).display;\n",
       "        if (!display || display === 'none') {{\n",
       "            console.log([gd, 'removed!']);\n",
       "            Plotly.purge(gd);\n",
       "            observer.disconnect();\n",
       "        }}\n",
       "}});\n",
       "\n",
       "// Listen for the removal of the full notebook cells\n",
       "var notebookContainer = gd.closest('#notebook-container');\n",
       "if (notebookContainer) {{\n",
       "    x.observe(notebookContainer, {childList: true});\n",
       "}}\n",
       "\n",
       "// Listen for the clearing of the current output cell\n",
       "var outputEl = gd.closest('.output');\n",
       "if (outputEl) {{\n",
       "    x.observe(outputEl, {childList: true});\n",
       "}}\n",
       "\n",
       "                        })                };                });            </script>        </div>"
      ]
     },
     "metadata": {},
     "output_type": "display_data"
    },
    {
     "data": {
      "text/html": [
       "<table id=\"itables_f8ae0554_ac99_40ab_bae0_4210f52b1d26\" class=\"display nowrap\" data-quarto-disable-processing=\"true\" style=\"table-layout:auto;width:auto;margin:auto;caption-side:bottom\">\n",
       "<thead>\n",
       "    <tr style=\"text-align: right;\">\n",
       "      <th></th>\n",
       "      <th>0</th>\n",
       "    </tr>\n",
       "  </thead><tbody><tr>\n",
       "<td style=\"vertical-align:middle; text-align:left\">\n",
       "<div style=\"float:left; margin-right: 10px;\">\n",
       "<a href=https://mwouts.github.io/itables/><svg class=\"main-svg\" xmlns=\"http://www.w3.org/2000/svg\" xmlns:xlink=\"http://www.w3.org/1999/xlink\"\n",
       "width=\"64\" viewBox=\"0 0 500 400\" style=\"font-family: 'Droid Sans', sans-serif;\">\n",
       "    <g style=\"fill:#d9d7fc\">\n",
       "        <path d=\"M100,400H500V357H100Z\" />\n",
       "        <path d=\"M100,300H400V257H100Z\" />\n",
       "        <path d=\"M0,200H400V157H0Z\" />\n",
       "        <path d=\"M100,100H500V57H100Z\" />\n",
       "        <path d=\"M100,350H500V307H100Z\" />\n",
       "        <path d=\"M100,250H400V207H100Z\" />\n",
       "        <path d=\"M0,150H400V107H0Z\" />\n",
       "        <path d=\"M100,50H500V7H100Z\" />\n",
       "    </g>\n",
       "    <g style=\"fill:#1a1366;stroke:#1a1366;\">\n",
       "   <rect x=\"100\" y=\"7\" width=\"400\" height=\"43\">\n",
       "    <animate\n",
       "      attributeName=\"width\"\n",
       "      values=\"0;400;0\"\n",
       "      dur=\"5s\"\n",
       "      repeatCount=\"indefinite\" />\n",
       "      <animate\n",
       "      attributeName=\"x\"\n",
       "      values=\"100;100;500\"\n",
       "      dur=\"5s\"\n",
       "      repeatCount=\"indefinite\" />\n",
       "  </rect>\n",
       "        <rect x=\"0\" y=\"107\" width=\"400\" height=\"43\">\n",
       "    <animate\n",
       "      attributeName=\"width\"\n",
       "      values=\"0;400;0\"\n",
       "      dur=\"3.5s\"\n",
       "      repeatCount=\"indefinite\" />\n",
       "    <animate\n",
       "      attributeName=\"x\"\n",
       "      values=\"0;0;400\"\n",
       "      dur=\"3.5s\"\n",
       "      repeatCount=\"indefinite\" />\n",
       "  </rect>\n",
       "        <rect x=\"100\" y=\"207\" width=\"300\" height=\"43\">\n",
       "    <animate\n",
       "      attributeName=\"width\"\n",
       "      values=\"0;300;0\"\n",
       "      dur=\"3s\"\n",
       "      repeatCount=\"indefinite\" />\n",
       "    <animate\n",
       "      attributeName=\"x\"\n",
       "      values=\"100;100;400\"\n",
       "      dur=\"3s\"\n",
       "      repeatCount=\"indefinite\" />\n",
       "  </rect>\n",
       "        <rect x=\"100\" y=\"307\" width=\"400\" height=\"43\">\n",
       "    <animate\n",
       "      attributeName=\"width\"\n",
       "      values=\"0;400;0\"\n",
       "      dur=\"4s\"\n",
       "      repeatCount=\"indefinite\" />\n",
       "      <animate\n",
       "      attributeName=\"x\"\n",
       "      values=\"100;100;500\"\n",
       "      dur=\"4s\"\n",
       "      repeatCount=\"indefinite\" />\n",
       "  </rect>\n",
       "        <g style=\"fill:transparent;stroke-width:8; stroke-linejoin:round\" rx=\"5\">\n",
       "            <g transform=\"translate(45 50) rotate(-45)\">\n",
       "                <circle r=\"33\" cx=\"0\" cy=\"0\" />\n",
       "                <rect x=\"-8\" y=\"32\" width=\"16\" height=\"30\" />\n",
       "            </g>\n",
       "\n",
       "            <g transform=\"translate(450 152)\">\n",
       "                <polyline points=\"-15,-20 -35,-20 -35,40 25,40 25,20\" />\n",
       "                <rect x=\"-15\" y=\"-40\" width=\"60\" height=\"60\" />\n",
       "            </g>\n",
       "\n",
       "            <g transform=\"translate(50 352)\">\n",
       "                <polygon points=\"-35,-5 0,-40 35,-5\" />\n",
       "                <polygon points=\"-35,10 0,45 35,10\" />\n",
       "            </g>\n",
       "\n",
       "            <g transform=\"translate(75 250)\">\n",
       "                <polyline points=\"-30,30 -60,0 -30,-30\" />\n",
       "                <polyline points=\"0,30 -30,0 0,-30\" />\n",
       "            </g>\n",
       "\n",
       "            <g transform=\"translate(425 250) rotate(180)\">\n",
       "                <polyline points=\"-30,30 -60,0 -30,-30\" />\n",
       "                <polyline points=\"0,30 -30,0 0,-30\" />\n",
       "            </g>\n",
       "        </g>\n",
       "    </g>\n",
       "</svg>\n",
       "</a>\n",
       "</div>\n",
       "<div>\n",
       "Loading ITables v2.1.4 from the internet...\n",
       "(need <a href=https://mwouts.github.io/itables/troubleshooting.html>help</a>?)</td>\n",
       "</div>\n",
       "</tr></tbody>\n",
       "\n",
       "</table>\n",
       "<link href=\"https://www.unpkg.com/dt_for_itables@2.0.11/dt_bundle.css\" rel=\"stylesheet\">\n",
       "<script type=\"module\">\n",
       "    import {DataTable, jQuery as $} from 'https://www.unpkg.com/dt_for_itables@2.0.11/dt_bundle.js';\n",
       "\n",
       "    document.querySelectorAll(\"#itables_f8ae0554_ac99_40ab_bae0_4210f52b1d26:not(.dataTable)\").forEach(table => {\n",
       "        // Define the table data\n",
       "        const data = [[\"count\", 1.0], [\"mean\", 110000.0], [\"std\", NaN], [\"min\", 110000.0], [\"25%\", 110000.0], [\"50%\", 110000.0], [\"75%\", 110000.0], [\"max\", 110000.0]];\n",
       "\n",
       "        // Define the dt_args\n",
       "        let dt_args = {\"layout\": {\"topStart\": null, \"topEnd\": null, \"bottomStart\": null, \"bottomEnd\": null}, \"order\": []};\n",
       "        dt_args[\"data\"] = data;\n",
       "\n",
       "        \n",
       "        new DataTable(table, dt_args);\n",
       "    });\n",
       "</script>\n"
      ],
      "text/plain": [
       "<IPython.core.display.HTML object>"
      ]
     },
     "metadata": {},
     "output_type": "display_data"
    }
   ],
   "source": [
    "fig = px.histogram(DF_raw,\n",
    "                   nbins=20,\n",
    "                   x='Median',\n",
    "                   color='Major',\n",
    "                   opacity=0.5\n",
    "                   )\n",
    "\n",
    "\n",
    "fig.show()\n",
    "Highest_Median = Stats.max()\n",
    "show(Highest_Median)\n",
    "#I just chose a high amount of nbins because there were many majors. As I kept increasing the number of bins meant the data got easier to read. Also the highest one \n",
    "#would have to be Petroleum engineering. USing Stat.Max gave us the highest median value and it is easy to find in the histogram."
   ]
  },
  {
   "cell_type": "markdown",
   "id": "04306ea4-b398-411c-b91e-86a68d24a8d6",
   "metadata": {},
   "source": [
    "**(Click Here to Explain your Results)**"
   ]
  },
  {
   "cell_type": "markdown",
   "id": "39d4118e-26d8-4f81-8d65-569c4b6d97d1",
   "metadata": {},
   "source": [
    "\n",
    "\n",
    "* Are all STEM fields the same in terms job opportunities?\n",
    "    * Assume the following are STEM major categories\n",
    "\n",
    "  ``` [\"Biology & Life Science\", \"Computers & Mathematics\", \"Engineering\",\"Physical Sciences\"]```\n",
    "  \n",
    "    * Create a DataFrame (using a mask) so you only look at STEM majors.\n",
    "    * Which STEM majors have median salaries equal to or less than the median for all majors' median earnings?\n",
    "* What types of majors do women tend to major in?\n",
    "    * Create a scatterplot of median income vs. proportion of women in that major, coloured by whether the major is in a STEM field or not."
   ]
  },
  {
   "cell_type": "code",
   "execution_count": 413,
   "id": "1639bd96-4f56-4ccb-b28c-51b09b961ae4",
   "metadata": {},
   "outputs": [
    {
     "data": {
      "text/html": [
       "<table id=\"itables_f90d2f08_60be_4e73_b436_19c68432f910\" class=\"display nowrap\" data-quarto-disable-processing=\"true\" style=\"table-layout:auto;width:auto;margin:auto;caption-side:bottom\">\n",
       "<thead>\n",
       "    <tr style=\"text-align: right;\">\n",
       "      <th></th>\n",
       "      <th>Rank</th>\n",
       "      <th>Major_code</th>\n",
       "      <th>Major</th>\n",
       "      <th>Total</th>\n",
       "      <th>Men</th>\n",
       "      <th>Women</th>\n",
       "      <th>Major_category</th>\n",
       "      <th>ShareWomen</th>\n",
       "      <th>Sample_size</th>\n",
       "      <th>Employed</th>\n",
       "      <th>Full_time</th>\n",
       "      <th>Part_time</th>\n",
       "      <th>Full_time_year_round</th>\n",
       "      <th>Unemployed</th>\n",
       "      <th>Unemployment_rate</th>\n",
       "      <th>Median</th>\n",
       "      <th>P25th</th>\n",
       "      <th>P75th</th>\n",
       "      <th>College_jobs</th>\n",
       "      <th>Non_college_jobs</th>\n",
       "      <th>Low_wage_jobs</th>\n",
       "      <th>Stem</th>\n",
       "      <th>Is_STEM</th>\n",
       "      <th>is_STEM</th>\n",
       "    </tr>\n",
       "  </thead><tbody><tr>\n",
       "<td style=\"vertical-align:middle; text-align:left\">\n",
       "<div style=\"float:left; margin-right: 10px;\">\n",
       "<a href=https://mwouts.github.io/itables/><svg class=\"main-svg\" xmlns=\"http://www.w3.org/2000/svg\" xmlns:xlink=\"http://www.w3.org/1999/xlink\"\n",
       "width=\"64\" viewBox=\"0 0 500 400\" style=\"font-family: 'Droid Sans', sans-serif;\">\n",
       "    <g style=\"fill:#d9d7fc\">\n",
       "        <path d=\"M100,400H500V357H100Z\" />\n",
       "        <path d=\"M100,300H400V257H100Z\" />\n",
       "        <path d=\"M0,200H400V157H0Z\" />\n",
       "        <path d=\"M100,100H500V57H100Z\" />\n",
       "        <path d=\"M100,350H500V307H100Z\" />\n",
       "        <path d=\"M100,250H400V207H100Z\" />\n",
       "        <path d=\"M0,150H400V107H0Z\" />\n",
       "        <path d=\"M100,50H500V7H100Z\" />\n",
       "    </g>\n",
       "    <g style=\"fill:#1a1366;stroke:#1a1366;\">\n",
       "   <rect x=\"100\" y=\"7\" width=\"400\" height=\"43\">\n",
       "    <animate\n",
       "      attributeName=\"width\"\n",
       "      values=\"0;400;0\"\n",
       "      dur=\"5s\"\n",
       "      repeatCount=\"indefinite\" />\n",
       "      <animate\n",
       "      attributeName=\"x\"\n",
       "      values=\"100;100;500\"\n",
       "      dur=\"5s\"\n",
       "      repeatCount=\"indefinite\" />\n",
       "  </rect>\n",
       "        <rect x=\"0\" y=\"107\" width=\"400\" height=\"43\">\n",
       "    <animate\n",
       "      attributeName=\"width\"\n",
       "      values=\"0;400;0\"\n",
       "      dur=\"3.5s\"\n",
       "      repeatCount=\"indefinite\" />\n",
       "    <animate\n",
       "      attributeName=\"x\"\n",
       "      values=\"0;0;400\"\n",
       "      dur=\"3.5s\"\n",
       "      repeatCount=\"indefinite\" />\n",
       "  </rect>\n",
       "        <rect x=\"100\" y=\"207\" width=\"300\" height=\"43\">\n",
       "    <animate\n",
       "      attributeName=\"width\"\n",
       "      values=\"0;300;0\"\n",
       "      dur=\"3s\"\n",
       "      repeatCount=\"indefinite\" />\n",
       "    <animate\n",
       "      attributeName=\"x\"\n",
       "      values=\"100;100;400\"\n",
       "      dur=\"3s\"\n",
       "      repeatCount=\"indefinite\" />\n",
       "  </rect>\n",
       "        <rect x=\"100\" y=\"307\" width=\"400\" height=\"43\">\n",
       "    <animate\n",
       "      attributeName=\"width\"\n",
       "      values=\"0;400;0\"\n",
       "      dur=\"4s\"\n",
       "      repeatCount=\"indefinite\" />\n",
       "      <animate\n",
       "      attributeName=\"x\"\n",
       "      values=\"100;100;500\"\n",
       "      dur=\"4s\"\n",
       "      repeatCount=\"indefinite\" />\n",
       "  </rect>\n",
       "        <g style=\"fill:transparent;stroke-width:8; stroke-linejoin:round\" rx=\"5\">\n",
       "            <g transform=\"translate(45 50) rotate(-45)\">\n",
       "                <circle r=\"33\" cx=\"0\" cy=\"0\" />\n",
       "                <rect x=\"-8\" y=\"32\" width=\"16\" height=\"30\" />\n",
       "            </g>\n",
       "\n",
       "            <g transform=\"translate(450 152)\">\n",
       "                <polyline points=\"-15,-20 -35,-20 -35,40 25,40 25,20\" />\n",
       "                <rect x=\"-15\" y=\"-40\" width=\"60\" height=\"60\" />\n",
       "            </g>\n",
       "\n",
       "            <g transform=\"translate(50 352)\">\n",
       "                <polygon points=\"-35,-5 0,-40 35,-5\" />\n",
       "                <polygon points=\"-35,10 0,45 35,10\" />\n",
       "            </g>\n",
       "\n",
       "            <g transform=\"translate(75 250)\">\n",
       "                <polyline points=\"-30,30 -60,0 -30,-30\" />\n",
       "                <polyline points=\"0,30 -30,0 0,-30\" />\n",
       "            </g>\n",
       "\n",
       "            <g transform=\"translate(425 250) rotate(180)\">\n",
       "                <polyline points=\"-30,30 -60,0 -30,-30\" />\n",
       "                <polyline points=\"0,30 -30,0 0,-30\" />\n",
       "            </g>\n",
       "        </g>\n",
       "    </g>\n",
       "</svg>\n",
       "</a>\n",
       "</div>\n",
       "<div>\n",
       "Loading ITables v2.1.4 from the internet...\n",
       "(need <a href=https://mwouts.github.io/itables/troubleshooting.html>help</a>?)</td>\n",
       "</div>\n",
       "</tr></tbody>\n",
       "\n",
       "</table>\n",
       "<link href=\"https://www.unpkg.com/dt_for_itables@2.0.11/dt_bundle.css\" rel=\"stylesheet\">\n",
       "<script type=\"module\">\n",
       "    import {DataTable, jQuery as $} from 'https://www.unpkg.com/dt_for_itables@2.0.11/dt_bundle.js';\n",
       "\n",
       "    document.querySelectorAll(\"#itables_f90d2f08_60be_4e73_b436_19c68432f910:not(.dataTable)\").forEach(table => {\n",
       "        // Define the table data\n",
       "        const data = [];\n",
       "\n",
       "        // Define the dt_args\n",
       "        let dt_args = {\"layout\": {\"topStart\": null, \"topEnd\": null, \"bottomStart\": null, \"bottomEnd\": null}, \"order\": []};\n",
       "        dt_args[\"data\"] = data;\n",
       "\n",
       "        \n",
       "        new DataTable(table, dt_args);\n",
       "    });\n",
       "</script>\n"
      ],
      "text/plain": [
       "<IPython.core.display.HTML object>"
      ]
     },
     "metadata": {},
     "output_type": "display_data"
    },
    {
     "data": {
      "text/html": [
       "<table id=\"itables_fdd76788_ab66_4192_a66f_25a2af07837b\" class=\"display nowrap\" data-quarto-disable-processing=\"true\" style=\"table-layout:auto;width:auto;margin:auto;caption-side:bottom\">\n",
       "<thead>\n",
       "    <tr style=\"text-align: right;\">\n",
       "      <th></th>\n",
       "      <th>Rank</th>\n",
       "      <th>Major_code</th>\n",
       "      <th>Major</th>\n",
       "      <th>Total</th>\n",
       "      <th>Men</th>\n",
       "      <th>Women</th>\n",
       "      <th>Major_category</th>\n",
       "      <th>ShareWomen</th>\n",
       "      <th>Sample_size</th>\n",
       "      <th>Employed</th>\n",
       "      <th>Full_time</th>\n",
       "      <th>Part_time</th>\n",
       "      <th>Full_time_year_round</th>\n",
       "      <th>Unemployed</th>\n",
       "      <th>Unemployment_rate</th>\n",
       "      <th>Median</th>\n",
       "      <th>P25th</th>\n",
       "      <th>P75th</th>\n",
       "      <th>College_jobs</th>\n",
       "      <th>Non_college_jobs</th>\n",
       "      <th>Low_wage_jobs</th>\n",
       "      <th>Stem</th>\n",
       "      <th>Is_STEM</th>\n",
       "      <th>is_STEM</th>\n",
       "    </tr>\n",
       "  </thead><tbody><tr>\n",
       "<td style=\"vertical-align:middle; text-align:left\">\n",
       "<div style=\"float:left; margin-right: 10px;\">\n",
       "<a href=https://mwouts.github.io/itables/><svg class=\"main-svg\" xmlns=\"http://www.w3.org/2000/svg\" xmlns:xlink=\"http://www.w3.org/1999/xlink\"\n",
       "width=\"64\" viewBox=\"0 0 500 400\" style=\"font-family: 'Droid Sans', sans-serif;\">\n",
       "    <g style=\"fill:#d9d7fc\">\n",
       "        <path d=\"M100,400H500V357H100Z\" />\n",
       "        <path d=\"M100,300H400V257H100Z\" />\n",
       "        <path d=\"M0,200H400V157H0Z\" />\n",
       "        <path d=\"M100,100H500V57H100Z\" />\n",
       "        <path d=\"M100,350H500V307H100Z\" />\n",
       "        <path d=\"M100,250H400V207H100Z\" />\n",
       "        <path d=\"M0,150H400V107H0Z\" />\n",
       "        <path d=\"M100,50H500V7H100Z\" />\n",
       "    </g>\n",
       "    <g style=\"fill:#1a1366;stroke:#1a1366;\">\n",
       "   <rect x=\"100\" y=\"7\" width=\"400\" height=\"43\">\n",
       "    <animate\n",
       "      attributeName=\"width\"\n",
       "      values=\"0;400;0\"\n",
       "      dur=\"5s\"\n",
       "      repeatCount=\"indefinite\" />\n",
       "      <animate\n",
       "      attributeName=\"x\"\n",
       "      values=\"100;100;500\"\n",
       "      dur=\"5s\"\n",
       "      repeatCount=\"indefinite\" />\n",
       "  </rect>\n",
       "        <rect x=\"0\" y=\"107\" width=\"400\" height=\"43\">\n",
       "    <animate\n",
       "      attributeName=\"width\"\n",
       "      values=\"0;400;0\"\n",
       "      dur=\"3.5s\"\n",
       "      repeatCount=\"indefinite\" />\n",
       "    <animate\n",
       "      attributeName=\"x\"\n",
       "      values=\"0;0;400\"\n",
       "      dur=\"3.5s\"\n",
       "      repeatCount=\"indefinite\" />\n",
       "  </rect>\n",
       "        <rect x=\"100\" y=\"207\" width=\"300\" height=\"43\">\n",
       "    <animate\n",
       "      attributeName=\"width\"\n",
       "      values=\"0;300;0\"\n",
       "      dur=\"3s\"\n",
       "      repeatCount=\"indefinite\" />\n",
       "    <animate\n",
       "      attributeName=\"x\"\n",
       "      values=\"100;100;400\"\n",
       "      dur=\"3s\"\n",
       "      repeatCount=\"indefinite\" />\n",
       "  </rect>\n",
       "        <rect x=\"100\" y=\"307\" width=\"400\" height=\"43\">\n",
       "    <animate\n",
       "      attributeName=\"width\"\n",
       "      values=\"0;400;0\"\n",
       "      dur=\"4s\"\n",
       "      repeatCount=\"indefinite\" />\n",
       "      <animate\n",
       "      attributeName=\"x\"\n",
       "      values=\"100;100;500\"\n",
       "      dur=\"4s\"\n",
       "      repeatCount=\"indefinite\" />\n",
       "  </rect>\n",
       "        <g style=\"fill:transparent;stroke-width:8; stroke-linejoin:round\" rx=\"5\">\n",
       "            <g transform=\"translate(45 50) rotate(-45)\">\n",
       "                <circle r=\"33\" cx=\"0\" cy=\"0\" />\n",
       "                <rect x=\"-8\" y=\"32\" width=\"16\" height=\"30\" />\n",
       "            </g>\n",
       "\n",
       "            <g transform=\"translate(450 152)\">\n",
       "                <polyline points=\"-15,-20 -35,-20 -35,40 25,40 25,20\" />\n",
       "                <rect x=\"-15\" y=\"-40\" width=\"60\" height=\"60\" />\n",
       "            </g>\n",
       "\n",
       "            <g transform=\"translate(50 352)\">\n",
       "                <polygon points=\"-35,-5 0,-40 35,-5\" />\n",
       "                <polygon points=\"-35,10 0,45 35,10\" />\n",
       "            </g>\n",
       "\n",
       "            <g transform=\"translate(75 250)\">\n",
       "                <polyline points=\"-30,30 -60,0 -30,-30\" />\n",
       "                <polyline points=\"0,30 -30,0 0,-30\" />\n",
       "            </g>\n",
       "\n",
       "            <g transform=\"translate(425 250) rotate(180)\">\n",
       "                <polyline points=\"-30,30 -60,0 -30,-30\" />\n",
       "                <polyline points=\"0,30 -30,0 0,-30\" />\n",
       "            </g>\n",
       "        </g>\n",
       "    </g>\n",
       "</svg>\n",
       "</a>\n",
       "</div>\n",
       "<div>\n",
       "Loading ITables v2.1.4 from the internet...\n",
       "(need <a href=https://mwouts.github.io/itables/troubleshooting.html>help</a>?)</td>\n",
       "</div>\n",
       "</tr></tbody>\n",
       "\n",
       "</table>\n",
       "<link href=\"https://www.unpkg.com/dt_for_itables@2.0.11/dt_bundle.css\" rel=\"stylesheet\">\n",
       "<script type=\"module\">\n",
       "    import {DataTable, jQuery as $} from 'https://www.unpkg.com/dt_for_itables@2.0.11/dt_bundle.js';\n",
       "\n",
       "    document.querySelectorAll(\"#itables_fdd76788_ab66_4192_a66f_25a2af07837b:not(.dataTable)\").forEach(table => {\n",
       "        // Define the table data\n",
       "        const data = [];\n",
       "\n",
       "        // Define the dt_args\n",
       "        let dt_args = {\"layout\": {\"topStart\": null, \"topEnd\": null, \"bottomStart\": null, \"bottomEnd\": null}, \"order\": []};\n",
       "        dt_args[\"data\"] = data;\n",
       "\n",
       "        \n",
       "        new DataTable(table, dt_args);\n",
       "    });\n",
       "</script>\n"
      ],
      "text/plain": [
       "<IPython.core.display.HTML object>"
      ]
     },
     "metadata": {},
     "output_type": "display_data"
    },
    {
     "data": {
      "application/vnd.plotly.v1+json": {
       "config": {
        "plotlyServerURL": "https://plot.ly"
       },
       "data": [
        {
         "hovertemplate": "Major=PETROLEUM ENGINEERING<br>Proportion of Women=%{x}<br>Median Income=%{y}<extra></extra>",
         "legendgroup": "PETROLEUM ENGINEERING",
         "marker": {
          "color": "#636efa",
          "symbol": "circle"
         },
         "mode": "markers",
         "name": "PETROLEUM ENGINEERING",
         "orientation": "v",
         "showlegend": true,
         "type": "scatter",
         "x": [
          0.120564344
         ],
         "xaxis": "x",
         "y": [
          110000
         ],
         "yaxis": "y"
        },
        {
         "hovertemplate": "Major=MINING AND MINERAL ENGINEERING<br>Proportion of Women=%{x}<br>Median Income=%{y}<extra></extra>",
         "legendgroup": "MINING AND MINERAL ENGINEERING",
         "marker": {
          "color": "#EF553B",
          "symbol": "circle"
         },
         "mode": "markers",
         "name": "MINING AND MINERAL ENGINEERING",
         "orientation": "v",
         "showlegend": true,
         "type": "scatter",
         "x": [
          0.101851852
         ],
         "xaxis": "x",
         "y": [
          75000
         ],
         "yaxis": "y"
        },
        {
         "hovertemplate": "Major=METALLURGICAL ENGINEERING<br>Proportion of Women=%{x}<br>Median Income=%{y}<extra></extra>",
         "legendgroup": "METALLURGICAL ENGINEERING",
         "marker": {
          "color": "#00cc96",
          "symbol": "circle"
         },
         "mode": "markers",
         "name": "METALLURGICAL ENGINEERING",
         "orientation": "v",
         "showlegend": true,
         "type": "scatter",
         "x": [
          0.153037383
         ],
         "xaxis": "x",
         "y": [
          73000
         ],
         "yaxis": "y"
        },
        {
         "hovertemplate": "Major=NAVAL ARCHITECTURE AND MARINE ENGINEERING<br>Proportion of Women=%{x}<br>Median Income=%{y}<extra></extra>",
         "legendgroup": "NAVAL ARCHITECTURE AND MARINE ENGINEERING",
         "marker": {
          "color": "#ab63fa",
          "symbol": "circle"
         },
         "mode": "markers",
         "name": "NAVAL ARCHITECTURE AND MARINE ENGINEERING",
         "orientation": "v",
         "showlegend": true,
         "type": "scatter",
         "x": [
          0.107313196
         ],
         "xaxis": "x",
         "y": [
          70000
         ],
         "yaxis": "y"
        },
        {
         "hovertemplate": "Major=CHEMICAL ENGINEERING<br>Proportion of Women=%{x}<br>Median Income=%{y}<extra></extra>",
         "legendgroup": "CHEMICAL ENGINEERING",
         "marker": {
          "color": "#FFA15A",
          "symbol": "circle"
         },
         "mode": "markers",
         "name": "CHEMICAL ENGINEERING",
         "orientation": "v",
         "showlegend": true,
         "type": "scatter",
         "x": [
          0.341630502
         ],
         "xaxis": "x",
         "y": [
          65000
         ],
         "yaxis": "y"
        },
        {
         "hovertemplate": "Major=NUCLEAR ENGINEERING<br>Proportion of Women=%{x}<br>Median Income=%{y}<extra></extra>",
         "legendgroup": "NUCLEAR ENGINEERING",
         "marker": {
          "color": "#19d3f3",
          "symbol": "circle"
         },
         "mode": "markers",
         "name": "NUCLEAR ENGINEERING",
         "orientation": "v",
         "showlegend": true,
         "type": "scatter",
         "x": [
          0.144966965
         ],
         "xaxis": "x",
         "y": [
          65000
         ],
         "yaxis": "y"
        },
        {
         "hovertemplate": "Major=ACTUARIAL SCIENCE<br>Proportion of Women=%{x}<br>Median Income=%{y}<extra></extra>",
         "legendgroup": "ACTUARIAL SCIENCE",
         "marker": {
          "color": "#FF6692",
          "symbol": "circle"
         },
         "mode": "markers",
         "name": "ACTUARIAL SCIENCE",
         "orientation": "v",
         "showlegend": true,
         "type": "scatter",
         "x": [
          0.441355573
         ],
         "xaxis": "x",
         "y": [
          62000
         ],
         "yaxis": "y"
        },
        {
         "hovertemplate": "Major=ASTRONOMY AND ASTROPHYSICS<br>Proportion of Women=%{x}<br>Median Income=%{y}<extra></extra>",
         "legendgroup": "ASTRONOMY AND ASTROPHYSICS",
         "marker": {
          "color": "#B6E880",
          "symbol": "circle"
         },
         "mode": "markers",
         "name": "ASTRONOMY AND ASTROPHYSICS",
         "orientation": "v",
         "showlegend": true,
         "type": "scatter",
         "x": [
          0.535714286
         ],
         "xaxis": "x",
         "y": [
          62000
         ],
         "yaxis": "y"
        },
        {
         "hovertemplate": "Major=MECHANICAL ENGINEERING<br>Proportion of Women=%{x}<br>Median Income=%{y}<extra></extra>",
         "legendgroup": "MECHANICAL ENGINEERING",
         "marker": {
          "color": "#FF97FF",
          "symbol": "circle"
         },
         "mode": "markers",
         "name": "MECHANICAL ENGINEERING",
         "orientation": "v",
         "showlegend": true,
         "type": "scatter",
         "x": [
          0.119558903
         ],
         "xaxis": "x",
         "y": [
          60000
         ],
         "yaxis": "y"
        },
        {
         "hovertemplate": "Major=ELECTRICAL ENGINEERING<br>Proportion of Women=%{x}<br>Median Income=%{y}<extra></extra>",
         "legendgroup": "ELECTRICAL ENGINEERING",
         "marker": {
          "color": "#FECB52",
          "symbol": "circle"
         },
         "mode": "markers",
         "name": "ELECTRICAL ENGINEERING",
         "orientation": "v",
         "showlegend": true,
         "type": "scatter",
         "x": [
          0.196450256
         ],
         "xaxis": "x",
         "y": [
          60000
         ],
         "yaxis": "y"
        },
        {
         "hovertemplate": "Major=COMPUTER ENGINEERING<br>Proportion of Women=%{x}<br>Median Income=%{y}<extra></extra>",
         "legendgroup": "COMPUTER ENGINEERING",
         "marker": {
          "color": "#636efa",
          "symbol": "circle"
         },
         "mode": "markers",
         "name": "COMPUTER ENGINEERING",
         "orientation": "v",
         "showlegend": true,
         "type": "scatter",
         "x": [
          0.199412643
         ],
         "xaxis": "x",
         "y": [
          60000
         ],
         "yaxis": "y"
        },
        {
         "hovertemplate": "Major=AEROSPACE ENGINEERING<br>Proportion of Women=%{x}<br>Median Income=%{y}<extra></extra>",
         "legendgroup": "AEROSPACE ENGINEERING",
         "marker": {
          "color": "#EF553B",
          "symbol": "circle"
         },
         "mode": "markers",
         "name": "AEROSPACE ENGINEERING",
         "orientation": "v",
         "showlegend": true,
         "type": "scatter",
         "x": [
          0.139792801
         ],
         "xaxis": "x",
         "y": [
          60000
         ],
         "yaxis": "y"
        },
        {
         "hovertemplate": "Major=BIOMEDICAL ENGINEERING<br>Proportion of Women=%{x}<br>Median Income=%{y}<extra></extra>",
         "legendgroup": "BIOMEDICAL ENGINEERING",
         "marker": {
          "color": "#00cc96",
          "symbol": "circle"
         },
         "mode": "markers",
         "name": "BIOMEDICAL ENGINEERING",
         "orientation": "v",
         "showlegend": true,
         "type": "scatter",
         "x": [
          0.437846874
         ],
         "xaxis": "x",
         "y": [
          60000
         ],
         "yaxis": "y"
        },
        {
         "hovertemplate": "Major=MATERIALS SCIENCE<br>Proportion of Women=%{x}<br>Median Income=%{y}<extra></extra>",
         "legendgroup": "MATERIALS SCIENCE",
         "marker": {
          "color": "#ab63fa",
          "symbol": "circle"
         },
         "mode": "markers",
         "name": "MATERIALS SCIENCE",
         "orientation": "v",
         "showlegend": true,
         "type": "scatter",
         "x": [
          0.310820285
         ],
         "xaxis": "x",
         "y": [
          60000
         ],
         "yaxis": "y"
        },
        {
         "hovertemplate": "Major=ENGINEERING MECHANICS PHYSICS AND SCIENCE<br>Proportion of Women=%{x}<br>Median Income=%{y}<extra></extra>",
         "legendgroup": "ENGINEERING MECHANICS PHYSICS AND SCIENCE",
         "marker": {
          "color": "#FFA15A",
          "symbol": "circle"
         },
         "mode": "markers",
         "name": "ENGINEERING MECHANICS PHYSICS AND SCIENCE",
         "orientation": "v",
         "showlegend": true,
         "type": "scatter",
         "x": [
          0.183985189
         ],
         "xaxis": "x",
         "y": [
          58000
         ],
         "yaxis": "y"
        },
        {
         "hovertemplate": "Major=BIOLOGICAL ENGINEERING<br>Proportion of Women=%{x}<br>Median Income=%{y}<extra></extra>",
         "legendgroup": "BIOLOGICAL ENGINEERING",
         "marker": {
          "color": "#19d3f3",
          "symbol": "circle"
         },
         "mode": "markers",
         "name": "BIOLOGICAL ENGINEERING",
         "orientation": "v",
         "showlegend": true,
         "type": "scatter",
         "x": [
          0.320784314
         ],
         "xaxis": "x",
         "y": [
          57100
         ],
         "yaxis": "y"
        },
        {
         "hovertemplate": "Major=INDUSTRIAL AND MANUFACTURING ENGINEERING<br>Proportion of Women=%{x}<br>Median Income=%{y}<extra></extra>",
         "legendgroup": "INDUSTRIAL AND MANUFACTURING ENGINEERING",
         "marker": {
          "color": "#FF6692",
          "symbol": "circle"
         },
         "mode": "markers",
         "name": "INDUSTRIAL AND MANUFACTURING ENGINEERING",
         "orientation": "v",
         "showlegend": true,
         "type": "scatter",
         "x": [
          0.343473218
         ],
         "xaxis": "x",
         "y": [
          57000
         ],
         "yaxis": "y"
        },
        {
         "hovertemplate": "Major=GENERAL ENGINEERING<br>Proportion of Women=%{x}<br>Median Income=%{y}<extra></extra>",
         "legendgroup": "GENERAL ENGINEERING",
         "marker": {
          "color": "#B6E880",
          "symbol": "circle"
         },
         "mode": "markers",
         "name": "GENERAL ENGINEERING",
         "orientation": "v",
         "showlegend": true,
         "type": "scatter",
         "x": [
          0.252959838
         ],
         "xaxis": "x",
         "y": [
          56000
         ],
         "yaxis": "y"
        },
        {
         "hovertemplate": "Major=ARCHITECTURAL ENGINEERING<br>Proportion of Women=%{x}<br>Median Income=%{y}<extra></extra>",
         "legendgroup": "ARCHITECTURAL ENGINEERING",
         "marker": {
          "color": "#FF97FF",
          "symbol": "circle"
         },
         "mode": "markers",
         "name": "ARCHITECTURAL ENGINEERING",
         "orientation": "v",
         "showlegend": true,
         "type": "scatter",
         "x": [
          0.350442478
         ],
         "xaxis": "x",
         "y": [
          54000
         ],
         "yaxis": "y"
        },
        {
         "hovertemplate": "Major=COURT REPORTING<br>Proportion of Women=%{x}<br>Median Income=%{y}<extra></extra>",
         "legendgroup": "COURT REPORTING",
         "marker": {
          "color": "#FECB52",
          "symbol": "circle"
         },
         "mode": "markers",
         "name": "COURT REPORTING",
         "orientation": "v",
         "showlegend": true,
         "type": "scatter",
         "x": [
          0.236062718
         ],
         "xaxis": "x",
         "y": [
          54000
         ],
         "yaxis": "y"
        },
        {
         "hovertemplate": "Major=COMPUTER SCIENCE<br>Proportion of Women=%{x}<br>Median Income=%{y}<extra></extra>",
         "legendgroup": "COMPUTER SCIENCE",
         "marker": {
          "color": "#636efa",
          "symbol": "circle"
         },
         "mode": "markers",
         "name": "COMPUTER SCIENCE",
         "orientation": "v",
         "showlegend": true,
         "type": "scatter",
         "x": [
          0.222695002
         ],
         "xaxis": "x",
         "y": [
          53000
         ],
         "yaxis": "y"
        },
        {
         "hovertemplate": "Major=FOOD SCIENCE<br>Proportion of Women=%{x}<br>Median Income=%{y}<extra></extra>",
         "legendgroup": "FOOD SCIENCE",
         "marker": {
          "color": "#EF553B",
          "symbol": "circle"
         },
         "mode": "markers",
         "name": "FOOD SCIENCE",
         "orientation": "v",
         "showlegend": true,
         "type": "scatter",
         "x": [
          null
         ],
         "xaxis": "x",
         "y": [
          53000
         ],
         "yaxis": "y"
        },
        {
         "hovertemplate": "Major=ELECTRICAL ENGINEERING TECHNOLOGY<br>Proportion of Women=%{x}<br>Median Income=%{y}<extra></extra>",
         "legendgroup": "ELECTRICAL ENGINEERING TECHNOLOGY",
         "marker": {
          "color": "#00cc96",
          "symbol": "circle"
         },
         "mode": "markers",
         "name": "ELECTRICAL ENGINEERING TECHNOLOGY",
         "orientation": "v",
         "showlegend": true,
         "type": "scatter",
         "x": [
          0.292607004
         ],
         "xaxis": "x",
         "y": [
          52000
         ],
         "yaxis": "y"
        },
        {
         "hovertemplate": "Major=MATERIALS ENGINEERING AND MATERIALS SCIENCE<br>Proportion of Women=%{x}<br>Median Income=%{y}<extra></extra>",
         "legendgroup": "MATERIALS ENGINEERING AND MATERIALS SCIENCE",
         "marker": {
          "color": "#ab63fa",
          "symbol": "circle"
         },
         "mode": "markers",
         "name": "MATERIALS ENGINEERING AND MATERIALS SCIENCE",
         "orientation": "v",
         "showlegend": true,
         "type": "scatter",
         "x": [
          0.325091881
         ],
         "xaxis": "x",
         "y": [
          52000
         ],
         "yaxis": "y"
        },
        {
         "hovertemplate": "Major=MANAGEMENT INFORMATION SYSTEMS AND STATISTICS<br>Proportion of Women=%{x}<br>Median Income=%{y}<extra></extra>",
         "legendgroup": "MANAGEMENT INFORMATION SYSTEMS AND STATISTICS",
         "marker": {
          "color": "#FFA15A",
          "symbol": "circle"
         },
         "mode": "markers",
         "name": "MANAGEMENT INFORMATION SYSTEMS AND STATISTICS",
         "orientation": "v",
         "showlegend": true,
         "type": "scatter",
         "x": [
          0.278790146
         ],
         "xaxis": "x",
         "y": [
          51000
         ],
         "yaxis": "y"
        },
        {
         "hovertemplate": "Major=CIVIL ENGINEERING<br>Proportion of Women=%{x}<br>Median Income=%{y}<extra></extra>",
         "legendgroup": "CIVIL ENGINEERING",
         "marker": {
          "color": "#19d3f3",
          "symbol": "circle"
         },
         "mode": "markers",
         "name": "CIVIL ENGINEERING",
         "orientation": "v",
         "showlegend": true,
         "type": "scatter",
         "x": [
          0.227117943
         ],
         "xaxis": "x",
         "y": [
          50000
         ],
         "yaxis": "y"
        },
        {
         "hovertemplate": "Major=CONSTRUCTION SERVICES<br>Proportion of Women=%{x}<br>Median Income=%{y}<extra></extra>",
         "legendgroup": "CONSTRUCTION SERVICES",
         "marker": {
          "color": "#FF6692",
          "symbol": "circle"
         },
         "mode": "markers",
         "name": "CONSTRUCTION SERVICES",
         "orientation": "v",
         "showlegend": true,
         "type": "scatter",
         "x": [
          0.090712509
         ],
         "xaxis": "x",
         "y": [
          50000
         ],
         "yaxis": "y"
        },
        {
         "hovertemplate": "Major=OPERATIONS LOGISTICS AND E-COMMERCE<br>Proportion of Women=%{x}<br>Median Income=%{y}<extra></extra>",
         "legendgroup": "OPERATIONS LOGISTICS AND E-COMMERCE",
         "marker": {
          "color": "#B6E880",
          "symbol": "circle"
         },
         "mode": "markers",
         "name": "OPERATIONS LOGISTICS AND E-COMMERCE",
         "orientation": "v",
         "showlegend": true,
         "type": "scatter",
         "x": [
          0.32483805
         ],
         "xaxis": "x",
         "y": [
          50000
         ],
         "yaxis": "y"
        },
        {
         "hovertemplate": "Major=MISCELLANEOUS ENGINEERING<br>Proportion of Women=%{x}<br>Median Income=%{y}<extra></extra>",
         "legendgroup": "MISCELLANEOUS ENGINEERING",
         "marker": {
          "color": "#FF97FF",
          "symbol": "circle"
         },
         "mode": "markers",
         "name": "MISCELLANEOUS ENGINEERING",
         "orientation": "v",
         "showlegend": true,
         "type": "scatter",
         "x": [
          0.189970437
         ],
         "xaxis": "x",
         "y": [
          50000
         ],
         "yaxis": "y"
        },
        {
         "hovertemplate": "Major=PUBLIC POLICY<br>Proportion of Women=%{x}<br>Median Income=%{y}<extra></extra>",
         "legendgroup": "PUBLIC POLICY",
         "marker": {
          "color": "#FECB52",
          "symbol": "circle"
         },
         "mode": "markers",
         "name": "PUBLIC POLICY",
         "orientation": "v",
         "showlegend": true,
         "type": "scatter",
         "x": [
          0.558548009
         ],
         "xaxis": "x",
         "y": [
          50000
         ],
         "yaxis": "y"
        },
        {
         "hovertemplate": "Major=ENVIRONMENTAL ENGINEERING<br>Proportion of Women=%{x}<br>Median Income=%{y}<extra></extra>",
         "legendgroup": "ENVIRONMENTAL ENGINEERING",
         "marker": {
          "color": "#636efa",
          "symbol": "circle"
         },
         "mode": "markers",
         "name": "ENVIRONMENTAL ENGINEERING",
         "orientation": "v",
         "showlegend": true,
         "type": "scatter",
         "x": [
          0.342228811
         ],
         "xaxis": "x",
         "y": [
          50000
         ],
         "yaxis": "y"
        },
        {
         "hovertemplate": "Major=ENGINEERING TECHNOLOGIES<br>Proportion of Women=%{x}<br>Median Income=%{y}<extra></extra>",
         "legendgroup": "ENGINEERING TECHNOLOGIES",
         "marker": {
          "color": "#EF553B",
          "symbol": "circle"
         },
         "mode": "markers",
         "name": "ENGINEERING TECHNOLOGIES",
         "orientation": "v",
         "showlegend": true,
         "type": "scatter",
         "x": [
          0.251388889
         ],
         "xaxis": "x",
         "y": [
          50000
         ],
         "yaxis": "y"
        },
        {
         "hovertemplate": "Major=MISCELLANEOUS FINE ARTS<br>Proportion of Women=%{x}<br>Median Income=%{y}<extra></extra>",
         "legendgroup": "MISCELLANEOUS FINE ARTS",
         "marker": {
          "color": "#00cc96",
          "symbol": "circle"
         },
         "mode": "markers",
         "name": "MISCELLANEOUS FINE ARTS",
         "orientation": "v",
         "showlegend": true,
         "type": "scatter",
         "x": [
          0.410179641
         ],
         "xaxis": "x",
         "y": [
          50000
         ],
         "yaxis": "y"
        },
        {
         "hovertemplate": "Major=GEOLOGICAL AND GEOPHYSICAL ENGINEERING<br>Proportion of Women=%{x}<br>Median Income=%{y}<extra></extra>",
         "legendgroup": "GEOLOGICAL AND GEOPHYSICAL ENGINEERING",
         "marker": {
          "color": "#ab63fa",
          "symbol": "circle"
         },
         "mode": "markers",
         "name": "GEOLOGICAL AND GEOPHYSICAL ENGINEERING",
         "orientation": "v",
         "showlegend": true,
         "type": "scatter",
         "x": [
          0.322222222
         ],
         "xaxis": "x",
         "y": [
          50000
         ],
         "yaxis": "y"
        },
        {
         "hovertemplate": "Major=NURSING<br>Proportion of Women=%{x}<br>Median Income=%{y}<extra></extra>",
         "legendgroup": "NURSING",
         "marker": {
          "color": "#FFA15A",
          "symbol": "circle"
         },
         "mode": "markers",
         "name": "NURSING",
         "orientation": "v",
         "showlegend": true,
         "type": "scatter",
         "x": [
          0.896018988
         ],
         "xaxis": "x",
         "y": [
          48000
         ],
         "yaxis": "y"
        },
        {
         "hovertemplate": "Major=FINANCE<br>Proportion of Women=%{x}<br>Median Income=%{y}<extra></extra>",
         "legendgroup": "FINANCE",
         "marker": {
          "color": "#19d3f3",
          "symbol": "circle"
         },
         "mode": "markers",
         "name": "FINANCE",
         "orientation": "v",
         "showlegend": true,
         "type": "scatter",
         "x": [
          0.340824957
         ],
         "xaxis": "x",
         "y": [
          47000
         ],
         "yaxis": "y"
        },
        {
         "hovertemplate": "Major=ECONOMICS<br>Proportion of Women=%{x}<br>Median Income=%{y}<extra></extra>",
         "legendgroup": "ECONOMICS",
         "marker": {
          "color": "#FF6692",
          "symbol": "circle"
         },
         "mode": "markers",
         "name": "ECONOMICS",
         "orientation": "v",
         "showlegend": true,
         "type": "scatter",
         "x": [
          0.355469059
         ],
         "xaxis": "x",
         "y": [
          47000
         ],
         "yaxis": "y"
        },
        {
         "hovertemplate": "Major=BUSINESS ECONOMICS<br>Proportion of Women=%{x}<br>Median Income=%{y}<extra></extra>",
         "legendgroup": "BUSINESS ECONOMICS",
         "marker": {
          "color": "#B6E880",
          "symbol": "circle"
         },
         "mode": "markers",
         "name": "BUSINESS ECONOMICS",
         "orientation": "v",
         "showlegend": true,
         "type": "scatter",
         "x": [
          0.430536761
         ],
         "xaxis": "x",
         "y": [
          46000
         ],
         "yaxis": "y"
        },
        {
         "hovertemplate": "Major=INDUSTRIAL PRODUCTION TECHNOLOGIES<br>Proportion of Women=%{x}<br>Median Income=%{y}<extra></extra>",
         "legendgroup": "INDUSTRIAL PRODUCTION TECHNOLOGIES",
         "marker": {
          "color": "#FF97FF",
          "symbol": "circle"
         },
         "mode": "markers",
         "name": "INDUSTRIAL PRODUCTION TECHNOLOGIES",
         "orientation": "v",
         "showlegend": true,
         "type": "scatter",
         "x": [
          0.24919024
         ],
         "xaxis": "x",
         "y": [
          46000
         ],
         "yaxis": "y"
        },
        {
         "hovertemplate": "Major=NUCLEAR, INDUSTRIAL RADIOLOGY, AND BIOLOGICAL TECHNOLOGIES<br>Proportion of Women=%{x}<br>Median Income=%{y}<extra></extra>",
         "legendgroup": "NUCLEAR, INDUSTRIAL RADIOLOGY, AND BIOLOGICAL TECHNOLOGIES",
         "marker": {
          "color": "#FECB52",
          "symbol": "circle"
         },
         "mode": "markers",
         "name": "NUCLEAR, INDUSTRIAL RADIOLOGY, AND BIOLOGICAL TECHNOLOGIES",
         "orientation": "v",
         "showlegend": true,
         "type": "scatter",
         "x": [
          0.75047259
         ],
         "xaxis": "x",
         "y": [
          46000
         ],
         "yaxis": "y"
        },
        {
         "hovertemplate": "Major=ACCOUNTING<br>Proportion of Women=%{x}<br>Median Income=%{y}<extra></extra>",
         "legendgroup": "ACCOUNTING",
         "marker": {
          "color": "#636efa",
          "symbol": "circle"
         },
         "mode": "markers",
         "name": "ACCOUNTING",
         "orientation": "v",
         "showlegend": true,
         "type": "scatter",
         "x": [
          0.524152583
         ],
         "xaxis": "x",
         "y": [
          45000
         ],
         "yaxis": "y"
        },
        {
         "hovertemplate": "Major=MATHEMATICS<br>Proportion of Women=%{x}<br>Median Income=%{y}<extra></extra>",
         "legendgroup": "MATHEMATICS",
         "marker": {
          "color": "#EF553B",
          "symbol": "circle"
         },
         "mode": "markers",
         "name": "MATHEMATICS",
         "orientation": "v",
         "showlegend": true,
         "type": "scatter",
         "x": [
          0.448098678
         ],
         "xaxis": "x",
         "y": [
          45000
         ],
         "yaxis": "y"
        },
        {
         "hovertemplate": "Major=COMPUTER AND INFORMATION SYSTEMS<br>Proportion of Women=%{x}<br>Median Income=%{y}<extra></extra>",
         "legendgroup": "COMPUTER AND INFORMATION SYSTEMS",
         "marker": {
          "color": "#00cc96",
          "symbol": "circle"
         },
         "mode": "markers",
         "name": "COMPUTER AND INFORMATION SYSTEMS",
         "orientation": "v",
         "showlegend": true,
         "type": "scatter",
         "x": [
          0.253583302
         ],
         "xaxis": "x",
         "y": [
          45000
         ],
         "yaxis": "y"
        },
        {
         "hovertemplate": "Major=PHYSICS<br>Proportion of Women=%{x}<br>Median Income=%{y}<extra></extra>",
         "legendgroup": "PHYSICS",
         "marker": {
          "color": "#ab63fa",
          "symbol": "circle"
         },
         "mode": "markers",
         "name": "PHYSICS",
         "orientation": "v",
         "showlegend": true,
         "type": "scatter",
         "x": [
          0.281936407
         ],
         "xaxis": "x",
         "y": [
          45000
         ],
         "yaxis": "y"
        },
        {
         "hovertemplate": "Major=MEDICAL TECHNOLOGIES TECHNICIANS<br>Proportion of Women=%{x}<br>Median Income=%{y}<extra></extra>",
         "legendgroup": "MEDICAL TECHNOLOGIES TECHNICIANS",
         "marker": {
          "color": "#FFA15A",
          "symbol": "circle"
         },
         "mode": "markers",
         "name": "MEDICAL TECHNOLOGIES TECHNICIANS",
         "orientation": "v",
         "showlegend": true,
         "type": "scatter",
         "x": [
          0.75392736
         ],
         "xaxis": "x",
         "y": [
          45000
         ],
         "yaxis": "y"
        },
        {
         "hovertemplate": "Major=INFORMATION SCIENCES<br>Proportion of Women=%{x}<br>Median Income=%{y}<extra></extra>",
         "legendgroup": "INFORMATION SCIENCES",
         "marker": {
          "color": "#19d3f3",
          "symbol": "circle"
         },
         "mode": "markers",
         "name": "INFORMATION SCIENCES",
         "orientation": "v",
         "showlegend": true,
         "type": "scatter",
         "x": [
          0.244103081
         ],
         "xaxis": "x",
         "y": [
          45000
         ],
         "yaxis": "y"
        },
        {
         "hovertemplate": "Major=STATISTICS AND DECISION SCIENCE<br>Proportion of Women=%{x}<br>Median Income=%{y}<extra></extra>",
         "legendgroup": "STATISTICS AND DECISION SCIENCE",
         "marker": {
          "color": "#FF6692",
          "symbol": "circle"
         },
         "mode": "markers",
         "name": "STATISTICS AND DECISION SCIENCE",
         "orientation": "v",
         "showlegend": true,
         "type": "scatter",
         "x": [
          0.526475764
         ],
         "xaxis": "x",
         "y": [
          45000
         ],
         "yaxis": "y"
        },
        {
         "hovertemplate": "Major=APPLIED MATHEMATICS<br>Proportion of Women=%{x}<br>Median Income=%{y}<extra></extra>",
         "legendgroup": "APPLIED MATHEMATICS",
         "marker": {
          "color": "#B6E880",
          "symbol": "circle"
         },
         "mode": "markers",
         "name": "APPLIED MATHEMATICS",
         "orientation": "v",
         "showlegend": true,
         "type": "scatter",
         "x": [
          0.434298441
         ],
         "xaxis": "x",
         "y": [
          45000
         ],
         "yaxis": "y"
        },
        {
         "hovertemplate": "Major=PHARMACOLOGY<br>Proportion of Women=%{x}<br>Median Income=%{y}<extra></extra>",
         "legendgroup": "PHARMACOLOGY",
         "marker": {
          "color": "#FF97FF",
          "symbol": "circle"
         },
         "mode": "markers",
         "name": "PHARMACOLOGY",
         "orientation": "v",
         "showlegend": true,
         "type": "scatter",
         "x": [
          0.707718502
         ],
         "xaxis": "x",
         "y": [
          45000
         ],
         "yaxis": "y"
        },
        {
         "hovertemplate": "Major=OCEANOGRAPHY<br>Proportion of Women=%{x}<br>Median Income=%{y}<extra></extra>",
         "legendgroup": "OCEANOGRAPHY",
         "marker": {
          "color": "#FECB52",
          "symbol": "circle"
         },
         "mode": "markers",
         "name": "OCEANOGRAPHY",
         "orientation": "v",
         "showlegend": true,
         "type": "scatter",
         "x": [
          0.688999173
         ],
         "xaxis": "x",
         "y": [
          44700
         ],
         "yaxis": "y"
        },
        {
         "hovertemplate": "Major=ENGINEERING AND INDUSTRIAL MANAGEMENT<br>Proportion of Women=%{x}<br>Median Income=%{y}<extra></extra>",
         "legendgroup": "ENGINEERING AND INDUSTRIAL MANAGEMENT",
         "marker": {
          "color": "#636efa",
          "symbol": "circle"
         },
         "mode": "markers",
         "name": "ENGINEERING AND INDUSTRIAL MANAGEMENT",
         "orientation": "v",
         "showlegend": true,
         "type": "scatter",
         "x": [
          0.174122505
         ],
         "xaxis": "x",
         "y": [
          44000
         ],
         "yaxis": "y"
        },
        {
         "hovertemplate": "Major=MEDICAL ASSISTING SERVICES<br>Proportion of Women=%{x}<br>Median Income=%{y}<extra></extra>",
         "legendgroup": "MEDICAL ASSISTING SERVICES",
         "marker": {
          "color": "#EF553B",
          "symbol": "circle"
         },
         "mode": "markers",
         "name": "MEDICAL ASSISTING SERVICES",
         "orientation": "v",
         "showlegend": true,
         "type": "scatter",
         "x": [
          0.927807246
         ],
         "xaxis": "x",
         "y": [
          42000
         ],
         "yaxis": "y"
        },
        {
         "hovertemplate": "Major=MATHEMATICS AND COMPUTER SCIENCE<br>Proportion of Women=%{x}<br>Median Income=%{y}<extra></extra>",
         "legendgroup": "MATHEMATICS AND COMPUTER SCIENCE",
         "marker": {
          "color": "#00cc96",
          "symbol": "circle"
         },
         "mode": "markers",
         "name": "MATHEMATICS AND COMPUTER SCIENCE",
         "orientation": "v",
         "showlegend": true,
         "type": "scatter",
         "x": [
          0.178981938
         ],
         "xaxis": "x",
         "y": [
          42000
         ],
         "yaxis": "y"
        },
        {
         "hovertemplate": "Major=COMPUTER PROGRAMMING AND DATA PROCESSING<br>Proportion of Women=%{x}<br>Median Income=%{y}<extra></extra>",
         "legendgroup": "COMPUTER PROGRAMMING AND DATA PROCESSING",
         "marker": {
          "color": "#ab63fa",
          "symbol": "circle"
         },
         "mode": "markers",
         "name": "COMPUTER PROGRAMMING AND DATA PROCESSING",
         "orientation": "v",
         "showlegend": true,
         "type": "scatter",
         "x": [
          0.269193858
         ],
         "xaxis": "x",
         "y": [
          41300
         ],
         "yaxis": "y"
        },
        {
         "hovertemplate": "Major=COGNITIVE SCIENCE AND BIOPSYCHOLOGY<br>Proportion of Women=%{x}<br>Median Income=%{y}<extra></extra>",
         "legendgroup": "COGNITIVE SCIENCE AND BIOPSYCHOLOGY",
         "marker": {
          "color": "#FFA15A",
          "symbol": "circle"
         },
         "mode": "markers",
         "name": "COGNITIVE SCIENCE AND BIOPSYCHOLOGY",
         "orientation": "v",
         "showlegend": true,
         "type": "scatter",
         "x": [
          0.56486557
         ],
         "xaxis": "x",
         "y": [
          41000
         ],
         "yaxis": "y"
        },
        {
         "hovertemplate": "Major=SCHOOL STUDENT COUNSELING<br>Proportion of Women=%{x}<br>Median Income=%{y}<extra></extra>",
         "legendgroup": "SCHOOL STUDENT COUNSELING",
         "marker": {
          "color": "#19d3f3",
          "symbol": "circle"
         },
         "mode": "markers",
         "name": "SCHOOL STUDENT COUNSELING",
         "orientation": "v",
         "showlegend": true,
         "type": "scatter",
         "x": [
          0.854523227
         ],
         "xaxis": "x",
         "y": [
          41000
         ],
         "yaxis": "y"
        },
        {
         "hovertemplate": "Major=INTERNATIONAL RELATIONS<br>Proportion of Women=%{x}<br>Median Income=%{y}<extra></extra>",
         "legendgroup": "INTERNATIONAL RELATIONS",
         "marker": {
          "color": "#FF6692",
          "symbol": "circle"
         },
         "mode": "markers",
         "name": "INTERNATIONAL RELATIONS",
         "orientation": "v",
         "showlegend": true,
         "type": "scatter",
         "x": [
          0.632986838
         ],
         "xaxis": "x",
         "y": [
          40100
         ],
         "yaxis": "y"
        },
        {
         "hovertemplate": "Major=GENERAL BUSINESS<br>Proportion of Women=%{x}<br>Median Income=%{y}<extra></extra>",
         "legendgroup": "GENERAL BUSINESS",
         "marker": {
          "color": "#B6E880",
          "symbol": "circle"
         },
         "mode": "markers",
         "name": "GENERAL BUSINESS",
         "orientation": "v",
         "showlegend": true,
         "type": "scatter",
         "x": [
          0.436301633
         ],
         "xaxis": "x",
         "y": [
          40000
         ],
         "yaxis": "y"
        },
        {
         "hovertemplate": "Major=ARCHITECTURE<br>Proportion of Women=%{x}<br>Median Income=%{y}<extra></extra>",
         "legendgroup": "ARCHITECTURE",
         "marker": {
          "color": "#FF97FF",
          "symbol": "circle"
         },
         "mode": "markers",
         "name": "ARCHITECTURE",
         "orientation": "v",
         "showlegend": true,
         "type": "scatter",
         "x": [
          0.451464886
         ],
         "xaxis": "x",
         "y": [
          40000
         ],
         "yaxis": "y"
        },
        {
         "hovertemplate": "Major=INTERNATIONAL BUSINESS<br>Proportion of Women=%{x}<br>Median Income=%{y}<extra></extra>",
         "legendgroup": "INTERNATIONAL BUSINESS",
         "marker": {
          "color": "#FECB52",
          "symbol": "circle"
         },
         "mode": "markers",
         "name": "INTERNATIONAL BUSINESS",
         "orientation": "v",
         "showlegend": true,
         "type": "scatter",
         "x": [
          0.589711902
         ],
         "xaxis": "x",
         "y": [
          40000
         ],
         "yaxis": "y"
        },
        {
         "hovertemplate": "Major=PHARMACY PHARMACEUTICAL SCIENCES AND ADMINISTRATION<br>Proportion of Women=%{x}<br>Median Income=%{y}<extra></extra>",
         "legendgroup": "PHARMACY PHARMACEUTICAL SCIENCES AND ADMINISTRATION",
         "marker": {
          "color": "#636efa",
          "symbol": "circle"
         },
         "mode": "markers",
         "name": "PHARMACY PHARMACEUTICAL SCIENCES AND ADMINISTRATION",
         "orientation": "v",
         "showlegend": true,
         "type": "scatter",
         "x": [
          0.630716318
         ],
         "xaxis": "x",
         "y": [
          40000
         ],
         "yaxis": "y"
        },
        {
         "hovertemplate": "Major=MOLECULAR BIOLOGY<br>Proportion of Women=%{x}<br>Median Income=%{y}<extra></extra>",
         "legendgroup": "MOLECULAR BIOLOGY",
         "marker": {
          "color": "#EF553B",
          "symbol": "circle"
         },
         "mode": "markers",
         "name": "MOLECULAR BIOLOGY",
         "orientation": "v",
         "showlegend": true,
         "type": "scatter",
         "x": [
          0.59420765
         ],
         "xaxis": "x",
         "y": [
          40000
         ],
         "yaxis": "y"
        },
        {
         "hovertemplate": "Major=MISCELLANEOUS BUSINESS & MEDICAL ADMINISTRATION<br>Proportion of Women=%{x}<br>Median Income=%{y}<extra></extra>",
         "legendgroup": "MISCELLANEOUS BUSINESS & MEDICAL ADMINISTRATION",
         "marker": {
          "color": "#00cc96",
          "symbol": "circle"
         },
         "mode": "markers",
         "name": "MISCELLANEOUS BUSINESS & MEDICAL ADMINISTRATION",
         "orientation": "v",
         "showlegend": true,
         "type": "scatter",
         "x": [
          0.42692372
         ],
         "xaxis": "x",
         "y": [
          40000
         ],
         "yaxis": "y"
        },
        {
         "hovertemplate": "Major=AGRICULTURE PRODUCTION AND MANAGEMENT<br>Proportion of Women=%{x}<br>Median Income=%{y}<extra></extra>",
         "legendgroup": "AGRICULTURE PRODUCTION AND MANAGEMENT",
         "marker": {
          "color": "#ab63fa",
          "symbol": "circle"
         },
         "mode": "markers",
         "name": "AGRICULTURE PRODUCTION AND MANAGEMENT",
         "orientation": "v",
         "showlegend": true,
         "type": "scatter",
         "x": [
          0.321769663
         ],
         "xaxis": "x",
         "y": [
          40000
         ],
         "yaxis": "y"
        },
        {
         "hovertemplate": "Major=GENERAL AGRICULTURE<br>Proportion of Women=%{x}<br>Median Income=%{y}<extra></extra>",
         "legendgroup": "GENERAL AGRICULTURE",
         "marker": {
          "color": "#FFA15A",
          "symbol": "circle"
         },
         "mode": "markers",
         "name": "GENERAL AGRICULTURE",
         "orientation": "v",
         "showlegend": true,
         "type": "scatter",
         "x": [
          0.4179248
         ],
         "xaxis": "x",
         "y": [
          40000
         ],
         "yaxis": "y"
        },
        {
         "hovertemplate": "Major=MISCELLANEOUS ENGINEERING TECHNOLOGIES<br>Proportion of Women=%{x}<br>Median Income=%{y}<extra></extra>",
         "legendgroup": "MISCELLANEOUS ENGINEERING TECHNOLOGIES",
         "marker": {
          "color": "#19d3f3",
          "symbol": "circle"
         },
         "mode": "markers",
         "name": "MISCELLANEOUS ENGINEERING TECHNOLOGIES",
         "orientation": "v",
         "showlegend": true,
         "type": "scatter",
         "x": [
          0.200022717
         ],
         "xaxis": "x",
         "y": [
          40000
         ],
         "yaxis": "y"
        },
        {
         "hovertemplate": "Major=MECHANICAL ENGINEERING RELATED TECHNOLOGIES<br>Proportion of Women=%{x}<br>Median Income=%{y}<extra></extra>",
         "legendgroup": "MECHANICAL ENGINEERING RELATED TECHNOLOGIES",
         "marker": {
          "color": "#FF6692",
          "symbol": "circle"
         },
         "mode": "markers",
         "name": "MECHANICAL ENGINEERING RELATED TECHNOLOGIES",
         "orientation": "v",
         "showlegend": true,
         "type": "scatter",
         "x": [
          0.077453027
         ],
         "xaxis": "x",
         "y": [
          40000
         ],
         "yaxis": "y"
        },
        {
         "hovertemplate": "Major=GENETICS<br>Proportion of Women=%{x}<br>Median Income=%{y}<extra></extra>",
         "legendgroup": "GENETICS",
         "marker": {
          "color": "#B6E880",
          "symbol": "circle"
         },
         "mode": "markers",
         "name": "GENETICS",
         "orientation": "v",
         "showlegend": true,
         "type": "scatter",
         "x": [
          0.515543329
         ],
         "xaxis": "x",
         "y": [
          40000
         ],
         "yaxis": "y"
        },
        {
         "hovertemplate": "Major=MISCELLANEOUS SOCIAL SCIENCES<br>Proportion of Women=%{x}<br>Median Income=%{y}<extra></extra>",
         "legendgroup": "MISCELLANEOUS SOCIAL SCIENCES",
         "marker": {
          "color": "#FF97FF",
          "symbol": "circle"
         },
         "mode": "markers",
         "name": "MISCELLANEOUS SOCIAL SCIENCES",
         "orientation": "v",
         "showlegend": true,
         "type": "scatter",
         "x": [
          0.543405422
         ],
         "xaxis": "x",
         "y": [
          40000
         ],
         "yaxis": "y"
        },
        {
         "hovertemplate": "Major=UNITED STATES HISTORY<br>Proportion of Women=%{x}<br>Median Income=%{y}<extra></extra>",
         "legendgroup": "UNITED STATES HISTORY",
         "marker": {
          "color": "#FECB52",
          "symbol": "circle"
         },
         "mode": "markers",
         "name": "UNITED STATES HISTORY",
         "orientation": "v",
         "showlegend": true,
         "type": "scatter",
         "x": [
          0.429684963
         ],
         "xaxis": "x",
         "y": [
          40000
         ],
         "yaxis": "y"
        },
        {
         "hovertemplate": "Major=INDUSTRIAL AND ORGANIZATIONAL PSYCHOLOGY<br>Proportion of Women=%{x}<br>Median Income=%{y}<extra></extra>",
         "legendgroup": "INDUSTRIAL AND ORGANIZATIONAL PSYCHOLOGY",
         "marker": {
          "color": "#636efa",
          "symbol": "circle"
         },
         "mode": "markers",
         "name": "INDUSTRIAL AND ORGANIZATIONAL PSYCHOLOGY",
         "orientation": "v",
         "showlegend": true,
         "type": "scatter",
         "x": [
          0.643331121
         ],
         "xaxis": "x",
         "y": [
          40000
         ],
         "yaxis": "y"
        },
        {
         "hovertemplate": "Major=AGRICULTURAL ECONOMICS<br>Proportion of Women=%{x}<br>Median Income=%{y}<extra></extra>",
         "legendgroup": "AGRICULTURAL ECONOMICS",
         "marker": {
          "color": "#EF553B",
          "symbol": "circle"
         },
         "mode": "markers",
         "name": "AGRICULTURAL ECONOMICS",
         "orientation": "v",
         "showlegend": true,
         "type": "scatter",
         "x": [
          0.282902829
         ],
         "xaxis": "x",
         "y": [
          40000
         ],
         "yaxis": "y"
        },
        {
         "hovertemplate": "Major=PHYSICAL SCIENCES<br>Proportion of Women=%{x}<br>Median Income=%{y}<extra></extra>",
         "legendgroup": "PHYSICAL SCIENCES",
         "marker": {
          "color": "#00cc96",
          "symbol": "circle"
         },
         "mode": "markers",
         "name": "PHYSICAL SCIENCES",
         "orientation": "v",
         "showlegend": true,
         "type": "scatter",
         "x": [
          0.377437326
         ],
         "xaxis": "x",
         "y": [
          40000
         ],
         "yaxis": "y"
        },
        {
         "hovertemplate": "Major=MILITARY TECHNOLOGIES<br>Proportion of Women=%{x}<br>Median Income=%{y}<extra></extra>",
         "legendgroup": "MILITARY TECHNOLOGIES",
         "marker": {
          "color": "#ab63fa",
          "symbol": "circle"
         },
         "mode": "markers",
         "name": "MILITARY TECHNOLOGIES",
         "orientation": "v",
         "showlegend": true,
         "type": "scatter",
         "x": [
          0
         ],
         "xaxis": "x",
         "y": [
          40000
         ],
         "yaxis": "y"
        },
        {
         "hovertemplate": "Major=CHEMISTRY<br>Proportion of Women=%{x}<br>Median Income=%{y}<extra></extra>",
         "legendgroup": "CHEMISTRY",
         "marker": {
          "color": "#FFA15A",
          "symbol": "circle"
         },
         "mode": "markers",
         "name": "CHEMISTRY",
         "orientation": "v",
         "showlegend": true,
         "type": "scatter",
         "x": [
          0.505140538
         ],
         "xaxis": "x",
         "y": [
          39000
         ],
         "yaxis": "y"
        },
        {
         "hovertemplate": "Major=ELECTRICAL, MECHANICAL, AND PRECISION TECHNOLOGIES AND PRODUCTION<br>Proportion of Women=%{x}<br>Median Income=%{y}<extra></extra>",
         "legendgroup": "ELECTRICAL, MECHANICAL, AND PRECISION TECHNOLOGIES AND PRODUCTION",
         "marker": {
          "color": "#19d3f3",
          "symbol": "circle"
         },
         "mode": "markers",
         "name": "ELECTRICAL, MECHANICAL, AND PRECISION TECHNOLOGIES AND PRODUCTION",
         "orientation": "v",
         "showlegend": true,
         "type": "scatter",
         "x": [
          0.232443532
         ],
         "xaxis": "x",
         "y": [
          38400
         ],
         "yaxis": "y"
        },
        {
         "hovertemplate": "Major=BUSINESS MANAGEMENT AND ADMINISTRATION<br>Proportion of Women=%{x}<br>Median Income=%{y}<extra></extra>",
         "legendgroup": "BUSINESS MANAGEMENT AND ADMINISTRATION",
         "marker": {
          "color": "#FF6692",
          "symbol": "circle"
         },
         "mode": "markers",
         "name": "BUSINESS MANAGEMENT AND ADMINISTRATION",
         "orientation": "v",
         "showlegend": true,
         "type": "scatter",
         "x": [
          0.473189524
         ],
         "xaxis": "x",
         "y": [
          38000
         ],
         "yaxis": "y"
        },
        {
         "hovertemplate": "Major=MARKETING AND MARKETING RESEARCH<br>Proportion of Women=%{x}<br>Median Income=%{y}<extra></extra>",
         "legendgroup": "MARKETING AND MARKETING RESEARCH",
         "marker": {
          "color": "#B6E880",
          "symbol": "circle"
         },
         "mode": "markers",
         "name": "MARKETING AND MARKETING RESEARCH",
         "orientation": "v",
         "showlegend": true,
         "type": "scatter",
         "x": [
          0.615727227
         ],
         "xaxis": "x",
         "y": [
          38000
         ],
         "yaxis": "y"
        },
        {
         "hovertemplate": "Major=POLITICAL SCIENCE AND GOVERNMENT<br>Proportion of Women=%{x}<br>Median Income=%{y}<extra></extra>",
         "legendgroup": "POLITICAL SCIENCE AND GOVERNMENT",
         "marker": {
          "color": "#FF97FF",
          "symbol": "circle"
         },
         "mode": "markers",
         "name": "POLITICAL SCIENCE AND GOVERNMENT",
         "orientation": "v",
         "showlegend": true,
         "type": "scatter",
         "x": [
          0.485929877
         ],
         "xaxis": "x",
         "y": [
          38000
         ],
         "yaxis": "y"
        },
        {
         "hovertemplate": "Major=GEOGRAPHY<br>Proportion of Women=%{x}<br>Median Income=%{y}<extra></extra>",
         "legendgroup": "GEOGRAPHY",
         "marker": {
          "color": "#FECB52",
          "symbol": "circle"
         },
         "mode": "markers",
         "name": "GEOGRAPHY",
         "orientation": "v",
         "showlegend": true,
         "type": "scatter",
         "x": [
          0.382900433
         ],
         "xaxis": "x",
         "y": [
          38000
         ],
         "yaxis": "y"
        },
        {
         "hovertemplate": "Major=MICROBIOLOGY<br>Proportion of Women=%{x}<br>Median Income=%{y}<extra></extra>",
         "legendgroup": "MICROBIOLOGY",
         "marker": {
          "color": "#636efa",
          "symbol": "circle"
         },
         "mode": "markers",
         "name": "MICROBIOLOGY",
         "orientation": "v",
         "showlegend": true,
         "type": "scatter",
         "x": [
          0.580948004
         ],
         "xaxis": "x",
         "y": [
          38000
         ],
         "yaxis": "y"
        },
        {
         "hovertemplate": "Major=COMPUTER ADMINISTRATION MANAGEMENT AND SECURITY<br>Proportion of Women=%{x}<br>Median Income=%{y}<extra></extra>",
         "legendgroup": "COMPUTER ADMINISTRATION MANAGEMENT AND SECURITY",
         "marker": {
          "color": "#EF553B",
          "symbol": "circle"
         },
         "mode": "markers",
         "name": "COMPUTER ADMINISTRATION MANAGEMENT AND SECURITY",
         "orientation": "v",
         "showlegend": true,
         "type": "scatter",
         "x": [
          0.180882718
         ],
         "xaxis": "x",
         "y": [
          37500
         ],
         "yaxis": "y"
        },
        {
         "hovertemplate": "Major=BIOCHEMICAL SCIENCES<br>Proportion of Women=%{x}<br>Median Income=%{y}<extra></extra>",
         "legendgroup": "BIOCHEMICAL SCIENCES",
         "marker": {
          "color": "#00cc96",
          "symbol": "circle"
         },
         "mode": "markers",
         "name": "BIOCHEMICAL SCIENCES",
         "orientation": "v",
         "showlegend": true,
         "type": "scatter",
         "x": [
          0.515406449
         ],
         "xaxis": "x",
         "y": [
          37400
         ],
         "yaxis": "y"
        },
        {
         "hovertemplate": "Major=BOTANY<br>Proportion of Women=%{x}<br>Median Income=%{y}<extra></extra>",
         "legendgroup": "BOTANY",
         "marker": {
          "color": "#ab63fa",
          "symbol": "circle"
         },
         "mode": "markers",
         "name": "BOTANY",
         "orientation": "v",
         "showlegend": true,
         "type": "scatter",
         "x": [
          0.52896915
         ],
         "xaxis": "x",
         "y": [
          37000
         ],
         "yaxis": "y"
        },
        {
         "hovertemplate": "Major=COMPUTER NETWORKING AND TELECOMMUNICATIONS<br>Proportion of Women=%{x}<br>Median Income=%{y}<extra></extra>",
         "legendgroup": "COMPUTER NETWORKING AND TELECOMMUNICATIONS",
         "marker": {
          "color": "#FFA15A",
          "symbol": "circle"
         },
         "mode": "markers",
         "name": "COMPUTER NETWORKING AND TELECOMMUNICATIONS",
         "orientation": "v",
         "showlegend": true,
         "type": "scatter",
         "x": [
          0.305004597
         ],
         "xaxis": "x",
         "y": [
          36400
         ],
         "yaxis": "y"
        },
        {
         "hovertemplate": "Major=GEOLOGY AND EARTH SCIENCE<br>Proportion of Women=%{x}<br>Median Income=%{y}<extra></extra>",
         "legendgroup": "GEOLOGY AND EARTH SCIENCE",
         "marker": {
          "color": "#19d3f3",
          "symbol": "circle"
         },
         "mode": "markers",
         "name": "GEOLOGY AND EARTH SCIENCE",
         "orientation": "v",
         "showlegend": true,
         "type": "scatter",
         "x": [
          0.470196865
         ],
         "xaxis": "x",
         "y": [
          36200
         ],
         "yaxis": "y"
        },
        {
         "hovertemplate": "Major=HUMAN RESOURCES AND PERSONNEL MANAGEMENT<br>Proportion of Women=%{x}<br>Median Income=%{y}<extra></extra>",
         "legendgroup": "HUMAN RESOURCES AND PERSONNEL MANAGEMENT",
         "marker": {
          "color": "#FF6692",
          "symbol": "circle"
         },
         "mode": "markers",
         "name": "HUMAN RESOURCES AND PERSONNEL MANAGEMENT",
         "orientation": "v",
         "showlegend": true,
         "type": "scatter",
         "x": [
          0.747560926
         ],
         "xaxis": "x",
         "y": [
          36000
         ],
         "yaxis": "y"
        },
        {
         "hovertemplate": "Major=PRE-LAW AND LEGAL STUDIES<br>Proportion of Women=%{x}<br>Median Income=%{y}<extra></extra>",
         "legendgroup": "PRE-LAW AND LEGAL STUDIES",
         "marker": {
          "color": "#B6E880",
          "symbol": "circle"
         },
         "mode": "markers",
         "name": "PRE-LAW AND LEGAL STUDIES",
         "orientation": "v",
         "showlegend": true,
         "type": "scatter",
         "x": [
          0.672161443
         ],
         "xaxis": "x",
         "y": [
          36000
         ],
         "yaxis": "y"
        },
        {
         "hovertemplate": "Major=MISCELLANEOUS HEALTH MEDICAL PROFESSIONS<br>Proportion of Women=%{x}<br>Median Income=%{y}<extra></extra>",
         "legendgroup": "MISCELLANEOUS HEALTH MEDICAL PROFESSIONS",
         "marker": {
          "color": "#FF97FF",
          "symbol": "circle"
         },
         "mode": "markers",
         "name": "MISCELLANEOUS HEALTH MEDICAL PROFESSIONS",
         "orientation": "v",
         "showlegend": true,
         "type": "scatter",
         "x": [
          0.881293889
         ],
         "xaxis": "x",
         "y": [
          36000
         ],
         "yaxis": "y"
        },
        {
         "hovertemplate": "Major=PUBLIC ADMINISTRATION<br>Proportion of Women=%{x}<br>Median Income=%{y}<extra></extra>",
         "legendgroup": "PUBLIC ADMINISTRATION",
         "marker": {
          "color": "#FECB52",
          "symbol": "circle"
         },
         "mode": "markers",
         "name": "PUBLIC ADMINISTRATION",
         "orientation": "v",
         "showlegend": true,
         "type": "scatter",
         "x": [
          0.476461183
         ],
         "xaxis": "x",
         "y": [
          36000
         ],
         "yaxis": "y"
        },
        {
         "hovertemplate": "Major=GEOSCIENCES<br>Proportion of Women=%{x}<br>Median Income=%{y}<extra></extra>",
         "legendgroup": "GEOSCIENCES",
         "marker": {
          "color": "#636efa",
          "symbol": "circle"
         },
         "mode": "markers",
         "name": "GEOSCIENCES",
         "orientation": "v",
         "showlegend": true,
         "type": "scatter",
         "x": [
          0.591001011
         ],
         "xaxis": "x",
         "y": [
          36000
         ],
         "yaxis": "y"
        },
        {
         "hovertemplate": "Major=SOCIAL PSYCHOLOGY<br>Proportion of Women=%{x}<br>Median Income=%{y}<extra></extra>",
         "legendgroup": "SOCIAL PSYCHOLOGY",
         "marker": {
          "color": "#EF553B",
          "symbol": "circle"
         },
         "mode": "markers",
         "name": "SOCIAL PSYCHOLOGY",
         "orientation": "v",
         "showlegend": true,
         "type": "scatter",
         "x": [
          0.702020202
         ],
         "xaxis": "x",
         "y": [
          36000
         ],
         "yaxis": "y"
        },
        {
         "hovertemplate": "Major=ENVIRONMENTAL SCIENCE<br>Proportion of Women=%{x}<br>Median Income=%{y}<extra></extra>",
         "legendgroup": "ENVIRONMENTAL SCIENCE",
         "marker": {
          "color": "#00cc96",
          "symbol": "circle"
         },
         "mode": "markers",
         "name": "ENVIRONMENTAL SCIENCE",
         "orientation": "v",
         "showlegend": true,
         "type": "scatter",
         "x": [
          0.584556133
         ],
         "xaxis": "x",
         "y": [
          35600
         ],
         "yaxis": "y"
        },
        {
         "hovertemplate": "Major=COMMUNICATIONS<br>Proportion of Women=%{x}<br>Median Income=%{y}<extra></extra>",
         "legendgroup": "COMMUNICATIONS",
         "marker": {
          "color": "#ab63fa",
          "symbol": "circle"
         },
         "mode": "markers",
         "name": "COMMUNICATIONS",
         "orientation": "v",
         "showlegend": true,
         "type": "scatter",
         "x": [
          0.669998505
         ],
         "xaxis": "x",
         "y": [
          35000
         ],
         "yaxis": "y"
        },
        {
         "hovertemplate": "Major=CRIMINAL JUSTICE AND FIRE PROTECTION<br>Proportion of Women=%{x}<br>Median Income=%{y}<extra></extra>",
         "legendgroup": "CRIMINAL JUSTICE AND FIRE PROTECTION",
         "marker": {
          "color": "#FFA15A",
          "symbol": "circle"
         },
         "mode": "markers",
         "name": "CRIMINAL JUSTICE AND FIRE PROTECTION",
         "orientation": "v",
         "showlegend": true,
         "type": "scatter",
         "x": [
          0.47501047
         ],
         "xaxis": "x",
         "y": [
          35000
         ],
         "yaxis": "y"
        },
        {
         "hovertemplate": "Major=COMMERCIAL ART AND GRAPHIC DESIGN<br>Proportion of Women=%{x}<br>Median Income=%{y}<extra></extra>",
         "legendgroup": "COMMERCIAL ART AND GRAPHIC DESIGN",
         "marker": {
          "color": "#19d3f3",
          "symbol": "circle"
         },
         "mode": "markers",
         "name": "COMMERCIAL ART AND GRAPHIC DESIGN",
         "orientation": "v",
         "showlegend": true,
         "type": "scatter",
         "x": [
          0.690365288
         ],
         "xaxis": "x",
         "y": [
          35000
         ],
         "yaxis": "y"
        },
        {
         "hovertemplate": "Major=JOURNALISM<br>Proportion of Women=%{x}<br>Median Income=%{y}<extra></extra>",
         "legendgroup": "JOURNALISM",
         "marker": {
          "color": "#FF6692",
          "symbol": "circle"
         },
         "mode": "markers",
         "name": "JOURNALISM",
         "orientation": "v",
         "showlegend": true,
         "type": "scatter",
         "x": [
          0.673143392
         ],
         "xaxis": "x",
         "y": [
          35000
         ],
         "yaxis": "y"
        },
        {
         "hovertemplate": "Major=MULTI-DISCIPLINARY OR GENERAL SCIENCE<br>Proportion of Women=%{x}<br>Median Income=%{y}<extra></extra>",
         "legendgroup": "MULTI-DISCIPLINARY OR GENERAL SCIENCE",
         "marker": {
          "color": "#B6E880",
          "symbol": "circle"
         },
         "mode": "markers",
         "name": "MULTI-DISCIPLINARY OR GENERAL SCIENCE",
         "orientation": "v",
         "showlegend": true,
         "type": "scatter",
         "x": [
          0.564639335
         ],
         "xaxis": "x",
         "y": [
          35000
         ],
         "yaxis": "y"
        },
        {
         "hovertemplate": "Major=ADVERTISING AND PUBLIC RELATIONS<br>Proportion of Women=%{x}<br>Median Income=%{y}<extra></extra>",
         "legendgroup": "ADVERTISING AND PUBLIC RELATIONS",
         "marker": {
          "color": "#FF97FF",
          "symbol": "circle"
         },
         "mode": "markers",
         "name": "ADVERTISING AND PUBLIC RELATIONS",
         "orientation": "v",
         "showlegend": true,
         "type": "scatter",
         "x": [
          0.758060269
         ],
         "xaxis": "x",
         "y": [
          35000
         ],
         "yaxis": "y"
        },
        {
         "hovertemplate": "Major=AREA ETHNIC AND CIVILIZATION STUDIES<br>Proportion of Women=%{x}<br>Median Income=%{y}<extra></extra>",
         "legendgroup": "AREA ETHNIC AND CIVILIZATION STUDIES",
         "marker": {
          "color": "#FECB52",
          "symbol": "circle"
         },
         "mode": "markers",
         "name": "AREA ETHNIC AND CIVILIZATION STUDIES",
         "orientation": "v",
         "showlegend": true,
         "type": "scatter",
         "x": [
          0.719858952
         ],
         "xaxis": "x",
         "y": [
          35000
         ],
         "yaxis": "y"
        },
        {
         "hovertemplate": "Major=SPECIAL NEEDS EDUCATION<br>Proportion of Women=%{x}<br>Median Income=%{y}<extra></extra>",
         "legendgroup": "SPECIAL NEEDS EDUCATION",
         "marker": {
          "color": "#636efa",
          "symbol": "circle"
         },
         "mode": "markers",
         "name": "SPECIAL NEEDS EDUCATION",
         "orientation": "v",
         "showlegend": true,
         "type": "scatter",
         "x": [
          0.906677337
         ],
         "xaxis": "x",
         "y": [
          35000
         ],
         "yaxis": "y"
        },
        {
         "hovertemplate": "Major=PHYSIOLOGY<br>Proportion of Women=%{x}<br>Median Income=%{y}<extra></extra>",
         "legendgroup": "PHYSIOLOGY",
         "marker": {
          "color": "#EF553B",
          "symbol": "circle"
         },
         "mode": "markers",
         "name": "PHYSIOLOGY",
         "orientation": "v",
         "showlegend": true,
         "type": "scatter",
         "x": [
          0.618223028
         ],
         "xaxis": "x",
         "y": [
          35000
         ],
         "yaxis": "y"
        },
        {
         "hovertemplate": "Major=CRIMINOLOGY<br>Proportion of Women=%{x}<br>Median Income=%{y}<extra></extra>",
         "legendgroup": "CRIMINOLOGY",
         "marker": {
          "color": "#00cc96",
          "symbol": "circle"
         },
         "mode": "markers",
         "name": "CRIMINOLOGY",
         "orientation": "v",
         "showlegend": true,
         "type": "scatter",
         "x": [
          0.495397153
         ],
         "xaxis": "x",
         "y": [
          35000
         ],
         "yaxis": "y"
        },
        {
         "hovertemplate": "Major=NUTRITION SCIENCES<br>Proportion of Women=%{x}<br>Median Income=%{y}<extra></extra>",
         "legendgroup": "NUTRITION SCIENCES",
         "marker": {
          "color": "#ab63fa",
          "symbol": "circle"
         },
         "mode": "markers",
         "name": "NUTRITION SCIENCES",
         "orientation": "v",
         "showlegend": true,
         "type": "scatter",
         "x": [
          0.864456079
         ],
         "xaxis": "x",
         "y": [
          35000
         ],
         "yaxis": "y"
        },
        {
         "hovertemplate": "Major=HEALTH AND MEDICAL ADMINISTRATIVE SERVICES<br>Proportion of Women=%{x}<br>Median Income=%{y}<extra></extra>",
         "legendgroup": "HEALTH AND MEDICAL ADMINISTRATIVE SERVICES",
         "marker": {
          "color": "#FFA15A",
          "symbol": "circle"
         },
         "mode": "markers",
         "name": "HEALTH AND MEDICAL ADMINISTRATIVE SERVICES",
         "orientation": "v",
         "showlegend": true,
         "type": "scatter",
         "x": [
          0.764426528
         ],
         "xaxis": "x",
         "y": [
          35000
         ],
         "yaxis": "y"
        },
        {
         "hovertemplate": "Major=COMMUNICATION TECHNOLOGIES<br>Proportion of Women=%{x}<br>Median Income=%{y}<extra></extra>",
         "legendgroup": "COMMUNICATION TECHNOLOGIES",
         "marker": {
          "color": "#19d3f3",
          "symbol": "circle"
         },
         "mode": "markers",
         "name": "COMMUNICATION TECHNOLOGIES",
         "orientation": "v",
         "showlegend": true,
         "type": "scatter",
         "x": [
          0.366176878
         ],
         "xaxis": "x",
         "y": [
          35000
         ],
         "yaxis": "y"
        },
        {
         "hovertemplate": "Major=TRANSPORTATION SCIENCES AND TECHNOLOGIES<br>Proportion of Women=%{x}<br>Median Income=%{y}<extra></extra>",
         "legendgroup": "TRANSPORTATION SCIENCES AND TECHNOLOGIES",
         "marker": {
          "color": "#FF6692",
          "symbol": "circle"
         },
         "mode": "markers",
         "name": "TRANSPORTATION SCIENCES AND TECHNOLOGIES",
         "orientation": "v",
         "showlegend": true,
         "type": "scatter",
         "x": [
          0.124950495
         ],
         "xaxis": "x",
         "y": [
          35000
         ],
         "yaxis": "y"
        },
        {
         "hovertemplate": "Major=NATURAL RESOURCES MANAGEMENT<br>Proportion of Women=%{x}<br>Median Income=%{y}<extra></extra>",
         "legendgroup": "NATURAL RESOURCES MANAGEMENT",
         "marker": {
          "color": "#B6E880",
          "symbol": "circle"
         },
         "mode": "markers",
         "name": "NATURAL RESOURCES MANAGEMENT",
         "orientation": "v",
         "showlegend": true,
         "type": "scatter",
         "x": [
          0.374355623
         ],
         "xaxis": "x",
         "y": [
          35000
         ],
         "yaxis": "y"
        },
        {
         "hovertemplate": "Major=NEUROSCIENCE<br>Proportion of Women=%{x}<br>Median Income=%{y}<extra></extra>",
         "legendgroup": "NEUROSCIENCE",
         "marker": {
          "color": "#FF97FF",
          "symbol": "circle"
         },
         "mode": "markers",
         "name": "NEUROSCIENCE",
         "orientation": "v",
         "showlegend": true,
         "type": "scatter",
         "x": [
          0.63814682
         ],
         "xaxis": "x",
         "y": [
          35000
         ],
         "yaxis": "y"
        },
        {
         "hovertemplate": "Major=MULTI/INTERDISCIPLINARY STUDIES<br>Proportion of Women=%{x}<br>Median Income=%{y}<extra></extra>",
         "legendgroup": "MULTI/INTERDISCIPLINARY STUDIES",
         "marker": {
          "color": "#FECB52",
          "symbol": "circle"
         },
         "mode": "markers",
         "name": "MULTI/INTERDISCIPLINARY STUDIES",
         "orientation": "v",
         "showlegend": true,
         "type": "scatter",
         "x": [
          0.770901106
         ],
         "xaxis": "x",
         "y": [
          35000
         ],
         "yaxis": "y"
        },
        {
         "hovertemplate": "Major=ATMOSPHERIC SCIENCES AND METEOROLOGY<br>Proportion of Women=%{x}<br>Median Income=%{y}<extra></extra>",
         "legendgroup": "ATMOSPHERIC SCIENCES AND METEOROLOGY",
         "marker": {
          "color": "#636efa",
          "symbol": "circle"
         },
         "mode": "markers",
         "name": "ATMOSPHERIC SCIENCES AND METEOROLOGY",
         "orientation": "v",
         "showlegend": true,
         "type": "scatter",
         "x": [
          0.321296067
         ],
         "xaxis": "x",
         "y": [
          35000
         ],
         "yaxis": "y"
        },
        {
         "hovertemplate": "Major=FORESTRY<br>Proportion of Women=%{x}<br>Median Income=%{y}<extra></extra>",
         "legendgroup": "FORESTRY",
         "marker": {
          "color": "#EF553B",
          "symbol": "circle"
         },
         "mode": "markers",
         "name": "FORESTRY",
         "orientation": "v",
         "showlegend": true,
         "type": "scatter",
         "x": [
          0.125034655
         ],
         "xaxis": "x",
         "y": [
          35000
         ],
         "yaxis": "y"
        },
        {
         "hovertemplate": "Major=SOIL SCIENCE<br>Proportion of Women=%{x}<br>Median Income=%{y}<extra></extra>",
         "legendgroup": "SOIL SCIENCE",
         "marker": {
          "color": "#00cc96",
          "symbol": "circle"
         },
         "mode": "markers",
         "name": "SOIL SCIENCE",
         "orientation": "v",
         "showlegend": true,
         "type": "scatter",
         "x": [
          0.305109489
         ],
         "xaxis": "x",
         "y": [
          35000
         ],
         "yaxis": "y"
        },
        {
         "hovertemplate": "Major=GENERAL EDUCATION<br>Proportion of Women=%{x}<br>Median Income=%{y}<extra></extra>",
         "legendgroup": "GENERAL EDUCATION",
         "marker": {
          "color": "#ab63fa",
          "symbol": "circle"
         },
         "mode": "markers",
         "name": "GENERAL EDUCATION",
         "orientation": "v",
         "showlegend": true,
         "type": "scatter",
         "x": [
          0.812876606
         ],
         "xaxis": "x",
         "y": [
          34000
         ],
         "yaxis": "y"
        },
        {
         "hovertemplate": "Major=HISTORY<br>Proportion of Women=%{x}<br>Median Income=%{y}<extra></extra>",
         "legendgroup": "HISTORY",
         "marker": {
          "color": "#FFA15A",
          "symbol": "circle"
         },
         "mode": "markers",
         "name": "HISTORY",
         "orientation": "v",
         "showlegend": true,
         "type": "scatter",
         "x": [
          0.448732309
         ],
         "xaxis": "x",
         "y": [
          34000
         ],
         "yaxis": "y"
        },
        {
         "hovertemplate": "Major=FRENCH GERMAN LATIN AND OTHER COMMON FOREIGN LANGUAGE STUDIES<br>Proportion of Women=%{x}<br>Median Income=%{y}<extra></extra>",
         "legendgroup": "FRENCH GERMAN LATIN AND OTHER COMMON FOREIGN LANGUAGE STUDIES",
         "marker": {
          "color": "#19d3f3",
          "symbol": "circle"
         },
         "mode": "markers",
         "name": "FRENCH GERMAN LATIN AND OTHER COMMON FOREIGN LANGUAGE STUDIES",
         "orientation": "v",
         "showlegend": true,
         "type": "scatter",
         "x": [
          0.733967583
         ],
         "xaxis": "x",
         "y": [
          34000
         ],
         "yaxis": "y"
        },
        {
         "hovertemplate": "Major=INTERCULTURAL AND INTERNATIONAL STUDIES<br>Proportion of Women=%{x}<br>Median Income=%{y}<extra></extra>",
         "legendgroup": "INTERCULTURAL AND INTERNATIONAL STUDIES",
         "marker": {
          "color": "#FF6692",
          "symbol": "circle"
         },
         "mode": "markers",
         "name": "INTERCULTURAL AND INTERNATIONAL STUDIES",
         "orientation": "v",
         "showlegend": true,
         "type": "scatter",
         "x": [
          0.652129817
         ],
         "xaxis": "x",
         "y": [
          34000
         ],
         "yaxis": "y"
        },
        {
         "hovertemplate": "Major=SOCIAL SCIENCE OR HISTORY TEACHER EDUCATION<br>Proportion of Women=%{x}<br>Median Income=%{y}<extra></extra>",
         "legendgroup": "SOCIAL SCIENCE OR HISTORY TEACHER EDUCATION",
         "marker": {
          "color": "#B6E880",
          "symbol": "circle"
         },
         "mode": "markers",
         "name": "SOCIAL SCIENCE OR HISTORY TEACHER EDUCATION",
         "orientation": "v",
         "showlegend": true,
         "type": "scatter",
         "x": [
          0.507376968
         ],
         "xaxis": "x",
         "y": [
          34000
         ],
         "yaxis": "y"
        },
        {
         "hovertemplate": "Major=COMMUNITY AND PUBLIC HEALTH<br>Proportion of Women=%{x}<br>Median Income=%{y}<extra></extra>",
         "legendgroup": "COMMUNITY AND PUBLIC HEALTH",
         "marker": {
          "color": "#FF97FF",
          "symbol": "circle"
         },
         "mode": "markers",
         "name": "COMMUNITY AND PUBLIC HEALTH",
         "orientation": "v",
         "showlegend": true,
         "type": "scatter",
         "x": [
          0.792095262
         ],
         "xaxis": "x",
         "y": [
          34000
         ],
         "yaxis": "y"
        },
        {
         "hovertemplate": "Major=MATHEMATICS TEACHER EDUCATION<br>Proportion of Women=%{x}<br>Median Income=%{y}<extra></extra>",
         "legendgroup": "MATHEMATICS TEACHER EDUCATION",
         "marker": {
          "color": "#FECB52",
          "symbol": "circle"
         },
         "mode": "markers",
         "name": "MATHEMATICS TEACHER EDUCATION",
         "orientation": "v",
         "showlegend": true,
         "type": "scatter",
         "x": [
          0.728032591
         ],
         "xaxis": "x",
         "y": [
          34000
         ],
         "yaxis": "y"
        },
        {
         "hovertemplate": "Major=EDUCATIONAL ADMINISTRATION AND SUPERVISION<br>Proportion of Women=%{x}<br>Median Income=%{y}<extra></extra>",
         "legendgroup": "EDUCATIONAL ADMINISTRATION AND SUPERVISION",
         "marker": {
          "color": "#636efa",
          "symbol": "circle"
         },
         "mode": "markers",
         "name": "EDUCATIONAL ADMINISTRATION AND SUPERVISION",
         "orientation": "v",
         "showlegend": true,
         "type": "scatter",
         "x": [
          0.651741294
         ],
         "xaxis": "x",
         "y": [
          34000
         ],
         "yaxis": "y"
        },
        {
         "hovertemplate": "Major=HEALTH AND MEDICAL PREPARATORY PROGRAMS<br>Proportion of Women=%{x}<br>Median Income=%{y}<extra></extra>",
         "legendgroup": "HEALTH AND MEDICAL PREPARATORY PROGRAMS",
         "marker": {
          "color": "#EF553B",
          "symbol": "circle"
         },
         "mode": "markers",
         "name": "HEALTH AND MEDICAL PREPARATORY PROGRAMS",
         "orientation": "v",
         "showlegend": true,
         "type": "scatter",
         "x": [
          0.566640502
         ],
         "xaxis": "x",
         "y": [
          33500
         ],
         "yaxis": "y"
        },
        {
         "hovertemplate": "Major=MISCELLANEOUS BIOLOGY<br>Proportion of Women=%{x}<br>Median Income=%{y}<extra></extra>",
         "legendgroup": "MISCELLANEOUS BIOLOGY",
         "marker": {
          "color": "#00cc96",
          "symbol": "circle"
         },
         "mode": "markers",
         "name": "MISCELLANEOUS BIOLOGY",
         "orientation": "v",
         "showlegend": true,
         "type": "scatter",
         "x": [
          0.556603774
         ],
         "xaxis": "x",
         "y": [
          33500
         ],
         "yaxis": "y"
        },
        {
         "hovertemplate": "Major=BIOLOGY<br>Proportion of Women=%{x}<br>Median Income=%{y}<extra></extra>",
         "legendgroup": "BIOLOGY",
         "marker": {
          "color": "#ab63fa",
          "symbol": "circle"
         },
         "mode": "markers",
         "name": "BIOLOGY",
         "orientation": "v",
         "showlegend": true,
         "type": "scatter",
         "x": [
          0.601858152
         ],
         "xaxis": "x",
         "y": [
          33400
         ],
         "yaxis": "y"
        },
        {
         "hovertemplate": "Major=SOCIOLOGY<br>Proportion of Women=%{x}<br>Median Income=%{y}<extra></extra>",
         "legendgroup": "SOCIOLOGY",
         "marker": {
          "color": "#FFA15A",
          "symbol": "circle"
         },
         "mode": "markers",
         "name": "SOCIOLOGY",
         "orientation": "v",
         "showlegend": true,
         "type": "scatter",
         "x": [
          0.718364766
         ],
         "xaxis": "x",
         "y": [
          33000
         ],
         "yaxis": "y"
        },
        {
         "hovertemplate": "Major=MASS MEDIA<br>Proportion of Women=%{x}<br>Median Income=%{y}<extra></extra>",
         "legendgroup": "MASS MEDIA",
         "marker": {
          "color": "#19d3f3",
          "symbol": "circle"
         },
         "mode": "markers",
         "name": "MASS MEDIA",
         "orientation": "v",
         "showlegend": true,
         "type": "scatter",
         "x": [
          0.532333788
         ],
         "xaxis": "x",
         "y": [
          33000
         ],
         "yaxis": "y"
        },
        {
         "hovertemplate": "Major=TREATMENT THERAPY PROFESSIONS<br>Proportion of Women=%{x}<br>Median Income=%{y}<extra></extra>",
         "legendgroup": "TREATMENT THERAPY PROFESSIONS",
         "marker": {
          "color": "#FF6692",
          "symbol": "circle"
         },
         "mode": "markers",
         "name": "TREATMENT THERAPY PROFESSIONS",
         "orientation": "v",
         "showlegend": true,
         "type": "scatter",
         "x": [
          0.721865913
         ],
         "xaxis": "x",
         "y": [
          33000
         ],
         "yaxis": "y"
        },
        {
         "hovertemplate": "Major=HOSPITALITY MANAGEMENT<br>Proportion of Women=%{x}<br>Median Income=%{y}<extra></extra>",
         "legendgroup": "HOSPITALITY MANAGEMENT",
         "marker": {
          "color": "#B6E880",
          "symbol": "circle"
         },
         "mode": "markers",
         "name": "HOSPITALITY MANAGEMENT",
         "orientation": "v",
         "showlegend": true,
         "type": "scatter",
         "x": [
          0.651659908
         ],
         "xaxis": "x",
         "y": [
          33000
         ],
         "yaxis": "y"
        },
        {
         "hovertemplate": "Major=LANGUAGE AND DRAMA EDUCATION<br>Proportion of Women=%{x}<br>Median Income=%{y}<extra></extra>",
         "legendgroup": "LANGUAGE AND DRAMA EDUCATION",
         "marker": {
          "color": "#FF97FF",
          "symbol": "circle"
         },
         "mode": "markers",
         "name": "LANGUAGE AND DRAMA EDUCATION",
         "orientation": "v",
         "showlegend": true,
         "type": "scatter",
         "x": [
          0.877227528
         ],
         "xaxis": "x",
         "y": [
          33000
         ],
         "yaxis": "y"
        },
        {
         "hovertemplate": "Major=LINGUISTICS AND COMPARATIVE LANGUAGE AND LITERATURE<br>Proportion of Women=%{x}<br>Median Income=%{y}<extra></extra>",
         "legendgroup": "LINGUISTICS AND COMPARATIVE LANGUAGE AND LITERATURE",
         "marker": {
          "color": "#FECB52",
          "symbol": "circle"
         },
         "mode": "markers",
         "name": "LINGUISTICS AND COMPARATIVE LANGUAGE AND LITERATURE",
         "orientation": "v",
         "showlegend": true,
         "type": "scatter",
         "x": [
          0.733991928
         ],
         "xaxis": "x",
         "y": [
          33000
         ],
         "yaxis": "y"
        },
        {
         "hovertemplate": "Major=MISCELLANEOUS EDUCATION<br>Proportion of Women=%{x}<br>Median Income=%{y}<extra></extra>",
         "legendgroup": "MISCELLANEOUS EDUCATION",
         "marker": {
          "color": "#636efa",
          "symbol": "circle"
         },
         "mode": "markers",
         "name": "MISCELLANEOUS EDUCATION",
         "orientation": "v",
         "showlegend": true,
         "type": "scatter",
         "x": [
          0.64
         ],
         "xaxis": "x",
         "y": [
          33000
         ],
         "yaxis": "y"
        },
        {
         "hovertemplate": "Major=INTERDISCIPLINARY SOCIAL SCIENCES<br>Proportion of Women=%{x}<br>Median Income=%{y}<extra></extra>",
         "legendgroup": "INTERDISCIPLINARY SOCIAL SCIENCES",
         "marker": {
          "color": "#EF553B",
          "symbol": "circle"
         },
         "mode": "markers",
         "name": "INTERDISCIPLINARY SOCIAL SCIENCES",
         "orientation": "v",
         "showlegend": true,
         "type": "scatter",
         "x": [
          0.76432029
         ],
         "xaxis": "x",
         "y": [
          33000
         ],
         "yaxis": "y"
        },
        {
         "hovertemplate": "Major=ECOLOGY<br>Proportion of Women=%{x}<br>Median Income=%{y}<extra></extra>",
         "legendgroup": "ECOLOGY",
         "marker": {
          "color": "#00cc96",
          "symbol": "circle"
         },
         "mode": "markers",
         "name": "ECOLOGY",
         "orientation": "v",
         "showlegend": true,
         "type": "scatter",
         "x": [
          0.576360061
         ],
         "xaxis": "x",
         "y": [
          33000
         ],
         "yaxis": "y"
        },
        {
         "hovertemplate": "Major=SECONDARY TEACHER EDUCATION<br>Proportion of Women=%{x}<br>Median Income=%{y}<extra></extra>",
         "legendgroup": "SECONDARY TEACHER EDUCATION",
         "marker": {
          "color": "#ab63fa",
          "symbol": "circle"
         },
         "mode": "markers",
         "name": "SECONDARY TEACHER EDUCATION",
         "orientation": "v",
         "showlegend": true,
         "type": "scatter",
         "x": [
          0.601751825
         ],
         "xaxis": "x",
         "y": [
          32500
         ],
         "yaxis": "y"
        },
        {
         "hovertemplate": "Major=GENERAL MEDICAL AND HEALTH SERVICES<br>Proportion of Women=%{x}<br>Median Income=%{y}<extra></extra>",
         "legendgroup": "GENERAL MEDICAL AND HEALTH SERVICES",
         "marker": {
          "color": "#FFA15A",
          "symbol": "circle"
         },
         "mode": "markers",
         "name": "GENERAL MEDICAL AND HEALTH SERVICES",
         "orientation": "v",
         "showlegend": true,
         "type": "scatter",
         "x": [
          0.774576624
         ],
         "xaxis": "x",
         "y": [
          32400
         ],
         "yaxis": "y"
        },
        {
         "hovertemplate": "Major=PHILOSOPHY AND RELIGIOUS STUDIES<br>Proportion of Women=%{x}<br>Median Income=%{y}<extra></extra>",
         "legendgroup": "PHILOSOPHY AND RELIGIOUS STUDIES",
         "marker": {
          "color": "#19d3f3",
          "symbol": "circle"
         },
         "mode": "markers",
         "name": "PHILOSOPHY AND RELIGIOUS STUDIES",
         "orientation": "v",
         "showlegend": true,
         "type": "scatter",
         "x": [
          0.416809574
         ],
         "xaxis": "x",
         "y": [
          32200
         ],
         "yaxis": "y"
        },
        {
         "hovertemplate": "Major=ART AND MUSIC EDUCATION<br>Proportion of Women=%{x}<br>Median Income=%{y}<extra></extra>",
         "legendgroup": "ART AND MUSIC EDUCATION",
         "marker": {
          "color": "#FF6692",
          "symbol": "circle"
         },
         "mode": "markers",
         "name": "ART AND MUSIC EDUCATION",
         "orientation": "v",
         "showlegend": true,
         "type": "scatter",
         "x": [
          0.6860244
         ],
         "xaxis": "x",
         "y": [
          32100
         ],
         "yaxis": "y"
        },
        {
         "hovertemplate": "Major=ENGLISH LANGUAGE AND LITERATURE<br>Proportion of Women=%{x}<br>Median Income=%{y}<extra></extra>",
         "legendgroup": "ENGLISH LANGUAGE AND LITERATURE",
         "marker": {
          "color": "#B6E880",
          "symbol": "circle"
         },
         "mode": "markers",
         "name": "ENGLISH LANGUAGE AND LITERATURE",
         "orientation": "v",
         "showlegend": true,
         "type": "scatter",
         "x": [
          0.70089843
         ],
         "xaxis": "x",
         "y": [
          32000
         ],
         "yaxis": "y"
        },
        {
         "hovertemplate": "Major=ELEMENTARY EDUCATION<br>Proportion of Women=%{x}<br>Median Income=%{y}<extra></extra>",
         "legendgroup": "ELEMENTARY EDUCATION",
         "marker": {
          "color": "#FF97FF",
          "symbol": "circle"
         },
         "mode": "markers",
         "name": "ELEMENTARY EDUCATION",
         "orientation": "v",
         "showlegend": true,
         "type": "scatter",
         "x": [
          0.923745479
         ],
         "xaxis": "x",
         "y": [
          32000
         ],
         "yaxis": "y"
        },
        {
         "hovertemplate": "Major=PHYSICAL FITNESS PARKS RECREATION AND LEISURE<br>Proportion of Women=%{x}<br>Median Income=%{y}<extra></extra>",
         "legendgroup": "PHYSICAL FITNESS PARKS RECREATION AND LEISURE",
         "marker": {
          "color": "#FECB52",
          "symbol": "circle"
         },
         "mode": "markers",
         "name": "PHYSICAL FITNESS PARKS RECREATION AND LEISURE",
         "orientation": "v",
         "showlegend": true,
         "type": "scatter",
         "x": [
          0.502846315
         ],
         "xaxis": "x",
         "y": [
          32000
         ],
         "yaxis": "y"
        },
        {
         "hovertemplate": "Major=LIBERAL ARTS<br>Proportion of Women=%{x}<br>Median Income=%{y}<extra></extra>",
         "legendgroup": "LIBERAL ARTS",
         "marker": {
          "color": "#636efa",
          "symbol": "circle"
         },
         "mode": "markers",
         "name": "LIBERAL ARTS",
         "orientation": "v",
         "showlegend": true,
         "type": "scatter",
         "x": [
          0.686992952
         ],
         "xaxis": "x",
         "y": [
          32000
         ],
         "yaxis": "y"
        },
        {
         "hovertemplate": "Major=FILM VIDEO AND PHOTOGRAPHIC ARTS<br>Proportion of Women=%{x}<br>Median Income=%{y}<extra></extra>",
         "legendgroup": "FILM VIDEO AND PHOTOGRAPHIC ARTS",
         "marker": {
          "color": "#EF553B",
          "symbol": "circle"
         },
         "mode": "markers",
         "name": "FILM VIDEO AND PHOTOGRAPHIC ARTS",
         "orientation": "v",
         "showlegend": true,
         "type": "scatter",
         "x": [
          0.423208896
         ],
         "xaxis": "x",
         "y": [
          32000
         ],
         "yaxis": "y"
        },
        {
         "hovertemplate": "Major=GENERAL SOCIAL SCIENCES<br>Proportion of Women=%{x}<br>Median Income=%{y}<extra></extra>",
         "legendgroup": "GENERAL SOCIAL SCIENCES",
         "marker": {
          "color": "#00cc96",
          "symbol": "circle"
         },
         "mode": "markers",
         "name": "GENERAL SOCIAL SCIENCES",
         "orientation": "v",
         "showlegend": true,
         "type": "scatter",
         "x": [
          0.606888545
         ],
         "xaxis": "x",
         "y": [
          32000
         ],
         "yaxis": "y"
        },
        {
         "hovertemplate": "Major=PLANT SCIENCE AND AGRONOMY<br>Proportion of Women=%{x}<br>Median Income=%{y}<extra></extra>",
         "legendgroup": "PLANT SCIENCE AND AGRONOMY",
         "marker": {
          "color": "#ab63fa",
          "symbol": "circle"
         },
         "mode": "markers",
         "name": "PLANT SCIENCE AND AGRONOMY",
         "orientation": "v",
         "showlegend": true,
         "type": "scatter",
         "x": [
          0.339670982
         ],
         "xaxis": "x",
         "y": [
          32000
         ],
         "yaxis": "y"
        },
        {
         "hovertemplate": "Major=SCIENCE AND COMPUTER TEACHER EDUCATION<br>Proportion of Women=%{x}<br>Median Income=%{y}<extra></extra>",
         "legendgroup": "SCIENCE AND COMPUTER TEACHER EDUCATION",
         "marker": {
          "color": "#FFA15A",
          "symbol": "circle"
         },
         "mode": "markers",
         "name": "SCIENCE AND COMPUTER TEACHER EDUCATION",
         "orientation": "v",
         "showlegend": true,
         "type": "scatter",
         "x": [
          0.683942619
         ],
         "xaxis": "x",
         "y": [
          32000
         ],
         "yaxis": "y"
        },
        {
         "hovertemplate": "Major=PSYCHOLOGY<br>Proportion of Women=%{x}<br>Median Income=%{y}<extra></extra>",
         "legendgroup": "PSYCHOLOGY",
         "marker": {
          "color": "#19d3f3",
          "symbol": "circle"
         },
         "mode": "markers",
         "name": "PSYCHOLOGY",
         "orientation": "v",
         "showlegend": true,
         "type": "scatter",
         "x": [
          0.779933204
         ],
         "xaxis": "x",
         "y": [
          31500
         ],
         "yaxis": "y"
        },
        {
         "hovertemplate": "Major=MUSIC<br>Proportion of Women=%{x}<br>Median Income=%{y}<extra></extra>",
         "legendgroup": "MUSIC",
         "marker": {
          "color": "#FF6692",
          "symbol": "circle"
         },
         "mode": "markers",
         "name": "MUSIC",
         "orientation": "v",
         "showlegend": true,
         "type": "scatter",
         "x": [
          0.506720763
         ],
         "xaxis": "x",
         "y": [
          31000
         ],
         "yaxis": "y"
        },
        {
         "hovertemplate": "Major=PHYSICAL AND HEALTH EDUCATION TEACHING<br>Proportion of Women=%{x}<br>Median Income=%{y}<extra></extra>",
         "legendgroup": "PHYSICAL AND HEALTH EDUCATION TEACHING",
         "marker": {
          "color": "#B6E880",
          "symbol": "circle"
         },
         "mode": "markers",
         "name": "PHYSICAL AND HEALTH EDUCATION TEACHING",
         "orientation": "v",
         "showlegend": true,
         "type": "scatter",
         "x": [
          0.444582285
         ],
         "xaxis": "x",
         "y": [
          31000
         ],
         "yaxis": "y"
        },
        {
         "hovertemplate": "Major=ART HISTORY AND CRITICISM<br>Proportion of Women=%{x}<br>Median Income=%{y}<extra></extra>",
         "legendgroup": "ART HISTORY AND CRITICISM",
         "marker": {
          "color": "#FF97FF",
          "symbol": "circle"
         },
         "mode": "markers",
         "name": "ART HISTORY AND CRITICISM",
         "orientation": "v",
         "showlegend": true,
         "type": "scatter",
         "x": [
          0.845934379
         ],
         "xaxis": "x",
         "y": [
          31000
         ],
         "yaxis": "y"
        },
        {
         "hovertemplate": "Major=FINE ARTS<br>Proportion of Women=%{x}<br>Median Income=%{y}<extra></extra>",
         "legendgroup": "FINE ARTS",
         "marker": {
          "color": "#FECB52",
          "symbol": "circle"
         },
         "mode": "markers",
         "name": "FINE ARTS",
         "orientation": "v",
         "showlegend": true,
         "type": "scatter",
         "x": [
          0.667033853
         ],
         "xaxis": "x",
         "y": [
          30500
         ],
         "yaxis": "y"
        },
        {
         "hovertemplate": "Major=FAMILY AND CONSUMER SCIENCES<br>Proportion of Women=%{x}<br>Median Income=%{y}<extra></extra>",
         "legendgroup": "FAMILY AND CONSUMER SCIENCES",
         "marker": {
          "color": "#636efa",
          "symbol": "circle"
         },
         "mode": "markers",
         "name": "FAMILY AND CONSUMER SCIENCES",
         "orientation": "v",
         "showlegend": true,
         "type": "scatter",
         "x": [
          0.91093257
         ],
         "xaxis": "x",
         "y": [
          30000
         ],
         "yaxis": "y"
        },
        {
         "hovertemplate": "Major=SOCIAL WORK<br>Proportion of Women=%{x}<br>Median Income=%{y}<extra></extra>",
         "legendgroup": "SOCIAL WORK",
         "marker": {
          "color": "#EF553B",
          "symbol": "circle"
         },
         "mode": "markers",
         "name": "SOCIAL WORK",
         "orientation": "v",
         "showlegend": true,
         "type": "scatter",
         "x": [
          0.904074544
         ],
         "xaxis": "x",
         "y": [
          30000
         ],
         "yaxis": "y"
        },
        {
         "hovertemplate": "Major=ANIMAL SCIENCES<br>Proportion of Women=%{x}<br>Median Income=%{y}<extra></extra>",
         "legendgroup": "ANIMAL SCIENCES",
         "marker": {
          "color": "#00cc96",
          "symbol": "circle"
         },
         "mode": "markers",
         "name": "ANIMAL SCIENCES",
         "orientation": "v",
         "showlegend": true,
         "type": "scatter",
         "x": [
          0.752143884
         ],
         "xaxis": "x",
         "y": [
          30000
         ],
         "yaxis": "y"
        },
        {
         "hovertemplate": "Major=VISUAL AND PERFORMING ARTS<br>Proportion of Women=%{x}<br>Median Income=%{y}<extra></extra>",
         "legendgroup": "VISUAL AND PERFORMING ARTS",
         "marker": {
          "color": "#ab63fa",
          "symbol": "circle"
         },
         "mode": "markers",
         "name": "VISUAL AND PERFORMING ARTS",
         "orientation": "v",
         "showlegend": true,
         "type": "scatter",
         "x": [
          0.745661538
         ],
         "xaxis": "x",
         "y": [
          30000
         ],
         "yaxis": "y"
        },
        {
         "hovertemplate": "Major=TEACHER EDUCATION: MULTIPLE LEVELS<br>Proportion of Women=%{x}<br>Median Income=%{y}<extra></extra>",
         "legendgroup": "TEACHER EDUCATION: MULTIPLE LEVELS",
         "marker": {
          "color": "#FFA15A",
          "symbol": "circle"
         },
         "mode": "markers",
         "name": "TEACHER EDUCATION: MULTIPLE LEVELS",
         "orientation": "v",
         "showlegend": true,
         "type": "scatter",
         "x": [
          0.810704147
         ],
         "xaxis": "x",
         "y": [
          30000
         ],
         "yaxis": "y"
        },
        {
         "hovertemplate": "Major=MISCELLANEOUS PSYCHOLOGY<br>Proportion of Women=%{x}<br>Median Income=%{y}<extra></extra>",
         "legendgroup": "MISCELLANEOUS PSYCHOLOGY",
         "marker": {
          "color": "#19d3f3",
          "symbol": "circle"
         },
         "mode": "markers",
         "name": "MISCELLANEOUS PSYCHOLOGY",
         "orientation": "v",
         "showlegend": true,
         "type": "scatter",
         "x": [
          0.798919817
         ],
         "xaxis": "x",
         "y": [
          30000
         ],
         "yaxis": "y"
        },
        {
         "hovertemplate": "Major=HUMAN SERVICES AND COMMUNITY ORGANIZATION<br>Proportion of Women=%{x}<br>Median Income=%{y}<extra></extra>",
         "legendgroup": "HUMAN SERVICES AND COMMUNITY ORGANIZATION",
         "marker": {
          "color": "#FF6692",
          "symbol": "circle"
         },
         "mode": "markers",
         "name": "HUMAN SERVICES AND COMMUNITY ORGANIZATION",
         "orientation": "v",
         "showlegend": true,
         "type": "scatter",
         "x": [
          0.90558993
         ],
         "xaxis": "x",
         "y": [
          30000
         ],
         "yaxis": "y"
        },
        {
         "hovertemplate": "Major=HUMANITIES<br>Proportion of Women=%{x}<br>Median Income=%{y}<extra></extra>",
         "legendgroup": "HUMANITIES",
         "marker": {
          "color": "#B6E880",
          "symbol": "circle"
         },
         "mode": "markers",
         "name": "HUMANITIES",
         "orientation": "v",
         "showlegend": true,
         "type": "scatter",
         "x": [
          0.697384245
         ],
         "xaxis": "x",
         "y": [
          30000
         ],
         "yaxis": "y"
        },
        {
         "hovertemplate": "Major=THEOLOGY AND RELIGIOUS VOCATIONS<br>Proportion of Women=%{x}<br>Median Income=%{y}<extra></extra>",
         "legendgroup": "THEOLOGY AND RELIGIOUS VOCATIONS",
         "marker": {
          "color": "#FF97FF",
          "symbol": "circle"
         },
         "mode": "markers",
         "name": "THEOLOGY AND RELIGIOUS VOCATIONS",
         "orientation": "v",
         "showlegend": true,
         "type": "scatter",
         "x": [
          0.383719006
         ],
         "xaxis": "x",
         "y": [
          29000
         ],
         "yaxis": "y"
        },
        {
         "hovertemplate": "Major=STUDIO ARTS<br>Proportion of Women=%{x}<br>Median Income=%{y}<extra></extra>",
         "legendgroup": "STUDIO ARTS",
         "marker": {
          "color": "#FECB52",
          "symbol": "circle"
         },
         "mode": "markers",
         "name": "STUDIO ARTS",
         "orientation": "v",
         "showlegend": true,
         "type": "scatter",
         "x": [
          0.719974083
         ],
         "xaxis": "x",
         "y": [
          29000
         ],
         "yaxis": "y"
        },
        {
         "hovertemplate": "Major=COSMETOLOGY SERVICES AND CULINARY ARTS<br>Proportion of Women=%{x}<br>Median Income=%{y}<extra></extra>",
         "legendgroup": "COSMETOLOGY SERVICES AND CULINARY ARTS",
         "marker": {
          "color": "#636efa",
          "symbol": "circle"
         },
         "mode": "markers",
         "name": "COSMETOLOGY SERVICES AND CULINARY ARTS",
         "orientation": "v",
         "showlegend": true,
         "type": "scatter",
         "x": [
          0.584776403
         ],
         "xaxis": "x",
         "y": [
          29000
         ],
         "yaxis": "y"
        },
        {
         "hovertemplate": "Major=MISCELLANEOUS AGRICULTURE<br>Proportion of Women=%{x}<br>Median Income=%{y}<extra></extra>",
         "legendgroup": "MISCELLANEOUS AGRICULTURE",
         "marker": {
          "color": "#EF553B",
          "symbol": "circle"
         },
         "mode": "markers",
         "name": "MISCELLANEOUS AGRICULTURE",
         "orientation": "v",
         "showlegend": true,
         "type": "scatter",
         "x": [
          0.728494624
         ],
         "xaxis": "x",
         "y": [
          29000
         ],
         "yaxis": "y"
        },
        {
         "hovertemplate": "Major=ANTHROPOLOGY AND ARCHEOLOGY<br>Proportion of Women=%{x}<br>Median Income=%{y}<extra></extra>",
         "legendgroup": "ANTHROPOLOGY AND ARCHEOLOGY",
         "marker": {
          "color": "#00cc96",
          "symbol": "circle"
         },
         "mode": "markers",
         "name": "ANTHROPOLOGY AND ARCHEOLOGY",
         "orientation": "v",
         "showlegend": true,
         "type": "scatter",
         "x": [
          0.707136237
         ],
         "xaxis": "x",
         "y": [
          28000
         ],
         "yaxis": "y"
        },
        {
         "hovertemplate": "Major=COMMUNICATION DISORDERS SCIENCES AND SERVICES<br>Proportion of Women=%{x}<br>Median Income=%{y}<extra></extra>",
         "legendgroup": "COMMUNICATION DISORDERS SCIENCES AND SERVICES",
         "marker": {
          "color": "#ab63fa",
          "symbol": "circle"
         },
         "mode": "markers",
         "name": "COMMUNICATION DISORDERS SCIENCES AND SERVICES",
         "orientation": "v",
         "showlegend": true,
         "type": "scatter",
         "x": [
          0.967998119
         ],
         "xaxis": "x",
         "y": [
          28000
         ],
         "yaxis": "y"
        },
        {
         "hovertemplate": "Major=EARLY CHILDHOOD EDUCATION<br>Proportion of Women=%{x}<br>Median Income=%{y}<extra></extra>",
         "legendgroup": "EARLY CHILDHOOD EDUCATION",
         "marker": {
          "color": "#FFA15A",
          "symbol": "circle"
         },
         "mode": "markers",
         "name": "EARLY CHILDHOOD EDUCATION",
         "orientation": "v",
         "showlegend": true,
         "type": "scatter",
         "x": [
          0.968953683
         ],
         "xaxis": "x",
         "y": [
          28000
         ],
         "yaxis": "y"
        },
        {
         "hovertemplate": "Major=OTHER FOREIGN LANGUAGES<br>Proportion of Women=%{x}<br>Median Income=%{y}<extra></extra>",
         "legendgroup": "OTHER FOREIGN LANGUAGES",
         "marker": {
          "color": "#19d3f3",
          "symbol": "circle"
         },
         "mode": "markers",
         "name": "OTHER FOREIGN LANGUAGES",
         "orientation": "v",
         "showlegend": true,
         "type": "scatter",
         "x": [
          0.690110675
         ],
         "xaxis": "x",
         "y": [
          27500
         ],
         "yaxis": "y"
        },
        {
         "hovertemplate": "Major=DRAMA AND THEATER ARTS<br>Proportion of Women=%{x}<br>Median Income=%{y}<extra></extra>",
         "legendgroup": "DRAMA AND THEATER ARTS",
         "marker": {
          "color": "#FF6692",
          "symbol": "circle"
         },
         "mode": "markers",
         "name": "DRAMA AND THEATER ARTS",
         "orientation": "v",
         "showlegend": true,
         "type": "scatter",
         "x": [
          0.666119448
         ],
         "xaxis": "x",
         "y": [
          27000
         ],
         "yaxis": "y"
        },
        {
         "hovertemplate": "Major=COMPOSITION AND RHETORIC<br>Proportion of Women=%{x}<br>Median Income=%{y}<extra></extra>",
         "legendgroup": "COMPOSITION AND RHETORIC",
         "marker": {
          "color": "#B6E880",
          "symbol": "circle"
         },
         "mode": "markers",
         "name": "COMPOSITION AND RHETORIC",
         "orientation": "v",
         "showlegend": true,
         "type": "scatter",
         "x": [
          0.629504564
         ],
         "xaxis": "x",
         "y": [
          27000
         ],
         "yaxis": "y"
        },
        {
         "hovertemplate": "Major=ZOOLOGY<br>Proportion of Women=%{x}<br>Median Income=%{y}<extra></extra>",
         "legendgroup": "ZOOLOGY",
         "marker": {
          "color": "#FF97FF",
          "symbol": "circle"
         },
         "mode": "markers",
         "name": "ZOOLOGY",
         "orientation": "v",
         "showlegend": true,
         "type": "scatter",
         "x": [
          0.637293376
         ],
         "xaxis": "x",
         "y": [
          26000
         ],
         "yaxis": "y"
        },
        {
         "hovertemplate": "Major=EDUCATIONAL PSYCHOLOGY<br>Proportion of Women=%{x}<br>Median Income=%{y}<extra></extra>",
         "legendgroup": "EDUCATIONAL PSYCHOLOGY",
         "marker": {
          "color": "#FECB52",
          "symbol": "circle"
         },
         "mode": "markers",
         "name": "EDUCATIONAL PSYCHOLOGY",
         "orientation": "v",
         "showlegend": true,
         "type": "scatter",
         "x": [
          0.817098809
         ],
         "xaxis": "x",
         "y": [
          25000
         ],
         "yaxis": "y"
        },
        {
         "hovertemplate": "Major=CLINICAL PSYCHOLOGY<br>Proportion of Women=%{x}<br>Median Income=%{y}<extra></extra>",
         "legendgroup": "CLINICAL PSYCHOLOGY",
         "marker": {
          "color": "#636efa",
          "symbol": "circle"
         },
         "mode": "markers",
         "name": "CLINICAL PSYCHOLOGY",
         "orientation": "v",
         "showlegend": true,
         "type": "scatter",
         "x": [
          0.799859056
         ],
         "xaxis": "x",
         "y": [
          25000
         ],
         "yaxis": "y"
        },
        {
         "hovertemplate": "Major=COUNSELING PSYCHOLOGY<br>Proportion of Women=%{x}<br>Median Income=%{y}<extra></extra>",
         "legendgroup": "COUNSELING PSYCHOLOGY",
         "marker": {
          "color": "#EF553B",
          "symbol": "circle"
         },
         "mode": "markers",
         "name": "COUNSELING PSYCHOLOGY",
         "orientation": "v",
         "showlegend": true,
         "type": "scatter",
         "x": [
          0.798746217
         ],
         "xaxis": "x",
         "y": [
          23400
         ],
         "yaxis": "y"
        },
        {
         "hovertemplate": "Major=LIBRARY SCIENCE<br>Proportion of Women=%{x}<br>Median Income=%{y}<extra></extra>",
         "legendgroup": "LIBRARY SCIENCE",
         "marker": {
          "color": "#00cc96",
          "symbol": "circle"
         },
         "mode": "markers",
         "name": "LIBRARY SCIENCE",
         "orientation": "v",
         "showlegend": true,
         "type": "scatter",
         "x": [
          0.877959927
         ],
         "xaxis": "x",
         "y": [
          22000
         ],
         "yaxis": "y"
        }
       ],
       "layout": {
        "autosize": true,
        "legend": {
         "title": {
          "text": "Major"
         },
         "tracegroupgap": 0
        },
        "template": {
         "data": {
          "bar": [
           {
            "error_x": {
             "color": "#2a3f5f"
            },
            "error_y": {
             "color": "#2a3f5f"
            },
            "marker": {
             "line": {
              "color": "#E5ECF6",
              "width": 0.5
             },
             "pattern": {
              "fillmode": "overlay",
              "size": 10,
              "solidity": 0.2
             }
            },
            "type": "bar"
           }
          ],
          "barpolar": [
           {
            "marker": {
             "line": {
              "color": "#E5ECF6",
              "width": 0.5
             },
             "pattern": {
              "fillmode": "overlay",
              "size": 10,
              "solidity": 0.2
             }
            },
            "type": "barpolar"
           }
          ],
          "carpet": [
           {
            "aaxis": {
             "endlinecolor": "#2a3f5f",
             "gridcolor": "white",
             "linecolor": "white",
             "minorgridcolor": "white",
             "startlinecolor": "#2a3f5f"
            },
            "baxis": {
             "endlinecolor": "#2a3f5f",
             "gridcolor": "white",
             "linecolor": "white",
             "minorgridcolor": "white",
             "startlinecolor": "#2a3f5f"
            },
            "type": "carpet"
           }
          ],
          "choropleth": [
           {
            "colorbar": {
             "outlinewidth": 0,
             "ticks": ""
            },
            "type": "choropleth"
           }
          ],
          "contour": [
           {
            "colorbar": {
             "outlinewidth": 0,
             "ticks": ""
            },
            "colorscale": [
             [
              0,
              "#0d0887"
             ],
             [
              0.1111111111111111,
              "#46039f"
             ],
             [
              0.2222222222222222,
              "#7201a8"
             ],
             [
              0.3333333333333333,
              "#9c179e"
             ],
             [
              0.4444444444444444,
              "#bd3786"
             ],
             [
              0.5555555555555556,
              "#d8576b"
             ],
             [
              0.6666666666666666,
              "#ed7953"
             ],
             [
              0.7777777777777778,
              "#fb9f3a"
             ],
             [
              0.8888888888888888,
              "#fdca26"
             ],
             [
              1,
              "#f0f921"
             ]
            ],
            "type": "contour"
           }
          ],
          "contourcarpet": [
           {
            "colorbar": {
             "outlinewidth": 0,
             "ticks": ""
            },
            "type": "contourcarpet"
           }
          ],
          "heatmap": [
           {
            "colorbar": {
             "outlinewidth": 0,
             "ticks": ""
            },
            "colorscale": [
             [
              0,
              "#0d0887"
             ],
             [
              0.1111111111111111,
              "#46039f"
             ],
             [
              0.2222222222222222,
              "#7201a8"
             ],
             [
              0.3333333333333333,
              "#9c179e"
             ],
             [
              0.4444444444444444,
              "#bd3786"
             ],
             [
              0.5555555555555556,
              "#d8576b"
             ],
             [
              0.6666666666666666,
              "#ed7953"
             ],
             [
              0.7777777777777778,
              "#fb9f3a"
             ],
             [
              0.8888888888888888,
              "#fdca26"
             ],
             [
              1,
              "#f0f921"
             ]
            ],
            "type": "heatmap"
           }
          ],
          "heatmapgl": [
           {
            "colorbar": {
             "outlinewidth": 0,
             "ticks": ""
            },
            "colorscale": [
             [
              0,
              "#0d0887"
             ],
             [
              0.1111111111111111,
              "#46039f"
             ],
             [
              0.2222222222222222,
              "#7201a8"
             ],
             [
              0.3333333333333333,
              "#9c179e"
             ],
             [
              0.4444444444444444,
              "#bd3786"
             ],
             [
              0.5555555555555556,
              "#d8576b"
             ],
             [
              0.6666666666666666,
              "#ed7953"
             ],
             [
              0.7777777777777778,
              "#fb9f3a"
             ],
             [
              0.8888888888888888,
              "#fdca26"
             ],
             [
              1,
              "#f0f921"
             ]
            ],
            "type": "heatmapgl"
           }
          ],
          "histogram": [
           {
            "marker": {
             "pattern": {
              "fillmode": "overlay",
              "size": 10,
              "solidity": 0.2
             }
            },
            "type": "histogram"
           }
          ],
          "histogram2d": [
           {
            "colorbar": {
             "outlinewidth": 0,
             "ticks": ""
            },
            "colorscale": [
             [
              0,
              "#0d0887"
             ],
             [
              0.1111111111111111,
              "#46039f"
             ],
             [
              0.2222222222222222,
              "#7201a8"
             ],
             [
              0.3333333333333333,
              "#9c179e"
             ],
             [
              0.4444444444444444,
              "#bd3786"
             ],
             [
              0.5555555555555556,
              "#d8576b"
             ],
             [
              0.6666666666666666,
              "#ed7953"
             ],
             [
              0.7777777777777778,
              "#fb9f3a"
             ],
             [
              0.8888888888888888,
              "#fdca26"
             ],
             [
              1,
              "#f0f921"
             ]
            ],
            "type": "histogram2d"
           }
          ],
          "histogram2dcontour": [
           {
            "colorbar": {
             "outlinewidth": 0,
             "ticks": ""
            },
            "colorscale": [
             [
              0,
              "#0d0887"
             ],
             [
              0.1111111111111111,
              "#46039f"
             ],
             [
              0.2222222222222222,
              "#7201a8"
             ],
             [
              0.3333333333333333,
              "#9c179e"
             ],
             [
              0.4444444444444444,
              "#bd3786"
             ],
             [
              0.5555555555555556,
              "#d8576b"
             ],
             [
              0.6666666666666666,
              "#ed7953"
             ],
             [
              0.7777777777777778,
              "#fb9f3a"
             ],
             [
              0.8888888888888888,
              "#fdca26"
             ],
             [
              1,
              "#f0f921"
             ]
            ],
            "type": "histogram2dcontour"
           }
          ],
          "mesh3d": [
           {
            "colorbar": {
             "outlinewidth": 0,
             "ticks": ""
            },
            "type": "mesh3d"
           }
          ],
          "parcoords": [
           {
            "line": {
             "colorbar": {
              "outlinewidth": 0,
              "ticks": ""
             }
            },
            "type": "parcoords"
           }
          ],
          "pie": [
           {
            "automargin": true,
            "type": "pie"
           }
          ],
          "scatter": [
           {
            "fillpattern": {
             "fillmode": "overlay",
             "size": 10,
             "solidity": 0.2
            },
            "type": "scatter"
           }
          ],
          "scatter3d": [
           {
            "line": {
             "colorbar": {
              "outlinewidth": 0,
              "ticks": ""
             }
            },
            "marker": {
             "colorbar": {
              "outlinewidth": 0,
              "ticks": ""
             }
            },
            "type": "scatter3d"
           }
          ],
          "scattercarpet": [
           {
            "marker": {
             "colorbar": {
              "outlinewidth": 0,
              "ticks": ""
             }
            },
            "type": "scattercarpet"
           }
          ],
          "scattergeo": [
           {
            "marker": {
             "colorbar": {
              "outlinewidth": 0,
              "ticks": ""
             }
            },
            "type": "scattergeo"
           }
          ],
          "scattergl": [
           {
            "marker": {
             "colorbar": {
              "outlinewidth": 0,
              "ticks": ""
             }
            },
            "type": "scattergl"
           }
          ],
          "scattermapbox": [
           {
            "marker": {
             "colorbar": {
              "outlinewidth": 0,
              "ticks": ""
             }
            },
            "type": "scattermapbox"
           }
          ],
          "scatterpolar": [
           {
            "marker": {
             "colorbar": {
              "outlinewidth": 0,
              "ticks": ""
             }
            },
            "type": "scatterpolar"
           }
          ],
          "scatterpolargl": [
           {
            "marker": {
             "colorbar": {
              "outlinewidth": 0,
              "ticks": ""
             }
            },
            "type": "scatterpolargl"
           }
          ],
          "scatterternary": [
           {
            "marker": {
             "colorbar": {
              "outlinewidth": 0,
              "ticks": ""
             }
            },
            "type": "scatterternary"
           }
          ],
          "surface": [
           {
            "colorbar": {
             "outlinewidth": 0,
             "ticks": ""
            },
            "colorscale": [
             [
              0,
              "#0d0887"
             ],
             [
              0.1111111111111111,
              "#46039f"
             ],
             [
              0.2222222222222222,
              "#7201a8"
             ],
             [
              0.3333333333333333,
              "#9c179e"
             ],
             [
              0.4444444444444444,
              "#bd3786"
             ],
             [
              0.5555555555555556,
              "#d8576b"
             ],
             [
              0.6666666666666666,
              "#ed7953"
             ],
             [
              0.7777777777777778,
              "#fb9f3a"
             ],
             [
              0.8888888888888888,
              "#fdca26"
             ],
             [
              1,
              "#f0f921"
             ]
            ],
            "type": "surface"
           }
          ],
          "table": [
           {
            "cells": {
             "fill": {
              "color": "#EBF0F8"
             },
             "line": {
              "color": "white"
             }
            },
            "header": {
             "fill": {
              "color": "#C8D4E3"
             },
             "line": {
              "color": "white"
             }
            },
            "type": "table"
           }
          ]
         },
         "layout": {
          "annotationdefaults": {
           "arrowcolor": "#2a3f5f",
           "arrowhead": 0,
           "arrowwidth": 1
          },
          "autotypenumbers": "strict",
          "coloraxis": {
           "colorbar": {
            "outlinewidth": 0,
            "ticks": ""
           }
          },
          "colorscale": {
           "diverging": [
            [
             0,
             "#8e0152"
            ],
            [
             0.1,
             "#c51b7d"
            ],
            [
             0.2,
             "#de77ae"
            ],
            [
             0.3,
             "#f1b6da"
            ],
            [
             0.4,
             "#fde0ef"
            ],
            [
             0.5,
             "#f7f7f7"
            ],
            [
             0.6,
             "#e6f5d0"
            ],
            [
             0.7,
             "#b8e186"
            ],
            [
             0.8,
             "#7fbc41"
            ],
            [
             0.9,
             "#4d9221"
            ],
            [
             1,
             "#276419"
            ]
           ],
           "sequential": [
            [
             0,
             "#0d0887"
            ],
            [
             0.1111111111111111,
             "#46039f"
            ],
            [
             0.2222222222222222,
             "#7201a8"
            ],
            [
             0.3333333333333333,
             "#9c179e"
            ],
            [
             0.4444444444444444,
             "#bd3786"
            ],
            [
             0.5555555555555556,
             "#d8576b"
            ],
            [
             0.6666666666666666,
             "#ed7953"
            ],
            [
             0.7777777777777778,
             "#fb9f3a"
            ],
            [
             0.8888888888888888,
             "#fdca26"
            ],
            [
             1,
             "#f0f921"
            ]
           ],
           "sequentialminus": [
            [
             0,
             "#0d0887"
            ],
            [
             0.1111111111111111,
             "#46039f"
            ],
            [
             0.2222222222222222,
             "#7201a8"
            ],
            [
             0.3333333333333333,
             "#9c179e"
            ],
            [
             0.4444444444444444,
             "#bd3786"
            ],
            [
             0.5555555555555556,
             "#d8576b"
            ],
            [
             0.6666666666666666,
             "#ed7953"
            ],
            [
             0.7777777777777778,
             "#fb9f3a"
            ],
            [
             0.8888888888888888,
             "#fdca26"
            ],
            [
             1,
             "#f0f921"
            ]
           ]
          },
          "colorway": [
           "#636efa",
           "#EF553B",
           "#00cc96",
           "#ab63fa",
           "#FFA15A",
           "#19d3f3",
           "#FF6692",
           "#B6E880",
           "#FF97FF",
           "#FECB52"
          ],
          "font": {
           "color": "#2a3f5f"
          },
          "geo": {
           "bgcolor": "white",
           "lakecolor": "white",
           "landcolor": "#E5ECF6",
           "showlakes": true,
           "showland": true,
           "subunitcolor": "white"
          },
          "hoverlabel": {
           "align": "left"
          },
          "hovermode": "closest",
          "mapbox": {
           "style": "light"
          },
          "paper_bgcolor": "white",
          "plot_bgcolor": "#E5ECF6",
          "polar": {
           "angularaxis": {
            "gridcolor": "white",
            "linecolor": "white",
            "ticks": ""
           },
           "bgcolor": "#E5ECF6",
           "radialaxis": {
            "gridcolor": "white",
            "linecolor": "white",
            "ticks": ""
           }
          },
          "scene": {
           "xaxis": {
            "backgroundcolor": "#E5ECF6",
            "gridcolor": "white",
            "gridwidth": 2,
            "linecolor": "white",
            "showbackground": true,
            "ticks": "",
            "zerolinecolor": "white"
           },
           "yaxis": {
            "backgroundcolor": "#E5ECF6",
            "gridcolor": "white",
            "gridwidth": 2,
            "linecolor": "white",
            "showbackground": true,
            "ticks": "",
            "zerolinecolor": "white"
           },
           "zaxis": {
            "backgroundcolor": "#E5ECF6",
            "gridcolor": "white",
            "gridwidth": 2,
            "linecolor": "white",
            "showbackground": true,
            "ticks": "",
            "zerolinecolor": "white"
           }
          },
          "shapedefaults": {
           "line": {
            "color": "#2a3f5f"
           }
          },
          "ternary": {
           "aaxis": {
            "gridcolor": "white",
            "linecolor": "white",
            "ticks": ""
           },
           "baxis": {
            "gridcolor": "white",
            "linecolor": "white",
            "ticks": ""
           },
           "bgcolor": "#E5ECF6",
           "caxis": {
            "gridcolor": "white",
            "linecolor": "white",
            "ticks": ""
           }
          },
          "title": {
           "x": 0.05
          },
          "xaxis": {
           "automargin": true,
           "gridcolor": "white",
           "linecolor": "white",
           "ticks": "",
           "title": {
            "standoff": 15
           },
           "zerolinecolor": "white",
           "zerolinewidth": 2
          },
          "yaxis": {
           "automargin": true,
           "gridcolor": "white",
           "linecolor": "white",
           "ticks": "",
           "title": {
            "standoff": 15
           },
           "zerolinecolor": "white",
           "zerolinewidth": 2
          }
         }
        },
        "title": {
         "text": "Median Income vs. Proportion of Women, Colored by STEM Field"
        },
        "xaxis": {
         "anchor": "y",
         "autorange": true,
         "domain": [
          0,
          1
         ],
         "range": [
          -0.061677809753644314,
          1.0306314927536442
         ],
         "title": {
          "text": "Proportion of Women"
         },
         "type": "linear"
        },
        "yaxis": {
         "anchor": "x",
         "autorange": true,
         "domain": [
          0,
          1
         ],
         "range": [
          14737.864077669903,
          117262.1359223301
         ],
         "title": {
          "text": "Median Income"
         },
         "type": "linear"
        }
       }
      },
      "image/png": "[encoded data removed]",
      "text/html": [
       "<div>                            <div id=\"511afc17-77b0-4693-bc51-2a3812ae33d7\" class=\"plotly-graph-div\" style=\"height:525px; width:100%;\"></div>            <script type=\"text/javascript\">                require([\"plotly\"], function(Plotly) {                    window.PLOTLYENV=window.PLOTLYENV || {};                                    if (document.getElementById(\"511afc17-77b0-4693-bc51-2a3812ae33d7\")) {                    Plotly.newPlot(                        \"511afc17-77b0-4693-bc51-2a3812ae33d7\",                        [{\"hovertemplate\":\"Major=PETROLEUM ENGINEERING\\u003cbr\\u003eProportion of Women=%{x}\\u003cbr\\u003eMedian Income=%{y}\\u003cextra\\u003e\\u003c\\u002fextra\\u003e\",\"legendgroup\":\"PETROLEUM ENGINEERING\",\"marker\":{\"color\":\"#636efa\",\"symbol\":\"circle\"},\"mode\":\"markers\",\"name\":\"PETROLEUM ENGINEERING\",\"orientation\":\"v\",\"showlegend\":true,\"x\":[0.120564344],\"xaxis\":\"x\",\"y\":[110000],\"yaxis\":\"y\",\"type\":\"scatter\"},{\"hovertemplate\":\"Major=MINING AND MINERAL ENGINEERING\\u003cbr\\u003eProportion of Women=%{x}\\u003cbr\\u003eMedian Income=%{y}\\u003cextra\\u003e\\u003c\\u002fextra\\u003e\",\"legendgroup\":\"MINING AND MINERAL ENGINEERING\",\"marker\":{\"color\":\"#EF553B\",\"symbol\":\"circle\"},\"mode\":\"markers\",\"name\":\"MINING AND MINERAL ENGINEERING\",\"orientation\":\"v\",\"showlegend\":true,\"x\":[0.101851852],\"xaxis\":\"x\",\"y\":[75000],\"yaxis\":\"y\",\"type\":\"scatter\"},{\"hovertemplate\":\"Major=METALLURGICAL ENGINEERING\\u003cbr\\u003eProportion of Women=%{x}\\u003cbr\\u003eMedian Income=%{y}\\u003cextra\\u003e\\u003c\\u002fextra\\u003e\",\"legendgroup\":\"METALLURGICAL ENGINEERING\",\"marker\":{\"color\":\"#00cc96\",\"symbol\":\"circle\"},\"mode\":\"markers\",\"name\":\"METALLURGICAL ENGINEERING\",\"orientation\":\"v\",\"showlegend\":true,\"x\":[0.153037383],\"xaxis\":\"x\",\"y\":[73000],\"yaxis\":\"y\",\"type\":\"scatter\"},{\"hovertemplate\":\"Major=NAVAL ARCHITECTURE AND MARINE ENGINEERING\\u003cbr\\u003eProportion of Women=%{x}\\u003cbr\\u003eMedian Income=%{y}\\u003cextra\\u003e\\u003c\\u002fextra\\u003e\",\"legendgroup\":\"NAVAL ARCHITECTURE AND MARINE ENGINEERING\",\"marker\":{\"color\":\"#ab63fa\",\"symbol\":\"circle\"},\"mode\":\"markers\",\"name\":\"NAVAL ARCHITECTURE AND MARINE ENGINEERING\",\"orientation\":\"v\",\"showlegend\":true,\"x\":[0.107313196],\"xaxis\":\"x\",\"y\":[70000],\"yaxis\":\"y\",\"type\":\"scatter\"},{\"hovertemplate\":\"Major=CHEMICAL ENGINEERING\\u003cbr\\u003eProportion of Women=%{x}\\u003cbr\\u003eMedian Income=%{y}\\u003cextra\\u003e\\u003c\\u002fextra\\u003e\",\"legendgroup\":\"CHEMICAL ENGINEERING\",\"marker\":{\"color\":\"#FFA15A\",\"symbol\":\"circle\"},\"mode\":\"markers\",\"name\":\"CHEMICAL ENGINEERING\",\"orientation\":\"v\",\"showlegend\":true,\"x\":[0.341630502],\"xaxis\":\"x\",\"y\":[65000],\"yaxis\":\"y\",\"type\":\"scatter\"},{\"hovertemplate\":\"Major=NUCLEAR ENGINEERING\\u003cbr\\u003eProportion of Women=%{x}\\u003cbr\\u003eMedian Income=%{y}\\u003cextra\\u003e\\u003c\\u002fextra\\u003e\",\"legendgroup\":\"NUCLEAR ENGINEERING\",\"marker\":{\"color\":\"#19d3f3\",\"symbol\":\"circle\"},\"mode\":\"markers\",\"name\":\"NUCLEAR ENGINEERING\",\"orientation\":\"v\",\"showlegend\":true,\"x\":[0.144966965],\"xaxis\":\"x\",\"y\":[65000],\"yaxis\":\"y\",\"type\":\"scatter\"},{\"hovertemplate\":\"Major=ACTUARIAL SCIENCE\\u003cbr\\u003eProportion of Women=%{x}\\u003cbr\\u003eMedian Income=%{y}\\u003cextra\\u003e\\u003c\\u002fextra\\u003e\",\"legendgroup\":\"ACTUARIAL SCIENCE\",\"marker\":{\"color\":\"#FF6692\",\"symbol\":\"circle\"},\"mode\":\"markers\",\"name\":\"ACTUARIAL SCIENCE\",\"orientation\":\"v\",\"showlegend\":true,\"x\":[0.441355573],\"xaxis\":\"x\",\"y\":[62000],\"yaxis\":\"y\",\"type\":\"scatter\"},{\"hovertemplate\":\"Major=ASTRONOMY AND ASTROPHYSICS\\u003cbr\\u003eProportion of Women=%{x}\\u003cbr\\u003eMedian Income=%{y}\\u003cextra\\u003e\\u003c\\u002fextra\\u003e\",\"legendgroup\":\"ASTRONOMY AND ASTROPHYSICS\",\"marker\":{\"color\":\"#B6E880\",\"symbol\":\"circle\"},\"mode\":\"markers\",\"name\":\"ASTRONOMY AND ASTROPHYSICS\",\"orientation\":\"v\",\"showlegend\":true,\"x\":[0.535714286],\"xaxis\":\"x\",\"y\":[62000],\"yaxis\":\"y\",\"type\":\"scatter\"},{\"hovertemplate\":\"Major=MECHANICAL ENGINEERING\\u003cbr\\u003eProportion of Women=%{x}\\u003cbr\\u003eMedian Income=%{y}\\u003cextra\\u003e\\u003c\\u002fextra\\u003e\",\"legendgroup\":\"MECHANICAL ENGINEERING\",\"marker\":{\"color\":\"#FF97FF\",\"symbol\":\"circle\"},\"mode\":\"markers\",\"name\":\"MECHANICAL ENGINEERING\",\"orientation\":\"v\",\"showlegend\":true,\"x\":[0.119558903],\"xaxis\":\"x\",\"y\":[60000],\"yaxis\":\"y\",\"type\":\"scatter\"},{\"hovertemplate\":\"Major=ELECTRICAL ENGINEERING\\u003cbr\\u003eProportion of Women=%{x}\\u003cbr\\u003eMedian Income=%{y}\\u003cextra\\u003e\\u003c\\u002fextra\\u003e\",\"legendgroup\":\"ELECTRICAL ENGINEERING\",\"marker\":{\"color\":\"#FECB52\",\"symbol\":\"circle\"},\"mode\":\"markers\",\"name\":\"ELECTRICAL ENGINEERING\",\"orientation\":\"v\",\"showlegend\":true,\"x\":[0.196450256],\"xaxis\":\"x\",\"y\":[60000],\"yaxis\":\"y\",\"type\":\"scatter\"},{\"hovertemplate\":\"Major=COMPUTER ENGINEERING\\u003cbr\\u003eProportion of Women=%{x}\\u003cbr\\u003eMedian Income=%{y}\\u003cextra\\u003e\\u003c\\u002fextra\\u003e\",\"legendgroup\":\"COMPUTER ENGINEERING\",\"marker\":{\"color\":\"#636efa\",\"symbol\":\"circle\"},\"mode\":\"markers\",\"name\":\"COMPUTER ENGINEERING\",\"orientation\":\"v\",\"showlegend\":true,\"x\":[0.199412643],\"xaxis\":\"x\",\"y\":[60000],\"yaxis\":\"y\",\"type\":\"scatter\"},{\"hovertemplate\":\"Major=AEROSPACE ENGINEERING\\u003cbr\\u003eProportion of Women=%{x}\\u003cbr\\u003eMedian Income=%{y}\\u003cextra\\u003e\\u003c\\u002fextra\\u003e\",\"legendgroup\":\"AEROSPACE ENGINEERING\",\"marker\":{\"color\":\"#EF553B\",\"symbol\":\"circle\"},\"mode\":\"markers\",\"name\":\"AEROSPACE ENGINEERING\",\"orientation\":\"v\",\"showlegend\":true,\"x\":[0.139792801],\"xaxis\":\"x\",\"y\":[60000],\"yaxis\":\"y\",\"type\":\"scatter\"},{\"hovertemplate\":\"Major=BIOMEDICAL ENGINEERING\\u003cbr\\u003eProportion of Women=%{x}\\u003cbr\\u003eMedian Income=%{y}\\u003cextra\\u003e\\u003c\\u002fextra\\u003e\",\"legendgroup\":\"BIOMEDICAL ENGINEERING\",\"marker\":{\"color\":\"#00cc96\",\"symbol\":\"circle\"},\"mode\":\"markers\",\"name\":\"BIOMEDICAL ENGINEERING\",\"orientation\":\"v\",\"showlegend\":true,\"x\":[0.437846874],\"xaxis\":\"x\",\"y\":[60000],\"yaxis\":\"y\",\"type\":\"scatter\"},{\"hovertemplate\":\"Major=MATERIALS SCIENCE\\u003cbr\\u003eProportion of Women=%{x}\\u003cbr\\u003eMedian Income=%{y}\\u003cextra\\u003e\\u003c\\u002fextra\\u003e\",\"legendgroup\":\"MATERIALS SCIENCE\",\"marker\":{\"color\":\"#ab63fa\",\"symbol\":\"circle\"},\"mode\":\"markers\",\"name\":\"MATERIALS SCIENCE\",\"orientation\":\"v\",\"showlegend\":true,\"x\":[0.310820285],\"xaxis\":\"x\",\"y\":[60000],\"yaxis\":\"y\",\"type\":\"scatter\"},{\"hovertemplate\":\"Major=ENGINEERING MECHANICS PHYSICS AND SCIENCE\\u003cbr\\u003eProportion of Women=%{x}\\u003cbr\\u003eMedian Income=%{y}\\u003cextra\\u003e\\u003c\\u002fextra\\u003e\",\"legendgroup\":\"ENGINEERING MECHANICS PHYSICS AND SCIENCE\",\"marker\":{\"color\":\"#FFA15A\",\"symbol\":\"circle\"},\"mode\":\"markers\",\"name\":\"ENGINEERING MECHANICS PHYSICS AND SCIENCE\",\"orientation\":\"v\",\"showlegend\":true,\"x\":[0.183985189],\"xaxis\":\"x\",\"y\":[58000],\"yaxis\":\"y\",\"type\":\"scatter\"},{\"hovertemplate\":\"Major=BIOLOGICAL ENGINEERING\\u003cbr\\u003eProportion of Women=%{x}\\u003cbr\\u003eMedian Income=%{y}\\u003cextra\\u003e\\u003c\\u002fextra\\u003e\",\"legendgroup\":\"BIOLOGICAL ENGINEERING\",\"marker\":{\"color\":\"#19d3f3\",\"symbol\":\"circle\"},\"mode\":\"markers\",\"name\":\"BIOLOGICAL ENGINEERING\",\"orientation\":\"v\",\"showlegend\":true,\"x\":[0.320784314],\"xaxis\":\"x\",\"y\":[57100],\"yaxis\":\"y\",\"type\":\"scatter\"},{\"hovertemplate\":\"Major=INDUSTRIAL AND MANUFACTURING ENGINEERING\\u003cbr\\u003eProportion of Women=%{x}\\u003cbr\\u003eMedian Income=%{y}\\u003cextra\\u003e\\u003c\\u002fextra\\u003e\",\"legendgroup\":\"INDUSTRIAL AND MANUFACTURING ENGINEERING\",\"marker\":{\"color\":\"#FF6692\",\"symbol\":\"circle\"},\"mode\":\"markers\",\"name\":\"INDUSTRIAL AND MANUFACTURING ENGINEERING\",\"orientation\":\"v\",\"showlegend\":true,\"x\":[0.343473218],\"xaxis\":\"x\",\"y\":[57000],\"yaxis\":\"y\",\"type\":\"scatter\"},{\"hovertemplate\":\"Major=GENERAL ENGINEERING\\u003cbr\\u003eProportion of Women=%{x}\\u003cbr\\u003eMedian Income=%{y}\\u003cextra\\u003e\\u003c\\u002fextra\\u003e\",\"legendgroup\":\"GENERAL ENGINEERING\",\"marker\":{\"color\":\"#B6E880\",\"symbol\":\"circle\"},\"mode\":\"markers\",\"name\":\"GENERAL ENGINEERING\",\"orientation\":\"v\",\"showlegend\":true,\"x\":[0.252959838],\"xaxis\":\"x\",\"y\":[56000],\"yaxis\":\"y\",\"type\":\"scatter\"},{\"hovertemplate\":\"Major=ARCHITECTURAL ENGINEERING\\u003cbr\\u003eProportion of Women=%{x}\\u003cbr\\u003eMedian Income=%{y}\\u003cextra\\u003e\\u003c\\u002fextra\\u003e\",\"legendgroup\":\"ARCHITECTURAL ENGINEERING\",\"marker\":{\"color\":\"#FF97FF\",\"symbol\":\"circle\"},\"mode\":\"markers\",\"name\":\"ARCHITECTURAL ENGINEERING\",\"orientation\":\"v\",\"showlegend\":true,\"x\":[0.350442478],\"xaxis\":\"x\",\"y\":[54000],\"yaxis\":\"y\",\"type\":\"scatter\"},{\"hovertemplate\":\"Major=COURT REPORTING\\u003cbr\\u003eProportion of Women=%{x}\\u003cbr\\u003eMedian Income=%{y}\\u003cextra\\u003e\\u003c\\u002fextra\\u003e\",\"legendgroup\":\"COURT REPORTING\",\"marker\":{\"color\":\"#FECB52\",\"symbol\":\"circle\"},\"mode\":\"markers\",\"name\":\"COURT REPORTING\",\"orientation\":\"v\",\"showlegend\":true,\"x\":[0.236062718],\"xaxis\":\"x\",\"y\":[54000],\"yaxis\":\"y\",\"type\":\"scatter\"},{\"hovertemplate\":\"Major=COMPUTER SCIENCE\\u003cbr\\u003eProportion of Women=%{x}\\u003cbr\\u003eMedian Income=%{y}\\u003cextra\\u003e\\u003c\\u002fextra\\u003e\",\"legendgroup\":\"COMPUTER SCIENCE\",\"marker\":{\"color\":\"#636efa\",\"symbol\":\"circle\"},\"mode\":\"markers\",\"name\":\"COMPUTER SCIENCE\",\"orientation\":\"v\",\"showlegend\":true,\"x\":[0.222695002],\"xaxis\":\"x\",\"y\":[53000],\"yaxis\":\"y\",\"type\":\"scatter\"},{\"hovertemplate\":\"Major=FOOD SCIENCE\\u003cbr\\u003eProportion of Women=%{x}\\u003cbr\\u003eMedian Income=%{y}\\u003cextra\\u003e\\u003c\\u002fextra\\u003e\",\"legendgroup\":\"FOOD SCIENCE\",\"marker\":{\"color\":\"#EF553B\",\"symbol\":\"circle\"},\"mode\":\"markers\",\"name\":\"FOOD SCIENCE\",\"orientation\":\"v\",\"showlegend\":true,\"x\":[null],\"xaxis\":\"x\",\"y\":[53000],\"yaxis\":\"y\",\"type\":\"scatter\"},{\"hovertemplate\":\"Major=ELECTRICAL ENGINEERING TECHNOLOGY\\u003cbr\\u003eProportion of Women=%{x}\\u003cbr\\u003eMedian Income=%{y}\\u003cextra\\u003e\\u003c\\u002fextra\\u003e\",\"legendgroup\":\"ELECTRICAL ENGINEERING TECHNOLOGY\",\"marker\":{\"color\":\"#00cc96\",\"symbol\":\"circle\"},\"mode\":\"markers\",\"name\":\"ELECTRICAL ENGINEERING TECHNOLOGY\",\"orientation\":\"v\",\"showlegend\":true,\"x\":[0.292607004],\"xaxis\":\"x\",\"y\":[52000],\"yaxis\":\"y\",\"type\":\"scatter\"},{\"hovertemplate\":\"Major=MATERIALS ENGINEERING AND MATERIALS SCIENCE\\u003cbr\\u003eProportion of Women=%{x}\\u003cbr\\u003eMedian Income=%{y}\\u003cextra\\u003e\\u003c\\u002fextra\\u003e\",\"legendgroup\":\"MATERIALS ENGINEERING AND MATERIALS SCIENCE\",\"marker\":{\"color\":\"#ab63fa\",\"symbol\":\"circle\"},\"mode\":\"markers\",\"name\":\"MATERIALS ENGINEERING AND MATERIALS SCIENCE\",\"orientation\":\"v\",\"showlegend\":true,\"x\":[0.325091881],\"xaxis\":\"x\",\"y\":[52000],\"yaxis\":\"y\",\"type\":\"scatter\"},{\"hovertemplate\":\"Major=MANAGEMENT INFORMATION SYSTEMS AND STATISTICS\\u003cbr\\u003eProportion of Women=%{x}\\u003cbr\\u003eMedian Income=%{y}\\u003cextra\\u003e\\u003c\\u002fextra\\u003e\",\"legendgroup\":\"MANAGEMENT INFORMATION SYSTEMS AND STATISTICS\",\"marker\":{\"color\":\"#FFA15A\",\"symbol\":\"circle\"},\"mode\":\"markers\",\"name\":\"MANAGEMENT INFORMATION SYSTEMS AND STATISTICS\",\"orientation\":\"v\",\"showlegend\":true,\"x\":[0.278790146],\"xaxis\":\"x\",\"y\":[51000],\"yaxis\":\"y\",\"type\":\"scatter\"},{\"hovertemplate\":\"Major=CIVIL ENGINEERING\\u003cbr\\u003eProportion of Women=%{x}\\u003cbr\\u003eMedian Income=%{y}\\u003cextra\\u003e\\u003c\\u002fextra\\u003e\",\"legendgroup\":\"CIVIL ENGINEERING\",\"marker\":{\"color\":\"#19d3f3\",\"symbol\":\"circle\"},\"mode\":\"markers\",\"name\":\"CIVIL ENGINEERING\",\"orientation\":\"v\",\"showlegend\":true,\"x\":[0.227117943],\"xaxis\":\"x\",\"y\":[50000],\"yaxis\":\"y\",\"type\":\"scatter\"},{\"hovertemplate\":\"Major=CONSTRUCTION SERVICES\\u003cbr\\u003eProportion of Women=%{x}\\u003cbr\\u003eMedian Income=%{y}\\u003cextra\\u003e\\u003c\\u002fextra\\u003e\",\"legendgroup\":\"CONSTRUCTION SERVICES\",\"marker\":{\"color\":\"#FF6692\",\"symbol\":\"circle\"},\"mode\":\"markers\",\"name\":\"CONSTRUCTION SERVICES\",\"orientation\":\"v\",\"showlegend\":true,\"x\":[0.090712509],\"xaxis\":\"x\",\"y\":[50000],\"yaxis\":\"y\",\"type\":\"scatter\"},{\"hovertemplate\":\"Major=OPERATIONS LOGISTICS AND E-COMMERCE\\u003cbr\\u003eProportion of Women=%{x}\\u003cbr\\u003eMedian Income=%{y}\\u003cextra\\u003e\\u003c\\u002fextra\\u003e\",\"legendgroup\":\"OPERATIONS LOGISTICS AND E-COMMERCE\",\"marker\":{\"color\":\"#B6E880\",\"symbol\":\"circle\"},\"mode\":\"markers\",\"name\":\"OPERATIONS LOGISTICS AND E-COMMERCE\",\"orientation\":\"v\",\"showlegend\":true,\"x\":[0.32483805],\"xaxis\":\"x\",\"y\":[50000],\"yaxis\":\"y\",\"type\":\"scatter\"},{\"hovertemplate\":\"Major=MISCELLANEOUS ENGINEERING\\u003cbr\\u003eProportion of Women=%{x}\\u003cbr\\u003eMedian Income=%{y}\\u003cextra\\u003e\\u003c\\u002fextra\\u003e\",\"legendgroup\":\"MISCELLANEOUS ENGINEERING\",\"marker\":{\"color\":\"#FF97FF\",\"symbol\":\"circle\"},\"mode\":\"markers\",\"name\":\"MISCELLANEOUS ENGINEERING\",\"orientation\":\"v\",\"showlegend\":true,\"x\":[0.189970437],\"xaxis\":\"x\",\"y\":[50000],\"yaxis\":\"y\",\"type\":\"scatter\"},{\"hovertemplate\":\"Major=PUBLIC POLICY\\u003cbr\\u003eProportion of Women=%{x}\\u003cbr\\u003eMedian Income=%{y}\\u003cextra\\u003e\\u003c\\u002fextra\\u003e\",\"legendgroup\":\"PUBLIC POLICY\",\"marker\":{\"color\":\"#FECB52\",\"symbol\":\"circle\"},\"mode\":\"markers\",\"name\":\"PUBLIC POLICY\",\"orientation\":\"v\",\"showlegend\":true,\"x\":[0.558548009],\"xaxis\":\"x\",\"y\":[50000],\"yaxis\":\"y\",\"type\":\"scatter\"},{\"hovertemplate\":\"Major=ENVIRONMENTAL ENGINEERING\\u003cbr\\u003eProportion of Women=%{x}\\u003cbr\\u003eMedian Income=%{y}\\u003cextra\\u003e\\u003c\\u002fextra\\u003e\",\"legendgroup\":\"ENVIRONMENTAL ENGINEERING\",\"marker\":{\"color\":\"#636efa\",\"symbol\":\"circle\"},\"mode\":\"markers\",\"name\":\"ENVIRONMENTAL ENGINEERING\",\"orientation\":\"v\",\"showlegend\":true,\"x\":[0.342228811],\"xaxis\":\"x\",\"y\":[50000],\"yaxis\":\"y\",\"type\":\"scatter\"},{\"hovertemplate\":\"Major=ENGINEERING TECHNOLOGIES\\u003cbr\\u003eProportion of Women=%{x}\\u003cbr\\u003eMedian Income=%{y}\\u003cextra\\u003e\\u003c\\u002fextra\\u003e\",\"legendgroup\":\"ENGINEERING TECHNOLOGIES\",\"marker\":{\"color\":\"#EF553B\",\"symbol\":\"circle\"},\"mode\":\"markers\",\"name\":\"ENGINEERING TECHNOLOGIES\",\"orientation\":\"v\",\"showlegend\":true,\"x\":[0.251388889],\"xaxis\":\"x\",\"y\":[50000],\"yaxis\":\"y\",\"type\":\"scatter\"},{\"hovertemplate\":\"Major=MISCELLANEOUS FINE ARTS\\u003cbr\\u003eProportion of Women=%{x}\\u003cbr\\u003eMedian Income=%{y}\\u003cextra\\u003e\\u003c\\u002fextra\\u003e\",\"legendgroup\":\"MISCELLANEOUS FINE ARTS\",\"marker\":{\"color\":\"#00cc96\",\"symbol\":\"circle\"},\"mode\":\"markers\",\"name\":\"MISCELLANEOUS FINE ARTS\",\"orientation\":\"v\",\"showlegend\":true,\"x\":[0.410179641],\"xaxis\":\"x\",\"y\":[50000],\"yaxis\":\"y\",\"type\":\"scatter\"},{\"hovertemplate\":\"Major=GEOLOGICAL AND GEOPHYSICAL ENGINEERING\\u003cbr\\u003eProportion of Women=%{x}\\u003cbr\\u003eMedian Income=%{y}\\u003cextra\\u003e\\u003c\\u002fextra\\u003e\",\"legendgroup\":\"GEOLOGICAL AND GEOPHYSICAL ENGINEERING\",\"marker\":{\"color\":\"#ab63fa\",\"symbol\":\"circle\"},\"mode\":\"markers\",\"name\":\"GEOLOGICAL AND GEOPHYSICAL ENGINEERING\",\"orientation\":\"v\",\"showlegend\":true,\"x\":[0.322222222],\"xaxis\":\"x\",\"y\":[50000],\"yaxis\":\"y\",\"type\":\"scatter\"},{\"hovertemplate\":\"Major=NURSING\\u003cbr\\u003eProportion of Women=%{x}\\u003cbr\\u003eMedian Income=%{y}\\u003cextra\\u003e\\u003c\\u002fextra\\u003e\",\"legendgroup\":\"NURSING\",\"marker\":{\"color\":\"#FFA15A\",\"symbol\":\"circle\"},\"mode\":\"markers\",\"name\":\"NURSING\",\"orientation\":\"v\",\"showlegend\":true,\"x\":[0.896018988],\"xaxis\":\"x\",\"y\":[48000],\"yaxis\":\"y\",\"type\":\"scatter\"},{\"hovertemplate\":\"Major=FINANCE\\u003cbr\\u003eProportion of Women=%{x}\\u003cbr\\u003eMedian Income=%{y}\\u003cextra\\u003e\\u003c\\u002fextra\\u003e\",\"legendgroup\":\"FINANCE\",\"marker\":{\"color\":\"#19d3f3\",\"symbol\":\"circle\"},\"mode\":\"markers\",\"name\":\"FINANCE\",\"orientation\":\"v\",\"showlegend\":true,\"x\":[0.340824957],\"xaxis\":\"x\",\"y\":[47000],\"yaxis\":\"y\",\"type\":\"scatter\"},{\"hovertemplate\":\"Major=ECONOMICS\\u003cbr\\u003eProportion of Women=%{x}\\u003cbr\\u003eMedian Income=%{y}\\u003cextra\\u003e\\u003c\\u002fextra\\u003e\",\"legendgroup\":\"ECONOMICS\",\"marker\":{\"color\":\"#FF6692\",\"symbol\":\"circle\"},\"mode\":\"markers\",\"name\":\"ECONOMICS\",\"orientation\":\"v\",\"showlegend\":true,\"x\":[0.355469059],\"xaxis\":\"x\",\"y\":[47000],\"yaxis\":\"y\",\"type\":\"scatter\"},{\"hovertemplate\":\"Major=BUSINESS ECONOMICS\\u003cbr\\u003eProportion of Women=%{x}\\u003cbr\\u003eMedian Income=%{y}\\u003cextra\\u003e\\u003c\\u002fextra\\u003e\",\"legendgroup\":\"BUSINESS ECONOMICS\",\"marker\":{\"color\":\"#B6E880\",\"symbol\":\"circle\"},\"mode\":\"markers\",\"name\":\"BUSINESS ECONOMICS\",\"orientation\":\"v\",\"showlegend\":true,\"x\":[0.430536761],\"xaxis\":\"x\",\"y\":[46000],\"yaxis\":\"y\",\"type\":\"scatter\"},{\"hovertemplate\":\"Major=INDUSTRIAL PRODUCTION TECHNOLOGIES\\u003cbr\\u003eProportion of Women=%{x}\\u003cbr\\u003eMedian Income=%{y}\\u003cextra\\u003e\\u003c\\u002fextra\\u003e\",\"legendgroup\":\"INDUSTRIAL PRODUCTION TECHNOLOGIES\",\"marker\":{\"color\":\"#FF97FF\",\"symbol\":\"circle\"},\"mode\":\"markers\",\"name\":\"INDUSTRIAL PRODUCTION TECHNOLOGIES\",\"orientation\":\"v\",\"showlegend\":true,\"x\":[0.24919024],\"xaxis\":\"x\",\"y\":[46000],\"yaxis\":\"y\",\"type\":\"scatter\"},{\"hovertemplate\":\"Major=NUCLEAR, INDUSTRIAL RADIOLOGY, AND BIOLOGICAL TECHNOLOGIES\\u003cbr\\u003eProportion of Women=%{x}\\u003cbr\\u003eMedian Income=%{y}\\u003cextra\\u003e\\u003c\\u002fextra\\u003e\",\"legendgroup\":\"NUCLEAR, INDUSTRIAL RADIOLOGY, AND BIOLOGICAL TECHNOLOGIES\",\"marker\":{\"color\":\"#FECB52\",\"symbol\":\"circle\"},\"mode\":\"markers\",\"name\":\"NUCLEAR, INDUSTRIAL RADIOLOGY, AND BIOLOGICAL TECHNOLOGIES\",\"orientation\":\"v\",\"showlegend\":true,\"x\":[0.75047259],\"xaxis\":\"x\",\"y\":[46000],\"yaxis\":\"y\",\"type\":\"scatter\"},{\"hovertemplate\":\"Major=ACCOUNTING\\u003cbr\\u003eProportion of Women=%{x}\\u003cbr\\u003eMedian Income=%{y}\\u003cextra\\u003e\\u003c\\u002fextra\\u003e\",\"legendgroup\":\"ACCOUNTING\",\"marker\":{\"color\":\"#636efa\",\"symbol\":\"circle\"},\"mode\":\"markers\",\"name\":\"ACCOUNTING\",\"orientation\":\"v\",\"showlegend\":true,\"x\":[0.524152583],\"xaxis\":\"x\",\"y\":[45000],\"yaxis\":\"y\",\"type\":\"scatter\"},{\"hovertemplate\":\"Major=MATHEMATICS\\u003cbr\\u003eProportion of Women=%{x}\\u003cbr\\u003eMedian Income=%{y}\\u003cextra\\u003e\\u003c\\u002fextra\\u003e\",\"legendgroup\":\"MATHEMATICS\",\"marker\":{\"color\":\"#EF553B\",\"symbol\":\"circle\"},\"mode\":\"markers\",\"name\":\"MATHEMATICS\",\"orientation\":\"v\",\"showlegend\":true,\"x\":[0.448098678],\"xaxis\":\"x\",\"y\":[45000],\"yaxis\":\"y\",\"type\":\"scatter\"},{\"hovertemplate\":\"Major=COMPUTER AND INFORMATION SYSTEMS\\u003cbr\\u003eProportion of Women=%{x}\\u003cbr\\u003eMedian Income=%{y}\\u003cextra\\u003e\\u003c\\u002fextra\\u003e\",\"legendgroup\":\"COMPUTER AND INFORMATION SYSTEMS\",\"marker\":{\"color\":\"#00cc96\",\"symbol\":\"circle\"},\"mode\":\"markers\",\"name\":\"COMPUTER AND INFORMATION SYSTEMS\",\"orientation\":\"v\",\"showlegend\":true,\"x\":[0.253583302],\"xaxis\":\"x\",\"y\":[45000],\"yaxis\":\"y\",\"type\":\"scatter\"},{\"hovertemplate\":\"Major=PHYSICS\\u003cbr\\u003eProportion of Women=%{x}\\u003cbr\\u003eMedian Income=%{y}\\u003cextra\\u003e\\u003c\\u002fextra\\u003e\",\"legendgroup\":\"PHYSICS\",\"marker\":{\"color\":\"#ab63fa\",\"symbol\":\"circle\"},\"mode\":\"markers\",\"name\":\"PHYSICS\",\"orientation\":\"v\",\"showlegend\":true,\"x\":[0.281936407],\"xaxis\":\"x\",\"y\":[45000],\"yaxis\":\"y\",\"type\":\"scatter\"},{\"hovertemplate\":\"Major=MEDICAL TECHNOLOGIES TECHNICIANS\\u003cbr\\u003eProportion of Women=%{x}\\u003cbr\\u003eMedian Income=%{y}\\u003cextra\\u003e\\u003c\\u002fextra\\u003e\",\"legendgroup\":\"MEDICAL TECHNOLOGIES TECHNICIANS\",\"marker\":{\"color\":\"#FFA15A\",\"symbol\":\"circle\"},\"mode\":\"markers\",\"name\":\"MEDICAL TECHNOLOGIES TECHNICIANS\",\"orientation\":\"v\",\"showlegend\":true,\"x\":[0.75392736],\"xaxis\":\"x\",\"y\":[45000],\"yaxis\":\"y\",\"type\":\"scatter\"},{\"hovertemplate\":\"Major=INFORMATION SCIENCES\\u003cbr\\u003eProportion of Women=%{x}\\u003cbr\\u003eMedian Income=%{y}\\u003cextra\\u003e\\u003c\\u002fextra\\u003e\",\"legendgroup\":\"INFORMATION SCIENCES\",\"marker\":{\"color\":\"#19d3f3\",\"symbol\":\"circle\"},\"mode\":\"markers\",\"name\":\"INFORMATION SCIENCES\",\"orientation\":\"v\",\"showlegend\":true,\"x\":[0.244103081],\"xaxis\":\"x\",\"y\":[45000],\"yaxis\":\"y\",\"type\":\"scatter\"},{\"hovertemplate\":\"Major=STATISTICS AND DECISION SCIENCE\\u003cbr\\u003eProportion of Women=%{x}\\u003cbr\\u003eMedian Income=%{y}\\u003cextra\\u003e\\u003c\\u002fextra\\u003e\",\"legendgroup\":\"STATISTICS AND DECISION SCIENCE\",\"marker\":{\"color\":\"#FF6692\",\"symbol\":\"circle\"},\"mode\":\"markers\",\"name\":\"STATISTICS AND DECISION SCIENCE\",\"orientation\":\"v\",\"showlegend\":true,\"x\":[0.526475764],\"xaxis\":\"x\",\"y\":[45000],\"yaxis\":\"y\",\"type\":\"scatter\"},{\"hovertemplate\":\"Major=APPLIED MATHEMATICS\\u003cbr\\u003eProportion of Women=%{x}\\u003cbr\\u003eMedian Income=%{y}\\u003cextra\\u003e\\u003c\\u002fextra\\u003e\",\"legendgroup\":\"APPLIED MATHEMATICS\",\"marker\":{\"color\":\"#B6E880\",\"symbol\":\"circle\"},\"mode\":\"markers\",\"name\":\"APPLIED MATHEMATICS\",\"orientation\":\"v\",\"showlegend\":true,\"x\":[0.434298441],\"xaxis\":\"x\",\"y\":[45000],\"yaxis\":\"y\",\"type\":\"scatter\"},{\"hovertemplate\":\"Major=PHARMACOLOGY\\u003cbr\\u003eProportion of Women=%{x}\\u003cbr\\u003eMedian Income=%{y}\\u003cextra\\u003e\\u003c\\u002fextra\\u003e\",\"legendgroup\":\"PHARMACOLOGY\",\"marker\":{\"color\":\"#FF97FF\",\"symbol\":\"circle\"},\"mode\":\"markers\",\"name\":\"PHARMACOLOGY\",\"orientation\":\"v\",\"showlegend\":true,\"x\":[0.707718502],\"xaxis\":\"x\",\"y\":[45000],\"yaxis\":\"y\",\"type\":\"scatter\"},{\"hovertemplate\":\"Major=OCEANOGRAPHY\\u003cbr\\u003eProportion of Women=%{x}\\u003cbr\\u003eMedian Income=%{y}\\u003cextra\\u003e\\u003c\\u002fextra\\u003e\",\"legendgroup\":\"OCEANOGRAPHY\",\"marker\":{\"color\":\"#FECB52\",\"symbol\":\"circle\"},\"mode\":\"markers\",\"name\":\"OCEANOGRAPHY\",\"orientation\":\"v\",\"showlegend\":true,\"x\":[0.688999173],\"xaxis\":\"x\",\"y\":[44700],\"yaxis\":\"y\",\"type\":\"scatter\"},{\"hovertemplate\":\"Major=ENGINEERING AND INDUSTRIAL MANAGEMENT\\u003cbr\\u003eProportion of Women=%{x}\\u003cbr\\u003eMedian Income=%{y}\\u003cextra\\u003e\\u003c\\u002fextra\\u003e\",\"legendgroup\":\"ENGINEERING AND INDUSTRIAL MANAGEMENT\",\"marker\":{\"color\":\"#636efa\",\"symbol\":\"circle\"},\"mode\":\"markers\",\"name\":\"ENGINEERING AND INDUSTRIAL MANAGEMENT\",\"orientation\":\"v\",\"showlegend\":true,\"x\":[0.174122505],\"xaxis\":\"x\",\"y\":[44000],\"yaxis\":\"y\",\"type\":\"scatter\"},{\"hovertemplate\":\"Major=MEDICAL ASSISTING SERVICES\\u003cbr\\u003eProportion of Women=%{x}\\u003cbr\\u003eMedian Income=%{y}\\u003cextra\\u003e\\u003c\\u002fextra\\u003e\",\"legendgroup\":\"MEDICAL ASSISTING SERVICES\",\"marker\":{\"color\":\"#EF553B\",\"symbol\":\"circle\"},\"mode\":\"markers\",\"name\":\"MEDICAL ASSISTING SERVICES\",\"orientation\":\"v\",\"showlegend\":true,\"x\":[0.927807246],\"xaxis\":\"x\",\"y\":[42000],\"yaxis\":\"y\",\"type\":\"scatter\"},{\"hovertemplate\":\"Major=MATHEMATICS AND COMPUTER SCIENCE\\u003cbr\\u003eProportion of Women=%{x}\\u003cbr\\u003eMedian Income=%{y}\\u003cextra\\u003e\\u003c\\u002fextra\\u003e\",\"legendgroup\":\"MATHEMATICS AND COMPUTER SCIENCE\",\"marker\":{\"color\":\"#00cc96\",\"symbol\":\"circle\"},\"mode\":\"markers\",\"name\":\"MATHEMATICS AND COMPUTER SCIENCE\",\"orientation\":\"v\",\"showlegend\":true,\"x\":[0.178981938],\"xaxis\":\"x\",\"y\":[42000],\"yaxis\":\"y\",\"type\":\"scatter\"},{\"hovertemplate\":\"Major=COMPUTER PROGRAMMING AND DATA PROCESSING\\u003cbr\\u003eProportion of Women=%{x}\\u003cbr\\u003eMedian Income=%{y}\\u003cextra\\u003e\\u003c\\u002fextra\\u003e\",\"legendgroup\":\"COMPUTER PROGRAMMING AND DATA PROCESSING\",\"marker\":{\"color\":\"#ab63fa\",\"symbol\":\"circle\"},\"mode\":\"markers\",\"name\":\"COMPUTER PROGRAMMING AND DATA PROCESSING\",\"orientation\":\"v\",\"showlegend\":true,\"x\":[0.269193858],\"xaxis\":\"x\",\"y\":[41300],\"yaxis\":\"y\",\"type\":\"scatter\"},{\"hovertemplate\":\"Major=COGNITIVE SCIENCE AND BIOPSYCHOLOGY\\u003cbr\\u003eProportion of Women=%{x}\\u003cbr\\u003eMedian Income=%{y}\\u003cextra\\u003e\\u003c\\u002fextra\\u003e\",\"legendgroup\":\"COGNITIVE SCIENCE AND BIOPSYCHOLOGY\",\"marker\":{\"color\":\"#FFA15A\",\"symbol\":\"circle\"},\"mode\":\"markers\",\"name\":\"COGNITIVE SCIENCE AND BIOPSYCHOLOGY\",\"orientation\":\"v\",\"showlegend\":true,\"x\":[0.56486557],\"xaxis\":\"x\",\"y\":[41000],\"yaxis\":\"y\",\"type\":\"scatter\"},{\"hovertemplate\":\"Major=SCHOOL STUDENT COUNSELING\\u003cbr\\u003eProportion of Women=%{x}\\u003cbr\\u003eMedian Income=%{y}\\u003cextra\\u003e\\u003c\\u002fextra\\u003e\",\"legendgroup\":\"SCHOOL STUDENT COUNSELING\",\"marker\":{\"color\":\"#19d3f3\",\"symbol\":\"circle\"},\"mode\":\"markers\",\"name\":\"SCHOOL STUDENT COUNSELING\",\"orientation\":\"v\",\"showlegend\":true,\"x\":[0.854523227],\"xaxis\":\"x\",\"y\":[41000],\"yaxis\":\"y\",\"type\":\"scatter\"},{\"hovertemplate\":\"Major=INTERNATIONAL RELATIONS\\u003cbr\\u003eProportion of Women=%{x}\\u003cbr\\u003eMedian Income=%{y}\\u003cextra\\u003e\\u003c\\u002fextra\\u003e\",\"legendgroup\":\"INTERNATIONAL RELATIONS\",\"marker\":{\"color\":\"#FF6692\",\"symbol\":\"circle\"},\"mode\":\"markers\",\"name\":\"INTERNATIONAL RELATIONS\",\"orientation\":\"v\",\"showlegend\":true,\"x\":[0.632986838],\"xaxis\":\"x\",\"y\":[40100],\"yaxis\":\"y\",\"type\":\"scatter\"},{\"hovertemplate\":\"Major=GENERAL BUSINESS\\u003cbr\\u003eProportion of Women=%{x}\\u003cbr\\u003eMedian Income=%{y}\\u003cextra\\u003e\\u003c\\u002fextra\\u003e\",\"legendgroup\":\"GENERAL BUSINESS\",\"marker\":{\"color\":\"#B6E880\",\"symbol\":\"circle\"},\"mode\":\"markers\",\"name\":\"GENERAL BUSINESS\",\"orientation\":\"v\",\"showlegend\":true,\"x\":[0.436301633],\"xaxis\":\"x\",\"y\":[40000],\"yaxis\":\"y\",\"type\":\"scatter\"},{\"hovertemplate\":\"Major=ARCHITECTURE\\u003cbr\\u003eProportion of Women=%{x}\\u003cbr\\u003eMedian Income=%{y}\\u003cextra\\u003e\\u003c\\u002fextra\\u003e\",\"legendgroup\":\"ARCHITECTURE\",\"marker\":{\"color\":\"#FF97FF\",\"symbol\":\"circle\"},\"mode\":\"markers\",\"name\":\"ARCHITECTURE\",\"orientation\":\"v\",\"showlegend\":true,\"x\":[0.451464886],\"xaxis\":\"x\",\"y\":[40000],\"yaxis\":\"y\",\"type\":\"scatter\"},{\"hovertemplate\":\"Major=INTERNATIONAL BUSINESS\\u003cbr\\u003eProportion of Women=%{x}\\u003cbr\\u003eMedian Income=%{y}\\u003cextra\\u003e\\u003c\\u002fextra\\u003e\",\"legendgroup\":\"INTERNATIONAL BUSINESS\",\"marker\":{\"color\":\"#FECB52\",\"symbol\":\"circle\"},\"mode\":\"markers\",\"name\":\"INTERNATIONAL BUSINESS\",\"orientation\":\"v\",\"showlegend\":true,\"x\":[0.589711902],\"xaxis\":\"x\",\"y\":[40000],\"yaxis\":\"y\",\"type\":\"scatter\"},{\"hovertemplate\":\"Major=PHARMACY PHARMACEUTICAL SCIENCES AND ADMINISTRATION\\u003cbr\\u003eProportion of Women=%{x}\\u003cbr\\u003eMedian Income=%{y}\\u003cextra\\u003e\\u003c\\u002fextra\\u003e\",\"legendgroup\":\"PHARMACY PHARMACEUTICAL SCIENCES AND ADMINISTRATION\",\"marker\":{\"color\":\"#636efa\",\"symbol\":\"circle\"},\"mode\":\"markers\",\"name\":\"PHARMACY PHARMACEUTICAL SCIENCES AND ADMINISTRATION\",\"orientation\":\"v\",\"showlegend\":true,\"x\":[0.630716318],\"xaxis\":\"x\",\"y\":[40000],\"yaxis\":\"y\",\"type\":\"scatter\"},{\"hovertemplate\":\"Major=MOLECULAR BIOLOGY\\u003cbr\\u003eProportion of Women=%{x}\\u003cbr\\u003eMedian Income=%{y}\\u003cextra\\u003e\\u003c\\u002fextra\\u003e\",\"legendgroup\":\"MOLECULAR BIOLOGY\",\"marker\":{\"color\":\"#EF553B\",\"symbol\":\"circle\"},\"mode\":\"markers\",\"name\":\"MOLECULAR BIOLOGY\",\"orientation\":\"v\",\"showlegend\":true,\"x\":[0.59420765],\"xaxis\":\"x\",\"y\":[40000],\"yaxis\":\"y\",\"type\":\"scatter\"},{\"hovertemplate\":\"Major=MISCELLANEOUS BUSINESS & MEDICAL ADMINISTRATION\\u003cbr\\u003eProportion of Women=%{x}\\u003cbr\\u003eMedian Income=%{y}\\u003cextra\\u003e\\u003c\\u002fextra\\u003e\",\"legendgroup\":\"MISCELLANEOUS BUSINESS & MEDICAL ADMINISTRATION\",\"marker\":{\"color\":\"#00cc96\",\"symbol\":\"circle\"},\"mode\":\"markers\",\"name\":\"MISCELLANEOUS BUSINESS & MEDICAL ADMINISTRATION\",\"orientation\":\"v\",\"showlegend\":true,\"x\":[0.42692372],\"xaxis\":\"x\",\"y\":[40000],\"yaxis\":\"y\",\"type\":\"scatter\"},{\"hovertemplate\":\"Major=AGRICULTURE PRODUCTION AND MANAGEMENT\\u003cbr\\u003eProportion of Women=%{x}\\u003cbr\\u003eMedian Income=%{y}\\u003cextra\\u003e\\u003c\\u002fextra\\u003e\",\"legendgroup\":\"AGRICULTURE PRODUCTION AND MANAGEMENT\",\"marker\":{\"color\":\"#ab63fa\",\"symbol\":\"circle\"},\"mode\":\"markers\",\"name\":\"AGRICULTURE PRODUCTION AND MANAGEMENT\",\"orientation\":\"v\",\"showlegend\":true,\"x\":[0.321769663],\"xaxis\":\"x\",\"y\":[40000],\"yaxis\":\"y\",\"type\":\"scatter\"},{\"hovertemplate\":\"Major=GENERAL AGRICULTURE\\u003cbr\\u003eProportion of Women=%{x}\\u003cbr\\u003eMedian Income=%{y}\\u003cextra\\u003e\\u003c\\u002fextra\\u003e\",\"legendgroup\":\"GENERAL AGRICULTURE\",\"marker\":{\"color\":\"#FFA15A\",\"symbol\":\"circle\"},\"mode\":\"markers\",\"name\":\"GENERAL AGRICULTURE\",\"orientation\":\"v\",\"showlegend\":true,\"x\":[0.4179248],\"xaxis\":\"x\",\"y\":[40000],\"yaxis\":\"y\",\"type\":\"scatter\"},{\"hovertemplate\":\"Major=MISCELLANEOUS ENGINEERING TECHNOLOGIES\\u003cbr\\u003eProportion of Women=%{x}\\u003cbr\\u003eMedian Income=%{y}\\u003cextra\\u003e\\u003c\\u002fextra\\u003e\",\"legendgroup\":\"MISCELLANEOUS ENGINEERING TECHNOLOGIES\",\"marker\":{\"color\":\"#19d3f3\",\"symbol\":\"circle\"},\"mode\":\"markers\",\"name\":\"MISCELLANEOUS ENGINEERING TECHNOLOGIES\",\"orientation\":\"v\",\"showlegend\":true,\"x\":[0.200022717],\"xaxis\":\"x\",\"y\":[40000],\"yaxis\":\"y\",\"type\":\"scatter\"},{\"hovertemplate\":\"Major=MECHANICAL ENGINEERING RELATED TECHNOLOGIES\\u003cbr\\u003eProportion of Women=%{x}\\u003cbr\\u003eMedian Income=%{y}\\u003cextra\\u003e\\u003c\\u002fextra\\u003e\",\"legendgroup\":\"MECHANICAL ENGINEERING RELATED TECHNOLOGIES\",\"marker\":{\"color\":\"#FF6692\",\"symbol\":\"circle\"},\"mode\":\"markers\",\"name\":\"MECHANICAL ENGINEERING RELATED TECHNOLOGIES\",\"orientation\":\"v\",\"showlegend\":true,\"x\":[0.077453027],\"xaxis\":\"x\",\"y\":[40000],\"yaxis\":\"y\",\"type\":\"scatter\"},{\"hovertemplate\":\"Major=GENETICS\\u003cbr\\u003eProportion of Women=%{x}\\u003cbr\\u003eMedian Income=%{y}\\u003cextra\\u003e\\u003c\\u002fextra\\u003e\",\"legendgroup\":\"GENETICS\",\"marker\":{\"color\":\"#B6E880\",\"symbol\":\"circle\"},\"mode\":\"markers\",\"name\":\"GENETICS\",\"orientation\":\"v\",\"showlegend\":true,\"x\":[0.515543329],\"xaxis\":\"x\",\"y\":[40000],\"yaxis\":\"y\",\"type\":\"scatter\"},{\"hovertemplate\":\"Major=MISCELLANEOUS SOCIAL SCIENCES\\u003cbr\\u003eProportion of Women=%{x}\\u003cbr\\u003eMedian Income=%{y}\\u003cextra\\u003e\\u003c\\u002fextra\\u003e\",\"legendgroup\":\"MISCELLANEOUS SOCIAL SCIENCES\",\"marker\":{\"color\":\"#FF97FF\",\"symbol\":\"circle\"},\"mode\":\"markers\",\"name\":\"MISCELLANEOUS SOCIAL SCIENCES\",\"orientation\":\"v\",\"showlegend\":true,\"x\":[0.543405422],\"xaxis\":\"x\",\"y\":[40000],\"yaxis\":\"y\",\"type\":\"scatter\"},{\"hovertemplate\":\"Major=UNITED STATES HISTORY\\u003cbr\\u003eProportion of Women=%{x}\\u003cbr\\u003eMedian Income=%{y}\\u003cextra\\u003e\\u003c\\u002fextra\\u003e\",\"legendgroup\":\"UNITED STATES HISTORY\",\"marker\":{\"color\":\"#FECB52\",\"symbol\":\"circle\"},\"mode\":\"markers\",\"name\":\"UNITED STATES HISTORY\",\"orientation\":\"v\",\"showlegend\":true,\"x\":[0.429684963],\"xaxis\":\"x\",\"y\":[40000],\"yaxis\":\"y\",\"type\":\"scatter\"},{\"hovertemplate\":\"Major=INDUSTRIAL AND ORGANIZATIONAL PSYCHOLOGY\\u003cbr\\u003eProportion of Women=%{x}\\u003cbr\\u003eMedian Income=%{y}\\u003cextra\\u003e\\u003c\\u002fextra\\u003e\",\"legendgroup\":\"INDUSTRIAL AND ORGANIZATIONAL PSYCHOLOGY\",\"marker\":{\"color\":\"#636efa\",\"symbol\":\"circle\"},\"mode\":\"markers\",\"name\":\"INDUSTRIAL AND ORGANIZATIONAL PSYCHOLOGY\",\"orientation\":\"v\",\"showlegend\":true,\"x\":[0.643331121],\"xaxis\":\"x\",\"y\":[40000],\"yaxis\":\"y\",\"type\":\"scatter\"},{\"hovertemplate\":\"Major=AGRICULTURAL ECONOMICS\\u003cbr\\u003eProportion of Women=%{x}\\u003cbr\\u003eMedian Income=%{y}\\u003cextra\\u003e\\u003c\\u002fextra\\u003e\",\"legendgroup\":\"AGRICULTURAL ECONOMICS\",\"marker\":{\"color\":\"#EF553B\",\"symbol\":\"circle\"},\"mode\":\"markers\",\"name\":\"AGRICULTURAL ECONOMICS\",\"orientation\":\"v\",\"showlegend\":true,\"x\":[0.282902829],\"xaxis\":\"x\",\"y\":[40000],\"yaxis\":\"y\",\"type\":\"scatter\"},{\"hovertemplate\":\"Major=PHYSICAL SCIENCES\\u003cbr\\u003eProportion of Women=%{x}\\u003cbr\\u003eMedian Income=%{y}\\u003cextra\\u003e\\u003c\\u002fextra\\u003e\",\"legendgroup\":\"PHYSICAL SCIENCES\",\"marker\":{\"color\":\"#00cc96\",\"symbol\":\"circle\"},\"mode\":\"markers\",\"name\":\"PHYSICAL SCIENCES\",\"orientation\":\"v\",\"showlegend\":true,\"x\":[0.377437326],\"xaxis\":\"x\",\"y\":[40000],\"yaxis\":\"y\",\"type\":\"scatter\"},{\"hovertemplate\":\"Major=MILITARY TECHNOLOGIES\\u003cbr\\u003eProportion of Women=%{x}\\u003cbr\\u003eMedian Income=%{y}\\u003cextra\\u003e\\u003c\\u002fextra\\u003e\",\"legendgroup\":\"MILITARY TECHNOLOGIES\",\"marker\":{\"color\":\"#ab63fa\",\"symbol\":\"circle\"},\"mode\":\"markers\",\"name\":\"MILITARY TECHNOLOGIES\",\"orientation\":\"v\",\"showlegend\":true,\"x\":[0.0],\"xaxis\":\"x\",\"y\":[40000],\"yaxis\":\"y\",\"type\":\"scatter\"},{\"hovertemplate\":\"Major=CHEMISTRY\\u003cbr\\u003eProportion of Women=%{x}\\u003cbr\\u003eMedian Income=%{y}\\u003cextra\\u003e\\u003c\\u002fextra\\u003e\",\"legendgroup\":\"CHEMISTRY\",\"marker\":{\"color\":\"#FFA15A\",\"symbol\":\"circle\"},\"mode\":\"markers\",\"name\":\"CHEMISTRY\",\"orientation\":\"v\",\"showlegend\":true,\"x\":[0.505140538],\"xaxis\":\"x\",\"y\":[39000],\"yaxis\":\"y\",\"type\":\"scatter\"},{\"hovertemplate\":\"Major=ELECTRICAL, MECHANICAL, AND PRECISION TECHNOLOGIES AND PRODUCTION\\u003cbr\\u003eProportion of Women=%{x}\\u003cbr\\u003eMedian Income=%{y}\\u003cextra\\u003e\\u003c\\u002fextra\\u003e\",\"legendgroup\":\"ELECTRICAL, MECHANICAL, AND PRECISION TECHNOLOGIES AND PRODUCTION\",\"marker\":{\"color\":\"#19d3f3\",\"symbol\":\"circle\"},\"mode\":\"markers\",\"name\":\"ELECTRICAL, MECHANICAL, AND PRECISION TECHNOLOGIES AND PRODUCTION\",\"orientation\":\"v\",\"showlegend\":true,\"x\":[0.232443532],\"xaxis\":\"x\",\"y\":[38400],\"yaxis\":\"y\",\"type\":\"scatter\"},{\"hovertemplate\":\"Major=BUSINESS MANAGEMENT AND ADMINISTRATION\\u003cbr\\u003eProportion of Women=%{x}\\u003cbr\\u003eMedian Income=%{y}\\u003cextra\\u003e\\u003c\\u002fextra\\u003e\",\"legendgroup\":\"BUSINESS MANAGEMENT AND ADMINISTRATION\",\"marker\":{\"color\":\"#FF6692\",\"symbol\":\"circle\"},\"mode\":\"markers\",\"name\":\"BUSINESS MANAGEMENT AND ADMINISTRATION\",\"orientation\":\"v\",\"showlegend\":true,\"x\":[0.473189524],\"xaxis\":\"x\",\"y\":[38000],\"yaxis\":\"y\",\"type\":\"scatter\"},{\"hovertemplate\":\"Major=MARKETING AND MARKETING RESEARCH\\u003cbr\\u003eProportion of Women=%{x}\\u003cbr\\u003eMedian Income=%{y}\\u003cextra\\u003e\\u003c\\u002fextra\\u003e\",\"legendgroup\":\"MARKETING AND MARKETING RESEARCH\",\"marker\":{\"color\":\"#B6E880\",\"symbol\":\"circle\"},\"mode\":\"markers\",\"name\":\"MARKETING AND MARKETING RESEARCH\",\"orientation\":\"v\",\"showlegend\":true,\"x\":[0.615727227],\"xaxis\":\"x\",\"y\":[38000],\"yaxis\":\"y\",\"type\":\"scatter\"},{\"hovertemplate\":\"Major=POLITICAL SCIENCE AND GOVERNMENT\\u003cbr\\u003eProportion of Women=%{x}\\u003cbr\\u003eMedian Income=%{y}\\u003cextra\\u003e\\u003c\\u002fextra\\u003e\",\"legendgroup\":\"POLITICAL SCIENCE AND GOVERNMENT\",\"marker\":{\"color\":\"#FF97FF\",\"symbol\":\"circle\"},\"mode\":\"markers\",\"name\":\"POLITICAL SCIENCE AND GOVERNMENT\",\"orientation\":\"v\",\"showlegend\":true,\"x\":[0.485929877],\"xaxis\":\"x\",\"y\":[38000],\"yaxis\":\"y\",\"type\":\"scatter\"},{\"hovertemplate\":\"Major=GEOGRAPHY\\u003cbr\\u003eProportion of Women=%{x}\\u003cbr\\u003eMedian Income=%{y}\\u003cextra\\u003e\\u003c\\u002fextra\\u003e\",\"legendgroup\":\"GEOGRAPHY\",\"marker\":{\"color\":\"#FECB52\",\"symbol\":\"circle\"},\"mode\":\"markers\",\"name\":\"GEOGRAPHY\",\"orientation\":\"v\",\"showlegend\":true,\"x\":[0.382900433],\"xaxis\":\"x\",\"y\":[38000],\"yaxis\":\"y\",\"type\":\"scatter\"},{\"hovertemplate\":\"Major=MICROBIOLOGY\\u003cbr\\u003eProportion of Women=%{x}\\u003cbr\\u003eMedian Income=%{y}\\u003cextra\\u003e\\u003c\\u002fextra\\u003e\",\"legendgroup\":\"MICROBIOLOGY\",\"marker\":{\"color\":\"#636efa\",\"symbol\":\"circle\"},\"mode\":\"markers\",\"name\":\"MICROBIOLOGY\",\"orientation\":\"v\",\"showlegend\":true,\"x\":[0.580948004],\"xaxis\":\"x\",\"y\":[38000],\"yaxis\":\"y\",\"type\":\"scatter\"},{\"hovertemplate\":\"Major=COMPUTER ADMINISTRATION MANAGEMENT AND SECURITY\\u003cbr\\u003eProportion of Women=%{x}\\u003cbr\\u003eMedian Income=%{y}\\u003cextra\\u003e\\u003c\\u002fextra\\u003e\",\"legendgroup\":\"COMPUTER ADMINISTRATION MANAGEMENT AND SECURITY\",\"marker\":{\"color\":\"#EF553B\",\"symbol\":\"circle\"},\"mode\":\"markers\",\"name\":\"COMPUTER ADMINISTRATION MANAGEMENT AND SECURITY\",\"orientation\":\"v\",\"showlegend\":true,\"x\":[0.180882718],\"xaxis\":\"x\",\"y\":[37500],\"yaxis\":\"y\",\"type\":\"scatter\"},{\"hovertemplate\":\"Major=BIOCHEMICAL SCIENCES\\u003cbr\\u003eProportion of Women=%{x}\\u003cbr\\u003eMedian Income=%{y}\\u003cextra\\u003e\\u003c\\u002fextra\\u003e\",\"legendgroup\":\"BIOCHEMICAL SCIENCES\",\"marker\":{\"color\":\"#00cc96\",\"symbol\":\"circle\"},\"mode\":\"markers\",\"name\":\"BIOCHEMICAL SCIENCES\",\"orientation\":\"v\",\"showlegend\":true,\"x\":[0.515406449],\"xaxis\":\"x\",\"y\":[37400],\"yaxis\":\"y\",\"type\":\"scatter\"},{\"hovertemplate\":\"Major=BOTANY\\u003cbr\\u003eProportion of Women=%{x}\\u003cbr\\u003eMedian Income=%{y}\\u003cextra\\u003e\\u003c\\u002fextra\\u003e\",\"legendgroup\":\"BOTANY\",\"marker\":{\"color\":\"#ab63fa\",\"symbol\":\"circle\"},\"mode\":\"markers\",\"name\":\"BOTANY\",\"orientation\":\"v\",\"showlegend\":true,\"x\":[0.52896915],\"xaxis\":\"x\",\"y\":[37000],\"yaxis\":\"y\",\"type\":\"scatter\"},{\"hovertemplate\":\"Major=COMPUTER NETWORKING AND TELECOMMUNICATIONS\\u003cbr\\u003eProportion of Women=%{x}\\u003cbr\\u003eMedian Income=%{y}\\u003cextra\\u003e\\u003c\\u002fextra\\u003e\",\"legendgroup\":\"COMPUTER NETWORKING AND TELECOMMUNICATIONS\",\"marker\":{\"color\":\"#FFA15A\",\"symbol\":\"circle\"},\"mode\":\"markers\",\"name\":\"COMPUTER NETWORKING AND TELECOMMUNICATIONS\",\"orientation\":\"v\",\"showlegend\":true,\"x\":[0.305004597],\"xaxis\":\"x\",\"y\":[36400],\"yaxis\":\"y\",\"type\":\"scatter\"},{\"hovertemplate\":\"Major=GEOLOGY AND EARTH SCIENCE\\u003cbr\\u003eProportion of Women=%{x}\\u003cbr\\u003eMedian Income=%{y}\\u003cextra\\u003e\\u003c\\u002fextra\\u003e\",\"legendgroup\":\"GEOLOGY AND EARTH SCIENCE\",\"marker\":{\"color\":\"#19d3f3\",\"symbol\":\"circle\"},\"mode\":\"markers\",\"name\":\"GEOLOGY AND EARTH SCIENCE\",\"orientation\":\"v\",\"showlegend\":true,\"x\":[0.470196865],\"xaxis\":\"x\",\"y\":[36200],\"yaxis\":\"y\",\"type\":\"scatter\"},{\"hovertemplate\":\"Major=HUMAN RESOURCES AND PERSONNEL MANAGEMENT\\u003cbr\\u003eProportion of Women=%{x}\\u003cbr\\u003eMedian Income=%{y}\\u003cextra\\u003e\\u003c\\u002fextra\\u003e\",\"legendgroup\":\"HUMAN RESOURCES AND PERSONNEL MANAGEMENT\",\"marker\":{\"color\":\"#FF6692\",\"symbol\":\"circle\"},\"mode\":\"markers\",\"name\":\"HUMAN RESOURCES AND PERSONNEL MANAGEMENT\",\"orientation\":\"v\",\"showlegend\":true,\"x\":[0.747560926],\"xaxis\":\"x\",\"y\":[36000],\"yaxis\":\"y\",\"type\":\"scatter\"},{\"hovertemplate\":\"Major=PRE-LAW AND LEGAL STUDIES\\u003cbr\\u003eProportion of Women=%{x}\\u003cbr\\u003eMedian Income=%{y}\\u003cextra\\u003e\\u003c\\u002fextra\\u003e\",\"legendgroup\":\"PRE-LAW AND LEGAL STUDIES\",\"marker\":{\"color\":\"#B6E880\",\"symbol\":\"circle\"},\"mode\":\"markers\",\"name\":\"PRE-LAW AND LEGAL STUDIES\",\"orientation\":\"v\",\"showlegend\":true,\"x\":[0.672161443],\"xaxis\":\"x\",\"y\":[36000],\"yaxis\":\"y\",\"type\":\"scatter\"},{\"hovertemplate\":\"Major=MISCELLANEOUS HEALTH MEDICAL PROFESSIONS\\u003cbr\\u003eProportion of Women=%{x}\\u003cbr\\u003eMedian Income=%{y}\\u003cextra\\u003e\\u003c\\u002fextra\\u003e\",\"legendgroup\":\"MISCELLANEOUS HEALTH MEDICAL PROFESSIONS\",\"marker\":{\"color\":\"#FF97FF\",\"symbol\":\"circle\"},\"mode\":\"markers\",\"name\":\"MISCELLANEOUS HEALTH MEDICAL PROFESSIONS\",\"orientation\":\"v\",\"showlegend\":true,\"x\":[0.881293889],\"xaxis\":\"x\",\"y\":[36000],\"yaxis\":\"y\",\"type\":\"scatter\"},{\"hovertemplate\":\"Major=PUBLIC ADMINISTRATION\\u003cbr\\u003eProportion of Women=%{x}\\u003cbr\\u003eMedian Income=%{y}\\u003cextra\\u003e\\u003c\\u002fextra\\u003e\",\"legendgroup\":\"PUBLIC ADMINISTRATION\",\"marker\":{\"color\":\"#FECB52\",\"symbol\":\"circle\"},\"mode\":\"markers\",\"name\":\"PUBLIC ADMINISTRATION\",\"orientation\":\"v\",\"showlegend\":true,\"x\":[0.476461183],\"xaxis\":\"x\",\"y\":[36000],\"yaxis\":\"y\",\"type\":\"scatter\"},{\"hovertemplate\":\"Major=GEOSCIENCES\\u003cbr\\u003eProportion of Women=%{x}\\u003cbr\\u003eMedian Income=%{y}\\u003cextra\\u003e\\u003c\\u002fextra\\u003e\",\"legendgroup\":\"GEOSCIENCES\",\"marker\":{\"color\":\"#636efa\",\"symbol\":\"circle\"},\"mode\":\"markers\",\"name\":\"GEOSCIENCES\",\"orientation\":\"v\",\"showlegend\":true,\"x\":[0.591001011],\"xaxis\":\"x\",\"y\":[36000],\"yaxis\":\"y\",\"type\":\"scatter\"},{\"hovertemplate\":\"Major=SOCIAL PSYCHOLOGY\\u003cbr\\u003eProportion of Women=%{x}\\u003cbr\\u003eMedian Income=%{y}\\u003cextra\\u003e\\u003c\\u002fextra\\u003e\",\"legendgroup\":\"SOCIAL PSYCHOLOGY\",\"marker\":{\"color\":\"#EF553B\",\"symbol\":\"circle\"},\"mode\":\"markers\",\"name\":\"SOCIAL PSYCHOLOGY\",\"orientation\":\"v\",\"showlegend\":true,\"x\":[0.702020202],\"xaxis\":\"x\",\"y\":[36000],\"yaxis\":\"y\",\"type\":\"scatter\"},{\"hovertemplate\":\"Major=ENVIRONMENTAL SCIENCE\\u003cbr\\u003eProportion of Women=%{x}\\u003cbr\\u003eMedian Income=%{y}\\u003cextra\\u003e\\u003c\\u002fextra\\u003e\",\"legendgroup\":\"ENVIRONMENTAL SCIENCE\",\"marker\":{\"color\":\"#00cc96\",\"symbol\":\"circle\"},\"mode\":\"markers\",\"name\":\"ENVIRONMENTAL SCIENCE\",\"orientation\":\"v\",\"showlegend\":true,\"x\":[0.584556133],\"xaxis\":\"x\",\"y\":[35600],\"yaxis\":\"y\",\"type\":\"scatter\"},{\"hovertemplate\":\"Major=COMMUNICATIONS\\u003cbr\\u003eProportion of Women=%{x}\\u003cbr\\u003eMedian Income=%{y}\\u003cextra\\u003e\\u003c\\u002fextra\\u003e\",\"legendgroup\":\"COMMUNICATIONS\",\"marker\":{\"color\":\"#ab63fa\",\"symbol\":\"circle\"},\"mode\":\"markers\",\"name\":\"COMMUNICATIONS\",\"orientation\":\"v\",\"showlegend\":true,\"x\":[0.669998505],\"xaxis\":\"x\",\"y\":[35000],\"yaxis\":\"y\",\"type\":\"scatter\"},{\"hovertemplate\":\"Major=CRIMINAL JUSTICE AND FIRE PROTECTION\\u003cbr\\u003eProportion of Women=%{x}\\u003cbr\\u003eMedian Income=%{y}\\u003cextra\\u003e\\u003c\\u002fextra\\u003e\",\"legendgroup\":\"CRIMINAL JUSTICE AND FIRE PROTECTION\",\"marker\":{\"color\":\"#FFA15A\",\"symbol\":\"circle\"},\"mode\":\"markers\",\"name\":\"CRIMINAL JUSTICE AND FIRE PROTECTION\",\"orientation\":\"v\",\"showlegend\":true,\"x\":[0.47501047],\"xaxis\":\"x\",\"y\":[35000],\"yaxis\":\"y\",\"type\":\"scatter\"},{\"hovertemplate\":\"Major=COMMERCIAL ART AND GRAPHIC DESIGN\\u003cbr\\u003eProportion of Women=%{x}\\u003cbr\\u003eMedian Income=%{y}\\u003cextra\\u003e\\u003c\\u002fextra\\u003e\",\"legendgroup\":\"COMMERCIAL ART AND GRAPHIC DESIGN\",\"marker\":{\"color\":\"#19d3f3\",\"symbol\":\"circle\"},\"mode\":\"markers\",\"name\":\"COMMERCIAL ART AND GRAPHIC DESIGN\",\"orientation\":\"v\",\"showlegend\":true,\"x\":[0.690365288],\"xaxis\":\"x\",\"y\":[35000],\"yaxis\":\"y\",\"type\":\"scatter\"},{\"hovertemplate\":\"Major=JOURNALISM\\u003cbr\\u003eProportion of Women=%{x}\\u003cbr\\u003eMedian Income=%{y}\\u003cextra\\u003e\\u003c\\u002fextra\\u003e\",\"legendgroup\":\"JOURNALISM\",\"marker\":{\"color\":\"#FF6692\",\"symbol\":\"circle\"},\"mode\":\"markers\",\"name\":\"JOURNALISM\",\"orientation\":\"v\",\"showlegend\":true,\"x\":[0.673143392],\"xaxis\":\"x\",\"y\":[35000],\"yaxis\":\"y\",\"type\":\"scatter\"},{\"hovertemplate\":\"Major=MULTI-DISCIPLINARY OR GENERAL SCIENCE\\u003cbr\\u003eProportion of Women=%{x}\\u003cbr\\u003eMedian Income=%{y}\\u003cextra\\u003e\\u003c\\u002fextra\\u003e\",\"legendgroup\":\"MULTI-DISCIPLINARY OR GENERAL SCIENCE\",\"marker\":{\"color\":\"#B6E880\",\"symbol\":\"circle\"},\"mode\":\"markers\",\"name\":\"MULTI-DISCIPLINARY OR GENERAL SCIENCE\",\"orientation\":\"v\",\"showlegend\":true,\"x\":[0.564639335],\"xaxis\":\"x\",\"y\":[35000],\"yaxis\":\"y\",\"type\":\"scatter\"},{\"hovertemplate\":\"Major=ADVERTISING AND PUBLIC RELATIONS\\u003cbr\\u003eProportion of Women=%{x}\\u003cbr\\u003eMedian Income=%{y}\\u003cextra\\u003e\\u003c\\u002fextra\\u003e\",\"legendgroup\":\"ADVERTISING AND PUBLIC RELATIONS\",\"marker\":{\"color\":\"#FF97FF\",\"symbol\":\"circle\"},\"mode\":\"markers\",\"name\":\"ADVERTISING AND PUBLIC RELATIONS\",\"orientation\":\"v\",\"showlegend\":true,\"x\":[0.758060269],\"xaxis\":\"x\",\"y\":[35000],\"yaxis\":\"y\",\"type\":\"scatter\"},{\"hovertemplate\":\"Major=AREA ETHNIC AND CIVILIZATION STUDIES\\u003cbr\\u003eProportion of Women=%{x}\\u003cbr\\u003eMedian Income=%{y}\\u003cextra\\u003e\\u003c\\u002fextra\\u003e\",\"legendgroup\":\"AREA ETHNIC AND CIVILIZATION STUDIES\",\"marker\":{\"color\":\"#FECB52\",\"symbol\":\"circle\"},\"mode\":\"markers\",\"name\":\"AREA ETHNIC AND CIVILIZATION STUDIES\",\"orientation\":\"v\",\"showlegend\":true,\"x\":[0.719858952],\"xaxis\":\"x\",\"y\":[35000],\"yaxis\":\"y\",\"type\":\"scatter\"},{\"hovertemplate\":\"Major=SPECIAL NEEDS EDUCATION\\u003cbr\\u003eProportion of Women=%{x}\\u003cbr\\u003eMedian Income=%{y}\\u003cextra\\u003e\\u003c\\u002fextra\\u003e\",\"legendgroup\":\"SPECIAL NEEDS EDUCATION\",\"marker\":{\"color\":\"#636efa\",\"symbol\":\"circle\"},\"mode\":\"markers\",\"name\":\"SPECIAL NEEDS EDUCATION\",\"orientation\":\"v\",\"showlegend\":true,\"x\":[0.906677337],\"xaxis\":\"x\",\"y\":[35000],\"yaxis\":\"y\",\"type\":\"scatter\"},{\"hovertemplate\":\"Major=PHYSIOLOGY\\u003cbr\\u003eProportion of Women=%{x}\\u003cbr\\u003eMedian Income=%{y}\\u003cextra\\u003e\\u003c\\u002fextra\\u003e\",\"legendgroup\":\"PHYSIOLOGY\",\"marker\":{\"color\":\"#EF553B\",\"symbol\":\"circle\"},\"mode\":\"markers\",\"name\":\"PHYSIOLOGY\",\"orientation\":\"v\",\"showlegend\":true,\"x\":[0.618223028],\"xaxis\":\"x\",\"y\":[35000],\"yaxis\":\"y\",\"type\":\"scatter\"},{\"hovertemplate\":\"Major=CRIMINOLOGY\\u003cbr\\u003eProportion of Women=%{x}\\u003cbr\\u003eMedian Income=%{y}\\u003cextra\\u003e\\u003c\\u002fextra\\u003e\",\"legendgroup\":\"CRIMINOLOGY\",\"marker\":{\"color\":\"#00cc96\",\"symbol\":\"circle\"},\"mode\":\"markers\",\"name\":\"CRIMINOLOGY\",\"orientation\":\"v\",\"showlegend\":true,\"x\":[0.495397153],\"xaxis\":\"x\",\"y\":[35000],\"yaxis\":\"y\",\"type\":\"scatter\"},{\"hovertemplate\":\"Major=NUTRITION SCIENCES\\u003cbr\\u003eProportion of Women=%{x}\\u003cbr\\u003eMedian Income=%{y}\\u003cextra\\u003e\\u003c\\u002fextra\\u003e\",\"legendgroup\":\"NUTRITION SCIENCES\",\"marker\":{\"color\":\"#ab63fa\",\"symbol\":\"circle\"},\"mode\":\"markers\",\"name\":\"NUTRITION SCIENCES\",\"orientation\":\"v\",\"showlegend\":true,\"x\":[0.864456079],\"xaxis\":\"x\",\"y\":[35000],\"yaxis\":\"y\",\"type\":\"scatter\"},{\"hovertemplate\":\"Major=HEALTH AND MEDICAL ADMINISTRATIVE SERVICES\\u003cbr\\u003eProportion of Women=%{x}\\u003cbr\\u003eMedian Income=%{y}\\u003cextra\\u003e\\u003c\\u002fextra\\u003e\",\"legendgroup\":\"HEALTH AND MEDICAL ADMINISTRATIVE SERVICES\",\"marker\":{\"color\":\"#FFA15A\",\"symbol\":\"circle\"},\"mode\":\"markers\",\"name\":\"HEALTH AND MEDICAL ADMINISTRATIVE SERVICES\",\"orientation\":\"v\",\"showlegend\":true,\"x\":[0.764426528],\"xaxis\":\"x\",\"y\":[35000],\"yaxis\":\"y\",\"type\":\"scatter\"},{\"hovertemplate\":\"Major=COMMUNICATION TECHNOLOGIES\\u003cbr\\u003eProportion of Women=%{x}\\u003cbr\\u003eMedian Income=%{y}\\u003cextra\\u003e\\u003c\\u002fextra\\u003e\",\"legendgroup\":\"COMMUNICATION TECHNOLOGIES\",\"marker\":{\"color\":\"#19d3f3\",\"symbol\":\"circle\"},\"mode\":\"markers\",\"name\":\"COMMUNICATION TECHNOLOGIES\",\"orientation\":\"v\",\"showlegend\":true,\"x\":[0.366176878],\"xaxis\":\"x\",\"y\":[35000],\"yaxis\":\"y\",\"type\":\"scatter\"},{\"hovertemplate\":\"Major=TRANSPORTATION SCIENCES AND TECHNOLOGIES\\u003cbr\\u003eProportion of Women=%{x}\\u003cbr\\u003eMedian Income=%{y}\\u003cextra\\u003e\\u003c\\u002fextra\\u003e\",\"legendgroup\":\"TRANSPORTATION SCIENCES AND TECHNOLOGIES\",\"marker\":{\"color\":\"#FF6692\",\"symbol\":\"circle\"},\"mode\":\"markers\",\"name\":\"TRANSPORTATION SCIENCES AND TECHNOLOGIES\",\"orientation\":\"v\",\"showlegend\":true,\"x\":[0.124950495],\"xaxis\":\"x\",\"y\":[35000],\"yaxis\":\"y\",\"type\":\"scatter\"},{\"hovertemplate\":\"Major=NATURAL RESOURCES MANAGEMENT\\u003cbr\\u003eProportion of Women=%{x}\\u003cbr\\u003eMedian Income=%{y}\\u003cextra\\u003e\\u003c\\u002fextra\\u003e\",\"legendgroup\":\"NATURAL RESOURCES MANAGEMENT\",\"marker\":{\"color\":\"#B6E880\",\"symbol\":\"circle\"},\"mode\":\"markers\",\"name\":\"NATURAL RESOURCES MANAGEMENT\",\"orientation\":\"v\",\"showlegend\":true,\"x\":[0.374355623],\"xaxis\":\"x\",\"y\":[35000],\"yaxis\":\"y\",\"type\":\"scatter\"},{\"hovertemplate\":\"Major=NEUROSCIENCE\\u003cbr\\u003eProportion of Women=%{x}\\u003cbr\\u003eMedian Income=%{y}\\u003cextra\\u003e\\u003c\\u002fextra\\u003e\",\"legendgroup\":\"NEUROSCIENCE\",\"marker\":{\"color\":\"#FF97FF\",\"symbol\":\"circle\"},\"mode\":\"markers\",\"name\":\"NEUROSCIENCE\",\"orientation\":\"v\",\"showlegend\":true,\"x\":[0.63814682],\"xaxis\":\"x\",\"y\":[35000],\"yaxis\":\"y\",\"type\":\"scatter\"},{\"hovertemplate\":\"Major=MULTI\\u002fINTERDISCIPLINARY STUDIES\\u003cbr\\u003eProportion of Women=%{x}\\u003cbr\\u003eMedian Income=%{y}\\u003cextra\\u003e\\u003c\\u002fextra\\u003e\",\"legendgroup\":\"MULTI\\u002fINTERDISCIPLINARY STUDIES\",\"marker\":{\"color\":\"#FECB52\",\"symbol\":\"circle\"},\"mode\":\"markers\",\"name\":\"MULTI\\u002fINTERDISCIPLINARY STUDIES\",\"orientation\":\"v\",\"showlegend\":true,\"x\":[0.770901106],\"xaxis\":\"x\",\"y\":[35000],\"yaxis\":\"y\",\"type\":\"scatter\"},{\"hovertemplate\":\"Major=ATMOSPHERIC SCIENCES AND METEOROLOGY\\u003cbr\\u003eProportion of Women=%{x}\\u003cbr\\u003eMedian Income=%{y}\\u003cextra\\u003e\\u003c\\u002fextra\\u003e\",\"legendgroup\":\"ATMOSPHERIC SCIENCES AND METEOROLOGY\",\"marker\":{\"color\":\"#636efa\",\"symbol\":\"circle\"},\"mode\":\"markers\",\"name\":\"ATMOSPHERIC SCIENCES AND METEOROLOGY\",\"orientation\":\"v\",\"showlegend\":true,\"x\":[0.321296067],\"xaxis\":\"x\",\"y\":[35000],\"yaxis\":\"y\",\"type\":\"scatter\"},{\"hovertemplate\":\"Major=FORESTRY\\u003cbr\\u003eProportion of Women=%{x}\\u003cbr\\u003eMedian Income=%{y}\\u003cextra\\u003e\\u003c\\u002fextra\\u003e\",\"legendgroup\":\"FORESTRY\",\"marker\":{\"color\":\"#EF553B\",\"symbol\":\"circle\"},\"mode\":\"markers\",\"name\":\"FORESTRY\",\"orientation\":\"v\",\"showlegend\":true,\"x\":[0.125034655],\"xaxis\":\"x\",\"y\":[35000],\"yaxis\":\"y\",\"type\":\"scatter\"},{\"hovertemplate\":\"Major=SOIL SCIENCE\\u003cbr\\u003eProportion of Women=%{x}\\u003cbr\\u003eMedian Income=%{y}\\u003cextra\\u003e\\u003c\\u002fextra\\u003e\",\"legendgroup\":\"SOIL SCIENCE\",\"marker\":{\"color\":\"#00cc96\",\"symbol\":\"circle\"},\"mode\":\"markers\",\"name\":\"SOIL SCIENCE\",\"orientation\":\"v\",\"showlegend\":true,\"x\":[0.305109489],\"xaxis\":\"x\",\"y\":[35000],\"yaxis\":\"y\",\"type\":\"scatter\"},{\"hovertemplate\":\"Major=GENERAL EDUCATION\\u003cbr\\u003eProportion of Women=%{x}\\u003cbr\\u003eMedian Income=%{y}\\u003cextra\\u003e\\u003c\\u002fextra\\u003e\",\"legendgroup\":\"GENERAL EDUCATION\",\"marker\":{\"color\":\"#ab63fa\",\"symbol\":\"circle\"},\"mode\":\"markers\",\"name\":\"GENERAL EDUCATION\",\"orientation\":\"v\",\"showlegend\":true,\"x\":[0.812876606],\"xaxis\":\"x\",\"y\":[34000],\"yaxis\":\"y\",\"type\":\"scatter\"},{\"hovertemplate\":\"Major=HISTORY\\u003cbr\\u003eProportion of Women=%{x}\\u003cbr\\u003eMedian Income=%{y}\\u003cextra\\u003e\\u003c\\u002fextra\\u003e\",\"legendgroup\":\"HISTORY\",\"marker\":{\"color\":\"#FFA15A\",\"symbol\":\"circle\"},\"mode\":\"markers\",\"name\":\"HISTORY\",\"orientation\":\"v\",\"showlegend\":true,\"x\":[0.448732309],\"xaxis\":\"x\",\"y\":[34000],\"yaxis\":\"y\",\"type\":\"scatter\"},{\"hovertemplate\":\"Major=FRENCH GERMAN LATIN AND OTHER COMMON FOREIGN LANGUAGE STUDIES\\u003cbr\\u003eProportion of Women=%{x}\\u003cbr\\u003eMedian Income=%{y}\\u003cextra\\u003e\\u003c\\u002fextra\\u003e\",\"legendgroup\":\"FRENCH GERMAN LATIN AND OTHER COMMON FOREIGN LANGUAGE STUDIES\",\"marker\":{\"color\":\"#19d3f3\",\"symbol\":\"circle\"},\"mode\":\"markers\",\"name\":\"FRENCH GERMAN LATIN AND OTHER COMMON FOREIGN LANGUAGE STUDIES\",\"orientation\":\"v\",\"showlegend\":true,\"x\":[0.733967583],\"xaxis\":\"x\",\"y\":[34000],\"yaxis\":\"y\",\"type\":\"scatter\"},{\"hovertemplate\":\"Major=INTERCULTURAL AND INTERNATIONAL STUDIES\\u003cbr\\u003eProportion of Women=%{x}\\u003cbr\\u003eMedian Income=%{y}\\u003cextra\\u003e\\u003c\\u002fextra\\u003e\",\"legendgroup\":\"INTERCULTURAL AND INTERNATIONAL STUDIES\",\"marker\":{\"color\":\"#FF6692\",\"symbol\":\"circle\"},\"mode\":\"markers\",\"name\":\"INTERCULTURAL AND INTERNATIONAL STUDIES\",\"orientation\":\"v\",\"showlegend\":true,\"x\":[0.652129817],\"xaxis\":\"x\",\"y\":[34000],\"yaxis\":\"y\",\"type\":\"scatter\"},{\"hovertemplate\":\"Major=SOCIAL SCIENCE OR HISTORY TEACHER EDUCATION\\u003cbr\\u003eProportion of Women=%{x}\\u003cbr\\u003eMedian Income=%{y}\\u003cextra\\u003e\\u003c\\u002fextra\\u003e\",\"legendgroup\":\"SOCIAL SCIENCE OR HISTORY TEACHER EDUCATION\",\"marker\":{\"color\":\"#B6E880\",\"symbol\":\"circle\"},\"mode\":\"markers\",\"name\":\"SOCIAL SCIENCE OR HISTORY TEACHER EDUCATION\",\"orientation\":\"v\",\"showlegend\":true,\"x\":[0.507376968],\"xaxis\":\"x\",\"y\":[34000],\"yaxis\":\"y\",\"type\":\"scatter\"},{\"hovertemplate\":\"Major=COMMUNITY AND PUBLIC HEALTH\\u003cbr\\u003eProportion of Women=%{x}\\u003cbr\\u003eMedian Income=%{y}\\u003cextra\\u003e\\u003c\\u002fextra\\u003e\",\"legendgroup\":\"COMMUNITY AND PUBLIC HEALTH\",\"marker\":{\"color\":\"#FF97FF\",\"symbol\":\"circle\"},\"mode\":\"markers\",\"name\":\"COMMUNITY AND PUBLIC HEALTH\",\"orientation\":\"v\",\"showlegend\":true,\"x\":[0.792095262],\"xaxis\":\"x\",\"y\":[34000],\"yaxis\":\"y\",\"type\":\"scatter\"},{\"hovertemplate\":\"Major=MATHEMATICS TEACHER EDUCATION\\u003cbr\\u003eProportion of Women=%{x}\\u003cbr\\u003eMedian Income=%{y}\\u003cextra\\u003e\\u003c\\u002fextra\\u003e\",\"legendgroup\":\"MATHEMATICS TEACHER EDUCATION\",\"marker\":{\"color\":\"#FECB52\",\"symbol\":\"circle\"},\"mode\":\"markers\",\"name\":\"MATHEMATICS TEACHER EDUCATION\",\"orientation\":\"v\",\"showlegend\":true,\"x\":[0.728032591],\"xaxis\":\"x\",\"y\":[34000],\"yaxis\":\"y\",\"type\":\"scatter\"},{\"hovertemplate\":\"Major=EDUCATIONAL ADMINISTRATION AND SUPERVISION\\u003cbr\\u003eProportion of Women=%{x}\\u003cbr\\u003eMedian Income=%{y}\\u003cextra\\u003e\\u003c\\u002fextra\\u003e\",\"legendgroup\":\"EDUCATIONAL ADMINISTRATION AND SUPERVISION\",\"marker\":{\"color\":\"#636efa\",\"symbol\":\"circle\"},\"mode\":\"markers\",\"name\":\"EDUCATIONAL ADMINISTRATION AND SUPERVISION\",\"orientation\":\"v\",\"showlegend\":true,\"x\":[0.651741294],\"xaxis\":\"x\",\"y\":[34000],\"yaxis\":\"y\",\"type\":\"scatter\"},{\"hovertemplate\":\"Major=HEALTH AND MEDICAL PREPARATORY PROGRAMS\\u003cbr\\u003eProportion of Women=%{x}\\u003cbr\\u003eMedian Income=%{y}\\u003cextra\\u003e\\u003c\\u002fextra\\u003e\",\"legendgroup\":\"HEALTH AND MEDICAL PREPARATORY PROGRAMS\",\"marker\":{\"color\":\"#EF553B\",\"symbol\":\"circle\"},\"mode\":\"markers\",\"name\":\"HEALTH AND MEDICAL PREPARATORY PROGRAMS\",\"orientation\":\"v\",\"showlegend\":true,\"x\":[0.566640502],\"xaxis\":\"x\",\"y\":[33500],\"yaxis\":\"y\",\"type\":\"scatter\"},{\"hovertemplate\":\"Major=MISCELLANEOUS BIOLOGY\\u003cbr\\u003eProportion of Women=%{x}\\u003cbr\\u003eMedian Income=%{y}\\u003cextra\\u003e\\u003c\\u002fextra\\u003e\",\"legendgroup\":\"MISCELLANEOUS BIOLOGY\",\"marker\":{\"color\":\"#00cc96\",\"symbol\":\"circle\"},\"mode\":\"markers\",\"name\":\"MISCELLANEOUS BIOLOGY\",\"orientation\":\"v\",\"showlegend\":true,\"x\":[0.556603774],\"xaxis\":\"x\",\"y\":[33500],\"yaxis\":\"y\",\"type\":\"scatter\"},{\"hovertemplate\":\"Major=BIOLOGY\\u003cbr\\u003eProportion of Women=%{x}\\u003cbr\\u003eMedian Income=%{y}\\u003cextra\\u003e\\u003c\\u002fextra\\u003e\",\"legendgroup\":\"BIOLOGY\",\"marker\":{\"color\":\"#ab63fa\",\"symbol\":\"circle\"},\"mode\":\"markers\",\"name\":\"BIOLOGY\",\"orientation\":\"v\",\"showlegend\":true,\"x\":[0.601858152],\"xaxis\":\"x\",\"y\":[33400],\"yaxis\":\"y\",\"type\":\"scatter\"},{\"hovertemplate\":\"Major=SOCIOLOGY\\u003cbr\\u003eProportion of Women=%{x}\\u003cbr\\u003eMedian Income=%{y}\\u003cextra\\u003e\\u003c\\u002fextra\\u003e\",\"legendgroup\":\"SOCIOLOGY\",\"marker\":{\"color\":\"#FFA15A\",\"symbol\":\"circle\"},\"mode\":\"markers\",\"name\":\"SOCIOLOGY\",\"orientation\":\"v\",\"showlegend\":true,\"x\":[0.718364766],\"xaxis\":\"x\",\"y\":[33000],\"yaxis\":\"y\",\"type\":\"scatter\"},{\"hovertemplate\":\"Major=MASS MEDIA\\u003cbr\\u003eProportion of Women=%{x}\\u003cbr\\u003eMedian Income=%{y}\\u003cextra\\u003e\\u003c\\u002fextra\\u003e\",\"legendgroup\":\"MASS MEDIA\",\"marker\":{\"color\":\"#19d3f3\",\"symbol\":\"circle\"},\"mode\":\"markers\",\"name\":\"MASS MEDIA\",\"orientation\":\"v\",\"showlegend\":true,\"x\":[0.532333788],\"xaxis\":\"x\",\"y\":[33000],\"yaxis\":\"y\",\"type\":\"scatter\"},{\"hovertemplate\":\"Major=TREATMENT THERAPY PROFESSIONS\\u003cbr\\u003eProportion of Women=%{x}\\u003cbr\\u003eMedian Income=%{y}\\u003cextra\\u003e\\u003c\\u002fextra\\u003e\",\"legendgroup\":\"TREATMENT THERAPY PROFESSIONS\",\"marker\":{\"color\":\"#FF6692\",\"symbol\":\"circle\"},\"mode\":\"markers\",\"name\":\"TREATMENT THERAPY PROFESSIONS\",\"orientation\":\"v\",\"showlegend\":true,\"x\":[0.721865913],\"xaxis\":\"x\",\"y\":[33000],\"yaxis\":\"y\",\"type\":\"scatter\"},{\"hovertemplate\":\"Major=HOSPITALITY MANAGEMENT\\u003cbr\\u003eProportion of Women=%{x}\\u003cbr\\u003eMedian Income=%{y}\\u003cextra\\u003e\\u003c\\u002fextra\\u003e\",\"legendgroup\":\"HOSPITALITY MANAGEMENT\",\"marker\":{\"color\":\"#B6E880\",\"symbol\":\"circle\"},\"mode\":\"markers\",\"name\":\"HOSPITALITY MANAGEMENT\",\"orientation\":\"v\",\"showlegend\":true,\"x\":[0.651659908],\"xaxis\":\"x\",\"y\":[33000],\"yaxis\":\"y\",\"type\":\"scatter\"},{\"hovertemplate\":\"Major=LANGUAGE AND DRAMA EDUCATION\\u003cbr\\u003eProportion of Women=%{x}\\u003cbr\\u003eMedian Income=%{y}\\u003cextra\\u003e\\u003c\\u002fextra\\u003e\",\"legendgroup\":\"LANGUAGE AND DRAMA EDUCATION\",\"marker\":{\"color\":\"#FF97FF\",\"symbol\":\"circle\"},\"mode\":\"markers\",\"name\":\"LANGUAGE AND DRAMA EDUCATION\",\"orientation\":\"v\",\"showlegend\":true,\"x\":[0.877227528],\"xaxis\":\"x\",\"y\":[33000],\"yaxis\":\"y\",\"type\":\"scatter\"},{\"hovertemplate\":\"Major=LINGUISTICS AND COMPARATIVE LANGUAGE AND LITERATURE\\u003cbr\\u003eProportion of Women=%{x}\\u003cbr\\u003eMedian Income=%{y}\\u003cextra\\u003e\\u003c\\u002fextra\\u003e\",\"legendgroup\":\"LINGUISTICS AND COMPARATIVE LANGUAGE AND LITERATURE\",\"marker\":{\"color\":\"#FECB52\",\"symbol\":\"circle\"},\"mode\":\"markers\",\"name\":\"LINGUISTICS AND COMPARATIVE LANGUAGE AND LITERATURE\",\"orientation\":\"v\",\"showlegend\":true,\"x\":[0.733991928],\"xaxis\":\"x\",\"y\":[33000],\"yaxis\":\"y\",\"type\":\"scatter\"},{\"hovertemplate\":\"Major=MISCELLANEOUS EDUCATION\\u003cbr\\u003eProportion of Women=%{x}\\u003cbr\\u003eMedian Income=%{y}\\u003cextra\\u003e\\u003c\\u002fextra\\u003e\",\"legendgroup\":\"MISCELLANEOUS EDUCATION\",\"marker\":{\"color\":\"#636efa\",\"symbol\":\"circle\"},\"mode\":\"markers\",\"name\":\"MISCELLANEOUS EDUCATION\",\"orientation\":\"v\",\"showlegend\":true,\"x\":[0.64],\"xaxis\":\"x\",\"y\":[33000],\"yaxis\":\"y\",\"type\":\"scatter\"},{\"hovertemplate\":\"Major=INTERDISCIPLINARY SOCIAL SCIENCES\\u003cbr\\u003eProportion of Women=%{x}\\u003cbr\\u003eMedian Income=%{y}\\u003cextra\\u003e\\u003c\\u002fextra\\u003e\",\"legendgroup\":\"INTERDISCIPLINARY SOCIAL SCIENCES\",\"marker\":{\"color\":\"#EF553B\",\"symbol\":\"circle\"},\"mode\":\"markers\",\"name\":\"INTERDISCIPLINARY SOCIAL SCIENCES\",\"orientation\":\"v\",\"showlegend\":true,\"x\":[0.76432029],\"xaxis\":\"x\",\"y\":[33000],\"yaxis\":\"y\",\"type\":\"scatter\"},{\"hovertemplate\":\"Major=ECOLOGY\\u003cbr\\u003eProportion of Women=%{x}\\u003cbr\\u003eMedian Income=%{y}\\u003cextra\\u003e\\u003c\\u002fextra\\u003e\",\"legendgroup\":\"ECOLOGY\",\"marker\":{\"color\":\"#00cc96\",\"symbol\":\"circle\"},\"mode\":\"markers\",\"name\":\"ECOLOGY\",\"orientation\":\"v\",\"showlegend\":true,\"x\":[0.576360061],\"xaxis\":\"x\",\"y\":[33000],\"yaxis\":\"y\",\"type\":\"scatter\"},{\"hovertemplate\":\"Major=SECONDARY TEACHER EDUCATION\\u003cbr\\u003eProportion of Women=%{x}\\u003cbr\\u003eMedian Income=%{y}\\u003cextra\\u003e\\u003c\\u002fextra\\u003e\",\"legendgroup\":\"SECONDARY TEACHER EDUCATION\",\"marker\":{\"color\":\"#ab63fa\",\"symbol\":\"circle\"},\"mode\":\"markers\",\"name\":\"SECONDARY TEACHER EDUCATION\",\"orientation\":\"v\",\"showlegend\":true,\"x\":[0.601751825],\"xaxis\":\"x\",\"y\":[32500],\"yaxis\":\"y\",\"type\":\"scatter\"},{\"hovertemplate\":\"Major=GENERAL MEDICAL AND HEALTH SERVICES\\u003cbr\\u003eProportion of Women=%{x}\\u003cbr\\u003eMedian Income=%{y}\\u003cextra\\u003e\\u003c\\u002fextra\\u003e\",\"legendgroup\":\"GENERAL MEDICAL AND HEALTH SERVICES\",\"marker\":{\"color\":\"#FFA15A\",\"symbol\":\"circle\"},\"mode\":\"markers\",\"name\":\"GENERAL MEDICAL AND HEALTH SERVICES\",\"orientation\":\"v\",\"showlegend\":true,\"x\":[0.774576624],\"xaxis\":\"x\",\"y\":[32400],\"yaxis\":\"y\",\"type\":\"scatter\"},{\"hovertemplate\":\"Major=PHILOSOPHY AND RELIGIOUS STUDIES\\u003cbr\\u003eProportion of Women=%{x}\\u003cbr\\u003eMedian Income=%{y}\\u003cextra\\u003e\\u003c\\u002fextra\\u003e\",\"legendgroup\":\"PHILOSOPHY AND RELIGIOUS STUDIES\",\"marker\":{\"color\":\"#19d3f3\",\"symbol\":\"circle\"},\"mode\":\"markers\",\"name\":\"PHILOSOPHY AND RELIGIOUS STUDIES\",\"orientation\":\"v\",\"showlegend\":true,\"x\":[0.416809574],\"xaxis\":\"x\",\"y\":[32200],\"yaxis\":\"y\",\"type\":\"scatter\"},{\"hovertemplate\":\"Major=ART AND MUSIC EDUCATION\\u003cbr\\u003eProportion of Women=%{x}\\u003cbr\\u003eMedian Income=%{y}\\u003cextra\\u003e\\u003c\\u002fextra\\u003e\",\"legendgroup\":\"ART AND MUSIC EDUCATION\",\"marker\":{\"color\":\"#FF6692\",\"symbol\":\"circle\"},\"mode\":\"markers\",\"name\":\"ART AND MUSIC EDUCATION\",\"orientation\":\"v\",\"showlegend\":true,\"x\":[0.6860244],\"xaxis\":\"x\",\"y\":[32100],\"yaxis\":\"y\",\"type\":\"scatter\"},{\"hovertemplate\":\"Major=ENGLISH LANGUAGE AND LITERATURE\\u003cbr\\u003eProportion of Women=%{x}\\u003cbr\\u003eMedian Income=%{y}\\u003cextra\\u003e\\u003c\\u002fextra\\u003e\",\"legendgroup\":\"ENGLISH LANGUAGE AND LITERATURE\",\"marker\":{\"color\":\"#B6E880\",\"symbol\":\"circle\"},\"mode\":\"markers\",\"name\":\"ENGLISH LANGUAGE AND LITERATURE\",\"orientation\":\"v\",\"showlegend\":true,\"x\":[0.70089843],\"xaxis\":\"x\",\"y\":[32000],\"yaxis\":\"y\",\"type\":\"scatter\"},{\"hovertemplate\":\"Major=ELEMENTARY EDUCATION\\u003cbr\\u003eProportion of Women=%{x}\\u003cbr\\u003eMedian Income=%{y}\\u003cextra\\u003e\\u003c\\u002fextra\\u003e\",\"legendgroup\":\"ELEMENTARY EDUCATION\",\"marker\":{\"color\":\"#FF97FF\",\"symbol\":\"circle\"},\"mode\":\"markers\",\"name\":\"ELEMENTARY EDUCATION\",\"orientation\":\"v\",\"showlegend\":true,\"x\":[0.923745479],\"xaxis\":\"x\",\"y\":[32000],\"yaxis\":\"y\",\"type\":\"scatter\"},{\"hovertemplate\":\"Major=PHYSICAL FITNESS PARKS RECREATION AND LEISURE\\u003cbr\\u003eProportion of Women=%{x}\\u003cbr\\u003eMedian Income=%{y}\\u003cextra\\u003e\\u003c\\u002fextra\\u003e\",\"legendgroup\":\"PHYSICAL FITNESS PARKS RECREATION AND LEISURE\",\"marker\":{\"color\":\"#FECB52\",\"symbol\":\"circle\"},\"mode\":\"markers\",\"name\":\"PHYSICAL FITNESS PARKS RECREATION AND LEISURE\",\"orientation\":\"v\",\"showlegend\":true,\"x\":[0.502846315],\"xaxis\":\"x\",\"y\":[32000],\"yaxis\":\"y\",\"type\":\"scatter\"},{\"hovertemplate\":\"Major=LIBERAL ARTS\\u003cbr\\u003eProportion of Women=%{x}\\u003cbr\\u003eMedian Income=%{y}\\u003cextra\\u003e\\u003c\\u002fextra\\u003e\",\"legendgroup\":\"LIBERAL ARTS\",\"marker\":{\"color\":\"#636efa\",\"symbol\":\"circle\"},\"mode\":\"markers\",\"name\":\"LIBERAL ARTS\",\"orientation\":\"v\",\"showlegend\":true,\"x\":[0.686992952],\"xaxis\":\"x\",\"y\":[32000],\"yaxis\":\"y\",\"type\":\"scatter\"},{\"hovertemplate\":\"Major=FILM VIDEO AND PHOTOGRAPHIC ARTS\\u003cbr\\u003eProportion of Women=%{x}\\u003cbr\\u003eMedian Income=%{y}\\u003cextra\\u003e\\u003c\\u002fextra\\u003e\",\"legendgroup\":\"FILM VIDEO AND PHOTOGRAPHIC ARTS\",\"marker\":{\"color\":\"#EF553B\",\"symbol\":\"circle\"},\"mode\":\"markers\",\"name\":\"FILM VIDEO AND PHOTOGRAPHIC ARTS\",\"orientation\":\"v\",\"showlegend\":true,\"x\":[0.423208896],\"xaxis\":\"x\",\"y\":[32000],\"yaxis\":\"y\",\"type\":\"scatter\"},{\"hovertemplate\":\"Major=GENERAL SOCIAL SCIENCES\\u003cbr\\u003eProportion of Women=%{x}\\u003cbr\\u003eMedian Income=%{y}\\u003cextra\\u003e\\u003c\\u002fextra\\u003e\",\"legendgroup\":\"GENERAL SOCIAL SCIENCES\",\"marker\":{\"color\":\"#00cc96\",\"symbol\":\"circle\"},\"mode\":\"markers\",\"name\":\"GENERAL SOCIAL SCIENCES\",\"orientation\":\"v\",\"showlegend\":true,\"x\":[0.606888545],\"xaxis\":\"x\",\"y\":[32000],\"yaxis\":\"y\",\"type\":\"scatter\"},{\"hovertemplate\":\"Major=PLANT SCIENCE AND AGRONOMY\\u003cbr\\u003eProportion of Women=%{x}\\u003cbr\\u003eMedian Income=%{y}\\u003cextra\\u003e\\u003c\\u002fextra\\u003e\",\"legendgroup\":\"PLANT SCIENCE AND AGRONOMY\",\"marker\":{\"color\":\"#ab63fa\",\"symbol\":\"circle\"},\"mode\":\"markers\",\"name\":\"PLANT SCIENCE AND AGRONOMY\",\"orientation\":\"v\",\"showlegend\":true,\"x\":[0.339670982],\"xaxis\":\"x\",\"y\":[32000],\"yaxis\":\"y\",\"type\":\"scatter\"},{\"hovertemplate\":\"Major=SCIENCE AND COMPUTER TEACHER EDUCATION\\u003cbr\\u003eProportion of Women=%{x}\\u003cbr\\u003eMedian Income=%{y}\\u003cextra\\u003e\\u003c\\u002fextra\\u003e\",\"legendgroup\":\"SCIENCE AND COMPUTER TEACHER EDUCATION\",\"marker\":{\"color\":\"#FFA15A\",\"symbol\":\"circle\"},\"mode\":\"markers\",\"name\":\"SCIENCE AND COMPUTER TEACHER EDUCATION\",\"orientation\":\"v\",\"showlegend\":true,\"x\":[0.683942619],\"xaxis\":\"x\",\"y\":[32000],\"yaxis\":\"y\",\"type\":\"scatter\"},{\"hovertemplate\":\"Major=PSYCHOLOGY\\u003cbr\\u003eProportion of Women=%{x}\\u003cbr\\u003eMedian Income=%{y}\\u003cextra\\u003e\\u003c\\u002fextra\\u003e\",\"legendgroup\":\"PSYCHOLOGY\",\"marker\":{\"color\":\"#19d3f3\",\"symbol\":\"circle\"},\"mode\":\"markers\",\"name\":\"PSYCHOLOGY\",\"orientation\":\"v\",\"showlegend\":true,\"x\":[0.779933204],\"xaxis\":\"x\",\"y\":[31500],\"yaxis\":\"y\",\"type\":\"scatter\"},{\"hovertemplate\":\"Major=MUSIC\\u003cbr\\u003eProportion of Women=%{x}\\u003cbr\\u003eMedian Income=%{y}\\u003cextra\\u003e\\u003c\\u002fextra\\u003e\",\"legendgroup\":\"MUSIC\",\"marker\":{\"color\":\"#FF6692\",\"symbol\":\"circle\"},\"mode\":\"markers\",\"name\":\"MUSIC\",\"orientation\":\"v\",\"showlegend\":true,\"x\":[0.506720763],\"xaxis\":\"x\",\"y\":[31000],\"yaxis\":\"y\",\"type\":\"scatter\"},{\"hovertemplate\":\"Major=PHYSICAL AND HEALTH EDUCATION TEACHING\\u003cbr\\u003eProportion of Women=%{x}\\u003cbr\\u003eMedian Income=%{y}\\u003cextra\\u003e\\u003c\\u002fextra\\u003e\",\"legendgroup\":\"PHYSICAL AND HEALTH EDUCATION TEACHING\",\"marker\":{\"color\":\"#B6E880\",\"symbol\":\"circle\"},\"mode\":\"markers\",\"name\":\"PHYSICAL AND HEALTH EDUCATION TEACHING\",\"orientation\":\"v\",\"showlegend\":true,\"x\":[0.444582285],\"xaxis\":\"x\",\"y\":[31000],\"yaxis\":\"y\",\"type\":\"scatter\"},{\"hovertemplate\":\"Major=ART HISTORY AND CRITICISM\\u003cbr\\u003eProportion of Women=%{x}\\u003cbr\\u003eMedian Income=%{y}\\u003cextra\\u003e\\u003c\\u002fextra\\u003e\",\"legendgroup\":\"ART HISTORY AND CRITICISM\",\"marker\":{\"color\":\"#FF97FF\",\"symbol\":\"circle\"},\"mode\":\"markers\",\"name\":\"ART HISTORY AND CRITICISM\",\"orientation\":\"v\",\"showlegend\":true,\"x\":[0.845934379],\"xaxis\":\"x\",\"y\":[31000],\"yaxis\":\"y\",\"type\":\"scatter\"},{\"hovertemplate\":\"Major=FINE ARTS\\u003cbr\\u003eProportion of Women=%{x}\\u003cbr\\u003eMedian Income=%{y}\\u003cextra\\u003e\\u003c\\u002fextra\\u003e\",\"legendgroup\":\"FINE ARTS\",\"marker\":{\"color\":\"#FECB52\",\"symbol\":\"circle\"},\"mode\":\"markers\",\"name\":\"FINE ARTS\",\"orientation\":\"v\",\"showlegend\":true,\"x\":[0.667033853],\"xaxis\":\"x\",\"y\":[30500],\"yaxis\":\"y\",\"type\":\"scatter\"},{\"hovertemplate\":\"Major=FAMILY AND CONSUMER SCIENCES\\u003cbr\\u003eProportion of Women=%{x}\\u003cbr\\u003eMedian Income=%{y}\\u003cextra\\u003e\\u003c\\u002fextra\\u003e\",\"legendgroup\":\"FAMILY AND CONSUMER SCIENCES\",\"marker\":{\"color\":\"#636efa\",\"symbol\":\"circle\"},\"mode\":\"markers\",\"name\":\"FAMILY AND CONSUMER SCIENCES\",\"orientation\":\"v\",\"showlegend\":true,\"x\":[0.91093257],\"xaxis\":\"x\",\"y\":[30000],\"yaxis\":\"y\",\"type\":\"scatter\"},{\"hovertemplate\":\"Major=SOCIAL WORK\\u003cbr\\u003eProportion of Women=%{x}\\u003cbr\\u003eMedian Income=%{y}\\u003cextra\\u003e\\u003c\\u002fextra\\u003e\",\"legendgroup\":\"SOCIAL WORK\",\"marker\":{\"color\":\"#EF553B\",\"symbol\":\"circle\"},\"mode\":\"markers\",\"name\":\"SOCIAL WORK\",\"orientation\":\"v\",\"showlegend\":true,\"x\":[0.904074544],\"xaxis\":\"x\",\"y\":[30000],\"yaxis\":\"y\",\"type\":\"scatter\"},{\"hovertemplate\":\"Major=ANIMAL SCIENCES\\u003cbr\\u003eProportion of Women=%{x}\\u003cbr\\u003eMedian Income=%{y}\\u003cextra\\u003e\\u003c\\u002fextra\\u003e\",\"legendgroup\":\"ANIMAL SCIENCES\",\"marker\":{\"color\":\"#00cc96\",\"symbol\":\"circle\"},\"mode\":\"markers\",\"name\":\"ANIMAL SCIENCES\",\"orientation\":\"v\",\"showlegend\":true,\"x\":[0.752143884],\"xaxis\":\"x\",\"y\":[30000],\"yaxis\":\"y\",\"type\":\"scatter\"},{\"hovertemplate\":\"Major=VISUAL AND PERFORMING ARTS\\u003cbr\\u003eProportion of Women=%{x}\\u003cbr\\u003eMedian Income=%{y}\\u003cextra\\u003e\\u003c\\u002fextra\\u003e\",\"legendgroup\":\"VISUAL AND PERFORMING ARTS\",\"marker\":{\"color\":\"#ab63fa\",\"symbol\":\"circle\"},\"mode\":\"markers\",\"name\":\"VISUAL AND PERFORMING ARTS\",\"orientation\":\"v\",\"showlegend\":true,\"x\":[0.745661538],\"xaxis\":\"x\",\"y\":[30000],\"yaxis\":\"y\",\"type\":\"scatter\"},{\"hovertemplate\":\"Major=TEACHER EDUCATION: MULTIPLE LEVELS\\u003cbr\\u003eProportion of Women=%{x}\\u003cbr\\u003eMedian Income=%{y}\\u003cextra\\u003e\\u003c\\u002fextra\\u003e\",\"legendgroup\":\"TEACHER EDUCATION: MULTIPLE LEVELS\",\"marker\":{\"color\":\"#FFA15A\",\"symbol\":\"circle\"},\"mode\":\"markers\",\"name\":\"TEACHER EDUCATION: MULTIPLE LEVELS\",\"orientation\":\"v\",\"showlegend\":true,\"x\":[0.810704147],\"xaxis\":\"x\",\"y\":[30000],\"yaxis\":\"y\",\"type\":\"scatter\"},{\"hovertemplate\":\"Major=MISCELLANEOUS PSYCHOLOGY\\u003cbr\\u003eProportion of Women=%{x}\\u003cbr\\u003eMedian Income=%{y}\\u003cextra\\u003e\\u003c\\u002fextra\\u003e\",\"legendgroup\":\"MISCELLANEOUS PSYCHOLOGY\",\"marker\":{\"color\":\"#19d3f3\",\"symbol\":\"circle\"},\"mode\":\"markers\",\"name\":\"MISCELLANEOUS PSYCHOLOGY\",\"orientation\":\"v\",\"showlegend\":true,\"x\":[0.798919817],\"xaxis\":\"x\",\"y\":[30000],\"yaxis\":\"y\",\"type\":\"scatter\"},{\"hovertemplate\":\"Major=HUMAN SERVICES AND COMMUNITY ORGANIZATION\\u003cbr\\u003eProportion of Women=%{x}\\u003cbr\\u003eMedian Income=%{y}\\u003cextra\\u003e\\u003c\\u002fextra\\u003e\",\"legendgroup\":\"HUMAN SERVICES AND COMMUNITY ORGANIZATION\",\"marker\":{\"color\":\"#FF6692\",\"symbol\":\"circle\"},\"mode\":\"markers\",\"name\":\"HUMAN SERVICES AND COMMUNITY ORGANIZATION\",\"orientation\":\"v\",\"showlegend\":true,\"x\":[0.90558993],\"xaxis\":\"x\",\"y\":[30000],\"yaxis\":\"y\",\"type\":\"scatter\"},{\"hovertemplate\":\"Major=HUMANITIES\\u003cbr\\u003eProportion of Women=%{x}\\u003cbr\\u003eMedian Income=%{y}\\u003cextra\\u003e\\u003c\\u002fextra\\u003e\",\"legendgroup\":\"HUMANITIES\",\"marker\":{\"color\":\"#B6E880\",\"symbol\":\"circle\"},\"mode\":\"markers\",\"name\":\"HUMANITIES\",\"orientation\":\"v\",\"showlegend\":true,\"x\":[0.697384245],\"xaxis\":\"x\",\"y\":[30000],\"yaxis\":\"y\",\"type\":\"scatter\"},{\"hovertemplate\":\"Major=THEOLOGY AND RELIGIOUS VOCATIONS\\u003cbr\\u003eProportion of Women=%{x}\\u003cbr\\u003eMedian Income=%{y}\\u003cextra\\u003e\\u003c\\u002fextra\\u003e\",\"legendgroup\":\"THEOLOGY AND RELIGIOUS VOCATIONS\",\"marker\":{\"color\":\"#FF97FF\",\"symbol\":\"circle\"},\"mode\":\"markers\",\"name\":\"THEOLOGY AND RELIGIOUS VOCATIONS\",\"orientation\":\"v\",\"showlegend\":true,\"x\":[0.383719006],\"xaxis\":\"x\",\"y\":[29000],\"yaxis\":\"y\",\"type\":\"scatter\"},{\"hovertemplate\":\"Major=STUDIO ARTS\\u003cbr\\u003eProportion of Women=%{x}\\u003cbr\\u003eMedian Income=%{y}\\u003cextra\\u003e\\u003c\\u002fextra\\u003e\",\"legendgroup\":\"STUDIO ARTS\",\"marker\":{\"color\":\"#FECB52\",\"symbol\":\"circle\"},\"mode\":\"markers\",\"name\":\"STUDIO ARTS\",\"orientation\":\"v\",\"showlegend\":true,\"x\":[0.719974083],\"xaxis\":\"x\",\"y\":[29000],\"yaxis\":\"y\",\"type\":\"scatter\"},{\"hovertemplate\":\"Major=COSMETOLOGY SERVICES AND CULINARY ARTS\\u003cbr\\u003eProportion of Women=%{x}\\u003cbr\\u003eMedian Income=%{y}\\u003cextra\\u003e\\u003c\\u002fextra\\u003e\",\"legendgroup\":\"COSMETOLOGY SERVICES AND CULINARY ARTS\",\"marker\":{\"color\":\"#636efa\",\"symbol\":\"circle\"},\"mode\":\"markers\",\"name\":\"COSMETOLOGY SERVICES AND CULINARY ARTS\",\"orientation\":\"v\",\"showlegend\":true,\"x\":[0.584776403],\"xaxis\":\"x\",\"y\":[29000],\"yaxis\":\"y\",\"type\":\"scatter\"},{\"hovertemplate\":\"Major=MISCELLANEOUS AGRICULTURE\\u003cbr\\u003eProportion of Women=%{x}\\u003cbr\\u003eMedian Income=%{y}\\u003cextra\\u003e\\u003c\\u002fextra\\u003e\",\"legendgroup\":\"MISCELLANEOUS AGRICULTURE\",\"marker\":{\"color\":\"#EF553B\",\"symbol\":\"circle\"},\"mode\":\"markers\",\"name\":\"MISCELLANEOUS AGRICULTURE\",\"orientation\":\"v\",\"showlegend\":true,\"x\":[0.728494624],\"xaxis\":\"x\",\"y\":[29000],\"yaxis\":\"y\",\"type\":\"scatter\"},{\"hovertemplate\":\"Major=ANTHROPOLOGY AND ARCHEOLOGY\\u003cbr\\u003eProportion of Women=%{x}\\u003cbr\\u003eMedian Income=%{y}\\u003cextra\\u003e\\u003c\\u002fextra\\u003e\",\"legendgroup\":\"ANTHROPOLOGY AND ARCHEOLOGY\",\"marker\":{\"color\":\"#00cc96\",\"symbol\":\"circle\"},\"mode\":\"markers\",\"name\":\"ANTHROPOLOGY AND ARCHEOLOGY\",\"orientation\":\"v\",\"showlegend\":true,\"x\":[0.707136237],\"xaxis\":\"x\",\"y\":[28000],\"yaxis\":\"y\",\"type\":\"scatter\"},{\"hovertemplate\":\"Major=COMMUNICATION DISORDERS SCIENCES AND SERVICES\\u003cbr\\u003eProportion of Women=%{x}\\u003cbr\\u003eMedian Income=%{y}\\u003cextra\\u003e\\u003c\\u002fextra\\u003e\",\"legendgroup\":\"COMMUNICATION DISORDERS SCIENCES AND SERVICES\",\"marker\":{\"color\":\"#ab63fa\",\"symbol\":\"circle\"},\"mode\":\"markers\",\"name\":\"COMMUNICATION DISORDERS SCIENCES AND SERVICES\",\"orientation\":\"v\",\"showlegend\":true,\"x\":[0.967998119],\"xaxis\":\"x\",\"y\":[28000],\"yaxis\":\"y\",\"type\":\"scatter\"},{\"hovertemplate\":\"Major=EARLY CHILDHOOD EDUCATION\\u003cbr\\u003eProportion of Women=%{x}\\u003cbr\\u003eMedian Income=%{y}\\u003cextra\\u003e\\u003c\\u002fextra\\u003e\",\"legendgroup\":\"EARLY CHILDHOOD EDUCATION\",\"marker\":{\"color\":\"#FFA15A\",\"symbol\":\"circle\"},\"mode\":\"markers\",\"name\":\"EARLY CHILDHOOD EDUCATION\",\"orientation\":\"v\",\"showlegend\":true,\"x\":[0.968953683],\"xaxis\":\"x\",\"y\":[28000],\"yaxis\":\"y\",\"type\":\"scatter\"},{\"hovertemplate\":\"Major=OTHER FOREIGN LANGUAGES\\u003cbr\\u003eProportion of Women=%{x}\\u003cbr\\u003eMedian Income=%{y}\\u003cextra\\u003e\\u003c\\u002fextra\\u003e\",\"legendgroup\":\"OTHER FOREIGN LANGUAGES\",\"marker\":{\"color\":\"#19d3f3\",\"symbol\":\"circle\"},\"mode\":\"markers\",\"name\":\"OTHER FOREIGN LANGUAGES\",\"orientation\":\"v\",\"showlegend\":true,\"x\":[0.690110675],\"xaxis\":\"x\",\"y\":[27500],\"yaxis\":\"y\",\"type\":\"scatter\"},{\"hovertemplate\":\"Major=DRAMA AND THEATER ARTS\\u003cbr\\u003eProportion of Women=%{x}\\u003cbr\\u003eMedian Income=%{y}\\u003cextra\\u003e\\u003c\\u002fextra\\u003e\",\"legendgroup\":\"DRAMA AND THEATER ARTS\",\"marker\":{\"color\":\"#FF6692\",\"symbol\":\"circle\"},\"mode\":\"markers\",\"name\":\"DRAMA AND THEATER ARTS\",\"orientation\":\"v\",\"showlegend\":true,\"x\":[0.666119448],\"xaxis\":\"x\",\"y\":[27000],\"yaxis\":\"y\",\"type\":\"scatter\"},{\"hovertemplate\":\"Major=COMPOSITION AND RHETORIC\\u003cbr\\u003eProportion of Women=%{x}\\u003cbr\\u003eMedian Income=%{y}\\u003cextra\\u003e\\u003c\\u002fextra\\u003e\",\"legendgroup\":\"COMPOSITION AND RHETORIC\",\"marker\":{\"color\":\"#B6E880\",\"symbol\":\"circle\"},\"mode\":\"markers\",\"name\":\"COMPOSITION AND RHETORIC\",\"orientation\":\"v\",\"showlegend\":true,\"x\":[0.629504564],\"xaxis\":\"x\",\"y\":[27000],\"yaxis\":\"y\",\"type\":\"scatter\"},{\"hovertemplate\":\"Major=ZOOLOGY\\u003cbr\\u003eProportion of Women=%{x}\\u003cbr\\u003eMedian Income=%{y}\\u003cextra\\u003e\\u003c\\u002fextra\\u003e\",\"legendgroup\":\"ZOOLOGY\",\"marker\":{\"color\":\"#FF97FF\",\"symbol\":\"circle\"},\"mode\":\"markers\",\"name\":\"ZOOLOGY\",\"orientation\":\"v\",\"showlegend\":true,\"x\":[0.637293376],\"xaxis\":\"x\",\"y\":[26000],\"yaxis\":\"y\",\"type\":\"scatter\"},{\"hovertemplate\":\"Major=EDUCATIONAL PSYCHOLOGY\\u003cbr\\u003eProportion of Women=%{x}\\u003cbr\\u003eMedian Income=%{y}\\u003cextra\\u003e\\u003c\\u002fextra\\u003e\",\"legendgroup\":\"EDUCATIONAL PSYCHOLOGY\",\"marker\":{\"color\":\"#FECB52\",\"symbol\":\"circle\"},\"mode\":\"markers\",\"name\":\"EDUCATIONAL PSYCHOLOGY\",\"orientation\":\"v\",\"showlegend\":true,\"x\":[0.817098809],\"xaxis\":\"x\",\"y\":[25000],\"yaxis\":\"y\",\"type\":\"scatter\"},{\"hovertemplate\":\"Major=CLINICAL PSYCHOLOGY\\u003cbr\\u003eProportion of Women=%{x}\\u003cbr\\u003eMedian Income=%{y}\\u003cextra\\u003e\\u003c\\u002fextra\\u003e\",\"legendgroup\":\"CLINICAL PSYCHOLOGY\",\"marker\":{\"color\":\"#636efa\",\"symbol\":\"circle\"},\"mode\":\"markers\",\"name\":\"CLINICAL PSYCHOLOGY\",\"orientation\":\"v\",\"showlegend\":true,\"x\":[0.799859056],\"xaxis\":\"x\",\"y\":[25000],\"yaxis\":\"y\",\"type\":\"scatter\"},{\"hovertemplate\":\"Major=COUNSELING PSYCHOLOGY\\u003cbr\\u003eProportion of Women=%{x}\\u003cbr\\u003eMedian Income=%{y}\\u003cextra\\u003e\\u003c\\u002fextra\\u003e\",\"legendgroup\":\"COUNSELING PSYCHOLOGY\",\"marker\":{\"color\":\"#EF553B\",\"symbol\":\"circle\"},\"mode\":\"markers\",\"name\":\"COUNSELING PSYCHOLOGY\",\"orientation\":\"v\",\"showlegend\":true,\"x\":[0.798746217],\"xaxis\":\"x\",\"y\":[23400],\"yaxis\":\"y\",\"type\":\"scatter\"},{\"hovertemplate\":\"Major=LIBRARY SCIENCE\\u003cbr\\u003eProportion of Women=%{x}\\u003cbr\\u003eMedian Income=%{y}\\u003cextra\\u003e\\u003c\\u002fextra\\u003e\",\"legendgroup\":\"LIBRARY SCIENCE\",\"marker\":{\"color\":\"#00cc96\",\"symbol\":\"circle\"},\"mode\":\"markers\",\"name\":\"LIBRARY SCIENCE\",\"orientation\":\"v\",\"showlegend\":true,\"x\":[0.877959927],\"xaxis\":\"x\",\"y\":[22000],\"yaxis\":\"y\",\"type\":\"scatter\"}],                        {\"template\":{\"data\":{\"histogram2dcontour\":[{\"type\":\"histogram2dcontour\",\"colorbar\":{\"outlinewidth\":0,\"ticks\":\"\"},\"colorscale\":[[0.0,\"#0d0887\"],[0.1111111111111111,\"#46039f\"],[0.2222222222222222,\"#7201a8\"],[0.3333333333333333,\"#9c179e\"],[0.4444444444444444,\"#bd3786\"],[0.5555555555555556,\"#d8576b\"],[0.6666666666666666,\"#ed7953\"],[0.7777777777777778,\"#fb9f3a\"],[0.8888888888888888,\"#fdca26\"],[1.0,\"#f0f921\"]]}],\"choropleth\":[{\"type\":\"choropleth\",\"colorbar\":{\"outlinewidth\":0,\"ticks\":\"\"}}],\"histogram2d\":[{\"type\":\"histogram2d\",\"colorbar\":{\"outlinewidth\":0,\"ticks\":\"\"},\"colorscale\":[[0.0,\"#0d0887\"],[0.1111111111111111,\"#46039f\"],[0.2222222222222222,\"#7201a8\"],[0.3333333333333333,\"#9c179e\"],[0.4444444444444444,\"#bd3786\"],[0.5555555555555556,\"#d8576b\"],[0.6666666666666666,\"#ed7953\"],[0.7777777777777778,\"#fb9f3a\"],[0.8888888888888888,\"#fdca26\"],[1.0,\"#f0f921\"]]}],\"heatmap\":[{\"type\":\"heatmap\",\"colorbar\":{\"outlinewidth\":0,\"ticks\":\"\"},\"colorscale\":[[0.0,\"#0d0887\"],[0.1111111111111111,\"#46039f\"],[0.2222222222222222,\"#7201a8\"],[0.3333333333333333,\"#9c179e\"],[0.4444444444444444,\"#bd3786\"],[0.5555555555555556,\"#d8576b\"],[0.6666666666666666,\"#ed7953\"],[0.7777777777777778,\"#fb9f3a\"],[0.8888888888888888,\"#fdca26\"],[1.0,\"#f0f921\"]]}],\"heatmapgl\":[{\"type\":\"heatmapgl\",\"colorbar\":{\"outlinewidth\":0,\"ticks\":\"\"},\"colorscale\":[[0.0,\"#0d0887\"],[0.1111111111111111,\"#46039f\"],[0.2222222222222222,\"#7201a8\"],[0.3333333333333333,\"#9c179e\"],[0.4444444444444444,\"#bd3786\"],[0.5555555555555556,\"#d8576b\"],[0.6666666666666666,\"#ed7953\"],[0.7777777777777778,\"#fb9f3a\"],[0.8888888888888888,\"#fdca26\"],[1.0,\"#f0f921\"]]}],\"contourcarpet\":[{\"type\":\"contourcarpet\",\"colorbar\":{\"outlinewidth\":0,\"ticks\":\"\"}}],\"contour\":[{\"type\":\"contour\",\"colorbar\":{\"outlinewidth\":0,\"ticks\":\"\"},\"colorscale\":[[0.0,\"#0d0887\"],[0.1111111111111111,\"#46039f\"],[0.2222222222222222,\"#7201a8\"],[0.3333333333333333,\"#9c179e\"],[0.4444444444444444,\"#bd3786\"],[0.5555555555555556,\"#d8576b\"],[0.6666666666666666,\"#ed7953\"],[0.7777777777777778,\"#fb9f3a\"],[0.8888888888888888,\"#fdca26\"],[1.0,\"#f0f921\"]]}],\"surface\":[{\"type\":\"surface\",\"colorbar\":{\"outlinewidth\":0,\"ticks\":\"\"},\"colorscale\":[[0.0,\"#0d0887\"],[0.1111111111111111,\"#46039f\"],[0.2222222222222222,\"#7201a8\"],[0.3333333333333333,\"#9c179e\"],[0.4444444444444444,\"#bd3786\"],[0.5555555555555556,\"#d8576b\"],[0.6666666666666666,\"#ed7953\"],[0.7777777777777778,\"#fb9f3a\"],[0.8888888888888888,\"#fdca26\"],[1.0,\"#f0f921\"]]}],\"mesh3d\":[{\"type\":\"mesh3d\",\"colorbar\":{\"outlinewidth\":0,\"ticks\":\"\"}}],\"scatter\":[{\"fillpattern\":{\"fillmode\":\"overlay\",\"size\":10,\"solidity\":0.2},\"type\":\"scatter\"}],\"parcoords\":[{\"type\":\"parcoords\",\"line\":{\"colorbar\":{\"outlinewidth\":0,\"ticks\":\"\"}}}],\"scatterpolargl\":[{\"type\":\"scatterpolargl\",\"marker\":{\"colorbar\":{\"outlinewidth\":0,\"ticks\":\"\"}}}],\"bar\":[{\"error_x\":{\"color\":\"#2a3f5f\"},\"error_y\":{\"color\":\"#2a3f5f\"},\"marker\":{\"line\":{\"color\":\"#E5ECF6\",\"width\":0.5},\"pattern\":{\"fillmode\":\"overlay\",\"size\":10,\"solidity\":0.2}},\"type\":\"bar\"}],\"scattergeo\":[{\"type\":\"scattergeo\",\"marker\":{\"colorbar\":{\"outlinewidth\":0,\"ticks\":\"\"}}}],\"scatterpolar\":[{\"type\":\"scatterpolar\",\"marker\":{\"colorbar\":{\"outlinewidth\":0,\"ticks\":\"\"}}}],\"histogram\":[{\"marker\":{\"pattern\":{\"fillmode\":\"overlay\",\"size\":10,\"solidity\":0.2}},\"type\":\"histogram\"}],\"scattergl\":[{\"type\":\"scattergl\",\"marker\":{\"colorbar\":{\"outlinewidth\":0,\"ticks\":\"\"}}}],\"scatter3d\":[{\"type\":\"scatter3d\",\"line\":{\"colorbar\":{\"outlinewidth\":0,\"ticks\":\"\"}},\"marker\":{\"colorbar\":{\"outlinewidth\":0,\"ticks\":\"\"}}}],\"scattermapbox\":[{\"type\":\"scattermapbox\",\"marker\":{\"colorbar\":{\"outlinewidth\":0,\"ticks\":\"\"}}}],\"scatterternary\":[{\"type\":\"scatterternary\",\"marker\":{\"colorbar\":{\"outlinewidth\":0,\"ticks\":\"\"}}}],\"scattercarpet\":[{\"type\":\"scattercarpet\",\"marker\":{\"colorbar\":{\"outlinewidth\":0,\"ticks\":\"\"}}}],\"carpet\":[{\"aaxis\":{\"endlinecolor\":\"#2a3f5f\",\"gridcolor\":\"white\",\"linecolor\":\"white\",\"minorgridcolor\":\"white\",\"startlinecolor\":\"#2a3f5f\"},\"baxis\":{\"endlinecolor\":\"#2a3f5f\",\"gridcolor\":\"white\",\"linecolor\":\"white\",\"minorgridcolor\":\"white\",\"startlinecolor\":\"#2a3f5f\"},\"type\":\"carpet\"}],\"table\":[{\"cells\":{\"fill\":{\"color\":\"#EBF0F8\"},\"line\":{\"color\":\"white\"}},\"header\":{\"fill\":{\"color\":\"#C8D4E3\"},\"line\":{\"color\":\"white\"}},\"type\":\"table\"}],\"barpolar\":[{\"marker\":{\"line\":{\"color\":\"#E5ECF6\",\"width\":0.5},\"pattern\":{\"fillmode\":\"overlay\",\"size\":10,\"solidity\":0.2}},\"type\":\"barpolar\"}],\"pie\":[{\"automargin\":true,\"type\":\"pie\"}]},\"layout\":{\"autotypenumbers\":\"strict\",\"colorway\":[\"#636efa\",\"#EF553B\",\"#00cc96\",\"#ab63fa\",\"#FFA15A\",\"#19d3f3\",\"#FF6692\",\"#B6E880\",\"#FF97FF\",\"#FECB52\"],\"font\":{\"color\":\"#2a3f5f\"},\"hovermode\":\"closest\",\"hoverlabel\":{\"align\":\"left\"},\"paper_bgcolor\":\"white\",\"plot_bgcolor\":\"#E5ECF6\",\"polar\":{\"bgcolor\":\"#E5ECF6\",\"angularaxis\":{\"gridcolor\":\"white\",\"linecolor\":\"white\",\"ticks\":\"\"},\"radialaxis\":{\"gridcolor\":\"white\",\"linecolor\":\"white\",\"ticks\":\"\"}},\"ternary\":{\"bgcolor\":\"#E5ECF6\",\"aaxis\":{\"gridcolor\":\"white\",\"linecolor\":\"white\",\"ticks\":\"\"},\"baxis\":{\"gridcolor\":\"white\",\"linecolor\":\"white\",\"ticks\":\"\"},\"caxis\":{\"gridcolor\":\"white\",\"linecolor\":\"white\",\"ticks\":\"\"}},\"coloraxis\":{\"colorbar\":{\"outlinewidth\":0,\"ticks\":\"\"}},\"colorscale\":{\"sequential\":[[0.0,\"#0d0887\"],[0.1111111111111111,\"#46039f\"],[0.2222222222222222,\"#7201a8\"],[0.3333333333333333,\"#9c179e\"],[0.4444444444444444,\"#bd3786\"],[0.5555555555555556,\"#d8576b\"],[0.6666666666666666,\"#ed7953\"],[0.7777777777777778,\"#fb9f3a\"],[0.8888888888888888,\"#fdca26\"],[1.0,\"#f0f921\"]],\"sequentialminus\":[[0.0,\"#0d0887\"],[0.1111111111111111,\"#46039f\"],[0.2222222222222222,\"#7201a8\"],[0.3333333333333333,\"#9c179e\"],[0.4444444444444444,\"#bd3786\"],[0.5555555555555556,\"#d8576b\"],[0.6666666666666666,\"#ed7953\"],[0.7777777777777778,\"#fb9f3a\"],[0.8888888888888888,\"#fdca26\"],[1.0,\"#f0f921\"]],\"diverging\":[[0,\"#8e0152\"],[0.1,\"#c51b7d\"],[0.2,\"#de77ae\"],[0.3,\"#f1b6da\"],[0.4,\"#fde0ef\"],[0.5,\"#f7f7f7\"],[0.6,\"#e6f5d0\"],[0.7,\"#b8e186\"],[0.8,\"#7fbc41\"],[0.9,\"#4d9221\"],[1,\"#276419\"]]},\"xaxis\":{\"gridcolor\":\"white\",\"linecolor\":\"white\",\"ticks\":\"\",\"title\":{\"standoff\":15},\"zerolinecolor\":\"white\",\"automargin\":true,\"zerolinewidth\":2},\"yaxis\":{\"gridcolor\":\"white\",\"linecolor\":\"white\",\"ticks\":\"\",\"title\":{\"standoff\":15},\"zerolinecolor\":\"white\",\"automargin\":true,\"zerolinewidth\":2},\"scene\":{\"xaxis\":{\"backgroundcolor\":\"#E5ECF6\",\"gridcolor\":\"white\",\"linecolor\":\"white\",\"showbackground\":true,\"ticks\":\"\",\"zerolinecolor\":\"white\",\"gridwidth\":2},\"yaxis\":{\"backgroundcolor\":\"#E5ECF6\",\"gridcolor\":\"white\",\"linecolor\":\"white\",\"showbackground\":true,\"ticks\":\"\",\"zerolinecolor\":\"white\",\"gridwidth\":2},\"zaxis\":{\"backgroundcolor\":\"#E5ECF6\",\"gridcolor\":\"white\",\"linecolor\":\"white\",\"showbackground\":true,\"ticks\":\"\",\"zerolinecolor\":\"white\",\"gridwidth\":2}},\"shapedefaults\":{\"line\":{\"color\":\"#2a3f5f\"}},\"annotationdefaults\":{\"arrowcolor\":\"#2a3f5f\",\"arrowhead\":0,\"arrowwidth\":1},\"geo\":{\"bgcolor\":\"white\",\"landcolor\":\"#E5ECF6\",\"subunitcolor\":\"white\",\"showland\":true,\"showlakes\":true,\"lakecolor\":\"white\"},\"title\":{\"x\":0.05},\"mapbox\":{\"style\":\"light\"}}},\"xaxis\":{\"anchor\":\"y\",\"domain\":[0.0,1.0],\"title\":{\"text\":\"Proportion of Women\"}},\"yaxis\":{\"anchor\":\"x\",\"domain\":[0.0,1.0],\"title\":{\"text\":\"Median Income\"}},\"legend\":{\"title\":{\"text\":\"Major\"},\"tracegroupgap\":0},\"title\":{\"text\":\"Median Income vs. Proportion of Women, Colored by STEM Field\"}},                        {\"responsive\": true}                    ).then(function(){\n",
       "                            \n",
       "var gd = document.getElementById('511afc17-77b0-4693-bc51-2a3812ae33d7');\n",
       "var x = new MutationObserver(function (mutations, observer) {{\n",
       "        var display = window.getComputedStyle(gd).display;\n",
       "        if (!display || display === 'none') {{\n",
       "            console.log([gd, 'removed!']);\n",
       "            Plotly.purge(gd);\n",
       "            observer.disconnect();\n",
       "        }}\n",
       "}});\n",
       "\n",
       "// Listen for the removal of the full notebook cells\n",
       "var notebookContainer = gd.closest('#notebook-container');\n",
       "if (notebookContainer) {{\n",
       "    x.observe(notebookContainer, {childList: true});\n",
       "}}\n",
       "\n",
       "// Listen for the clearing of the current output cell\n",
       "var outputEl = gd.closest('.output');\n",
       "if (outputEl) {{\n",
       "    x.observe(outputEl, {childList: true});\n",
       "}}\n",
       "\n",
       "                        })                };                });            </script>        </div>"
      ]
     },
     "metadata": {},
     "output_type": "display_data"
    }
   ],
   "source": [
    "\n",
    "\n",
    "stem_mask = (DF_raw['Major'] == \"Biology & Life Science\") | (DF_raw['Major'] == \"Computers & Mathematics\") | (DF_raw['Major'] == \"Engineering\") | (DF_raw['Major'] == \"Physical Sciences\")\n",
    "\n",
    "DF_stem = DF_raw[stem_mask]\n",
    "\n",
    "median_income_stem = DF_stem['Median'].median()\n",
    "\n",
    "Below_Median = DF_stem[DF_stem['Median'] <= median_income_stem]\n",
    "show(Below_Median)\n",
    "\n",
    "women_dominated_stem = DF_stem[DF_stem['ShareWomen'] > 0.5]\n",
    "show(women_dominated_stem)\n",
    "stem_condition = (DF_raw['Major'] == \"Biology & Life Science\") | (DF_raw['Major'] == \"Computers & Mathematics\") | (DF_raw['Major'] == \"Engineering\") | (DF_raw['Major'] == \"Physical Sciences\")\n",
    "\n",
    "DF_raw['Is_STEM'] = stem_condition\n",
    "\n",
    "fig = px.scatter(\n",
    "    DF_raw, \n",
    "    x='ShareWomen', \n",
    "    y='Median', \n",
    "    color='Major',\n",
    "    labels={'ShareWomen': 'Proportion of Women', 'Median': 'Median Income'},\n",
    "    title='Median Income vs. Proportion of Women, Colored by STEM Field'\n",
    ")\n",
    "\n",
    "fig.show()\n",
    "\n",
    "\n"
   ]
  },
  {
   "cell_type": "code",
   "execution_count": 394,
   "id": "4e0a96d0-07ee-4693-8972-829ab3518125",
   "metadata": {},
   "outputs": [],
   "source": [
    "Are all STEM fields the same in terms job opportunities?\n",
    "#Not all stem fields are the same in terms of job opprountites as some are more willing to employ than others or are in more demand.\n",
    "\n",
    "Which STEM majors have median salaries equal to or less than the median for all majors' median earnings?\n",
    "\n",
    "What types of majors do women tend to major in?\n",
    "\n",
    "Create a scatterplot of median income vs. proportion of women in that major, coloured by whether the major is in a STEM field or not."
   ]
  },
  {
   "cell_type": "code",
   "execution_count": 41,
   "id": "be654ff2-e684-4eda-8843-4ac9f07a74ae",
   "metadata": {},
   "outputs": [],
   "source": [
    "#"
   ]
  },
  {
   "cell_type": "markdown",
   "id": "b9f65c22-2c17-495a-be1e-66e1dd2e183a",
   "metadata": {},
   "source": []
  },
  {
   "cell_type": "markdown",
   "id": "b3df8412-b946-4812-ba3b-873fb0eb8d7c",
   "metadata": {},
   "source": [
    "### 4. Ask a question of interest to you."
   ]
  },
  {
   "cell_type": "code",
   "execution_count": 44,
   "id": "25a08e99-946a-4003-a477-1dc941e4357e",
   "metadata": {},
   "outputs": [],
   "source": [
    "#How do different engine tyes or even fuels going with it impact efficency of an engine?"
   ]
  },
  {
   "cell_type": "markdown",
   "id": "0940ef30-6ee7-42c8-8747-80f4b2bb8e3f",
   "metadata": {},
   "source": [
    "**(Click Here to Explain your Results)**"
   ]
  },
  {
   "cell_type": "markdown",
   "id": "f3d04f7b-94a9-4a1e-bbaf-e26029bdfed1",
   "metadata": {},
   "source": []
  },
  {
   "cell_type": "code",
   "execution_count": null,
   "id": "8569acec-f8ab-4866-81f3-2313770daa96",
   "metadata": {},
   "outputs": [],
   "source": []
  }
 ],
 "metadata": {
  "kernelspec": {
   "display_name": "Python 3 (ipykernel)",
   "language": "python",
   "name": "python3"
  },
  "language_info": {
   "codemirror_mode": {
    "name": "ipython",
    "version": 3
   },
   "file_extension": ".py",
   "mimetype": "text/x-python",
   "name": "python",
   "nbconvert_exporter": "python",
   "pygments_lexer": "ipython3",
   "version": "3.12.3"
  }
 },
 "nbformat": 4,
 "nbformat_minor": 5
}
